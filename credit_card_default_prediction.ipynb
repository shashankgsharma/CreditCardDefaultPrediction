{
 "cells": [
  {
   "cell_type": "markdown",
   "source": "# Importing libraries",
   "metadata": {
    "formattedRanges": [],
    "cell_id": "95cf00bbfda74437a58307eef13cefcb",
    "tags": [],
    "is_collapsed": false,
    "deepnote_app_coordinates": {
     "x": 0,
     "y": 1,
     "w": 12,
     "h": 5
    },
    "deepnote_cell_type": "text-cell-h1"
   }
  },
  {
   "cell_type": "code",
   "metadata": {
    "id": "C9WdDQRnJude",
    "cell_id": "b7224b6c-d884-43f4-9132-5c73ff90194b",
    "deepnote_to_be_reexecuted": false,
    "source_hash": "2d3ddd1e",
    "execution_start": 1657627660217,
    "execution_millis": 2220,
    "deepnote_app_coordinates": {
     "x": 0,
     "y": 7,
     "w": 12,
     "h": 5
    },
    "deepnote_cell_type": "code",
    "deepnote_cell_height": 171
   },
   "source": "import numpy as np\nimport pandas as pd\nimport matplotlib.pyplot as plt\nimport seaborn as sns\nimport warnings\nwarnings.filterwarnings('ignore')",
   "execution_count": null,
   "outputs": []
  },
  {
   "cell_type": "markdown",
   "source": "# Loading dataset",
   "metadata": {
    "formattedRanges": [],
    "cell_id": "7ff205dff95f4713b59656c42335277c",
    "tags": [],
    "is_collapsed": false,
    "deepnote_app_coordinates": {
     "x": 0,
     "y": 13,
     "w": 12,
     "h": 5
    },
    "deepnote_cell_type": "text-cell-h1"
   }
  },
  {
   "cell_type": "code",
   "metadata": {
    "id": "vq50nZ_GKHwt",
    "cell_id": "00001-4238e5d4-f6f7-4b26-90bd-c75299cb0b18",
    "deepnote_to_be_reexecuted": false,
    "source_hash": "8e7d89e0",
    "execution_start": 1657627662440,
    "execution_millis": 104,
    "owner_user_id": "9bee9dce-5f96-42ca-a1b7-8413036327ce",
    "deepnote_app_coordinates": {
     "x": 0,
     "y": 19,
     "w": 12,
     "h": 5
    },
    "deepnote_cell_type": "code",
    "deepnote_cell_height": 81
   },
   "source": "data = pd.read_csv('UCI_Credit_Card.csv')",
   "execution_count": null,
   "outputs": []
  },
  {
   "cell_type": "code",
   "metadata": {
    "colab": {
     "base_uri": "https://localhost:8080/"
    },
    "id": "dRneoHhJK6GA",
    "outputId": "2e01ed95-77d5-4889-da8a-e36c8d3b674f",
    "cell_id": "00002-ee25101e-8d6f-42df-a238-8409b6883115",
    "deepnote_to_be_reexecuted": false,
    "source_hash": "2007f58",
    "execution_start": 1657627662548,
    "execution_millis": 23,
    "deepnote_app_coordinates": {
     "x": 0,
     "y": 25,
     "w": 12,
     "h": 5
    },
    "deepnote_cell_type": "code",
    "deepnote_cell_height": 118.1875,
    "deepnote_output_heights": [
     21.1875
    ]
   },
   "source": "data.shape",
   "execution_count": null,
   "outputs": [
    {
     "output_type": "execute_result",
     "execution_count": 3,
     "data": {
      "text/plain": "(30000, 25)"
     },
     "metadata": {}
    }
   ]
  },
  {
   "cell_type": "markdown",
   "source": "# Data preprocessing",
   "metadata": {
    "formattedRanges": [],
    "cell_id": "c93f786c304142d2834013bb08e73c37",
    "tags": [],
    "is_collapsed": false,
    "deepnote_app_coordinates": {
     "x": 0,
     "y": 31,
     "w": 12,
     "h": 5
    },
    "deepnote_cell_type": "text-cell-h1"
   }
  },
  {
   "cell_type": "code",
   "metadata": {
    "colab": {
     "base_uri": "https://localhost:8080/",
     "height": 300
    },
    "id": "rbUsE5JNK07K",
    "outputId": "a3033c18-a39d-4be5-e43b-33cd9086bc60",
    "cell_id": "00003-30162866-9435-4961-87a0-ca515fcab711",
    "deepnote_to_be_reexecuted": false,
    "source_hash": "41313cfa",
    "execution_start": 1657627662589,
    "execution_millis": 95,
    "deepnote_table_state": {
     "pageSize": 10,
     "pageIndex": 0,
     "filters": [
      {
       "id": "SEX",
       "value": "",
       "type": "contains"
      }
     ],
     "sortBy": []
    },
    "deepnote_table_loading": false,
    "deepnote_app_coordinates": {
     "x": 0,
     "y": 37,
     "w": 12,
     "h": 5
    },
    "deepnote_cell_type": "code",
    "deepnote_cell_height": 443.796875
   },
   "source": "data.head()",
   "execution_count": null,
   "outputs": [
    {
     "output_type": "execute_result",
     "execution_count": 4,
     "data": {
      "application/vnd.deepnote.dataframe.v3+json": {
       "column_count": 25,
       "row_count": 5,
       "columns": [
        {
         "name": "ID",
         "dtype": "int64",
         "stats": {
          "unique_count": 5,
          "nan_count": 0,
          "min": "1",
          "max": "5",
          "histogram": [
           {
            "bin_start": 1,
            "bin_end": 1.4,
            "count": 1
           },
           {
            "bin_start": 1.4,
            "bin_end": 1.8,
            "count": 0
           },
           {
            "bin_start": 1.8,
            "bin_end": 2.2,
            "count": 1
           },
           {
            "bin_start": 2.2,
            "bin_end": 2.6,
            "count": 0
           },
           {
            "bin_start": 2.6,
            "bin_end": 3,
            "count": 0
           },
           {
            "bin_start": 3,
            "bin_end": 3.4000000000000004,
            "count": 1
           },
           {
            "bin_start": 3.4000000000000004,
            "bin_end": 3.8000000000000003,
            "count": 0
           },
           {
            "bin_start": 3.8000000000000003,
            "bin_end": 4.2,
            "count": 1
           },
           {
            "bin_start": 4.2,
            "bin_end": 4.6,
            "count": 0
           },
           {
            "bin_start": 4.6,
            "bin_end": 5,
            "count": 1
           }
          ]
         }
        },
        {
         "name": "LIMIT_BAL",
         "dtype": "float64",
         "stats": {
          "unique_count": 4,
          "nan_count": 0,
          "min": "20000.0",
          "max": "120000.0",
          "histogram": [
           {
            "bin_start": 20000,
            "bin_end": 30000,
            "count": 1
           },
           {
            "bin_start": 30000,
            "bin_end": 40000,
            "count": 0
           },
           {
            "bin_start": 40000,
            "bin_end": 50000,
            "count": 0
           },
           {
            "bin_start": 50000,
            "bin_end": 60000,
            "count": 2
           },
           {
            "bin_start": 60000,
            "bin_end": 70000,
            "count": 0
           },
           {
            "bin_start": 70000,
            "bin_end": 80000,
            "count": 0
           },
           {
            "bin_start": 80000,
            "bin_end": 90000,
            "count": 0
           },
           {
            "bin_start": 90000,
            "bin_end": 100000,
            "count": 1
           },
           {
            "bin_start": 100000,
            "bin_end": 110000,
            "count": 0
           },
           {
            "bin_start": 110000,
            "bin_end": 120000,
            "count": 1
           }
          ]
         }
        },
        {
         "name": "SEX",
         "dtype": "int64",
         "stats": {
          "unique_count": 2,
          "nan_count": 0,
          "min": "1",
          "max": "2",
          "histogram": [
           {
            "bin_start": 1,
            "bin_end": 1.1,
            "count": 1
           },
           {
            "bin_start": 1.1,
            "bin_end": 1.2,
            "count": 0
           },
           {
            "bin_start": 1.2,
            "bin_end": 1.3,
            "count": 0
           },
           {
            "bin_start": 1.3,
            "bin_end": 1.4,
            "count": 0
           },
           {
            "bin_start": 1.4,
            "bin_end": 1.5,
            "count": 0
           },
           {
            "bin_start": 1.5,
            "bin_end": 1.6,
            "count": 0
           },
           {
            "bin_start": 1.6,
            "bin_end": 1.7000000000000002,
            "count": 0
           },
           {
            "bin_start": 1.7000000000000002,
            "bin_end": 1.8,
            "count": 0
           },
           {
            "bin_start": 1.8,
            "bin_end": 1.9,
            "count": 0
           },
           {
            "bin_start": 1.9,
            "bin_end": 2,
            "count": 4
           }
          ]
         }
        },
        {
         "name": "EDUCATION",
         "dtype": "int64",
         "stats": {
          "unique_count": 1,
          "nan_count": 0,
          "min": "2",
          "max": "2",
          "histogram": [
           {
            "bin_start": 1.5,
            "bin_end": 1.6,
            "count": 0
           },
           {
            "bin_start": 1.6,
            "bin_end": 1.7,
            "count": 0
           },
           {
            "bin_start": 1.7,
            "bin_end": 1.8,
            "count": 0
           },
           {
            "bin_start": 1.8,
            "bin_end": 1.9,
            "count": 0
           },
           {
            "bin_start": 1.9,
            "bin_end": 2,
            "count": 0
           },
           {
            "bin_start": 2,
            "bin_end": 2.1,
            "count": 5
           },
           {
            "bin_start": 2.1,
            "bin_end": 2.2,
            "count": 0
           },
           {
            "bin_start": 2.2,
            "bin_end": 2.3,
            "count": 0
           },
           {
            "bin_start": 2.3,
            "bin_end": 2.4,
            "count": 0
           },
           {
            "bin_start": 2.4,
            "bin_end": 2.5,
            "count": 0
           }
          ]
         }
        },
        {
         "name": "MARRIAGE",
         "dtype": "int64",
         "stats": {
          "unique_count": 2,
          "nan_count": 0,
          "min": "1",
          "max": "2",
          "histogram": [
           {
            "bin_start": 1,
            "bin_end": 1.1,
            "count": 3
           },
           {
            "bin_start": 1.1,
            "bin_end": 1.2,
            "count": 0
           },
           {
            "bin_start": 1.2,
            "bin_end": 1.3,
            "count": 0
           },
           {
            "bin_start": 1.3,
            "bin_end": 1.4,
            "count": 0
           },
           {
            "bin_start": 1.4,
            "bin_end": 1.5,
            "count": 0
           },
           {
            "bin_start": 1.5,
            "bin_end": 1.6,
            "count": 0
           },
           {
            "bin_start": 1.6,
            "bin_end": 1.7000000000000002,
            "count": 0
           },
           {
            "bin_start": 1.7000000000000002,
            "bin_end": 1.8,
            "count": 0
           },
           {
            "bin_start": 1.8,
            "bin_end": 1.9,
            "count": 0
           },
           {
            "bin_start": 1.9,
            "bin_end": 2,
            "count": 2
           }
          ]
         }
        },
        {
         "name": "AGE",
         "dtype": "int64",
         "stats": {
          "unique_count": 5,
          "nan_count": 0,
          "min": "24",
          "max": "57",
          "histogram": [
           {
            "bin_start": 24,
            "bin_end": 27.3,
            "count": 2
           },
           {
            "bin_start": 27.3,
            "bin_end": 30.6,
            "count": 0
           },
           {
            "bin_start": 30.6,
            "bin_end": 33.9,
            "count": 0
           },
           {
            "bin_start": 33.9,
            "bin_end": 37.2,
            "count": 2
           },
           {
            "bin_start": 37.2,
            "bin_end": 40.5,
            "count": 0
           },
           {
            "bin_start": 40.5,
            "bin_end": 43.8,
            "count": 0
           },
           {
            "bin_start": 43.8,
            "bin_end": 47.099999999999994,
            "count": 0
           },
           {
            "bin_start": 47.099999999999994,
            "bin_end": 50.4,
            "count": 0
           },
           {
            "bin_start": 50.4,
            "bin_end": 53.7,
            "count": 0
           },
           {
            "bin_start": 53.7,
            "bin_end": 57,
            "count": 1
           }
          ]
         }
        },
        {
         "name": "PAY_0",
         "dtype": "int64",
         "stats": {
          "unique_count": 3,
          "nan_count": 0,
          "min": "-1",
          "max": "2",
          "histogram": [
           {
            "bin_start": -1,
            "bin_end": -0.7,
            "count": 2
           },
           {
            "bin_start": -0.7,
            "bin_end": -0.4,
            "count": 0
           },
           {
            "bin_start": -0.4,
            "bin_end": -0.10000000000000009,
            "count": 0
           },
           {
            "bin_start": -0.10000000000000009,
            "bin_end": 0.19999999999999996,
            "count": 2
           },
           {
            "bin_start": 0.19999999999999996,
            "bin_end": 0.5,
            "count": 0
           },
           {
            "bin_start": 0.5,
            "bin_end": 0.7999999999999998,
            "count": 0
           },
           {
            "bin_start": 0.7999999999999998,
            "bin_end": 1.1,
            "count": 0
           },
           {
            "bin_start": 1.1,
            "bin_end": 1.4,
            "count": 0
           },
           {
            "bin_start": 1.4,
            "bin_end": 1.6999999999999997,
            "count": 0
           },
           {
            "bin_start": 1.6999999999999997,
            "bin_end": 2,
            "count": 1
           }
          ]
         }
        },
        {
         "name": "PAY_2",
         "dtype": "int64",
         "stats": {
          "unique_count": 2,
          "nan_count": 0,
          "min": "0",
          "max": "2",
          "histogram": [
           {
            "bin_start": 0,
            "bin_end": 0.2,
            "count": 3
           },
           {
            "bin_start": 0.2,
            "bin_end": 0.4,
            "count": 0
           },
           {
            "bin_start": 0.4,
            "bin_end": 0.6000000000000001,
            "count": 0
           },
           {
            "bin_start": 0.6000000000000001,
            "bin_end": 0.8,
            "count": 0
           },
           {
            "bin_start": 0.8,
            "bin_end": 1,
            "count": 0
           },
           {
            "bin_start": 1,
            "bin_end": 1.2000000000000002,
            "count": 0
           },
           {
            "bin_start": 1.2000000000000002,
            "bin_end": 1.4000000000000001,
            "count": 0
           },
           {
            "bin_start": 1.4000000000000001,
            "bin_end": 1.6,
            "count": 0
           },
           {
            "bin_start": 1.6,
            "bin_end": 1.8,
            "count": 0
           },
           {
            "bin_start": 1.8,
            "bin_end": 2,
            "count": 2
           }
          ]
         }
        },
        {
         "name": "PAY_3",
         "dtype": "int64",
         "stats": {
          "unique_count": 2,
          "nan_count": 0,
          "min": "-1",
          "max": "0",
          "histogram": [
           {
            "bin_start": -1,
            "bin_end": -0.9,
            "count": 2
           },
           {
            "bin_start": -0.9,
            "bin_end": -0.8,
            "count": 0
           },
           {
            "bin_start": -0.8,
            "bin_end": -0.7,
            "count": 0
           },
           {
            "bin_start": -0.7,
            "bin_end": -0.6,
            "count": 0
           },
           {
            "bin_start": -0.6,
            "bin_end": -0.5,
            "count": 0
           },
           {
            "bin_start": -0.5,
            "bin_end": -0.3999999999999999,
            "count": 0
           },
           {
            "bin_start": -0.3999999999999999,
            "bin_end": -0.29999999999999993,
            "count": 0
           },
           {
            "bin_start": -0.29999999999999993,
            "bin_end": -0.19999999999999996,
            "count": 0
           },
           {
            "bin_start": -0.19999999999999996,
            "bin_end": -0.09999999999999998,
            "count": 0
           },
           {
            "bin_start": -0.09999999999999998,
            "bin_end": 0,
            "count": 3
           }
          ]
         }
        },
        {
         "name": "PAY_4",
         "dtype": "int64",
         "stats": {
          "unique_count": 2,
          "nan_count": 0,
          "min": "-1",
          "max": "0",
          "histogram": [
           {
            "bin_start": -1,
            "bin_end": -0.9,
            "count": 1
           },
           {
            "bin_start": -0.9,
            "bin_end": -0.8,
            "count": 0
           },
           {
            "bin_start": -0.8,
            "bin_end": -0.7,
            "count": 0
           },
           {
            "bin_start": -0.7,
            "bin_end": -0.6,
            "count": 0
           },
           {
            "bin_start": -0.6,
            "bin_end": -0.5,
            "count": 0
           },
           {
            "bin_start": -0.5,
            "bin_end": -0.3999999999999999,
            "count": 0
           },
           {
            "bin_start": -0.3999999999999999,
            "bin_end": -0.29999999999999993,
            "count": 0
           },
           {
            "bin_start": -0.29999999999999993,
            "bin_end": -0.19999999999999996,
            "count": 0
           },
           {
            "bin_start": -0.19999999999999996,
            "bin_end": -0.09999999999999998,
            "count": 0
           },
           {
            "bin_start": -0.09999999999999998,
            "bin_end": 0,
            "count": 4
           }
          ]
         }
        },
        {
         "name": "PAY_5",
         "dtype": "int64",
         "stats": {
          "unique_count": 2,
          "nan_count": 0,
          "min": "-2",
          "max": "0",
          "histogram": [
           {
            "bin_start": -2,
            "bin_end": -1.8,
            "count": 1
           },
           {
            "bin_start": -1.8,
            "bin_end": -1.6,
            "count": 0
           },
           {
            "bin_start": -1.6,
            "bin_end": -1.4,
            "count": 0
           },
           {
            "bin_start": -1.4,
            "bin_end": -1.2,
            "count": 0
           },
           {
            "bin_start": -1.2,
            "bin_end": -1,
            "count": 0
           },
           {
            "bin_start": -1,
            "bin_end": -0.7999999999999998,
            "count": 0
           },
           {
            "bin_start": -0.7999999999999998,
            "bin_end": -0.5999999999999999,
            "count": 0
           },
           {
            "bin_start": -0.5999999999999999,
            "bin_end": -0.3999999999999999,
            "count": 0
           },
           {
            "bin_start": -0.3999999999999999,
            "bin_end": -0.19999999999999996,
            "count": 0
           },
           {
            "bin_start": -0.19999999999999996,
            "bin_end": 0,
            "count": 4
           }
          ]
         }
        },
        {
         "name": "PAY_6",
         "dtype": "int64",
         "stats": {
          "unique_count": 3,
          "nan_count": 0,
          "min": "-2",
          "max": "2",
          "histogram": [
           {
            "bin_start": -2,
            "bin_end": -1.6,
            "count": 1
           },
           {
            "bin_start": -1.6,
            "bin_end": -1.2,
            "count": 0
           },
           {
            "bin_start": -1.2,
            "bin_end": -0.7999999999999998,
            "count": 0
           },
           {
            "bin_start": -0.7999999999999998,
            "bin_end": -0.3999999999999999,
            "count": 0
           },
           {
            "bin_start": -0.3999999999999999,
            "bin_end": 0,
            "count": 0
           },
           {
            "bin_start": 0,
            "bin_end": 0.40000000000000036,
            "count": 3
           },
           {
            "bin_start": 0.40000000000000036,
            "bin_end": 0.8000000000000003,
            "count": 0
           },
           {
            "bin_start": 0.8000000000000003,
            "bin_end": 1.2000000000000002,
            "count": 0
           },
           {
            "bin_start": 1.2000000000000002,
            "bin_end": 1.6,
            "count": 0
           },
           {
            "bin_start": 1.6,
            "bin_end": 2,
            "count": 1
           }
          ]
         }
        },
        {
         "name": "BILL_AMT1",
         "dtype": "float64",
         "stats": {
          "unique_count": 5,
          "nan_count": 0,
          "min": "2682.0",
          "max": "46990.0",
          "histogram": [
           {
            "bin_start": 2682,
            "bin_end": 7112.8,
            "count": 2
           },
           {
            "bin_start": 7112.8,
            "bin_end": 11543.6,
            "count": 1
           },
           {
            "bin_start": 11543.6,
            "bin_end": 15974.400000000001,
            "count": 0
           },
           {
            "bin_start": 15974.400000000001,
            "bin_end": 20405.2,
            "count": 0
           },
           {
            "bin_start": 20405.2,
            "bin_end": 24836,
            "count": 0
           },
           {
            "bin_start": 24836,
            "bin_end": 29266.800000000003,
            "count": 1
           },
           {
            "bin_start": 29266.800000000003,
            "bin_end": 33697.600000000006,
            "count": 0
           },
           {
            "bin_start": 33697.600000000006,
            "bin_end": 38128.4,
            "count": 0
           },
           {
            "bin_start": 38128.4,
            "bin_end": 42559.200000000004,
            "count": 0
           },
           {
            "bin_start": 42559.200000000004,
            "bin_end": 46990,
            "count": 1
           }
          ]
         }
        },
        {
         "name": "BILL_AMT2",
         "dtype": "float64",
         "stats": {
          "unique_count": 5,
          "nan_count": 0,
          "min": "1725.0",
          "max": "48233.0",
          "histogram": [
           {
            "bin_start": 1725,
            "bin_end": 6375.8,
            "count": 3
           },
           {
            "bin_start": 6375.8,
            "bin_end": 11026.6,
            "count": 0
           },
           {
            "bin_start": 11026.6,
            "bin_end": 15677.400000000001,
            "count": 1
           },
           {
            "bin_start": 15677.400000000001,
            "bin_end": 20328.2,
            "count": 0
           },
           {
            "bin_start": 20328.2,
            "bin_end": 24979,
            "count": 0
           },
           {
            "bin_start": 24979,
            "bin_end": 29629.800000000003,
            "count": 0
           },
           {
            "bin_start": 29629.800000000003,
            "bin_end": 34280.600000000006,
            "count": 0
           },
           {
            "bin_start": 34280.600000000006,
            "bin_end": 38931.4,
            "count": 0
           },
           {
            "bin_start": 38931.4,
            "bin_end": 43582.200000000004,
            "count": 0
           },
           {
            "bin_start": 43582.200000000004,
            "bin_end": 48233,
            "count": 1
           }
          ]
         }
        },
        {
         "name": "BILL_AMT3",
         "dtype": "float64",
         "stats": {
          "unique_count": 5,
          "nan_count": 0,
          "min": "689.0",
          "max": "49291.0",
          "histogram": [
           {
            "bin_start": 689,
            "bin_end": 5549.2,
            "count": 2
           },
           {
            "bin_start": 5549.2,
            "bin_end": 10409.4,
            "count": 0
           },
           {
            "bin_start": 10409.4,
            "bin_end": 15269.599999999999,
            "count": 1
           },
           {
            "bin_start": 15269.599999999999,
            "bin_end": 20129.8,
            "count": 0
           },
           {
            "bin_start": 20129.8,
            "bin_end": 24990,
            "count": 0
           },
           {
            "bin_start": 24990,
            "bin_end": 29850.199999999997,
            "count": 0
           },
           {
            "bin_start": 29850.199999999997,
            "bin_end": 34710.4,
            "count": 0
           },
           {
            "bin_start": 34710.4,
            "bin_end": 39570.6,
            "count": 1
           },
           {
            "bin_start": 39570.6,
            "bin_end": 44430.799999999996,
            "count": 0
           },
           {
            "bin_start": 44430.799999999996,
            "bin_end": 49291,
            "count": 1
           }
          ]
         }
        },
        {
         "name": "BILL_AMT4",
         "dtype": "float64",
         "stats": {
          "unique_count": 5,
          "nan_count": 0,
          "min": "0.0",
          "max": "28314.0",
          "histogram": [
           {
            "bin_start": 0,
            "bin_end": 2831.4,
            "count": 1
           },
           {
            "bin_start": 2831.4,
            "bin_end": 5662.8,
            "count": 1
           },
           {
            "bin_start": 5662.8,
            "bin_end": 8494.2,
            "count": 0
           },
           {
            "bin_start": 8494.2,
            "bin_end": 11325.6,
            "count": 0
           },
           {
            "bin_start": 11325.6,
            "bin_end": 14157,
            "count": 0
           },
           {
            "bin_start": 14157,
            "bin_end": 16988.4,
            "count": 1
           },
           {
            "bin_start": 16988.4,
            "bin_end": 19819.8,
            "count": 0
           },
           {
            "bin_start": 19819.8,
            "bin_end": 22651.2,
            "count": 1
           },
           {
            "bin_start": 22651.2,
            "bin_end": 25482.600000000002,
            "count": 0
           },
           {
            "bin_start": 25482.600000000002,
            "bin_end": 28314,
            "count": 1
           }
          ]
         }
        },
        {
         "name": "BILL_AMT5",
         "dtype": "float64",
         "stats": {
          "unique_count": 5,
          "nan_count": 0,
          "min": "0.0",
          "max": "28959.0",
          "histogram": [
           {
            "bin_start": 0,
            "bin_end": 2895.9,
            "count": 1
           },
           {
            "bin_start": 2895.9,
            "bin_end": 5791.8,
            "count": 1
           },
           {
            "bin_start": 5791.8,
            "bin_end": 8687.7,
            "count": 0
           },
           {
            "bin_start": 8687.7,
            "bin_end": 11583.6,
            "count": 0
           },
           {
            "bin_start": 11583.6,
            "bin_end": 14479.5,
            "count": 0
           },
           {
            "bin_start": 14479.5,
            "bin_end": 17375.4,
            "count": 1
           },
           {
            "bin_start": 17375.4,
            "bin_end": 20271.3,
            "count": 1
           },
           {
            "bin_start": 20271.3,
            "bin_end": 23167.2,
            "count": 0
           },
           {
            "bin_start": 23167.2,
            "bin_end": 26063.100000000002,
            "count": 0
           },
           {
            "bin_start": 26063.100000000002,
            "bin_end": 28959,
            "count": 1
           }
          ]
         }
        },
        {
         "name": "BILL_AMT6",
         "dtype": "float64",
         "stats": {
          "unique_count": 5,
          "nan_count": 0,
          "min": "0.0",
          "max": "29547.0",
          "histogram": [
           {
            "bin_start": 0,
            "bin_end": 2954.7,
            "count": 1
           },
           {
            "bin_start": 2954.7,
            "bin_end": 5909.4,
            "count": 1
           },
           {
            "bin_start": 5909.4,
            "bin_end": 8864.099999999999,
            "count": 0
           },
           {
            "bin_start": 8864.099999999999,
            "bin_end": 11818.8,
            "count": 0
           },
           {
            "bin_start": 11818.8,
            "bin_end": 14773.5,
            "count": 0
           },
           {
            "bin_start": 14773.5,
            "bin_end": 17728.199999999997,
            "count": 1
           },
           {
            "bin_start": 17728.199999999997,
            "bin_end": 20682.899999999998,
            "count": 1
           },
           {
            "bin_start": 20682.899999999998,
            "bin_end": 23637.6,
            "count": 0
           },
           {
            "bin_start": 23637.6,
            "bin_end": 26592.3,
            "count": 0
           },
           {
            "bin_start": 26592.3,
            "bin_end": 29547,
            "count": 1
           }
          ]
         }
        },
        {
         "name": "PAY_AMT1",
         "dtype": "float64",
         "stats": {
          "unique_count": 3,
          "nan_count": 0,
          "min": "0.0",
          "max": "2000.0",
          "histogram": [
           {
            "bin_start": 0,
            "bin_end": 200,
            "count": 2
           },
           {
            "bin_start": 200,
            "bin_end": 400,
            "count": 0
           },
           {
            "bin_start": 400,
            "bin_end": 600,
            "count": 0
           },
           {
            "bin_start": 600,
            "bin_end": 800,
            "count": 0
           },
           {
            "bin_start": 800,
            "bin_end": 1000,
            "count": 0
           },
           {
            "bin_start": 1000,
            "bin_end": 1200,
            "count": 0
           },
           {
            "bin_start": 1200,
            "bin_end": 1400,
            "count": 0
           },
           {
            "bin_start": 1400,
            "bin_end": 1600,
            "count": 1
           },
           {
            "bin_start": 1600,
            "bin_end": 1800,
            "count": 0
           },
           {
            "bin_start": 1800,
            "bin_end": 2000,
            "count": 2
           }
          ]
         }
        },
        {
         "name": "PAY_AMT2",
         "dtype": "float64",
         "stats": {
          "unique_count": 5,
          "nan_count": 0,
          "min": "689.0",
          "max": "36681.0",
          "histogram": [
           {
            "bin_start": 689,
            "bin_end": 4288.2,
            "count": 4
           },
           {
            "bin_start": 4288.2,
            "bin_end": 7887.4,
            "count": 0
           },
           {
            "bin_start": 7887.4,
            "bin_end": 11486.599999999999,
            "count": 0
           },
           {
            "bin_start": 11486.599999999999,
            "bin_end": 15085.8,
            "count": 0
           },
           {
            "bin_start": 15085.8,
            "bin_end": 18685,
            "count": 0
           },
           {
            "bin_start": 18685,
            "bin_end": 22284.199999999997,
            "count": 0
           },
           {
            "bin_start": 22284.199999999997,
            "bin_end": 25883.399999999998,
            "count": 0
           },
           {
            "bin_start": 25883.399999999998,
            "bin_end": 29482.6,
            "count": 0
           },
           {
            "bin_start": 29482.6,
            "bin_end": 33081.8,
            "count": 0
           },
           {
            "bin_start": 33081.8,
            "bin_end": 36681,
            "count": 1
           }
          ]
         }
        },
        {
         "name": "PAY_AMT3",
         "dtype": "float64",
         "stats": {
          "unique_count": 4,
          "nan_count": 0,
          "min": "0.0",
          "max": "10000.0",
          "histogram": [
           {
            "bin_start": 0,
            "bin_end": 1000,
            "count": 1
           },
           {
            "bin_start": 1000,
            "bin_end": 2000,
            "count": 3
           },
           {
            "bin_start": 2000,
            "bin_end": 3000,
            "count": 0
           },
           {
            "bin_start": 3000,
            "bin_end": 4000,
            "count": 0
           },
           {
            "bin_start": 4000,
            "bin_end": 5000,
            "count": 0
           },
           {
            "bin_start": 5000,
            "bin_end": 6000,
            "count": 0
           },
           {
            "bin_start": 6000,
            "bin_end": 7000,
            "count": 0
           },
           {
            "bin_start": 7000,
            "bin_end": 8000,
            "count": 0
           },
           {
            "bin_start": 8000,
            "bin_end": 9000,
            "count": 0
           },
           {
            "bin_start": 9000,
            "bin_end": 10000,
            "count": 1
           }
          ]
         }
        },
        {
         "name": "PAY_AMT4",
         "dtype": "float64",
         "stats": {
          "unique_count": 4,
          "nan_count": 0,
          "min": "0.0",
          "max": "9000.0",
          "histogram": [
           {
            "bin_start": 0,
            "bin_end": 900,
            "count": 1
           },
           {
            "bin_start": 900,
            "bin_end": 1800,
            "count": 3
           },
           {
            "bin_start": 1800,
            "bin_end": 2700,
            "count": 0
           },
           {
            "bin_start": 2700,
            "bin_end": 3600,
            "count": 0
           },
           {
            "bin_start": 3600,
            "bin_end": 4500,
            "count": 0
           },
           {
            "bin_start": 4500,
            "bin_end": 5400,
            "count": 0
           },
           {
            "bin_start": 5400,
            "bin_end": 6300,
            "count": 0
           },
           {
            "bin_start": 6300,
            "bin_end": 7200,
            "count": 0
           },
           {
            "bin_start": 7200,
            "bin_end": 8100,
            "count": 0
           },
           {
            "bin_start": 8100,
            "bin_end": 9000,
            "count": 1
           }
          ]
         }
        },
        {
         "name": "PAY_AMT5",
         "dtype": "float64",
         "stats": {
          "unique_count": 4,
          "nan_count": 0,
          "min": "0.0",
          "max": "1069.0",
          "histogram": [
           {
            "bin_start": 0,
            "bin_end": 106.9,
            "count": 2
           },
           {
            "bin_start": 106.9,
            "bin_end": 213.8,
            "count": 0
           },
           {
            "bin_start": 213.8,
            "bin_end": 320.70000000000005,
            "count": 0
           },
           {
            "bin_start": 320.70000000000005,
            "bin_end": 427.6,
            "count": 0
           },
           {
            "bin_start": 427.6,
            "bin_end": 534.5,
            "count": 0
           },
           {
            "bin_start": 534.5,
            "bin_end": 641.4000000000001,
            "count": 0
           },
           {
            "bin_start": 641.4000000000001,
            "bin_end": 748.3000000000001,
            "count": 1
           },
           {
            "bin_start": 748.3000000000001,
            "bin_end": 855.2,
            "count": 0
           },
           {
            "bin_start": 855.2,
            "bin_end": 962.1,
            "count": 0
           },
           {
            "bin_start": 962.1,
            "bin_end": 1069,
            "count": 2
           }
          ]
         }
        },
        {
         "name": "PAY_AMT6",
         "dtype": "float64",
         "stats": {
          "unique_count": 5,
          "nan_count": 0,
          "min": "0.0",
          "max": "5000.0",
          "histogram": [
           {
            "bin_start": 0,
            "bin_end": 500,
            "count": 1
           },
           {
            "bin_start": 500,
            "bin_end": 1000,
            "count": 1
           },
           {
            "bin_start": 1000,
            "bin_end": 1500,
            "count": 1
           },
           {
            "bin_start": 1500,
            "bin_end": 2000,
            "count": 0
           },
           {
            "bin_start": 2000,
            "bin_end": 2500,
            "count": 1
           },
           {
            "bin_start": 2500,
            "bin_end": 3000,
            "count": 0
           },
           {
            "bin_start": 3000,
            "bin_end": 3500,
            "count": 0
           },
           {
            "bin_start": 3500,
            "bin_end": 4000,
            "count": 0
           },
           {
            "bin_start": 4000,
            "bin_end": 4500,
            "count": 0
           },
           {
            "bin_start": 4500,
            "bin_end": 5000,
            "count": 1
           }
          ]
         }
        },
        {
         "name": "default.payment.next.month",
         "dtype": "int64",
         "stats": {
          "unique_count": 2,
          "nan_count": 0,
          "min": "0",
          "max": "1",
          "histogram": [
           {
            "bin_start": 0,
            "bin_end": 0.1,
            "count": 3
           },
           {
            "bin_start": 0.1,
            "bin_end": 0.2,
            "count": 0
           },
           {
            "bin_start": 0.2,
            "bin_end": 0.30000000000000004,
            "count": 0
           },
           {
            "bin_start": 0.30000000000000004,
            "bin_end": 0.4,
            "count": 0
           },
           {
            "bin_start": 0.4,
            "bin_end": 0.5,
            "count": 0
           },
           {
            "bin_start": 0.5,
            "bin_end": 0.6000000000000001,
            "count": 0
           },
           {
            "bin_start": 0.6000000000000001,
            "bin_end": 0.7000000000000001,
            "count": 0
           },
           {
            "bin_start": 0.7000000000000001,
            "bin_end": 0.8,
            "count": 0
           },
           {
            "bin_start": 0.8,
            "bin_end": 0.9,
            "count": 0
           },
           {
            "bin_start": 0.9,
            "bin_end": 1,
            "count": 2
           }
          ]
         }
        },
        {
         "name": "_deepnote_index_column",
         "dtype": "int64"
        }
       ],
       "rows": [
        {
         "ID": 1,
         "LIMIT_BAL": 20000,
         "SEX": 2,
         "EDUCATION": 2,
         "MARRIAGE": 1,
         "AGE": 24,
         "PAY_0": 2,
         "PAY_2": 2,
         "PAY_3": -1,
         "PAY_4": -1,
         "PAY_5": -2,
         "PAY_6": -2,
         "BILL_AMT1": 3913,
         "BILL_AMT2": 3102,
         "BILL_AMT3": 689,
         "BILL_AMT4": 0,
         "BILL_AMT5": 0,
         "BILL_AMT6": 0,
         "PAY_AMT1": 0,
         "PAY_AMT2": 689,
         "PAY_AMT3": 0,
         "PAY_AMT4": 0,
         "PAY_AMT5": 0,
         "PAY_AMT6": 0,
         "default.payment.next.month": 1,
         "_deepnote_index_column": 0
        },
        {
         "ID": 2,
         "LIMIT_BAL": 120000,
         "SEX": 2,
         "EDUCATION": 2,
         "MARRIAGE": 2,
         "AGE": 26,
         "PAY_0": -1,
         "PAY_2": 2,
         "PAY_3": 0,
         "PAY_4": 0,
         "PAY_5": 0,
         "PAY_6": 2,
         "BILL_AMT1": 2682,
         "BILL_AMT2": 1725,
         "BILL_AMT3": 2682,
         "BILL_AMT4": 3272,
         "BILL_AMT5": 3455,
         "BILL_AMT6": 3261,
         "PAY_AMT1": 0,
         "PAY_AMT2": 1000,
         "PAY_AMT3": 1000,
         "PAY_AMT4": 1000,
         "PAY_AMT5": 0,
         "PAY_AMT6": 2000,
         "default.payment.next.month": 1,
         "_deepnote_index_column": 1
        },
        {
         "ID": 3,
         "LIMIT_BAL": 90000,
         "SEX": 2,
         "EDUCATION": 2,
         "MARRIAGE": 2,
         "AGE": 34,
         "PAY_0": 0,
         "PAY_2": 0,
         "PAY_3": 0,
         "PAY_4": 0,
         "PAY_5": 0,
         "PAY_6": 0,
         "BILL_AMT1": 29239,
         "BILL_AMT2": 14027,
         "BILL_AMT3": 13559,
         "BILL_AMT4": 14331,
         "BILL_AMT5": 14948,
         "BILL_AMT6": 15549,
         "PAY_AMT1": 1518,
         "PAY_AMT2": 1500,
         "PAY_AMT3": 1000,
         "PAY_AMT4": 1000,
         "PAY_AMT5": 1000,
         "PAY_AMT6": 5000,
         "default.payment.next.month": 0,
         "_deepnote_index_column": 2
        },
        {
         "ID": 4,
         "LIMIT_BAL": 50000,
         "SEX": 2,
         "EDUCATION": 2,
         "MARRIAGE": 1,
         "AGE": 37,
         "PAY_0": 0,
         "PAY_2": 0,
         "PAY_3": 0,
         "PAY_4": 0,
         "PAY_5": 0,
         "PAY_6": 0,
         "BILL_AMT1": 46990,
         "BILL_AMT2": 48233,
         "BILL_AMT3": 49291,
         "BILL_AMT4": 28314,
         "BILL_AMT5": 28959,
         "BILL_AMT6": 29547,
         "PAY_AMT1": 2000,
         "PAY_AMT2": 2019,
         "PAY_AMT3": 1200,
         "PAY_AMT4": 1100,
         "PAY_AMT5": 1069,
         "PAY_AMT6": 1000,
         "default.payment.next.month": 0,
         "_deepnote_index_column": 3
        },
        {
         "ID": 5,
         "LIMIT_BAL": 50000,
         "SEX": 1,
         "EDUCATION": 2,
         "MARRIAGE": 1,
         "AGE": 57,
         "PAY_0": -1,
         "PAY_2": 0,
         "PAY_3": -1,
         "PAY_4": 0,
         "PAY_5": 0,
         "PAY_6": 0,
         "BILL_AMT1": 8617,
         "BILL_AMT2": 5670,
         "BILL_AMT3": 35835,
         "BILL_AMT4": 20940,
         "BILL_AMT5": 19146,
         "BILL_AMT6": 19131,
         "PAY_AMT1": 2000,
         "PAY_AMT2": 36681,
         "PAY_AMT3": 10000,
         "PAY_AMT4": 9000,
         "PAY_AMT5": 689,
         "PAY_AMT6": 679,
         "default.payment.next.month": 0,
         "_deepnote_index_column": 4
        }
       ]
      },
      "text/plain": "   ID  LIMIT_BAL  SEX  EDUCATION  MARRIAGE  AGE  PAY_0  PAY_2  PAY_3  PAY_4  \\\n0   1    20000.0    2          2         1   24      2      2     -1     -1   \n1   2   120000.0    2          2         2   26     -1      2      0      0   \n2   3    90000.0    2          2         2   34      0      0      0      0   \n3   4    50000.0    2          2         1   37      0      0      0      0   \n4   5    50000.0    1          2         1   57     -1      0     -1      0   \n\n   ...  BILL_AMT4  BILL_AMT5  BILL_AMT6  PAY_AMT1  PAY_AMT2  PAY_AMT3  \\\n0  ...        0.0        0.0        0.0       0.0     689.0       0.0   \n1  ...     3272.0     3455.0     3261.0       0.0    1000.0    1000.0   \n2  ...    14331.0    14948.0    15549.0    1518.0    1500.0    1000.0   \n3  ...    28314.0    28959.0    29547.0    2000.0    2019.0    1200.0   \n4  ...    20940.0    19146.0    19131.0    2000.0   36681.0   10000.0   \n\n   PAY_AMT4  PAY_AMT5  PAY_AMT6  default.payment.next.month  \n0       0.0       0.0       0.0                           1  \n1    1000.0       0.0    2000.0                           1  \n2    1000.0    1000.0    5000.0                           0  \n3    1100.0    1069.0    1000.0                           0  \n4    9000.0     689.0     679.0                           0  \n\n[5 rows x 25 columns]",
      "text/html": "<div>\n<style scoped>\n    .dataframe tbody tr th:only-of-type {\n        vertical-align: middle;\n    }\n\n    .dataframe tbody tr th {\n        vertical-align: top;\n    }\n\n    .dataframe thead th {\n        text-align: right;\n    }\n</style>\n<table border=\"1\" class=\"dataframe\">\n  <thead>\n    <tr style=\"text-align: right;\">\n      <th></th>\n      <th>ID</th>\n      <th>LIMIT_BAL</th>\n      <th>SEX</th>\n      <th>EDUCATION</th>\n      <th>MARRIAGE</th>\n      <th>AGE</th>\n      <th>PAY_0</th>\n      <th>PAY_2</th>\n      <th>PAY_3</th>\n      <th>PAY_4</th>\n      <th>...</th>\n      <th>BILL_AMT4</th>\n      <th>BILL_AMT5</th>\n      <th>BILL_AMT6</th>\n      <th>PAY_AMT1</th>\n      <th>PAY_AMT2</th>\n      <th>PAY_AMT3</th>\n      <th>PAY_AMT4</th>\n      <th>PAY_AMT5</th>\n      <th>PAY_AMT6</th>\n      <th>default.payment.next.month</th>\n    </tr>\n  </thead>\n  <tbody>\n    <tr>\n      <th>0</th>\n      <td>1</td>\n      <td>20000.0</td>\n      <td>2</td>\n      <td>2</td>\n      <td>1</td>\n      <td>24</td>\n      <td>2</td>\n      <td>2</td>\n      <td>-1</td>\n      <td>-1</td>\n      <td>...</td>\n      <td>0.0</td>\n      <td>0.0</td>\n      <td>0.0</td>\n      <td>0.0</td>\n      <td>689.0</td>\n      <td>0.0</td>\n      <td>0.0</td>\n      <td>0.0</td>\n      <td>0.0</td>\n      <td>1</td>\n    </tr>\n    <tr>\n      <th>1</th>\n      <td>2</td>\n      <td>120000.0</td>\n      <td>2</td>\n      <td>2</td>\n      <td>2</td>\n      <td>26</td>\n      <td>-1</td>\n      <td>2</td>\n      <td>0</td>\n      <td>0</td>\n      <td>...</td>\n      <td>3272.0</td>\n      <td>3455.0</td>\n      <td>3261.0</td>\n      <td>0.0</td>\n      <td>1000.0</td>\n      <td>1000.0</td>\n      <td>1000.0</td>\n      <td>0.0</td>\n      <td>2000.0</td>\n      <td>1</td>\n    </tr>\n    <tr>\n      <th>2</th>\n      <td>3</td>\n      <td>90000.0</td>\n      <td>2</td>\n      <td>2</td>\n      <td>2</td>\n      <td>34</td>\n      <td>0</td>\n      <td>0</td>\n      <td>0</td>\n      <td>0</td>\n      <td>...</td>\n      <td>14331.0</td>\n      <td>14948.0</td>\n      <td>15549.0</td>\n      <td>1518.0</td>\n      <td>1500.0</td>\n      <td>1000.0</td>\n      <td>1000.0</td>\n      <td>1000.0</td>\n      <td>5000.0</td>\n      <td>0</td>\n    </tr>\n    <tr>\n      <th>3</th>\n      <td>4</td>\n      <td>50000.0</td>\n      <td>2</td>\n      <td>2</td>\n      <td>1</td>\n      <td>37</td>\n      <td>0</td>\n      <td>0</td>\n      <td>0</td>\n      <td>0</td>\n      <td>...</td>\n      <td>28314.0</td>\n      <td>28959.0</td>\n      <td>29547.0</td>\n      <td>2000.0</td>\n      <td>2019.0</td>\n      <td>1200.0</td>\n      <td>1100.0</td>\n      <td>1069.0</td>\n      <td>1000.0</td>\n      <td>0</td>\n    </tr>\n    <tr>\n      <th>4</th>\n      <td>5</td>\n      <td>50000.0</td>\n      <td>1</td>\n      <td>2</td>\n      <td>1</td>\n      <td>57</td>\n      <td>-1</td>\n      <td>0</td>\n      <td>-1</td>\n      <td>0</td>\n      <td>...</td>\n      <td>20940.0</td>\n      <td>19146.0</td>\n      <td>19131.0</td>\n      <td>2000.0</td>\n      <td>36681.0</td>\n      <td>10000.0</td>\n      <td>9000.0</td>\n      <td>689.0</td>\n      <td>679.0</td>\n      <td>0</td>\n    </tr>\n  </tbody>\n</table>\n<p>5 rows × 25 columns</p>\n</div>"
     },
     "metadata": {}
    }
   ]
  },
  {
   "cell_type": "code",
   "metadata": {
    "colab": {
     "base_uri": "https://localhost:8080/"
    },
    "id": "VvhlrO2kK3Hf",
    "outputId": "4ea53241-1f9e-4a91-f2c9-eebf8b43e447",
    "cell_id": "00004-3ad9319e-8791-4bf8-9523-5fb7f1d5e3e6",
    "deepnote_to_be_reexecuted": false,
    "source_hash": "957547ae",
    "execution_start": 1657627662686,
    "execution_millis": 22,
    "deepnote_app_coordinates": {
     "x": 0,
     "y": 43,
     "w": 12,
     "h": 5
    },
    "deepnote_cell_type": "code",
    "deepnote_cell_height": 701
   },
   "source": "data.info()",
   "execution_count": null,
   "outputs": [
    {
     "name": "stdout",
     "text": "<class 'pandas.core.frame.DataFrame'>\nRangeIndex: 30000 entries, 0 to 29999\nData columns (total 25 columns):\n #   Column                      Non-Null Count  Dtype  \n---  ------                      --------------  -----  \n 0   ID                          30000 non-null  int64  \n 1   LIMIT_BAL                   30000 non-null  float64\n 2   SEX                         30000 non-null  int64  \n 3   EDUCATION                   30000 non-null  int64  \n 4   MARRIAGE                    30000 non-null  int64  \n 5   AGE                         30000 non-null  int64  \n 6   PAY_0                       30000 non-null  int64  \n 7   PAY_2                       30000 non-null  int64  \n 8   PAY_3                       30000 non-null  int64  \n 9   PAY_4                       30000 non-null  int64  \n 10  PAY_5                       30000 non-null  int64  \n 11  PAY_6                       30000 non-null  int64  \n 12  BILL_AMT1                   30000 non-null  float64\n 13  BILL_AMT2                   30000 non-null  float64\n 14  BILL_AMT3                   30000 non-null  float64\n 15  BILL_AMT4                   30000 non-null  float64\n 16  BILL_AMT5                   30000 non-null  float64\n 17  BILL_AMT6                   30000 non-null  float64\n 18  PAY_AMT1                    30000 non-null  float64\n 19  PAY_AMT2                    30000 non-null  float64\n 20  PAY_AMT3                    30000 non-null  float64\n 21  PAY_AMT4                    30000 non-null  float64\n 22  PAY_AMT5                    30000 non-null  float64\n 23  PAY_AMT6                    30000 non-null  float64\n 24  default.payment.next.month  30000 non-null  int64  \ndtypes: float64(13), int64(12)\nmemory usage: 5.7 MB\n",
     "output_type": "stream"
    }
   ]
  },
  {
   "cell_type": "code",
   "metadata": {
    "colab": {
     "base_uri": "https://localhost:8080/"
    },
    "id": "ozw5PW02K_Sc",
    "outputId": "866b8366-5cae-413c-c979-2c736e130a16",
    "cell_id": "00005-19f6b60f-7237-4ff8-aac4-e014f18e7bbb",
    "deepnote_to_be_reexecuted": false,
    "source_hash": "c70742ad",
    "execution_start": 1657627662711,
    "execution_millis": 19,
    "deepnote_app_coordinates": {
     "x": 0,
     "y": 49,
     "w": 12,
     "h": 5
    },
    "deepnote_cell_type": "code",
    "deepnote_cell_height": 598.1875,
    "deepnote_output_heights": [
     501.1875
    ]
   },
   "source": "data.isna().sum()",
   "execution_count": null,
   "outputs": [
    {
     "output_type": "execute_result",
     "execution_count": 6,
     "data": {
      "text/plain": "ID                            0\nLIMIT_BAL                     0\nSEX                           0\nEDUCATION                     0\nMARRIAGE                      0\nAGE                           0\nPAY_0                         0\nPAY_2                         0\nPAY_3                         0\nPAY_4                         0\nPAY_5                         0\nPAY_6                         0\nBILL_AMT1                     0\nBILL_AMT2                     0\nBILL_AMT3                     0\nBILL_AMT4                     0\nBILL_AMT5                     0\nBILL_AMT6                     0\nPAY_AMT1                      0\nPAY_AMT2                      0\nPAY_AMT3                      0\nPAY_AMT4                      0\nPAY_AMT5                      0\nPAY_AMT6                      0\ndefault.payment.next.month    0\ndtype: int64"
     },
     "metadata": {}
    }
   ]
  },
  {
   "cell_type": "code",
   "metadata": {
    "colab": {
     "base_uri": "https://localhost:8080/",
     "height": 394
    },
    "id": "S4LzQBY2LSQv",
    "outputId": "a08445b1-e793-4f9c-cb0d-d551a3945517",
    "cell_id": "00006-65ebd078-f38d-42e2-b7eb-bff7f2de67e2",
    "deepnote_to_be_reexecuted": false,
    "source_hash": "d786443f",
    "execution_start": 1657627662729,
    "execution_millis": 199,
    "deepnote_app_coordinates": {
     "x": 0,
     "y": 55,
     "w": 12,
     "h": 5
    },
    "deepnote_cell_type": "code",
    "deepnote_cell_height": 534.796875
   },
   "source": "data.describe()",
   "execution_count": null,
   "outputs": [
    {
     "output_type": "execute_result",
     "execution_count": 7,
     "data": {
      "application/vnd.deepnote.dataframe.v3+json": {
       "column_count": 25,
       "row_count": 8,
       "columns": [
        {
         "name": "ID",
         "dtype": "float64",
         "stats": {
          "unique_count": 6,
          "nan_count": 0,
          "min": "1.0",
          "max": "30000.0",
          "histogram": [
           {
            "bin_start": 1,
            "bin_end": 3000.9,
            "count": 1
           },
           {
            "bin_start": 3000.9,
            "bin_end": 6000.8,
            "count": 0
           },
           {
            "bin_start": 6000.8,
            "bin_end": 9000.7,
            "count": 2
           },
           {
            "bin_start": 9000.7,
            "bin_end": 12000.6,
            "count": 0
           },
           {
            "bin_start": 12000.6,
            "bin_end": 15000.5,
            "count": 0
           },
           {
            "bin_start": 15000.5,
            "bin_end": 18000.4,
            "count": 2
           },
           {
            "bin_start": 18000.4,
            "bin_end": 21000.3,
            "count": 0
           },
           {
            "bin_start": 21000.3,
            "bin_end": 24000.2,
            "count": 1
           },
           {
            "bin_start": 24000.2,
            "bin_end": 27000.100000000002,
            "count": 0
           },
           {
            "bin_start": 27000.100000000002,
            "bin_end": 30000,
            "count": 2
           }
          ]
         }
        },
        {
         "name": "LIMIT_BAL",
         "dtype": "float64",
         "stats": {
          "unique_count": 8,
          "nan_count": 0,
          "min": "10000.0",
          "max": "1000000.0",
          "histogram": [
           {
            "bin_start": 10000,
            "bin_end": 109000,
            "count": 3
           },
           {
            "bin_start": 109000,
            "bin_end": 208000,
            "count": 3
           },
           {
            "bin_start": 208000,
            "bin_end": 307000,
            "count": 1
           },
           {
            "bin_start": 307000,
            "bin_end": 406000,
            "count": 0
           },
           {
            "bin_start": 406000,
            "bin_end": 505000,
            "count": 0
           },
           {
            "bin_start": 505000,
            "bin_end": 604000,
            "count": 0
           },
           {
            "bin_start": 604000,
            "bin_end": 703000,
            "count": 0
           },
           {
            "bin_start": 703000,
            "bin_end": 802000,
            "count": 0
           },
           {
            "bin_start": 802000,
            "bin_end": 901000,
            "count": 0
           },
           {
            "bin_start": 901000,
            "bin_end": 1000000,
            "count": 1
           }
          ]
         }
        },
        {
         "name": "SEX",
         "dtype": "float64",
         "stats": {
          "unique_count": 5,
          "nan_count": 0,
          "min": "0.48912919609026045",
          "max": "30000.0",
          "histogram": [
           {
            "bin_start": 0.48912919609026045,
            "bin_end": 3000.4402162764814,
            "count": 7
           },
           {
            "bin_start": 3000.4402162764814,
            "bin_end": 6000.391303356872,
            "count": 0
           },
           {
            "bin_start": 6000.391303356872,
            "bin_end": 9000.342390437263,
            "count": 0
           },
           {
            "bin_start": 9000.342390437263,
            "bin_end": 12000.293477517655,
            "count": 0
           },
           {
            "bin_start": 12000.293477517655,
            "bin_end": 15000.244564598046,
            "count": 0
           },
           {
            "bin_start": 15000.244564598046,
            "bin_end": 18000.195651678434,
            "count": 0
           },
           {
            "bin_start": 18000.195651678434,
            "bin_end": 21000.146738758827,
            "count": 0
           },
           {
            "bin_start": 21000.146738758827,
            "bin_end": 24000.097825839217,
            "count": 0
           },
           {
            "bin_start": 24000.097825839217,
            "bin_end": 27000.048912919607,
            "count": 0
           },
           {
            "bin_start": 27000.048912919607,
            "bin_end": 30000,
            "count": 1
           }
          ]
         }
        },
        {
         "name": "EDUCATION",
         "dtype": "float64",
         "stats": {
          "unique_count": 7,
          "nan_count": 0,
          "min": "0.0",
          "max": "30000.0",
          "histogram": [
           {
            "bin_start": 0,
            "bin_end": 3000,
            "count": 7
           },
           {
            "bin_start": 3000,
            "bin_end": 6000,
            "count": 0
           },
           {
            "bin_start": 6000,
            "bin_end": 9000,
            "count": 0
           },
           {
            "bin_start": 9000,
            "bin_end": 12000,
            "count": 0
           },
           {
            "bin_start": 12000,
            "bin_end": 15000,
            "count": 0
           },
           {
            "bin_start": 15000,
            "bin_end": 18000,
            "count": 0
           },
           {
            "bin_start": 18000,
            "bin_end": 21000,
            "count": 0
           },
           {
            "bin_start": 21000,
            "bin_end": 24000,
            "count": 0
           },
           {
            "bin_start": 24000,
            "bin_end": 27000,
            "count": 0
           },
           {
            "bin_start": 27000,
            "bin_end": 30000,
            "count": 1
           }
          ]
         }
        },
        {
         "name": "MARRIAGE",
         "dtype": "float64",
         "stats": {
          "unique_count": 7,
          "nan_count": 0,
          "min": "0.0",
          "max": "30000.0",
          "histogram": [
           {
            "bin_start": 0,
            "bin_end": 3000,
            "count": 7
           },
           {
            "bin_start": 3000,
            "bin_end": 6000,
            "count": 0
           },
           {
            "bin_start": 6000,
            "bin_end": 9000,
            "count": 0
           },
           {
            "bin_start": 9000,
            "bin_end": 12000,
            "count": 0
           },
           {
            "bin_start": 12000,
            "bin_end": 15000,
            "count": 0
           },
           {
            "bin_start": 15000,
            "bin_end": 18000,
            "count": 0
           },
           {
            "bin_start": 18000,
            "bin_end": 21000,
            "count": 0
           },
           {
            "bin_start": 21000,
            "bin_end": 24000,
            "count": 0
           },
           {
            "bin_start": 24000,
            "bin_end": 27000,
            "count": 0
           },
           {
            "bin_start": 27000,
            "bin_end": 30000,
            "count": 1
           }
          ]
         }
        },
        {
         "name": "AGE",
         "dtype": "float64",
         "stats": {
          "unique_count": 8,
          "nan_count": 0,
          "min": "9.217904068090188",
          "max": "30000.0",
          "histogram": [
           {
            "bin_start": 9.217904068090188,
            "bin_end": 3008.296113661281,
            "count": 7
           },
           {
            "bin_start": 3008.296113661281,
            "bin_end": 6007.374323254472,
            "count": 0
           },
           {
            "bin_start": 6007.374323254472,
            "bin_end": 9006.452532847663,
            "count": 0
           },
           {
            "bin_start": 9006.452532847663,
            "bin_end": 12005.530742440853,
            "count": 0
           },
           {
            "bin_start": 12005.530742440853,
            "bin_end": 15004.608952034043,
            "count": 0
           },
           {
            "bin_start": 15004.608952034043,
            "bin_end": 18003.687161627236,
            "count": 0
           },
           {
            "bin_start": 18003.687161627236,
            "bin_end": 21002.765371220426,
            "count": 0
           },
           {
            "bin_start": 21002.765371220426,
            "bin_end": 24001.843580813616,
            "count": 0
           },
           {
            "bin_start": 24001.843580813616,
            "bin_end": 27000.921790406806,
            "count": 0
           },
           {
            "bin_start": 27000.921790406806,
            "bin_end": 30000,
            "count": 1
           }
          ]
         }
        },
        {
         "name": "PAY_0",
         "dtype": "float64",
         "stats": {
          "unique_count": 7,
          "nan_count": 0,
          "min": "-2.0",
          "max": "30000.0",
          "histogram": [
           {
            "bin_start": -2,
            "bin_end": 2998.2,
            "count": 7
           },
           {
            "bin_start": 2998.2,
            "bin_end": 5998.4,
            "count": 0
           },
           {
            "bin_start": 5998.4,
            "bin_end": 8998.599999999999,
            "count": 0
           },
           {
            "bin_start": 8998.599999999999,
            "bin_end": 11998.8,
            "count": 0
           },
           {
            "bin_start": 11998.8,
            "bin_end": 14999,
            "count": 0
           },
           {
            "bin_start": 14999,
            "bin_end": 17999.199999999997,
            "count": 0
           },
           {
            "bin_start": 17999.199999999997,
            "bin_end": 20999.399999999998,
            "count": 0
           },
           {
            "bin_start": 20999.399999999998,
            "bin_end": 23999.6,
            "count": 0
           },
           {
            "bin_start": 23999.6,
            "bin_end": 26999.8,
            "count": 0
           },
           {
            "bin_start": 26999.8,
            "bin_end": 30000,
            "count": 1
           }
          ]
         }
        },
        {
         "name": "PAY_2",
         "dtype": "float64",
         "stats": {
          "unique_count": 7,
          "nan_count": 0,
          "min": "-2.0",
          "max": "30000.0",
          "histogram": [
           {
            "bin_start": -2,
            "bin_end": 2998.2,
            "count": 7
           },
           {
            "bin_start": 2998.2,
            "bin_end": 5998.4,
            "count": 0
           },
           {
            "bin_start": 5998.4,
            "bin_end": 8998.599999999999,
            "count": 0
           },
           {
            "bin_start": 8998.599999999999,
            "bin_end": 11998.8,
            "count": 0
           },
           {
            "bin_start": 11998.8,
            "bin_end": 14999,
            "count": 0
           },
           {
            "bin_start": 14999,
            "bin_end": 17999.199999999997,
            "count": 0
           },
           {
            "bin_start": 17999.199999999997,
            "bin_end": 20999.399999999998,
            "count": 0
           },
           {
            "bin_start": 20999.399999999998,
            "bin_end": 23999.6,
            "count": 0
           },
           {
            "bin_start": 23999.6,
            "bin_end": 26999.8,
            "count": 0
           },
           {
            "bin_start": 26999.8,
            "bin_end": 30000,
            "count": 1
           }
          ]
         }
        },
        {
         "name": "PAY_3",
         "dtype": "float64",
         "stats": {
          "unique_count": 7,
          "nan_count": 0,
          "min": "-2.0",
          "max": "30000.0",
          "histogram": [
           {
            "bin_start": -2,
            "bin_end": 2998.2,
            "count": 7
           },
           {
            "bin_start": 2998.2,
            "bin_end": 5998.4,
            "count": 0
           },
           {
            "bin_start": 5998.4,
            "bin_end": 8998.599999999999,
            "count": 0
           },
           {
            "bin_start": 8998.599999999999,
            "bin_end": 11998.8,
            "count": 0
           },
           {
            "bin_start": 11998.8,
            "bin_end": 14999,
            "count": 0
           },
           {
            "bin_start": 14999,
            "bin_end": 17999.199999999997,
            "count": 0
           },
           {
            "bin_start": 17999.199999999997,
            "bin_end": 20999.399999999998,
            "count": 0
           },
           {
            "bin_start": 20999.399999999998,
            "bin_end": 23999.6,
            "count": 0
           },
           {
            "bin_start": 23999.6,
            "bin_end": 26999.8,
            "count": 0
           },
           {
            "bin_start": 26999.8,
            "bin_end": 30000,
            "count": 1
           }
          ]
         }
        },
        {
         "name": "PAY_4",
         "dtype": "float64",
         "stats": {
          "unique_count": 7,
          "nan_count": 0,
          "min": "-2.0",
          "max": "30000.0",
          "histogram": [
           {
            "bin_start": -2,
            "bin_end": 2998.2,
            "count": 7
           },
           {
            "bin_start": 2998.2,
            "bin_end": 5998.4,
            "count": 0
           },
           {
            "bin_start": 5998.4,
            "bin_end": 8998.599999999999,
            "count": 0
           },
           {
            "bin_start": 8998.599999999999,
            "bin_end": 11998.8,
            "count": 0
           },
           {
            "bin_start": 11998.8,
            "bin_end": 14999,
            "count": 0
           },
           {
            "bin_start": 14999,
            "bin_end": 17999.199999999997,
            "count": 0
           },
           {
            "bin_start": 17999.199999999997,
            "bin_end": 20999.399999999998,
            "count": 0
           },
           {
            "bin_start": 20999.399999999998,
            "bin_end": 23999.6,
            "count": 0
           },
           {
            "bin_start": 23999.6,
            "bin_end": 26999.8,
            "count": 0
           },
           {
            "bin_start": 26999.8,
            "bin_end": 30000,
            "count": 1
           }
          ]
         }
        },
        {
         "name": "PAY_5",
         "dtype": "float64",
         "stats": {
          "unique_count": 7,
          "nan_count": 0,
          "min": "-2.0",
          "max": "30000.0",
          "histogram": [
           {
            "bin_start": -2,
            "bin_end": 2998.2,
            "count": 7
           },
           {
            "bin_start": 2998.2,
            "bin_end": 5998.4,
            "count": 0
           },
           {
            "bin_start": 5998.4,
            "bin_end": 8998.599999999999,
            "count": 0
           },
           {
            "bin_start": 8998.599999999999,
            "bin_end": 11998.8,
            "count": 0
           },
           {
            "bin_start": 11998.8,
            "bin_end": 14999,
            "count": 0
           },
           {
            "bin_start": 14999,
            "bin_end": 17999.199999999997,
            "count": 0
           },
           {
            "bin_start": 17999.199999999997,
            "bin_end": 20999.399999999998,
            "count": 0
           },
           {
            "bin_start": 20999.399999999998,
            "bin_end": 23999.6,
            "count": 0
           },
           {
            "bin_start": 23999.6,
            "bin_end": 26999.8,
            "count": 0
           },
           {
            "bin_start": 26999.8,
            "bin_end": 30000,
            "count": 1
           }
          ]
         }
        },
        {
         "name": "PAY_6",
         "dtype": "float64",
         "stats": {
          "unique_count": 7,
          "nan_count": 0,
          "min": "-2.0",
          "max": "30000.0",
          "histogram": [
           {
            "bin_start": -2,
            "bin_end": 2998.2,
            "count": 7
           },
           {
            "bin_start": 2998.2,
            "bin_end": 5998.4,
            "count": 0
           },
           {
            "bin_start": 5998.4,
            "bin_end": 8998.599999999999,
            "count": 0
           },
           {
            "bin_start": 8998.599999999999,
            "bin_end": 11998.8,
            "count": 0
           },
           {
            "bin_start": 11998.8,
            "bin_end": 14999,
            "count": 0
           },
           {
            "bin_start": 14999,
            "bin_end": 17999.199999999997,
            "count": 0
           },
           {
            "bin_start": 17999.199999999997,
            "bin_end": 20999.399999999998,
            "count": 0
           },
           {
            "bin_start": 20999.399999999998,
            "bin_end": 23999.6,
            "count": 0
           },
           {
            "bin_start": 23999.6,
            "bin_end": 26999.8,
            "count": 0
           },
           {
            "bin_start": 26999.8,
            "bin_end": 30000,
            "count": 1
           }
          ]
         }
        },
        {
         "name": "BILL_AMT1",
         "dtype": "float64",
         "stats": {
          "unique_count": 8,
          "nan_count": 0,
          "min": "-165580.0",
          "max": "964511.0",
          "histogram": [
           {
            "bin_start": -165580,
            "bin_end": -52570.899999999994,
            "count": 1
           },
           {
            "bin_start": -52570.899999999994,
            "bin_end": 60438.20000000001,
            "count": 4
           },
           {
            "bin_start": 60438.20000000001,
            "bin_end": 173447.30000000005,
            "count": 2
           },
           {
            "bin_start": 173447.30000000005,
            "bin_end": 286456.4,
            "count": 0
           },
           {
            "bin_start": 286456.4,
            "bin_end": 399465.5,
            "count": 0
           },
           {
            "bin_start": 399465.5,
            "bin_end": 512474.6000000001,
            "count": 0
           },
           {
            "bin_start": 512474.6000000001,
            "bin_end": 625483.7000000001,
            "count": 0
           },
           {
            "bin_start": 625483.7000000001,
            "bin_end": 738492.8,
            "count": 0
           },
           {
            "bin_start": 738492.8,
            "bin_end": 851501.9,
            "count": 0
           },
           {
            "bin_start": 851501.9,
            "bin_end": 964511,
            "count": 1
           }
          ]
         }
        },
        {
         "name": "BILL_AMT2",
         "dtype": "float64",
         "stats": {
          "unique_count": 8,
          "nan_count": 0,
          "min": "-69777.0",
          "max": "983931.0",
          "histogram": [
           {
            "bin_start": -69777,
            "bin_end": 35593.8,
            "count": 4
           },
           {
            "bin_start": 35593.8,
            "bin_end": 140964.6,
            "count": 3
           },
           {
            "bin_start": 140964.6,
            "bin_end": 246335.40000000002,
            "count": 0
           },
           {
            "bin_start": 246335.40000000002,
            "bin_end": 351706.2,
            "count": 0
           },
           {
            "bin_start": 351706.2,
            "bin_end": 457077,
            "count": 0
           },
           {
            "bin_start": 457077,
            "bin_end": 562447.8,
            "count": 0
           },
           {
            "bin_start": 562447.8,
            "bin_end": 667818.6,
            "count": 0
           },
           {
            "bin_start": 667818.6,
            "bin_end": 773189.4,
            "count": 0
           },
           {
            "bin_start": 773189.4,
            "bin_end": 878560.2000000001,
            "count": 0
           },
           {
            "bin_start": 878560.2000000001,
            "bin_end": 983931,
            "count": 1
           }
          ]
         }
        },
        {
         "name": "BILL_AMT3",
         "dtype": "float64",
         "stats": {
          "unique_count": 8,
          "nan_count": 0,
          "min": "-157264.0",
          "max": "1664089.0",
          "histogram": [
           {
            "bin_start": -157264,
            "bin_end": 24871.29999999999,
            "count": 3
           },
           {
            "bin_start": 24871.29999999999,
            "bin_end": 207006.59999999998,
            "count": 4
           },
           {
            "bin_start": 207006.59999999998,
            "bin_end": 389141.8999999999,
            "count": 0
           },
           {
            "bin_start": 389141.8999999999,
            "bin_end": 571277.2,
            "count": 0
           },
           {
            "bin_start": 571277.2,
            "bin_end": 753412.5,
            "count": 0
           },
           {
            "bin_start": 753412.5,
            "bin_end": 935547.7999999998,
            "count": 0
           },
           {
            "bin_start": 935547.7999999998,
            "bin_end": 1117683.0999999999,
            "count": 0
           },
           {
            "bin_start": 1117683.0999999999,
            "bin_end": 1299818.4,
            "count": 0
           },
           {
            "bin_start": 1299818.4,
            "bin_end": 1481953.7,
            "count": 0
           },
           {
            "bin_start": 1481953.7,
            "bin_end": 1664089,
            "count": 1
           }
          ]
         }
        },
        {
         "name": "BILL_AMT4",
         "dtype": "float64",
         "stats": {
          "unique_count": 8,
          "nan_count": 0,
          "min": "-170000.0",
          "max": "891586.0",
          "histogram": [
           {
            "bin_start": -170000,
            "bin_end": -63841.399999999994,
            "count": 1
           },
           {
            "bin_start": -63841.399999999994,
            "bin_end": 42317.20000000001,
            "count": 3
           },
           {
            "bin_start": 42317.20000000001,
            "bin_end": 148475.80000000005,
            "count": 3
           },
           {
            "bin_start": 148475.80000000005,
            "bin_end": 254634.40000000002,
            "count": 0
           },
           {
            "bin_start": 254634.40000000002,
            "bin_end": 360793,
            "count": 0
           },
           {
            "bin_start": 360793,
            "bin_end": 466951.6000000001,
            "count": 0
           },
           {
            "bin_start": 466951.6000000001,
            "bin_end": 573110.2000000001,
            "count": 0
           },
           {
            "bin_start": 573110.2000000001,
            "bin_end": 679268.8,
            "count": 0
           },
           {
            "bin_start": 679268.8,
            "bin_end": 785427.4,
            "count": 0
           },
           {
            "bin_start": 785427.4,
            "bin_end": 891586,
            "count": 1
           }
          ]
         }
        },
        {
         "name": "BILL_AMT5",
         "dtype": "float64",
         "stats": {
          "unique_count": 8,
          "nan_count": 0,
          "min": "-81334.0",
          "max": "927171.0",
          "histogram": [
           {
            "bin_start": -81334,
            "bin_end": 19516.5,
            "count": 3
           },
           {
            "bin_start": 19516.5,
            "bin_end": 120367,
            "count": 4
           },
           {
            "bin_start": 120367,
            "bin_end": 221217.5,
            "count": 0
           },
           {
            "bin_start": 221217.5,
            "bin_end": 322068,
            "count": 0
           },
           {
            "bin_start": 322068,
            "bin_end": 422918.5,
            "count": 0
           },
           {
            "bin_start": 422918.5,
            "bin_end": 523769,
            "count": 0
           },
           {
            "bin_start": 523769,
            "bin_end": 624619.5,
            "count": 0
           },
           {
            "bin_start": 624619.5,
            "bin_end": 725470,
            "count": 0
           },
           {
            "bin_start": 725470,
            "bin_end": 826320.5,
            "count": 0
           },
           {
            "bin_start": 826320.5,
            "bin_end": 927171,
            "count": 1
           }
          ]
         }
        },
        {
         "name": "BILL_AMT6",
         "dtype": "float64",
         "stats": {
          "unique_count": 8,
          "nan_count": 0,
          "min": "-339603.0",
          "max": "961664.0",
          "histogram": [
           {
            "bin_start": -339603,
            "bin_end": -209476.3,
            "count": 1
           },
           {
            "bin_start": -209476.3,
            "bin_end": -79349.6,
            "count": 0
           },
           {
            "bin_start": -79349.6,
            "bin_end": 50777.09999999998,
            "count": 5
           },
           {
            "bin_start": 50777.09999999998,
            "bin_end": 180903.8,
            "count": 1
           },
           {
            "bin_start": 180903.8,
            "bin_end": 311030.5,
            "count": 0
           },
           {
            "bin_start": 311030.5,
            "bin_end": 441157.19999999995,
            "count": 0
           },
           {
            "bin_start": 441157.19999999995,
            "bin_end": 571283.9,
            "count": 0
           },
           {
            "bin_start": 571283.9,
            "bin_end": 701410.6,
            "count": 0
           },
           {
            "bin_start": 701410.6,
            "bin_end": 831537.3,
            "count": 0
           },
           {
            "bin_start": 831537.3,
            "bin_end": 961664,
            "count": 1
           }
          ]
         }
        },
        {
         "name": "PAY_AMT1",
         "dtype": "float64",
         "stats": {
          "unique_count": 8,
          "nan_count": 0,
          "min": "0.0",
          "max": "873552.0",
          "histogram": [
           {
            "bin_start": 0,
            "bin_end": 87355.2,
            "count": 7
           },
           {
            "bin_start": 87355.2,
            "bin_end": 174710.4,
            "count": 0
           },
           {
            "bin_start": 174710.4,
            "bin_end": 262065.59999999998,
            "count": 0
           },
           {
            "bin_start": 262065.59999999998,
            "bin_end": 349420.8,
            "count": 0
           },
           {
            "bin_start": 349420.8,
            "bin_end": 436776,
            "count": 0
           },
           {
            "bin_start": 436776,
            "bin_end": 524131.19999999995,
            "count": 0
           },
           {
            "bin_start": 524131.19999999995,
            "bin_end": 611486.4,
            "count": 0
           },
           {
            "bin_start": 611486.4,
            "bin_end": 698841.6,
            "count": 0
           },
           {
            "bin_start": 698841.6,
            "bin_end": 786196.7999999999,
            "count": 0
           },
           {
            "bin_start": 786196.7999999999,
            "bin_end": 873552,
            "count": 1
           }
          ]
         }
        },
        {
         "name": "PAY_AMT2",
         "dtype": "float64",
         "stats": {
          "unique_count": 8,
          "nan_count": 0,
          "min": "0.0",
          "max": "1684259.0",
          "histogram": [
           {
            "bin_start": 0,
            "bin_end": 168425.9,
            "count": 7
           },
           {
            "bin_start": 168425.9,
            "bin_end": 336851.8,
            "count": 0
           },
           {
            "bin_start": 336851.8,
            "bin_end": 505277.69999999995,
            "count": 0
           },
           {
            "bin_start": 505277.69999999995,
            "bin_end": 673703.6,
            "count": 0
           },
           {
            "bin_start": 673703.6,
            "bin_end": 842129.5,
            "count": 0
           },
           {
            "bin_start": 842129.5,
            "bin_end": 1010555.3999999999,
            "count": 0
           },
           {
            "bin_start": 1010555.3999999999,
            "bin_end": 1178981.3,
            "count": 0
           },
           {
            "bin_start": 1178981.3,
            "bin_end": 1347407.2,
            "count": 0
           },
           {
            "bin_start": 1347407.2,
            "bin_end": 1515833.0999999999,
            "count": 0
           },
           {
            "bin_start": 1515833.0999999999,
            "bin_end": 1684259,
            "count": 1
           }
          ]
         }
        },
        {
         "name": "PAY_AMT3",
         "dtype": "float64",
         "stats": {
          "unique_count": 8,
          "nan_count": 0,
          "min": "0.0",
          "max": "896040.0",
          "histogram": [
           {
            "bin_start": 0,
            "bin_end": 89604,
            "count": 7
           },
           {
            "bin_start": 89604,
            "bin_end": 179208,
            "count": 0
           },
           {
            "bin_start": 179208,
            "bin_end": 268812,
            "count": 0
           },
           {
            "bin_start": 268812,
            "bin_end": 358416,
            "count": 0
           },
           {
            "bin_start": 358416,
            "bin_end": 448020,
            "count": 0
           },
           {
            "bin_start": 448020,
            "bin_end": 537624,
            "count": 0
           },
           {
            "bin_start": 537624,
            "bin_end": 627228,
            "count": 0
           },
           {
            "bin_start": 627228,
            "bin_end": 716832,
            "count": 0
           },
           {
            "bin_start": 716832,
            "bin_end": 806436,
            "count": 0
           },
           {
            "bin_start": 806436,
            "bin_end": 896040,
            "count": 1
           }
          ]
         }
        },
        {
         "name": "PAY_AMT4",
         "dtype": "float64",
         "stats": {
          "unique_count": 8,
          "nan_count": 0,
          "min": "0.0",
          "max": "621000.0",
          "histogram": [
           {
            "bin_start": 0,
            "bin_end": 62100,
            "count": 7
           },
           {
            "bin_start": 62100,
            "bin_end": 124200,
            "count": 0
           },
           {
            "bin_start": 124200,
            "bin_end": 186300,
            "count": 0
           },
           {
            "bin_start": 186300,
            "bin_end": 248400,
            "count": 0
           },
           {
            "bin_start": 248400,
            "bin_end": 310500,
            "count": 0
           },
           {
            "bin_start": 310500,
            "bin_end": 372600,
            "count": 0
           },
           {
            "bin_start": 372600,
            "bin_end": 434700,
            "count": 0
           },
           {
            "bin_start": 434700,
            "bin_end": 496800,
            "count": 0
           },
           {
            "bin_start": 496800,
            "bin_end": 558900,
            "count": 0
           },
           {
            "bin_start": 558900,
            "bin_end": 621000,
            "count": 1
           }
          ]
         }
        },
        {
         "name": "PAY_AMT5",
         "dtype": "float64",
         "stats": {
          "unique_count": 8,
          "nan_count": 0,
          "min": "0.0",
          "max": "426529.0",
          "histogram": [
           {
            "bin_start": 0,
            "bin_end": 42652.9,
            "count": 7
           },
           {
            "bin_start": 42652.9,
            "bin_end": 85305.8,
            "count": 0
           },
           {
            "bin_start": 85305.8,
            "bin_end": 127958.70000000001,
            "count": 0
           },
           {
            "bin_start": 127958.70000000001,
            "bin_end": 170611.6,
            "count": 0
           },
           {
            "bin_start": 170611.6,
            "bin_end": 213264.5,
            "count": 0
           },
           {
            "bin_start": 213264.5,
            "bin_end": 255917.40000000002,
            "count": 0
           },
           {
            "bin_start": 255917.40000000002,
            "bin_end": 298570.3,
            "count": 0
           },
           {
            "bin_start": 298570.3,
            "bin_end": 341223.2,
            "count": 0
           },
           {
            "bin_start": 341223.2,
            "bin_end": 383876.10000000003,
            "count": 0
           },
           {
            "bin_start": 383876.10000000003,
            "bin_end": 426529,
            "count": 1
           }
          ]
         }
        },
        {
         "name": "PAY_AMT6",
         "dtype": "float64",
         "stats": {
          "unique_count": 8,
          "nan_count": 0,
          "min": "0.0",
          "max": "528666.0",
          "histogram": [
           {
            "bin_start": 0,
            "bin_end": 52866.6,
            "count": 7
           },
           {
            "bin_start": 52866.6,
            "bin_end": 105733.2,
            "count": 0
           },
           {
            "bin_start": 105733.2,
            "bin_end": 158599.8,
            "count": 0
           },
           {
            "bin_start": 158599.8,
            "bin_end": 211466.4,
            "count": 0
           },
           {
            "bin_start": 211466.4,
            "bin_end": 264333,
            "count": 0
           },
           {
            "bin_start": 264333,
            "bin_end": 317199.6,
            "count": 0
           },
           {
            "bin_start": 317199.6,
            "bin_end": 370066.2,
            "count": 0
           },
           {
            "bin_start": 370066.2,
            "bin_end": 422932.8,
            "count": 0
           },
           {
            "bin_start": 422932.8,
            "bin_end": 475799.39999999997,
            "count": 0
           },
           {
            "bin_start": 475799.39999999997,
            "bin_end": 528666,
            "count": 1
           }
          ]
         }
        },
        {
         "name": "default.payment.next.month",
         "dtype": "float64",
         "stats": {
          "unique_count": 5,
          "nan_count": 0,
          "min": "0.0",
          "max": "30000.0",
          "histogram": [
           {
            "bin_start": 0,
            "bin_end": 3000,
            "count": 7
           },
           {
            "bin_start": 3000,
            "bin_end": 6000,
            "count": 0
           },
           {
            "bin_start": 6000,
            "bin_end": 9000,
            "count": 0
           },
           {
            "bin_start": 9000,
            "bin_end": 12000,
            "count": 0
           },
           {
            "bin_start": 12000,
            "bin_end": 15000,
            "count": 0
           },
           {
            "bin_start": 15000,
            "bin_end": 18000,
            "count": 0
           },
           {
            "bin_start": 18000,
            "bin_end": 21000,
            "count": 0
           },
           {
            "bin_start": 21000,
            "bin_end": 24000,
            "count": 0
           },
           {
            "bin_start": 24000,
            "bin_end": 27000,
            "count": 0
           },
           {
            "bin_start": 27000,
            "bin_end": 30000,
            "count": 1
           }
          ]
         }
        },
        {
         "name": "_deepnote_index_column",
         "dtype": "object"
        }
       ],
       "rows": [
        {
         "ID": 30000,
         "LIMIT_BAL": 30000,
         "SEX": 30000,
         "EDUCATION": 30000,
         "MARRIAGE": 30000,
         "AGE": 30000,
         "PAY_0": 30000,
         "PAY_2": 30000,
         "PAY_3": 30000,
         "PAY_4": 30000,
         "PAY_5": 30000,
         "PAY_6": 30000,
         "BILL_AMT1": 30000,
         "BILL_AMT2": 30000,
         "BILL_AMT3": 30000,
         "BILL_AMT4": 30000,
         "BILL_AMT5": 30000,
         "BILL_AMT6": 30000,
         "PAY_AMT1": 30000,
         "PAY_AMT2": 30000,
         "PAY_AMT3": 30000,
         "PAY_AMT4": 30000,
         "PAY_AMT5": 30000,
         "PAY_AMT6": 30000,
         "default.payment.next.month": 30000,
         "_deepnote_index_column": "count"
        },
        {
         "ID": 15000.5,
         "LIMIT_BAL": 167484.32266666667,
         "SEX": 1.6037333333333332,
         "EDUCATION": 1.8531333333333333,
         "MARRIAGE": 1.5518666666666667,
         "AGE": 35.4855,
         "PAY_0": -0.0167,
         "PAY_2": -0.13376666666666667,
         "PAY_3": -0.1662,
         "PAY_4": -0.22066666666666668,
         "PAY_5": -0.2662,
         "PAY_6": -0.2911,
         "BILL_AMT1": 51223.3309,
         "BILL_AMT2": 49179.07516666667,
         "BILL_AMT3": 47013.1548,
         "BILL_AMT4": 43262.94896666666,
         "BILL_AMT5": 40311.40096666667,
         "BILL_AMT6": 38871.7604,
         "PAY_AMT1": 5663.5805,
         "PAY_AMT2": 5921.1635,
         "PAY_AMT3": 5225.6815,
         "PAY_AMT4": 4826.076866666666,
         "PAY_AMT5": 4799.387633333334,
         "PAY_AMT6": 5215.502566666667,
         "default.payment.next.month": 0.2212,
         "_deepnote_index_column": "mean"
        },
        {
         "ID": 8660.398374208891,
         "LIMIT_BAL": 129747.66156720239,
         "SEX": 0.48912919609026045,
         "EDUCATION": 0.7903486597207291,
         "MARRIAGE": 0.5219696006132486,
         "AGE": 9.217904068090188,
         "PAY_0": 1.1238015279973348,
         "PAY_2": 1.1971859730345533,
         "PAY_3": 1.1968675684465735,
         "PAY_4": 1.1691386224023375,
         "PAY_5": 1.1331874060027483,
         "PAY_6": 1.1499876256079027,
         "BILL_AMT1": 73635.86057552956,
         "BILL_AMT2": 71173.76878252835,
         "BILL_AMT3": 69349.38742703684,
         "BILL_AMT4": 64332.85613391631,
         "BILL_AMT5": 60797.15577026487,
         "BILL_AMT6": 59554.10753674573,
         "PAY_AMT1": 16563.280354025766,
         "PAY_AMT2": 23040.87040205724,
         "PAY_AMT3": 17606.961469803104,
         "PAY_AMT4": 15666.159744032007,
         "PAY_AMT5": 15278.305679144789,
         "PAY_AMT6": 17777.4657754353,
         "default.payment.next.month": 0.41506180569093337,
         "_deepnote_index_column": "std"
        },
        {
         "ID": 1,
         "LIMIT_BAL": 10000,
         "SEX": 1,
         "EDUCATION": 0,
         "MARRIAGE": 0,
         "AGE": 21,
         "PAY_0": -2,
         "PAY_2": -2,
         "PAY_3": -2,
         "PAY_4": -2,
         "PAY_5": -2,
         "PAY_6": -2,
         "BILL_AMT1": -165580,
         "BILL_AMT2": -69777,
         "BILL_AMT3": -157264,
         "BILL_AMT4": -170000,
         "BILL_AMT5": -81334,
         "BILL_AMT6": -339603,
         "PAY_AMT1": 0,
         "PAY_AMT2": 0,
         "PAY_AMT3": 0,
         "PAY_AMT4": 0,
         "PAY_AMT5": 0,
         "PAY_AMT6": 0,
         "default.payment.next.month": 0,
         "_deepnote_index_column": "min"
        },
        {
         "ID": 7500.75,
         "LIMIT_BAL": 50000,
         "SEX": 1,
         "EDUCATION": 1,
         "MARRIAGE": 1,
         "AGE": 28,
         "PAY_0": -1,
         "PAY_2": -1,
         "PAY_3": -1,
         "PAY_4": -1,
         "PAY_5": -1,
         "PAY_6": -1,
         "BILL_AMT1": 3558.75,
         "BILL_AMT2": 2984.75,
         "BILL_AMT3": 2666.25,
         "BILL_AMT4": 2326.75,
         "BILL_AMT5": 1763,
         "BILL_AMT6": 1256,
         "PAY_AMT1": 1000,
         "PAY_AMT2": 833,
         "PAY_AMT3": 390,
         "PAY_AMT4": 296,
         "PAY_AMT5": 252.5,
         "PAY_AMT6": 117.75,
         "default.payment.next.month": 0,
         "_deepnote_index_column": "25%"
        },
        {
         "ID": 15000.5,
         "LIMIT_BAL": 140000,
         "SEX": 2,
         "EDUCATION": 2,
         "MARRIAGE": 2,
         "AGE": 34,
         "PAY_0": 0,
         "PAY_2": 0,
         "PAY_3": 0,
         "PAY_4": 0,
         "PAY_5": 0,
         "PAY_6": 0,
         "BILL_AMT1": 22381.5,
         "BILL_AMT2": 21200,
         "BILL_AMT3": 20088.5,
         "BILL_AMT4": 19052,
         "BILL_AMT5": 18104.5,
         "BILL_AMT6": 17071,
         "PAY_AMT1": 2100,
         "PAY_AMT2": 2009,
         "PAY_AMT3": 1800,
         "PAY_AMT4": 1500,
         "PAY_AMT5": 1500,
         "PAY_AMT6": 1500,
         "default.payment.next.month": 0,
         "_deepnote_index_column": "50%"
        },
        {
         "ID": 22500.25,
         "LIMIT_BAL": 240000,
         "SEX": 2,
         "EDUCATION": 2,
         "MARRIAGE": 2,
         "AGE": 41,
         "PAY_0": 0,
         "PAY_2": 0,
         "PAY_3": 0,
         "PAY_4": 0,
         "PAY_5": 0,
         "PAY_6": 0,
         "BILL_AMT1": 67091,
         "BILL_AMT2": 64006.25,
         "BILL_AMT3": 60164.75,
         "BILL_AMT4": 54506,
         "BILL_AMT5": 50190.5,
         "BILL_AMT6": 49198.25,
         "PAY_AMT1": 5006,
         "PAY_AMT2": 5000,
         "PAY_AMT3": 4505,
         "PAY_AMT4": 4013.25,
         "PAY_AMT5": 4031.5,
         "PAY_AMT6": 4000,
         "default.payment.next.month": 0,
         "_deepnote_index_column": "75%"
        },
        {
         "ID": 30000,
         "LIMIT_BAL": 1000000,
         "SEX": 2,
         "EDUCATION": 6,
         "MARRIAGE": 3,
         "AGE": 79,
         "PAY_0": 8,
         "PAY_2": 8,
         "PAY_3": 8,
         "PAY_4": 8,
         "PAY_5": 8,
         "PAY_6": 8,
         "BILL_AMT1": 964511,
         "BILL_AMT2": 983931,
         "BILL_AMT3": 1664089,
         "BILL_AMT4": 891586,
         "BILL_AMT5": 927171,
         "BILL_AMT6": 961664,
         "PAY_AMT1": 873552,
         "PAY_AMT2": 1684259,
         "PAY_AMT3": 896040,
         "PAY_AMT4": 621000,
         "PAY_AMT5": 426529,
         "PAY_AMT6": 528666,
         "default.payment.next.month": 1,
         "_deepnote_index_column": "max"
        }
       ]
      },
      "text/plain": "                 ID       LIMIT_BAL           SEX     EDUCATION      MARRIAGE  \\\ncount  30000.000000    30000.000000  30000.000000  30000.000000  30000.000000   \nmean   15000.500000   167484.322667      1.603733      1.853133      1.551867   \nstd     8660.398374   129747.661567      0.489129      0.790349      0.521970   \nmin        1.000000    10000.000000      1.000000      0.000000      0.000000   \n25%     7500.750000    50000.000000      1.000000      1.000000      1.000000   \n50%    15000.500000   140000.000000      2.000000      2.000000      2.000000   \n75%    22500.250000   240000.000000      2.000000      2.000000      2.000000   \nmax    30000.000000  1000000.000000      2.000000      6.000000      3.000000   \n\n                AGE         PAY_0         PAY_2         PAY_3         PAY_4  \\\ncount  30000.000000  30000.000000  30000.000000  30000.000000  30000.000000   \nmean      35.485500     -0.016700     -0.133767     -0.166200     -0.220667   \nstd        9.217904      1.123802      1.197186      1.196868      1.169139   \nmin       21.000000     -2.000000     -2.000000     -2.000000     -2.000000   \n25%       28.000000     -1.000000     -1.000000     -1.000000     -1.000000   \n50%       34.000000      0.000000      0.000000      0.000000      0.000000   \n75%       41.000000      0.000000      0.000000      0.000000      0.000000   \nmax       79.000000      8.000000      8.000000      8.000000      8.000000   \n\n       ...      BILL_AMT4      BILL_AMT5      BILL_AMT6       PAY_AMT1  \\\ncount  ...   30000.000000   30000.000000   30000.000000   30000.000000   \nmean   ...   43262.948967   40311.400967   38871.760400    5663.580500   \nstd    ...   64332.856134   60797.155770   59554.107537   16563.280354   \nmin    ... -170000.000000  -81334.000000 -339603.000000       0.000000   \n25%    ...    2326.750000    1763.000000    1256.000000    1000.000000   \n50%    ...   19052.000000   18104.500000   17071.000000    2100.000000   \n75%    ...   54506.000000   50190.500000   49198.250000    5006.000000   \nmax    ...  891586.000000  927171.000000  961664.000000  873552.000000   \n\n           PAY_AMT2      PAY_AMT3       PAY_AMT4       PAY_AMT5  \\\ncount  3.000000e+04   30000.00000   30000.000000   30000.000000   \nmean   5.921163e+03    5225.68150    4826.076867    4799.387633   \nstd    2.304087e+04   17606.96147   15666.159744   15278.305679   \nmin    0.000000e+00       0.00000       0.000000       0.000000   \n25%    8.330000e+02     390.00000     296.000000     252.500000   \n50%    2.009000e+03    1800.00000    1500.000000    1500.000000   \n75%    5.000000e+03    4505.00000    4013.250000    4031.500000   \nmax    1.684259e+06  896040.00000  621000.000000  426529.000000   \n\n            PAY_AMT6  default.payment.next.month  \ncount   30000.000000                30000.000000  \nmean     5215.502567                    0.221200  \nstd     17777.465775                    0.415062  \nmin         0.000000                    0.000000  \n25%       117.750000                    0.000000  \n50%      1500.000000                    0.000000  \n75%      4000.000000                    0.000000  \nmax    528666.000000                    1.000000  \n\n[8 rows x 25 columns]",
      "text/html": "<div>\n<style scoped>\n    .dataframe tbody tr th:only-of-type {\n        vertical-align: middle;\n    }\n\n    .dataframe tbody tr th {\n        vertical-align: top;\n    }\n\n    .dataframe thead th {\n        text-align: right;\n    }\n</style>\n<table border=\"1\" class=\"dataframe\">\n  <thead>\n    <tr style=\"text-align: right;\">\n      <th></th>\n      <th>ID</th>\n      <th>LIMIT_BAL</th>\n      <th>SEX</th>\n      <th>EDUCATION</th>\n      <th>MARRIAGE</th>\n      <th>AGE</th>\n      <th>PAY_0</th>\n      <th>PAY_2</th>\n      <th>PAY_3</th>\n      <th>PAY_4</th>\n      <th>...</th>\n      <th>BILL_AMT4</th>\n      <th>BILL_AMT5</th>\n      <th>BILL_AMT6</th>\n      <th>PAY_AMT1</th>\n      <th>PAY_AMT2</th>\n      <th>PAY_AMT3</th>\n      <th>PAY_AMT4</th>\n      <th>PAY_AMT5</th>\n      <th>PAY_AMT6</th>\n      <th>default.payment.next.month</th>\n    </tr>\n  </thead>\n  <tbody>\n    <tr>\n      <th>count</th>\n      <td>30000.000000</td>\n      <td>30000.000000</td>\n      <td>30000.000000</td>\n      <td>30000.000000</td>\n      <td>30000.000000</td>\n      <td>30000.000000</td>\n      <td>30000.000000</td>\n      <td>30000.000000</td>\n      <td>30000.000000</td>\n      <td>30000.000000</td>\n      <td>...</td>\n      <td>30000.000000</td>\n      <td>30000.000000</td>\n      <td>30000.000000</td>\n      <td>30000.000000</td>\n      <td>3.000000e+04</td>\n      <td>30000.00000</td>\n      <td>30000.000000</td>\n      <td>30000.000000</td>\n      <td>30000.000000</td>\n      <td>30000.000000</td>\n    </tr>\n    <tr>\n      <th>mean</th>\n      <td>15000.500000</td>\n      <td>167484.322667</td>\n      <td>1.603733</td>\n      <td>1.853133</td>\n      <td>1.551867</td>\n      <td>35.485500</td>\n      <td>-0.016700</td>\n      <td>-0.133767</td>\n      <td>-0.166200</td>\n      <td>-0.220667</td>\n      <td>...</td>\n      <td>43262.948967</td>\n      <td>40311.400967</td>\n      <td>38871.760400</td>\n      <td>5663.580500</td>\n      <td>5.921163e+03</td>\n      <td>5225.68150</td>\n      <td>4826.076867</td>\n      <td>4799.387633</td>\n      <td>5215.502567</td>\n      <td>0.221200</td>\n    </tr>\n    <tr>\n      <th>std</th>\n      <td>8660.398374</td>\n      <td>129747.661567</td>\n      <td>0.489129</td>\n      <td>0.790349</td>\n      <td>0.521970</td>\n      <td>9.217904</td>\n      <td>1.123802</td>\n      <td>1.197186</td>\n      <td>1.196868</td>\n      <td>1.169139</td>\n      <td>...</td>\n      <td>64332.856134</td>\n      <td>60797.155770</td>\n      <td>59554.107537</td>\n      <td>16563.280354</td>\n      <td>2.304087e+04</td>\n      <td>17606.96147</td>\n      <td>15666.159744</td>\n      <td>15278.305679</td>\n      <td>17777.465775</td>\n      <td>0.415062</td>\n    </tr>\n    <tr>\n      <th>min</th>\n      <td>1.000000</td>\n      <td>10000.000000</td>\n      <td>1.000000</td>\n      <td>0.000000</td>\n      <td>0.000000</td>\n      <td>21.000000</td>\n      <td>-2.000000</td>\n      <td>-2.000000</td>\n      <td>-2.000000</td>\n      <td>-2.000000</td>\n      <td>...</td>\n      <td>-170000.000000</td>\n      <td>-81334.000000</td>\n      <td>-339603.000000</td>\n      <td>0.000000</td>\n      <td>0.000000e+00</td>\n      <td>0.00000</td>\n      <td>0.000000</td>\n      <td>0.000000</td>\n      <td>0.000000</td>\n      <td>0.000000</td>\n    </tr>\n    <tr>\n      <th>25%</th>\n      <td>7500.750000</td>\n      <td>50000.000000</td>\n      <td>1.000000</td>\n      <td>1.000000</td>\n      <td>1.000000</td>\n      <td>28.000000</td>\n      <td>-1.000000</td>\n      <td>-1.000000</td>\n      <td>-1.000000</td>\n      <td>-1.000000</td>\n      <td>...</td>\n      <td>2326.750000</td>\n      <td>1763.000000</td>\n      <td>1256.000000</td>\n      <td>1000.000000</td>\n      <td>8.330000e+02</td>\n      <td>390.00000</td>\n      <td>296.000000</td>\n      <td>252.500000</td>\n      <td>117.750000</td>\n      <td>0.000000</td>\n    </tr>\n    <tr>\n      <th>50%</th>\n      <td>15000.500000</td>\n      <td>140000.000000</td>\n      <td>2.000000</td>\n      <td>2.000000</td>\n      <td>2.000000</td>\n      <td>34.000000</td>\n      <td>0.000000</td>\n      <td>0.000000</td>\n      <td>0.000000</td>\n      <td>0.000000</td>\n      <td>...</td>\n      <td>19052.000000</td>\n      <td>18104.500000</td>\n      <td>17071.000000</td>\n      <td>2100.000000</td>\n      <td>2.009000e+03</td>\n      <td>1800.00000</td>\n      <td>1500.000000</td>\n      <td>1500.000000</td>\n      <td>1500.000000</td>\n      <td>0.000000</td>\n    </tr>\n    <tr>\n      <th>75%</th>\n      <td>22500.250000</td>\n      <td>240000.000000</td>\n      <td>2.000000</td>\n      <td>2.000000</td>\n      <td>2.000000</td>\n      <td>41.000000</td>\n      <td>0.000000</td>\n      <td>0.000000</td>\n      <td>0.000000</td>\n      <td>0.000000</td>\n      <td>...</td>\n      <td>54506.000000</td>\n      <td>50190.500000</td>\n      <td>49198.250000</td>\n      <td>5006.000000</td>\n      <td>5.000000e+03</td>\n      <td>4505.00000</td>\n      <td>4013.250000</td>\n      <td>4031.500000</td>\n      <td>4000.000000</td>\n      <td>0.000000</td>\n    </tr>\n    <tr>\n      <th>max</th>\n      <td>30000.000000</td>\n      <td>1000000.000000</td>\n      <td>2.000000</td>\n      <td>6.000000</td>\n      <td>3.000000</td>\n      <td>79.000000</td>\n      <td>8.000000</td>\n      <td>8.000000</td>\n      <td>8.000000</td>\n      <td>8.000000</td>\n      <td>...</td>\n      <td>891586.000000</td>\n      <td>927171.000000</td>\n      <td>961664.000000</td>\n      <td>873552.000000</td>\n      <td>1.684259e+06</td>\n      <td>896040.00000</td>\n      <td>621000.000000</td>\n      <td>426529.000000</td>\n      <td>528666.000000</td>\n      <td>1.000000</td>\n    </tr>\n  </tbody>\n</table>\n<p>8 rows × 25 columns</p>\n</div>"
     },
     "metadata": {}
    }
   ]
  },
  {
   "cell_type": "code",
   "metadata": {
    "colab": {
     "base_uri": "https://localhost:8080/"
    },
    "id": "lnWdXE-LMIkZ",
    "outputId": "7484a5cc-4a8f-48ac-e4a7-78029da31a6b",
    "cell_id": "00007-9ef59557-09e2-42cd-af77-29e870e76264",
    "deepnote_to_be_reexecuted": false,
    "source_hash": "c8a8c27a",
    "execution_start": 1657627662925,
    "execution_millis": 6,
    "deepnote_app_coordinates": {
     "x": 0,
     "y": 61,
     "w": 12,
     "h": 5
    },
    "deepnote_cell_type": "code",
    "deepnote_cell_height": 214.1875,
    "deepnote_output_heights": [
     117.1875
    ]
   },
   "source": "data.columns",
   "execution_count": null,
   "outputs": [
    {
     "output_type": "execute_result",
     "execution_count": 8,
     "data": {
      "text/plain": "Index(['ID', 'LIMIT_BAL', 'SEX', 'EDUCATION', 'MARRIAGE', 'AGE', 'PAY_0',\n       'PAY_2', 'PAY_3', 'PAY_4', 'PAY_5', 'PAY_6', 'BILL_AMT1', 'BILL_AMT2',\n       'BILL_AMT3', 'BILL_AMT4', 'BILL_AMT5', 'BILL_AMT6', 'PAY_AMT1',\n       'PAY_AMT2', 'PAY_AMT3', 'PAY_AMT4', 'PAY_AMT5', 'PAY_AMT6',\n       'default.payment.next.month'],\n      dtype='object')"
     },
     "metadata": {}
    }
   ]
  },
  {
   "cell_type": "code",
   "metadata": {
    "id": "B8AGw1JJLytI",
    "cell_id": "00008-8f3ba57f-a4b5-45ec-9568-38c2ff66150e",
    "deepnote_to_be_reexecuted": false,
    "source_hash": "3266f3ab",
    "execution_start": 1657627662941,
    "execution_millis": 11,
    "deepnote_app_coordinates": {
     "x": 0,
     "y": 67,
     "w": 12,
     "h": 5
    },
    "deepnote_cell_type": "code",
    "deepnote_cell_height": 81
   },
   "source": "data.rename(columns={'PAY_0':'PAY_sept','PAY_2':'PAY_aug','PAY_3':'PAY_july','PAY_4':'PAY_june','PAY_5':'PAY_may','PAY_6':'PAY_apr'},inplace=True)",
   "execution_count": null,
   "outputs": []
  },
  {
   "cell_type": "code",
   "metadata": {
    "id": "Njcj_oGIg0EY",
    "cell_id": "00009-d4d44330-26c0-45fe-886d-64ed21623b46",
    "deepnote_to_be_reexecuted": false,
    "source_hash": "992c9c06",
    "execution_start": 1657627662982,
    "execution_millis": 621837,
    "deepnote_app_coordinates": {
     "x": 0,
     "y": 73,
     "w": 12,
     "h": 5
    },
    "deepnote_cell_type": "code",
    "deepnote_cell_height": 99
   },
   "source": "data.rename(columns={'BILL_AMT1':'BILL_AMT_sept','BILL_AMT2':'BILL_AMT_aug','BILL_AMT3':'BILL_AMT_july','BILL_AMT4':'BILL_AMT_june','BILL_AMT5':'BILL_AMT_may','BILL_AMT6':'BILL_AMT_apr'}, inplace = True)\ndata.rename(columns={'PAY_AMT1':'PAY_AMT_sept','PAY_AMT2':'PAY_AMT_aug','PAY_AMT3':'PAY_AMT_july','PAY_AMT4':'PAY_AMT_june','PAY_AMT5':'PAY_AMT_may','PAY_AMT6':'PAY_apr'}, inplace = True)",
   "execution_count": null,
   "outputs": []
  },
  {
   "cell_type": "code",
   "metadata": {
    "cell_id": "97470f71f276469c8d9a8030542cfd62",
    "tags": [],
    "deepnote_to_be_reexecuted": false,
    "source_hash": "8da399e4",
    "execution_start": 1657627662982,
    "execution_millis": 621838,
    "deepnote_app_coordinates": {
     "x": 0,
     "y": 79,
     "w": 12,
     "h": 5
    },
    "deepnote_cell_type": "code",
    "deepnote_cell_height": 81
   },
   "source": "data.rename(columns={'default.payment.next.month' : 'Defaulter'}, inplace=True)",
   "execution_count": null,
   "outputs": []
  },
  {
   "cell_type": "code",
   "metadata": {
    "cell_id": "f228faec8db74357a26e944162544061",
    "tags": [],
    "deepnote_to_be_reexecuted": false,
    "source_hash": "c8a8c27a",
    "execution_start": 1657627662983,
    "execution_millis": 621837,
    "deepnote_app_coordinates": {
     "x": 0,
     "y": 85,
     "w": 12,
     "h": 5
    },
    "deepnote_cell_type": "code",
    "deepnote_cell_height": 214.1875,
    "deepnote_output_heights": [
     117.1875
    ]
   },
   "source": "data.columns",
   "execution_count": null,
   "outputs": [
    {
     "output_type": "execute_result",
     "execution_count": 12,
     "data": {
      "text/plain": "Index(['ID', 'LIMIT_BAL', 'SEX', 'EDUCATION', 'MARRIAGE', 'AGE', 'PAY_sept',\n       'PAY_aug', 'PAY_july', 'PAY_june', 'PAY_may', 'PAY_apr',\n       'BILL_AMT_sept', 'BILL_AMT_aug', 'BILL_AMT_july', 'BILL_AMT_june',\n       'BILL_AMT_may', 'BILL_AMT_apr', 'PAY_AMT_sept', 'PAY_AMT_aug',\n       'PAY_AMT_july', 'PAY_AMT_june', 'PAY_AMT_may', 'PAY_apr', 'Defaulter'],\n      dtype='object')"
     },
     "metadata": {}
    }
   ]
  },
  {
   "cell_type": "code",
   "metadata": {
    "cell_id": "59b2b673a9b24593b9acb778a9b98eca",
    "tags": [],
    "deepnote_to_be_reexecuted": false,
    "source_hash": "d0fc2601",
    "execution_start": 1657627662987,
    "execution_millis": 179,
    "deepnote_app_coordinates": {
     "x": 0,
     "y": 91,
     "w": 12,
     "h": 5
    },
    "deepnote_cell_type": "code",
    "deepnote_cell_height": 616.796875
   },
   "source": "data.corr()",
   "execution_count": null,
   "outputs": [
    {
     "output_type": "execute_result",
     "execution_count": 13,
     "data": {
      "application/vnd.deepnote.dataframe.v3+json": {
       "column_count": 25,
       "row_count": 25,
       "columns": [
        {
         "name": "ID",
         "dtype": "float64",
         "stats": {
          "unique_count": 25,
          "nan_count": 0,
          "min": "-0.030574932272971513",
          "max": "1.0",
          "histogram": [
           {
            "bin_start": -0.030574932272971513,
            "bin_end": 0.07248256095432565,
            "count": 24
           },
           {
            "bin_start": 0.07248256095432565,
            "bin_end": 0.1755400541816228,
            "count": 0
           },
           {
            "bin_start": 0.1755400541816228,
            "bin_end": 0.2785975474089199,
            "count": 0
           },
           {
            "bin_start": 0.2785975474089199,
            "bin_end": 0.3816550406362171,
            "count": 0
           },
           {
            "bin_start": 0.3816550406362171,
            "bin_end": 0.48471253386351426,
            "count": 0
           },
           {
            "bin_start": 0.48471253386351426,
            "bin_end": 0.5877700270908114,
            "count": 0
           },
           {
            "bin_start": 0.5877700270908114,
            "bin_end": 0.6908275203181086,
            "count": 0
           },
           {
            "bin_start": 0.6908275203181086,
            "bin_end": 0.7938850135454057,
            "count": 0
           },
           {
            "bin_start": 0.7938850135454057,
            "bin_end": 0.8969425067727029,
            "count": 0
           },
           {
            "bin_start": 0.8969425067727029,
            "bin_end": 1,
            "count": 1
           }
          ]
         }
        },
        {
         "name": "LIMIT_BAL",
         "dtype": "float64",
         "stats": {
          "unique_count": 25,
          "nan_count": 0,
          "min": "-0.29638210099648243",
          "max": "1.0",
          "histogram": [
           {
            "bin_start": -0.29638210099648243,
            "bin_end": -0.1667438908968342,
            "count": 7
           },
           {
            "bin_start": -0.1667438908968342,
            "bin_end": -0.03710568079718596,
            "count": 2
           },
           {
            "bin_start": -0.03710568079718596,
            "bin_end": 0.09253252930246225,
            "count": 2
           },
           {
            "bin_start": 0.09253252930246225,
            "bin_end": 0.22217073940211052,
            "count": 7
           },
           {
            "bin_start": 0.22217073940211052,
            "bin_end": 0.3518089495017588,
            "count": 6
           },
           {
            "bin_start": 0.3518089495017588,
            "bin_end": 0.48144715960140694,
            "count": 0
           },
           {
            "bin_start": 0.48144715960140694,
            "bin_end": 0.6110853697010552,
            "count": 0
           },
           {
            "bin_start": 0.6110853697010552,
            "bin_end": 0.7407235798007035,
            "count": 0
           },
           {
            "bin_start": 0.7407235798007035,
            "bin_end": 0.8703617899003517,
            "count": 0
           },
           {
            "bin_start": 0.8703617899003517,
            "bin_end": 1,
            "count": 1
           }
          ]
         }
        },
        {
         "name": "SEX",
         "dtype": "float64",
         "stats": {
          "unique_count": 25,
          "nan_count": 0,
          "min": "-0.0908736465273919",
          "max": "1.0",
          "histogram": [
           {
            "bin_start": -0.0908736465273919,
            "bin_end": 0.018213718125347292,
            "count": 22
           },
           {
            "bin_start": 0.018213718125347292,
            "bin_end": 0.1273010827780865,
            "count": 2
           },
           {
            "bin_start": 0.1273010827780865,
            "bin_end": 0.2363884474308257,
            "count": 0
           },
           {
            "bin_start": 0.2363884474308257,
            "bin_end": 0.34547581208356487,
            "count": 0
           },
           {
            "bin_start": 0.34547581208356487,
            "bin_end": 0.45456317673630403,
            "count": 0
           },
           {
            "bin_start": 0.45456317673630403,
            "bin_end": 0.5636505413890432,
            "count": 0
           },
           {
            "bin_start": 0.5636505413890432,
            "bin_end": 0.6727379060417824,
            "count": 0
           },
           {
            "bin_start": 0.6727379060417824,
            "bin_end": 0.7818252706945216,
            "count": 0
           },
           {
            "bin_start": 0.7818252706945216,
            "bin_end": 0.8909126353472607,
            "count": 0
           },
           {
            "bin_start": 0.8909126353472607,
            "bin_end": 1,
            "count": 1
           }
          ]
         }
        },
        {
         "name": "EDUCATION",
         "dtype": "float64",
         "stats": {
          "unique_count": 25,
          "nan_count": 0,
          "min": "-0.2191606982292116",
          "max": "1.0",
          "histogram": [
           {
            "bin_start": -0.2191606982292116,
            "bin_end": -0.09724462840629045,
            "count": 2
           },
           {
            "bin_start": -0.09724462840629045,
            "bin_end": 0.02467144141663072,
            "count": 13
           },
           {
            "bin_start": 0.02467144141663072,
            "bin_end": 0.1465875112395519,
            "count": 8
           },
           {
            "bin_start": 0.1465875112395519,
            "bin_end": 0.2685035810624731,
            "count": 1
           },
           {
            "bin_start": 0.2685035810624731,
            "bin_end": 0.3904196508853942,
            "count": 0
           },
           {
            "bin_start": 0.3904196508853942,
            "bin_end": 0.5123357207083155,
            "count": 0
           },
           {
            "bin_start": 0.5123357207083155,
            "bin_end": 0.6342517905312366,
            "count": 0
           },
           {
            "bin_start": 0.6342517905312366,
            "bin_end": 0.7561678603541577,
            "count": 0
           },
           {
            "bin_start": 0.7561678603541577,
            "bin_end": 0.8780839301770789,
            "count": 0
           },
           {
            "bin_start": 0.8780839301770789,
            "bin_end": 1,
            "count": 1
           }
          ]
         }
        },
        {
         "name": "MARRIAGE",
         "dtype": "float64",
         "stats": {
          "unique_count": 25,
          "nan_count": 0,
          "min": "-0.41416991848813445",
          "max": "1.0",
          "histogram": [
           {
            "bin_start": -0.41416991848813445,
            "bin_end": -0.272752926639321,
            "count": 1
           },
           {
            "bin_start": -0.272752926639321,
            "bin_end": -0.13133593479050754,
            "count": 1
           },
           {
            "bin_start": -0.13133593479050754,
            "bin_end": 0.01008105705830592,
            "count": 16
           },
           {
            "bin_start": 0.01008105705830592,
            "bin_end": 0.15149804890711938,
            "count": 6
           },
           {
            "bin_start": 0.15149804890711938,
            "bin_end": 0.2929150407559329,
            "count": 0
           },
           {
            "bin_start": 0.2929150407559329,
            "bin_end": 0.4343320326047463,
            "count": 0
           },
           {
            "bin_start": 0.4343320326047463,
            "bin_end": 0.5757490244535597,
            "count": 0
           },
           {
            "bin_start": 0.5757490244535597,
            "bin_end": 0.7171660163023732,
            "count": 0
           },
           {
            "bin_start": 0.7171660163023732,
            "bin_end": 0.8585830081511867,
            "count": 0
           },
           {
            "bin_start": 0.8585830081511867,
            "bin_end": 1,
            "count": 1
           }
          ]
         }
        },
        {
         "name": "AGE",
         "dtype": "float64",
         "stats": {
          "unique_count": 25,
          "nan_count": 0,
          "min": "-0.41416991848813445",
          "max": "1.0",
          "histogram": [
           {
            "bin_start": -0.41416991848813445,
            "bin_end": -0.272752926639321,
            "count": 1
           },
           {
            "bin_start": -0.272752926639321,
            "bin_end": -0.13133593479050754,
            "count": 0
           },
           {
            "bin_start": -0.13133593479050754,
            "bin_end": 0.01008105705830592,
            "count": 7
           },
           {
            "bin_start": 0.01008105705830592,
            "bin_end": 0.15149804890711938,
            "count": 15
           },
           {
            "bin_start": 0.15149804890711938,
            "bin_end": 0.2929150407559329,
            "count": 1
           },
           {
            "bin_start": 0.2929150407559329,
            "bin_end": 0.4343320326047463,
            "count": 0
           },
           {
            "bin_start": 0.4343320326047463,
            "bin_end": 0.5757490244535597,
            "count": 0
           },
           {
            "bin_start": 0.5757490244535597,
            "bin_end": 0.7171660163023732,
            "count": 0
           },
           {
            "bin_start": 0.7171660163023732,
            "bin_end": 0.8585830081511867,
            "count": 0
           },
           {
            "bin_start": 0.8585830081511867,
            "bin_end": 1,
            "count": 1
           }
          ]
         }
        },
        {
         "name": "PAY_sept",
         "dtype": "float64",
         "stats": {
          "unique_count": 25,
          "nan_count": 0,
          "min": "-0.2712143321347179",
          "max": "1.0",
          "histogram": [
           {
            "bin_start": -0.2712143321347179,
            "bin_end": -0.1440928989212461,
            "count": 1
           },
           {
            "bin_start": -0.1440928989212461,
            "bin_end": -0.016971465707774303,
            "count": 9
           },
           {
            "bin_start": -0.016971465707774303,
            "bin_end": 0.1101499675056975,
            "count": 2
           },
           {
            "bin_start": 0.1101499675056975,
            "bin_end": 0.2372714007191693,
            "count": 6
           },
           {
            "bin_start": 0.2372714007191693,
            "bin_end": 0.3643928339326411,
            "count": 1
           },
           {
            "bin_start": 0.3643928339326411,
            "bin_end": 0.4915142671461129,
            "count": 1
           },
           {
            "bin_start": 0.4915142671461129,
            "bin_end": 0.6186357003595847,
            "count": 3
           },
           {
            "bin_start": 0.6186357003595847,
            "bin_end": 0.7457571335730565,
            "count": 1
           },
           {
            "bin_start": 0.7457571335730565,
            "bin_end": 0.8728785667865283,
            "count": 0
           },
           {
            "bin_start": 0.8728785667865283,
            "bin_end": 1,
            "count": 1
           }
          ]
         }
        },
        {
         "name": "PAY_aug",
         "dtype": "float64",
         "stats": {
          "unique_count": 25,
          "nan_count": 0,
          "min": "-0.29638210099648243",
          "max": "1.0",
          "histogram": [
           {
            "bin_start": -0.29638210099648243,
            "bin_end": -0.1667438908968342,
            "count": 1
           },
           {
            "bin_start": -0.1667438908968342,
            "bin_end": -0.03710568079718596,
            "count": 6
           },
           {
            "bin_start": -0.03710568079718596,
            "bin_end": 0.09253252930246225,
            "count": 4
           },
           {
            "bin_start": 0.09253252930246225,
            "bin_end": 0.22217073940211052,
            "count": 3
           },
           {
            "bin_start": 0.22217073940211052,
            "bin_end": 0.3518089495017588,
            "count": 5
           },
           {
            "bin_start": 0.3518089495017588,
            "bin_end": 0.48144715960140694,
            "count": 0
           },
           {
            "bin_start": 0.48144715960140694,
            "bin_end": 0.6110853697010552,
            "count": 1
           },
           {
            "bin_start": 0.6110853697010552,
            "bin_end": 0.7407235798007035,
            "count": 3
           },
           {
            "bin_start": 0.7407235798007035,
            "bin_end": 0.8703617899003517,
            "count": 1
           },
           {
            "bin_start": 0.8703617899003517,
            "bin_end": 1,
            "count": 1
           }
          ]
         }
        },
        {
         "name": "PAY_july",
         "dtype": "float64",
         "stats": {
          "unique_count": 25,
          "nan_count": 0,
          "min": "-0.2861229539031144",
          "max": "1.0",
          "histogram": [
           {
            "bin_start": -0.2861229539031144,
            "bin_end": -0.15751065851280294,
            "count": 1
           },
           {
            "bin_start": -0.15751065851280294,
            "bin_end": -0.0288983631224915,
            "count": 7
           },
           {
            "bin_start": -0.0288983631224915,
            "bin_end": 0.09971393226781994,
            "count": 3
           },
           {
            "bin_start": 0.09971393226781994,
            "bin_end": 0.22832622765813138,
            "count": 6
           },
           {
            "bin_start": 0.22832622765813138,
            "bin_end": 0.35693852304844287,
            "count": 2
           },
           {
            "bin_start": 0.35693852304844287,
            "bin_end": 0.48555081843875425,
            "count": 0
           },
           {
            "bin_start": 0.48555081843875425,
            "bin_end": 0.6141631138290656,
            "count": 1
           },
           {
            "bin_start": 0.6141631138290656,
            "bin_end": 0.7427754092193771,
            "count": 2
           },
           {
            "bin_start": 0.7427754092193771,
            "bin_end": 0.8713877046096886,
            "count": 2
           },
           {
            "bin_start": 0.8713877046096886,
            "bin_end": 1,
            "count": 1
           }
          ]
         }
        },
        {
         "name": "PAY_june",
         "dtype": "float64",
         "stats": {
          "unique_count": 25,
          "nan_count": 0,
          "min": "-0.267460009639393",
          "max": "1.0",
          "histogram": [
           {
            "bin_start": -0.267460009639393,
            "bin_end": -0.14071400867545367,
            "count": 1
           },
           {
            "bin_start": -0.14071400867545367,
            "bin_end": -0.013968007711514352,
            "count": 6
           },
           {
            "bin_start": -0.013968007711514352,
            "bin_end": 0.11277799325242499,
            "count": 5
           },
           {
            "bin_start": 0.11277799325242499,
            "bin_end": 0.23952399421636428,
            "count": 4
           },
           {
            "bin_start": 0.23952399421636428,
            "bin_end": 0.36626999518030356,
            "count": 3
           },
           {
            "bin_start": 0.36626999518030356,
            "bin_end": 0.49301599614424296,
            "count": 0
           },
           {
            "bin_start": 0.49301599614424296,
            "bin_end": 0.6197619971081822,
            "count": 1
           },
           {
            "bin_start": 0.6197619971081822,
            "bin_end": 0.7465079980721215,
            "count": 2
           },
           {
            "bin_start": 0.7465079980721215,
            "bin_end": 0.8732539990360609,
            "count": 2
           },
           {
            "bin_start": 0.8732539990360609,
            "bin_end": 1,
            "count": 1
           }
          ]
         }
        },
        {
         "name": "PAY_may",
         "dtype": "float64",
         "stats": {
          "unique_count": 25,
          "nan_count": 0,
          "min": "-0.2494113948241093",
          "max": "1.0",
          "histogram": [
           {
            "bin_start": -0.2494113948241093,
            "bin_end": -0.12447025534169837,
            "count": 1
           },
           {
            "bin_start": -0.12447025534169837,
            "bin_end": 0.00047088414071255746,
            "count": 8
           },
           {
            "bin_start": 0.00047088414071255746,
            "bin_end": 0.12541202362312348,
            "count": 3
           },
           {
            "bin_start": 0.12541202362312348,
            "bin_end": 0.2503531631055344,
            "count": 4
           },
           {
            "bin_start": 0.2503531631055344,
            "bin_end": 0.3752943025879453,
            "count": 3
           },
           {
            "bin_start": 0.3752943025879453,
            "bin_end": 0.5002354420703563,
            "count": 0
           },
           {
            "bin_start": 0.5002354420703563,
            "bin_end": 0.6251765815527672,
            "count": 2
           },
           {
            "bin_start": 0.6251765815527672,
            "bin_end": 0.7501177210351782,
            "count": 1
           },
           {
            "bin_start": 0.7501177210351782,
            "bin_end": 0.8750588605175891,
            "count": 2
           },
           {
            "bin_start": 0.8750588605175891,
            "bin_end": 1,
            "count": 1
           }
          ]
         }
        },
        {
         "name": "PAY_apr",
         "dtype": "float64",
         "stats": {
          "unique_count": 25,
          "nan_count": 0,
          "min": "-0.23519539948542492",
          "max": "1.0",
          "histogram": [
           {
            "bin_start": -0.23519539948542492,
            "bin_end": -0.11167585953688242,
            "count": 1
           },
           {
            "bin_start": -0.11167585953688242,
            "bin_end": 0.01184368041166009,
            "count": 8
           },
           {
            "bin_start": 0.01184368041166009,
            "bin_end": 0.13536322036020262,
            "count": 3
           },
           {
            "bin_start": 0.13536322036020262,
            "bin_end": 0.25888276030874513,
            "count": 4
           },
           {
            "bin_start": 0.25888276030874513,
            "bin_end": 0.3824023002572876,
            "count": 3
           },
           {
            "bin_start": 0.3824023002572876,
            "bin_end": 0.5059218402058302,
            "count": 1
           },
           {
            "bin_start": 0.5059218402058302,
            "bin_end": 0.6294413801543727,
            "count": 1
           },
           {
            "bin_start": 0.6294413801543727,
            "bin_end": 0.7529609201029152,
            "count": 2
           },
           {
            "bin_start": 0.7529609201029152,
            "bin_end": 0.8764804600514576,
            "count": 1
           },
           {
            "bin_start": 0.8764804600514576,
            "bin_end": 1,
            "count": 1
           }
          ]
         }
        },
        {
         "name": "BILL_AMT_sept",
         "dtype": "float64",
         "stats": {
          "unique_count": 25,
          "nan_count": 0,
          "min": "-0.03364186958914916",
          "max": "1.0",
          "histogram": [
           {
            "bin_start": -0.03364186958914916,
            "bin_end": 0.06972231736976575,
            "count": 6
           },
           {
            "bin_start": 0.06972231736976575,
            "bin_end": 0.17308650432868067,
            "count": 5
           },
           {
            "bin_start": 0.17308650432868067,
            "bin_end": 0.2764506912875956,
            "count": 7
           },
           {
            "bin_start": 0.2764506912875956,
            "bin_end": 0.3798148782465105,
            "count": 1
           },
           {
            "bin_start": 0.3798148782465105,
            "bin_end": 0.4831790652054254,
            "count": 0
           },
           {
            "bin_start": 0.4831790652054254,
            "bin_end": 0.5865432521643403,
            "count": 0
           },
           {
            "bin_start": 0.5865432521643403,
            "bin_end": 0.6899074391232553,
            "count": 0
           },
           {
            "bin_start": 0.6899074391232553,
            "bin_end": 0.7932716260821702,
            "count": 0
           },
           {
            "bin_start": 0.7932716260821702,
            "bin_end": 0.8966358130410851,
            "count": 4
           },
           {
            "bin_start": 0.8966358130410851,
            "bin_end": 1,
            "count": 2
           }
          ]
         }
        },
        {
         "name": "BILL_AMT_aug",
         "dtype": "float64",
         "stats": {
          "unique_count": 25,
          "nan_count": 0,
          "min": "-0.031183472229667317",
          "max": "1.0",
          "histogram": [
           {
            "bin_start": -0.031183472229667317,
            "bin_end": 0.07193487499329941,
            "count": 6
           },
           {
            "bin_start": 0.07193487499329941,
            "bin_end": 0.17505322221626612,
            "count": 5
           },
           {
            "bin_start": 0.17505322221626612,
            "bin_end": 0.2781715694392328,
            "count": 6
           },
           {
            "bin_start": 0.2781715694392328,
            "bin_end": 0.3812899166621996,
            "count": 2
           },
           {
            "bin_start": 0.3812899166621996,
            "bin_end": 0.48440826388516633,
            "count": 0
           },
           {
            "bin_start": 0.48440826388516633,
            "bin_end": 0.587526611108133,
            "count": 0
           },
           {
            "bin_start": 0.587526611108133,
            "bin_end": 0.6906449583310997,
            "count": 0
           },
           {
            "bin_start": 0.6906449583310997,
            "bin_end": 0.7937633055540665,
            "count": 0
           },
           {
            "bin_start": 0.7937633055540665,
            "bin_end": 0.8968816527770332,
            "count": 3
           },
           {
            "bin_start": 0.8968816527770332,
            "bin_end": 1,
            "count": 3
           }
          ]
         }
        },
        {
         "name": "BILL_AMT_july",
         "dtype": "float64",
         "stats": {
          "unique_count": 25,
          "nan_count": 0,
          "min": "-0.024909451022500993",
          "max": "1.0",
          "histogram": [
           {
            "bin_start": -0.024909451022500993,
            "bin_end": 0.0775814940797491,
            "count": 6
           },
           {
            "bin_start": 0.0775814940797491,
            "bin_end": 0.1800724391819992,
            "count": 4
           },
           {
            "bin_start": 0.1800724391819992,
            "bin_end": 0.2825633842842493,
            "count": 7
           },
           {
            "bin_start": 0.2825633842842493,
            "bin_end": 0.3850543293864994,
            "count": 2
           },
           {
            "bin_start": 0.3850543293864994,
            "bin_end": 0.4875452744887495,
            "count": 0
           },
           {
            "bin_start": 0.4875452744887495,
            "bin_end": 0.5900362195909996,
            "count": 0
           },
           {
            "bin_start": 0.5900362195909996,
            "bin_end": 0.6925271646932497,
            "count": 0
           },
           {
            "bin_start": 0.6925271646932497,
            "bin_end": 0.7950181097954998,
            "count": 0
           },
           {
            "bin_start": 0.7950181097954998,
            "bin_end": 0.8975090548977499,
            "count": 3
           },
           {
            "bin_start": 0.8975090548977499,
            "bin_end": 1,
            "count": 3
           }
          ]
         }
        },
        {
         "name": "BILL_AMT_june",
         "dtype": "float64",
         "stats": {
          "unique_count": 25,
          "nan_count": 0,
          "min": "-0.023343846915375947",
          "max": "1.0",
          "histogram": [
           {
            "bin_start": -0.023343846915375947,
            "bin_end": 0.07899053777616165,
            "count": 6
           },
           {
            "bin_start": 0.07899053777616165,
            "bin_end": 0.18132492246769924,
            "count": 4
           },
           {
            "bin_start": 0.18132492246769924,
            "bin_end": 0.2836593071592368,
            "count": 7
           },
           {
            "bin_start": 0.2836593071592368,
            "bin_end": 0.3859936918507744,
            "count": 2
           },
           {
            "bin_start": 0.3859936918507744,
            "bin_end": 0.48832807654231203,
            "count": 0
           },
           {
            "bin_start": 0.48832807654231203,
            "bin_end": 0.5906624612338496,
            "count": 0
           },
           {
            "bin_start": 0.5906624612338496,
            "bin_end": 0.6929968459253872,
            "count": 0
           },
           {
            "bin_start": 0.6929968459253872,
            "bin_end": 0.7953312306169248,
            "count": 0
           },
           {
            "bin_start": 0.7953312306169248,
            "bin_end": 0.8976656153084623,
            "count": 2
           },
           {
            "bin_start": 0.8976656153084623,
            "bin_end": 1,
            "count": 4
           }
          ]
         }
        },
        {
         "name": "BILL_AMT_may",
         "dtype": "float64",
         "stats": {
          "unique_count": 25,
          "nan_count": 0,
          "min": "-0.02539339799127468",
          "max": "1.0",
          "histogram": [
           {
            "bin_start": -0.02539339799127468,
            "bin_end": 0.07714594180785278,
            "count": 6
           },
           {
            "bin_start": 0.07714594180785278,
            "bin_end": 0.17968528160698025,
            "count": 2
           },
           {
            "bin_start": 0.17968528160698025,
            "bin_end": 0.28222462140610777,
            "count": 8
           },
           {
            "bin_start": 0.28222462140610777,
            "bin_end": 0.3847639612052352,
            "count": 3
           },
           {
            "bin_start": 0.3847639612052352,
            "bin_end": 0.48730330100436264,
            "count": 0
           },
           {
            "bin_start": 0.48730330100436264,
            "bin_end": 0.5898426408034901,
            "count": 0
           },
           {
            "bin_start": 0.5898426408034901,
            "bin_end": 0.6923819806026176,
            "count": 0
           },
           {
            "bin_start": 0.6923819806026176,
            "bin_end": 0.794921320401745,
            "count": 0
           },
           {
            "bin_start": 0.794921320401745,
            "bin_end": 0.8974606602008725,
            "count": 3
           },
           {
            "bin_start": 0.8974606602008725,
            "bin_end": 1,
            "count": 3
           }
          ]
         }
        },
        {
         "name": "BILL_AMT_apr",
         "dtype": "float64",
         "stats": {
          "unique_count": 25,
          "nan_count": 0,
          "min": "-0.02120682480007915",
          "max": "1.0",
          "histogram": [
           {
            "bin_start": -0.02120682480007915,
            "bin_end": 0.08091385767992876,
            "count": 6
           },
           {
            "bin_start": 0.08091385767992876,
            "bin_end": 0.18303454015993667,
            "count": 3
           },
           {
            "bin_start": 0.18303454015993667,
            "bin_end": 0.2851552226399446,
            "count": 8
           },
           {
            "bin_start": 0.2851552226399446,
            "bin_end": 0.3872759051199525,
            "count": 2
           },
           {
            "bin_start": 0.3872759051199525,
            "bin_end": 0.48939658759996046,
            "count": 0
           },
           {
            "bin_start": 0.48939658759996046,
            "bin_end": 0.5915172700799682,
            "count": 0
           },
           {
            "bin_start": 0.5915172700799682,
            "bin_end": 0.6936379525599762,
            "count": 0
           },
           {
            "bin_start": 0.6936379525599762,
            "bin_end": 0.7957586350399841,
            "count": 0
           },
           {
            "bin_start": 0.7957586350399841,
            "bin_end": 0.8978793175199921,
            "count": 3
           },
           {
            "bin_start": 0.8978793175199921,
            "bin_end": 1,
            "count": 3
           }
          ]
         }
        },
        {
         "name": "PAY_AMT_sept",
         "dtype": "float64",
         "stats": {
          "unique_count": 25,
          "nan_count": 0,
          "min": "-0.08070070981016696",
          "max": "1.0",
          "histogram": [
           {
            "bin_start": -0.08070070981016696,
            "bin_end": 0.027369361170849732,
            "count": 12
           },
           {
            "bin_start": 0.027369361170849732,
            "bin_end": 0.13543943215186643,
            "count": 0
           },
           {
            "bin_start": 0.13543943215186643,
            "bin_end": 0.2435095031328831,
            "count": 8
           },
           {
            "bin_start": 0.2435095031328831,
            "bin_end": 0.3515795741138998,
            "count": 4
           },
           {
            "bin_start": 0.3515795741138998,
            "bin_end": 0.45964964509491646,
            "count": 0
           },
           {
            "bin_start": 0.45964964509491646,
            "bin_end": 0.5677197160759332,
            "count": 0
           },
           {
            "bin_start": 0.5677197160759332,
            "bin_end": 0.6757897870569498,
            "count": 0
           },
           {
            "bin_start": 0.6757897870569498,
            "bin_end": 0.7838598580379665,
            "count": 0
           },
           {
            "bin_start": 0.7838598580379665,
            "bin_end": 0.8919299290189833,
            "count": 0
           },
           {
            "bin_start": 0.8919299290189833,
            "bin_end": 1,
            "count": 1
           }
          ]
         }
        },
        {
         "name": "PAY_AMT_aug",
         "dtype": "float64",
         "stats": {
          "unique_count": 25,
          "nan_count": 0,
          "min": "-0.0701005211939387",
          "max": "1.0",
          "histogram": [
           {
            "bin_start": -0.0701005211939387,
            "bin_end": 0.03690953092545518,
            "count": 12
           },
           {
            "bin_start": 0.03690953092545518,
            "bin_end": 0.14391958304484906,
            "count": 2
           },
           {
            "bin_start": 0.14391958304484906,
            "bin_end": 0.25092963516424294,
            "count": 8
           },
           {
            "bin_start": 0.25092963516424294,
            "bin_end": 0.3579396872836368,
            "count": 2
           },
           {
            "bin_start": 0.3579396872836368,
            "bin_end": 0.46494973940303064,
            "count": 0
           },
           {
            "bin_start": 0.46494973940303064,
            "bin_end": 0.5719597915224246,
            "count": 0
           },
           {
            "bin_start": 0.5719597915224246,
            "bin_end": 0.6789698436418184,
            "count": 0
           },
           {
            "bin_start": 0.6789698436418184,
            "bin_end": 0.7859798957612123,
            "count": 0
           },
           {
            "bin_start": 0.7859798957612123,
            "bin_end": 0.8929899478806061,
            "count": 0
           },
           {
            "bin_start": 0.8929899478806061,
            "bin_end": 1,
            "count": 1
           }
          ]
         }
        },
        {
         "name": "PAY_AMT_july",
         "dtype": "float64",
         "stats": {
          "unique_count": 25,
          "nan_count": 0,
          "min": "-0.07056083767035479",
          "max": "1.0",
          "histogram": [
           {
            "bin_start": -0.07056083767035479,
            "bin_end": 0.0364952460966807,
            "count": 11
           },
           {
            "bin_start": 0.0364952460966807,
            "bin_end": 0.1435513298637162,
            "count": 2
           },
           {
            "bin_start": 0.1435513298637162,
            "bin_end": 0.2506074136307517,
            "count": 8
           },
           {
            "bin_start": 0.2506074136307517,
            "bin_end": 0.35766349739778713,
            "count": 3
           },
           {
            "bin_start": 0.35766349739778713,
            "bin_end": 0.4647195811648226,
            "count": 0
           },
           {
            "bin_start": 0.4647195811648226,
            "bin_end": 0.5717756649318582,
            "count": 0
           },
           {
            "bin_start": 0.5717756649318582,
            "bin_end": 0.6788317486988936,
            "count": 0
           },
           {
            "bin_start": 0.6788317486988936,
            "bin_end": 0.7858878324659291,
            "count": 0
           },
           {
            "bin_start": 0.7858878324659291,
            "bin_end": 0.8929439162329645,
            "count": 0
           },
           {
            "bin_start": 0.8929439162329645,
            "bin_end": 1,
            "count": 1
           }
          ]
         }
        },
        {
         "name": "PAY_AMT_june",
         "dtype": "float64",
         "stats": {
          "unique_count": 25,
          "nan_count": 0,
          "min": "-0.06400488888773119",
          "max": "1.0",
          "histogram": [
           {
            "bin_start": -0.06400488888773119,
            "bin_end": 0.04239560000104192,
            "count": 12
           },
           {
            "bin_start": 0.04239560000104192,
            "bin_end": 0.14879608888981505,
            "count": 3
           },
           {
            "bin_start": 0.14879608888981505,
            "bin_end": 0.2551965777785881,
            "count": 8
           },
           {
            "bin_start": 0.2551965777785881,
            "bin_end": 0.36159706666736124,
            "count": 1
           },
           {
            "bin_start": 0.36159706666736124,
            "bin_end": 0.46799755555613437,
            "count": 0
           },
           {
            "bin_start": 0.46799755555613437,
            "bin_end": 0.5743980444449075,
            "count": 0
           },
           {
            "bin_start": 0.5743980444449075,
            "bin_end": 0.6807985333336807,
            "count": 0
           },
           {
            "bin_start": 0.6807985333336807,
            "bin_end": 0.7871990222224537,
            "count": 0
           },
           {
            "bin_start": 0.7871990222224537,
            "bin_end": 0.8935995111112268,
            "count": 0
           },
           {
            "bin_start": 0.8935995111112268,
            "bin_end": 1,
            "count": 1
           }
          ]
         }
        },
        {
         "name": "PAY_AMT_may",
         "dtype": "float64",
         "stats": {
          "unique_count": 25,
          "nan_count": 0,
          "min": "-0.058189885949777295",
          "max": "1.0",
          "histogram": [
           {
            "bin_start": -0.058189885949777295,
            "bin_end": 0.04762910264520044,
            "count": 12
           },
           {
            "bin_start": 0.04762910264520044,
            "bin_end": 0.15344809124017816,
            "count": 3
           },
           {
            "bin_start": 0.15344809124017816,
            "bin_end": 0.2592670798351559,
            "count": 8
           },
           {
            "bin_start": 0.2592670798351559,
            "bin_end": 0.36508606843013364,
            "count": 1
           },
           {
            "bin_start": 0.36508606843013364,
            "bin_end": 0.4709050570251114,
            "count": 0
           },
           {
            "bin_start": 0.4709050570251114,
            "bin_end": 0.5767240456200892,
            "count": 0
           },
           {
            "bin_start": 0.5767240456200892,
            "bin_end": 0.6825430342150669,
            "count": 0
           },
           {
            "bin_start": 0.6825430342150669,
            "bin_end": 0.7883620228100446,
            "count": 0
           },
           {
            "bin_start": 0.7883620228100446,
            "bin_end": 0.8941810114050224,
            "count": 0
           },
           {
            "bin_start": 0.8941810114050224,
            "bin_end": 1,
            "count": 1
           }
          ]
         }
        },
        {
         "name": "PAY_apr.1",
         "dtype": "float64",
         "stats": {
          "unique_count": 25,
          "nan_count": 0,
          "min": "-0.058673214376070426",
          "max": "1.0",
          "histogram": [
           {
            "bin_start": -0.058673214376070426,
            "bin_end": 0.04719410706153662,
            "count": 12
           },
           {
            "bin_start": 0.04719410706153662,
            "bin_end": 0.15306142849914367,
            "count": 1
           },
           {
            "bin_start": 0.15306142849914367,
            "bin_end": 0.25892874993675075,
            "count": 11
           },
           {
            "bin_start": 0.25892874993675075,
            "bin_end": 0.36479607137435777,
            "count": 0
           },
           {
            "bin_start": 0.36479607137435777,
            "bin_end": 0.4706633928119648,
            "count": 0
           },
           {
            "bin_start": 0.4706633928119648,
            "bin_end": 0.5765307142495719,
            "count": 0
           },
           {
            "bin_start": 0.5765307142495719,
            "bin_end": 0.6823980356871789,
            "count": 0
           },
           {
            "bin_start": 0.6823980356871789,
            "bin_end": 0.788265357124786,
            "count": 0
           },
           {
            "bin_start": 0.788265357124786,
            "bin_end": 0.894132678562393,
            "count": 0
           },
           {
            "bin_start": 0.894132678562393,
            "bin_end": 1,
            "count": 1
           }
          ]
         }
        },
        {
         "name": "Defaulter",
         "dtype": "float64",
         "stats": {
          "unique_count": 25,
          "nan_count": 0,
          "min": "-0.1535198763935072",
          "max": "1.0",
          "histogram": [
           {
            "bin_start": -0.1535198763935072,
            "bin_end": -0.03816788875415647,
            "count": 8
           },
           {
            "bin_start": -0.03816788875415647,
            "bin_end": 0.07718409888519426,
            "count": 10
           },
           {
            "bin_start": 0.07718409888519426,
            "bin_end": 0.19253608652454499,
            "count": 1
           },
           {
            "bin_start": 0.19253608652454499,
            "bin_end": 0.30788807416389574,
            "count": 4
           },
           {
            "bin_start": 0.30788807416389574,
            "bin_end": 0.42324006180324647,
            "count": 1
           },
           {
            "bin_start": 0.42324006180324647,
            "bin_end": 0.5385920494425972,
            "count": 0
           },
           {
            "bin_start": 0.5385920494425972,
            "bin_end": 0.6539440370819479,
            "count": 0
           },
           {
            "bin_start": 0.6539440370819479,
            "bin_end": 0.7692960247212987,
            "count": 0
           },
           {
            "bin_start": 0.7692960247212987,
            "bin_end": 0.8846480123606494,
            "count": 0
           },
           {
            "bin_start": 0.8846480123606494,
            "bin_end": 1,
            "count": 1
           }
          ]
         }
        },
        {
         "name": "_deepnote_index_column",
         "dtype": "object"
        }
       ],
       "rows": [
        {
         "ID": 1,
         "LIMIT_BAL": 0.026179157746200676,
         "SEX": 0.018497494176208946,
         "EDUCATION": 0.03917673481156991,
         "MARRIAGE": -0.029079425318771064,
         "AGE": 0.018677734490293255,
         "PAY_sept": -0.030574932272971513,
         "PAY_aug": -0.011214868262343643,
         "PAY_july": -0.01849355375769933,
         "PAY_june": -0.0027348897819592004,
         "PAY_may": -0.022199231870021336,
         "PAY_apr": -0.020270134067212064,
         "BILL_AMT_sept": 0.019388673917611145,
         "BILL_AMT_aug": 0.017981897457701318,
         "BILL_AMT_july": 0.024354050018843155,
         "BILL_AMT_june": 0.040350602942506635,
         "BILL_AMT_may": 0.01670530315635218,
         "BILL_AMT_apr": 0.016729618316253813,
         "PAY_AMT_sept": 0.009742443464325092,
         "PAY_AMT_aug": 0.008406120336439189,
         "PAY_AMT_july": 0.03915053548888941,
         "PAY_AMT_june": 0.007793129725698235,
         "PAY_AMT_may": 0.0006521877787619749,
         "PAY_apr.1": 0.0029997807225257667,
         "Defaulter": -0.013951954838986251,
         "_deepnote_index_column": "ID"
        },
        {
         "ID": 0.026179157746200676,
         "LIMIT_BAL": 1,
         "SEX": 0.02475523511164408,
         "EDUCATION": -0.2191606982292116,
         "MARRIAGE": -0.10813941027801287,
         "AGE": 0.14471279755733674,
         "PAY_sept": -0.2712143321347179,
         "PAY_aug": -0.29638210099648243,
         "PAY_july": -0.2861229539031144,
         "PAY_june": -0.267460009639393,
         "PAY_may": -0.2494113948241093,
         "PAY_apr": -0.23519539948542492,
         "BILL_AMT_sept": 0.28542986496498995,
         "BILL_AMT_aug": 0.27831436399776105,
         "BILL_AMT_july": 0.28323578358168416,
         "BILL_AMT_june": 0.29398762371598486,
         "BILL_AMT_may": 0.29556233765823164,
         "BILL_AMT_apr": 0.29038895064794745,
         "PAY_AMT_sept": 0.1952359152322094,
         "PAY_AMT_aug": 0.17840795368370507,
         "PAY_AMT_july": 0.21016674772338803,
         "PAY_AMT_june": 0.20324241022458292,
         "PAY_AMT_may": 0.21720243239549614,
         "PAY_apr.1": 0.21959536860441753,
         "Defaulter": -0.1535198763935072,
         "_deepnote_index_column": "LIMIT_BAL"
        },
        {
         "ID": 0.018497494176208946,
         "LIMIT_BAL": 0.02475523511164408,
         "SEX": 1,
         "EDUCATION": 0.014231936162206107,
         "MARRIAGE": -0.03138884007085218,
         "AGE": -0.0908736465273919,
         "PAY_sept": -0.05764287886698678,
         "PAY_aug": -0.07077100316682232,
         "PAY_july": -0.06609605640043047,
         "PAY_june": -0.060173238366203696,
         "PAY_may": -0.055063885035226384,
         "PAY_apr": -0.044007788187657874,
         "BILL_AMT_sept": -0.03364186958914916,
         "BILL_AMT_aug": -0.031183472229667317,
         "BILL_AMT_july": -0.024563311681403167,
         "BILL_AMT_june": -0.02187967907348509,
         "BILL_AMT_may": -0.017005180187325976,
         "BILL_AMT_apr": -0.016733126348159072,
         "PAY_AMT_sept": -0.00024245456294142142,
         "PAY_AMT_aug": -0.0013909096590868529,
         "PAY_AMT_july": -0.008596624911743908,
         "PAY_AMT_june": -0.0022289715070058893,
         "PAY_AMT_may": -0.001667161800474087,
         "PAY_apr.1": -0.002766022282891727,
         "Defaulter": -0.03996057770544172,
         "_deepnote_index_column": "SEX"
        },
        {
         "ID": 0.03917673481156991,
         "LIMIT_BAL": -0.2191606982292116,
         "SEX": 0.014231936162206107,
         "EDUCATION": 1,
         "MARRIAGE": -0.14346434041144784,
         "AGE": 0.1750606614880855,
         "PAY_sept": 0.10536399793532485,
         "PAY_aug": 0.12156555247067018,
         "PAY_july": 0.1140249028571366,
         "PAY_june": 0.10879345615278765,
         "PAY_may": 0.09752016063019563,
         "PAY_apr": 0.08231598637746822,
         "BILL_AMT_sept": 0.023581180737114394,
         "BILL_AMT_aug": 0.01874877080832243,
         "BILL_AMT_july": 0.013002400711998924,
         "BILL_AMT_june": -0.0004513453087491106,
         "BILL_AMT_may": -0.007566503046841711,
         "BILL_AMT_apr": -0.009098954697455372,
         "PAY_AMT_sept": -0.03745618391311648,
         "PAY_AMT_aug": -0.030038186562838978,
         "PAY_AMT_july": -0.039943140867107346,
         "PAY_AMT_june": -0.03821816611134147,
         "PAY_AMT_may": -0.040358454928196924,
         "PAY_apr.1": -0.03719990308916937,
         "Defaulter": 0.028006077656250204,
         "_deepnote_index_column": "EDUCATION"
        },
        {
         "ID": -0.029079425318771064,
         "LIMIT_BAL": -0.10813941027801287,
         "SEX": -0.03138884007085218,
         "EDUCATION": -0.14346434041144784,
         "MARRIAGE": 1,
         "AGE": -0.41416991848813445,
         "PAY_sept": 0.019917190483426727,
         "PAY_aug": 0.02419906728119339,
         "PAY_july": 0.03268767333723676,
         "PAY_june": 0.03312154891405528,
         "PAY_may": 0.03562917036655554,
         "PAY_apr": 0.034344765997445445,
         "BILL_AMT_sept": -0.02347180191012958,
         "BILL_AMT_aug": -0.021601779859030307,
         "BILL_AMT_july": -0.024909451022500993,
         "BILL_AMT_june": -0.023343846915375947,
         "BILL_AMT_may": -0.02539339799127468,
         "BILL_AMT_apr": -0.02120682480007915,
         "PAY_AMT_sept": -0.005978999780835323,
         "PAY_AMT_aug": -0.008092702837779889,
         "PAY_AMT_july": -0.0035413519467573816,
         "PAY_AMT_june": -0.01265927889271911,
         "PAY_AMT_may": -0.0012047569155652466,
         "PAY_apr.1": -0.006640941925653474,
         "Defaulter": -0.024339215683404438,
         "_deepnote_index_column": "MARRIAGE"
        },
        {
         "ID": 0.018677734490293255,
         "LIMIT_BAL": 0.14471279755733674,
         "SEX": -0.0908736465273919,
         "EDUCATION": 0.1750606614880855,
         "MARRIAGE": -0.41416991848813445,
         "AGE": 1,
         "PAY_sept": -0.03944737618411981,
         "PAY_aug": -0.05014777620685522,
         "PAY_july": -0.05304843725816334,
         "PAY_june": -0.049721673995377226,
         "PAY_may": -0.05382597641308578,
         "PAY_apr": -0.04877342642832421,
         "BILL_AMT_sept": 0.05623853326056659,
         "BILL_AMT_aug": 0.05428307435034244,
         "BILL_AMT_july": 0.053709705178660236,
         "BILL_AMT_june": 0.051353093243321435,
         "BILL_AMT_may": 0.04934504811261178,
         "BILL_AMT_apr": 0.047612677990511255,
         "PAY_AMT_sept": 0.026146679056989194,
         "PAY_AMT_aug": 0.021784893392614194,
         "PAY_AMT_july": 0.029247353045011425,
         "PAY_AMT_june": 0.021379005615589863,
         "PAY_AMT_may": 0.02284997355855876,
         "PAY_apr.1": 0.0194781529698698,
         "Defaulter": 0.013889834301962887,
         "_deepnote_index_column": "AGE"
        },
        {
         "ID": -0.030574932272971513,
         "LIMIT_BAL": -0.2712143321347179,
         "SEX": -0.05764287886698678,
         "EDUCATION": 0.10536399793532485,
         "MARRIAGE": 0.019917190483426727,
         "AGE": -0.03944737618411981,
         "PAY_sept": 1,
         "PAY_aug": 0.6721643825483142,
         "PAY_july": 0.5742450926204379,
         "PAY_june": 0.5388406268712334,
         "PAY_may": 0.5094260636654446,
         "PAY_apr": 0.4745530860641517,
         "BILL_AMT_sept": 0.18706843147380112,
         "BILL_AMT_aug": 0.18985910889354435,
         "BILL_AMT_july": 0.17978528216681916,
         "BILL_AMT_june": 0.1791247706258787,
         "BILL_AMT_may": 0.18063462540120856,
         "BILL_AMT_apr": 0.1769802956414379,
         "PAY_AMT_sept": -0.0792687111854195,
         "PAY_AMT_aug": -0.0701005211939387,
         "PAY_AMT_july": -0.07056083767035479,
         "PAY_AMT_june": -0.06400488888773119,
         "PAY_AMT_may": -0.058189885949777295,
         "PAY_apr.1": -0.058673214376070426,
         "Defaulter": 0.32479372847862237,
         "_deepnote_index_column": "PAY_sept"
        },
        {
         "ID": -0.011214868262343643,
         "LIMIT_BAL": -0.29638210099648243,
         "SEX": -0.07077100316682232,
         "EDUCATION": 0.12156555247067018,
         "MARRIAGE": 0.02419906728119339,
         "AGE": -0.05014777620685522,
         "PAY_sept": 0.6721643825483142,
         "PAY_aug": 1,
         "PAY_july": 0.7665516829341017,
         "PAY_june": 0.6620671310239591,
         "PAY_may": 0.6227802453768703,
         "PAY_apr": 0.5755008617793054,
         "BILL_AMT_sept": 0.23488652660358378,
         "BILL_AMT_aug": 0.23525694274352654,
         "BILL_AMT_july": 0.22414585503162604,
         "BILL_AMT_june": 0.22223651161283825,
         "BILL_AMT_may": 0.22134837303342783,
         "BILL_AMT_apr": 0.2194033512866795,
         "PAY_AMT_sept": -0.08070070981016696,
         "PAY_AMT_aug": -0.05898999903461283,
         "PAY_AMT_july": -0.055901231300968315,
         "PAY_AMT_june": -0.04685841151354558,
         "PAY_AMT_may": -0.037093079770128594,
         "PAY_apr.1": -0.03650037552721859,
         "Defaulter": 0.2635512016721678,
         "_deepnote_index_column": "PAY_aug"
        },
        {
         "ID": -0.01849355375769933,
         "LIMIT_BAL": -0.2861229539031144,
         "SEX": -0.06609605640043047,
         "EDUCATION": 0.1140249028571366,
         "MARRIAGE": 0.03268767333723676,
         "AGE": -0.05304843725816334,
         "PAY_sept": 0.5742450926204379,
         "PAY_aug": 0.7665516829341017,
         "PAY_july": 1,
         "PAY_june": 0.7773588733012726,
         "PAY_may": 0.6867745109947853,
         "PAY_apr": 0.6326835927184455,
         "BILL_AMT_sept": 0.20847288868976013,
         "BILL_AMT_aug": 0.23729453440292753,
         "BILL_AMT_july": 0.2274943266955615,
         "BILL_AMT_june": 0.22720228070078952,
         "BILL_AMT_may": 0.22514519307202235,
         "BILL_AMT_apr": 0.2223267374363066,
         "PAY_AMT_sept": 0.0012948143319480216,
         "PAY_AMT_aug": -0.06679339566551329,
         "PAY_AMT_july": -0.05331077958610196,
         "PAY_AMT_june": -0.04606653388796151,
         "PAY_AMT_may": -0.03586307056136118,
         "PAY_apr.1": -0.035861083718773175,
         "Defaulter": 0.23525251372491712,
         "_deepnote_index_column": "PAY_july"
        },
        {
         "ID": -0.0027348897819592004,
         "LIMIT_BAL": -0.267460009639393,
         "SEX": -0.060173238366203696,
         "EDUCATION": 0.10879345615278765,
         "MARRIAGE": 0.03312154891405528,
         "AGE": -0.049721673995377226,
         "PAY_sept": 0.5388406268712334,
         "PAY_aug": 0.6620671310239591,
         "PAY_july": 0.7773588733012726,
         "PAY_june": 1,
         "PAY_may": 0.8198353114868158,
         "PAY_apr": 0.7164494815807845,
         "BILL_AMT_sept": 0.20281206938744922,
         "BILL_AMT_aug": 0.2258163160680882,
         "BILL_AMT_july": 0.24498313796206864,
         "BILL_AMT_june": 0.2459172041984382,
         "BILL_AMT_may": 0.24290205842488452,
         "BILL_AMT_apr": 0.2391541296058393,
         "PAY_AMT_sept": -0.009362135754402232,
         "PAY_AMT_aug": -0.001943656607903994,
         "PAY_AMT_july": -0.0692352035676869,
         "PAY_AMT_june": -0.04346142965539442,
         "PAY_AMT_may": -0.033589534748121486,
         "PAY_apr.1": -0.026565087967650867,
         "Defaulter": 0.21661363684242388,
         "_deepnote_index_column": "PAY_june"
        }
       ]
      },
      "text/plain": "                     ID  LIMIT_BAL       SEX  EDUCATION  MARRIAGE       AGE  \\\nID             1.000000   0.026179  0.018497   0.039177 -0.029079  0.018678   \nLIMIT_BAL      0.026179   1.000000  0.024755  -0.219161 -0.108139  0.144713   \nSEX            0.018497   0.024755  1.000000   0.014232 -0.031389 -0.090874   \nEDUCATION      0.039177  -0.219161  0.014232   1.000000 -0.143464  0.175061   \nMARRIAGE      -0.029079  -0.108139 -0.031389  -0.143464  1.000000 -0.414170   \nAGE            0.018678   0.144713 -0.090874   0.175061 -0.414170  1.000000   \nPAY_sept      -0.030575  -0.271214 -0.057643   0.105364  0.019917 -0.039447   \nPAY_aug       -0.011215  -0.296382 -0.070771   0.121566  0.024199 -0.050148   \nPAY_july      -0.018494  -0.286123 -0.066096   0.114025  0.032688 -0.053048   \nPAY_june      -0.002735  -0.267460 -0.060173   0.108793  0.033122 -0.049722   \nPAY_may       -0.022199  -0.249411 -0.055064   0.097520  0.035629 -0.053826   \nPAY_apr       -0.020270  -0.235195 -0.044008   0.082316  0.034345 -0.048773   \nBILL_AMT_sept  0.019389   0.285430 -0.033642   0.023581 -0.023472  0.056239   \nBILL_AMT_aug   0.017982   0.278314 -0.031183   0.018749 -0.021602  0.054283   \nBILL_AMT_july  0.024354   0.283236 -0.024563   0.013002 -0.024909  0.053710   \nBILL_AMT_june  0.040351   0.293988 -0.021880  -0.000451 -0.023344  0.051353   \nBILL_AMT_may   0.016705   0.295562 -0.017005  -0.007567 -0.025393  0.049345   \nBILL_AMT_apr   0.016730   0.290389 -0.016733  -0.009099 -0.021207  0.047613   \nPAY_AMT_sept   0.009742   0.195236 -0.000242  -0.037456 -0.005979  0.026147   \nPAY_AMT_aug    0.008406   0.178408 -0.001391  -0.030038 -0.008093  0.021785   \nPAY_AMT_july   0.039151   0.210167 -0.008597  -0.039943 -0.003541  0.029247   \nPAY_AMT_june   0.007793   0.203242 -0.002229  -0.038218 -0.012659  0.021379   \nPAY_AMT_may    0.000652   0.217202 -0.001667  -0.040358 -0.001205  0.022850   \nPAY_apr        0.003000   0.219595 -0.002766  -0.037200 -0.006641  0.019478   \nDefaulter     -0.013952  -0.153520 -0.039961   0.028006 -0.024339  0.013890   \n\n               PAY_sept   PAY_aug  PAY_july  PAY_june  ...  BILL_AMT_june  \\\nID            -0.030575 -0.011215 -0.018494 -0.002735  ...       0.040351   \nLIMIT_BAL     -0.271214 -0.296382 -0.286123 -0.267460  ...       0.293988   \nSEX           -0.057643 -0.070771 -0.066096 -0.060173  ...      -0.021880   \nEDUCATION      0.105364  0.121566  0.114025  0.108793  ...      -0.000451   \nMARRIAGE       0.019917  0.024199  0.032688  0.033122  ...      -0.023344   \nAGE           -0.039447 -0.050148 -0.053048 -0.049722  ...       0.051353   \nPAY_sept       1.000000  0.672164  0.574245  0.538841  ...       0.179125   \nPAY_aug        0.672164  1.000000  0.766552  0.662067  ...       0.222237   \nPAY_july       0.574245  0.766552  1.000000  0.777359  ...       0.227202   \nPAY_june       0.538841  0.662067  0.777359  1.000000  ...       0.245917   \nPAY_may        0.509426  0.622780  0.686775  0.819835  ...       0.271915   \nPAY_apr        0.474553  0.575501  0.632684  0.716449  ...       0.266356   \nBILL_AMT_sept  0.187068  0.234887  0.208473  0.202812  ...       0.860272   \nBILL_AMT_aug   0.189859  0.235257  0.237295  0.225816  ...       0.892482   \nBILL_AMT_july  0.179785  0.224146  0.227494  0.244983  ...       0.923969   \nBILL_AMT_june  0.179125  0.222237  0.227202  0.245917  ...       1.000000   \nBILL_AMT_may   0.180635  0.221348  0.225145  0.242902  ...       0.940134   \nBILL_AMT_apr   0.176980  0.219403  0.222327  0.239154  ...       0.900941   \nPAY_AMT_sept  -0.079269 -0.080701  0.001295 -0.009362  ...       0.233012   \nPAY_AMT_aug   -0.070101 -0.058990 -0.066793 -0.001944  ...       0.207564   \nPAY_AMT_july  -0.070561 -0.055901 -0.053311 -0.069235  ...       0.300023   \nPAY_AMT_june  -0.064005 -0.046858 -0.046067 -0.043461  ...       0.130191   \nPAY_AMT_may   -0.058190 -0.037093 -0.035863 -0.033590  ...       0.160433   \nPAY_apr       -0.058673 -0.036500 -0.035861 -0.026565  ...       0.177637   \nDefaulter      0.324794  0.263551  0.235253  0.216614  ...      -0.010156   \n\n               BILL_AMT_may  BILL_AMT_apr  PAY_AMT_sept  PAY_AMT_aug  \\\nID                 0.016705      0.016730      0.009742     0.008406   \nLIMIT_BAL          0.295562      0.290389      0.195236     0.178408   \nSEX               -0.017005     -0.016733     -0.000242    -0.001391   \nEDUCATION         -0.007567     -0.009099     -0.037456    -0.030038   \nMARRIAGE          -0.025393     -0.021207     -0.005979    -0.008093   \nAGE                0.049345      0.047613      0.026147     0.021785   \nPAY_sept           0.180635      0.176980     -0.079269    -0.070101   \nPAY_aug            0.221348      0.219403     -0.080701    -0.058990   \nPAY_july           0.225145      0.222327      0.001295    -0.066793   \nPAY_june           0.242902      0.239154     -0.009362    -0.001944   \nPAY_may            0.269783      0.262509     -0.006089    -0.003191   \nPAY_apr            0.290894      0.285091     -0.001496    -0.005223   \nBILL_AMT_sept      0.829779      0.802650      0.140277     0.099355   \nBILL_AMT_aug       0.859778      0.831594      0.280365     0.100851   \nBILL_AMT_july      0.883910      0.853320      0.244335     0.316936   \nBILL_AMT_june      0.940134      0.900941      0.233012     0.207564   \nBILL_AMT_may       1.000000      0.946197      0.217031     0.181246   \nBILL_AMT_apr       0.946197      1.000000      0.199965     0.172663   \nPAY_AMT_sept       0.217031      0.199965      1.000000     0.285576   \nPAY_AMT_aug        0.181246      0.172663      0.285576     1.000000   \nPAY_AMT_july       0.252305      0.233770      0.252191     0.244770   \nPAY_AMT_june       0.293118      0.250237      0.199558     0.180107   \nPAY_AMT_may        0.141574      0.307729      0.148459     0.180908   \nPAY_apr            0.164184      0.115494      0.185735     0.157634   \nDefaulter         -0.006760     -0.005372     -0.072929    -0.058579   \n\n               PAY_AMT_july  PAY_AMT_june  PAY_AMT_may   PAY_apr  Defaulter  \nID                 0.039151      0.007793     0.000652  0.003000  -0.013952  \nLIMIT_BAL          0.210167      0.203242     0.217202  0.219595  -0.153520  \nSEX               -0.008597     -0.002229    -0.001667 -0.002766  -0.039961  \nEDUCATION         -0.039943     -0.038218    -0.040358 -0.037200   0.028006  \nMARRIAGE          -0.003541     -0.012659    -0.001205 -0.006641  -0.024339  \nAGE                0.029247      0.021379     0.022850  0.019478   0.013890  \nPAY_sept          -0.070561     -0.064005    -0.058190 -0.058673   0.324794  \nPAY_aug           -0.055901     -0.046858    -0.037093 -0.036500   0.263551  \nPAY_july          -0.053311     -0.046067    -0.035863 -0.035861   0.235253  \nPAY_june          -0.069235     -0.043461    -0.033590 -0.026565   0.216614  \nPAY_may            0.009062     -0.058299    -0.033337 -0.023027   0.204149  \nPAY_apr            0.005834      0.019018    -0.046434 -0.025299   0.186866  \nBILL_AMT_sept      0.156887      0.158303     0.167026  0.179341  -0.019644  \nBILL_AMT_aug       0.150718      0.147398     0.157957  0.174256  -0.014193  \nBILL_AMT_july      0.130011      0.143405     0.179712  0.182326  -0.014076  \nBILL_AMT_june      0.300023      0.130191     0.160433  0.177637  -0.010156  \nBILL_AMT_may       0.252305      0.293118     0.141574  0.164184  -0.006760  \nBILL_AMT_apr       0.233770      0.250237     0.307729  0.115494  -0.005372  \nPAY_AMT_sept       0.252191      0.199558     0.148459  0.185735  -0.072929  \nPAY_AMT_aug        0.244770      0.180107     0.180908  0.157634  -0.058579  \nPAY_AMT_july       1.000000      0.216325     0.159214  0.162740  -0.056250  \nPAY_AMT_june       0.216325      1.000000     0.151830  0.157834  -0.056827  \nPAY_AMT_may        0.159214      0.151830     1.000000  0.154896  -0.055124  \nPAY_apr            0.162740      0.157834     0.154896  1.000000  -0.053183  \nDefaulter         -0.056250     -0.056827    -0.055124 -0.053183   1.000000  \n\n[25 rows x 25 columns]",
      "text/html": "<div>\n<style scoped>\n    .dataframe tbody tr th:only-of-type {\n        vertical-align: middle;\n    }\n\n    .dataframe tbody tr th {\n        vertical-align: top;\n    }\n\n    .dataframe thead th {\n        text-align: right;\n    }\n</style>\n<table border=\"1\" class=\"dataframe\">\n  <thead>\n    <tr style=\"text-align: right;\">\n      <th></th>\n      <th>ID</th>\n      <th>LIMIT_BAL</th>\n      <th>SEX</th>\n      <th>EDUCATION</th>\n      <th>MARRIAGE</th>\n      <th>AGE</th>\n      <th>PAY_sept</th>\n      <th>PAY_aug</th>\n      <th>PAY_july</th>\n      <th>PAY_june</th>\n      <th>...</th>\n      <th>BILL_AMT_june</th>\n      <th>BILL_AMT_may</th>\n      <th>BILL_AMT_apr</th>\n      <th>PAY_AMT_sept</th>\n      <th>PAY_AMT_aug</th>\n      <th>PAY_AMT_july</th>\n      <th>PAY_AMT_june</th>\n      <th>PAY_AMT_may</th>\n      <th>PAY_apr</th>\n      <th>Defaulter</th>\n    </tr>\n  </thead>\n  <tbody>\n    <tr>\n      <th>ID</th>\n      <td>1.000000</td>\n      <td>0.026179</td>\n      <td>0.018497</td>\n      <td>0.039177</td>\n      <td>-0.029079</td>\n      <td>0.018678</td>\n      <td>-0.030575</td>\n      <td>-0.011215</td>\n      <td>-0.018494</td>\n      <td>-0.002735</td>\n      <td>...</td>\n      <td>0.040351</td>\n      <td>0.016705</td>\n      <td>0.016730</td>\n      <td>0.009742</td>\n      <td>0.008406</td>\n      <td>0.039151</td>\n      <td>0.007793</td>\n      <td>0.000652</td>\n      <td>0.003000</td>\n      <td>-0.013952</td>\n    </tr>\n    <tr>\n      <th>LIMIT_BAL</th>\n      <td>0.026179</td>\n      <td>1.000000</td>\n      <td>0.024755</td>\n      <td>-0.219161</td>\n      <td>-0.108139</td>\n      <td>0.144713</td>\n      <td>-0.271214</td>\n      <td>-0.296382</td>\n      <td>-0.286123</td>\n      <td>-0.267460</td>\n      <td>...</td>\n      <td>0.293988</td>\n      <td>0.295562</td>\n      <td>0.290389</td>\n      <td>0.195236</td>\n      <td>0.178408</td>\n      <td>0.210167</td>\n      <td>0.203242</td>\n      <td>0.217202</td>\n      <td>0.219595</td>\n      <td>-0.153520</td>\n    </tr>\n    <tr>\n      <th>SEX</th>\n      <td>0.018497</td>\n      <td>0.024755</td>\n      <td>1.000000</td>\n      <td>0.014232</td>\n      <td>-0.031389</td>\n      <td>-0.090874</td>\n      <td>-0.057643</td>\n      <td>-0.070771</td>\n      <td>-0.066096</td>\n      <td>-0.060173</td>\n      <td>...</td>\n      <td>-0.021880</td>\n      <td>-0.017005</td>\n      <td>-0.016733</td>\n      <td>-0.000242</td>\n      <td>-0.001391</td>\n      <td>-0.008597</td>\n      <td>-0.002229</td>\n      <td>-0.001667</td>\n      <td>-0.002766</td>\n      <td>-0.039961</td>\n    </tr>\n    <tr>\n      <th>EDUCATION</th>\n      <td>0.039177</td>\n      <td>-0.219161</td>\n      <td>0.014232</td>\n      <td>1.000000</td>\n      <td>-0.143464</td>\n      <td>0.175061</td>\n      <td>0.105364</td>\n      <td>0.121566</td>\n      <td>0.114025</td>\n      <td>0.108793</td>\n      <td>...</td>\n      <td>-0.000451</td>\n      <td>-0.007567</td>\n      <td>-0.009099</td>\n      <td>-0.037456</td>\n      <td>-0.030038</td>\n      <td>-0.039943</td>\n      <td>-0.038218</td>\n      <td>-0.040358</td>\n      <td>-0.037200</td>\n      <td>0.028006</td>\n    </tr>\n    <tr>\n      <th>MARRIAGE</th>\n      <td>-0.029079</td>\n      <td>-0.108139</td>\n      <td>-0.031389</td>\n      <td>-0.143464</td>\n      <td>1.000000</td>\n      <td>-0.414170</td>\n      <td>0.019917</td>\n      <td>0.024199</td>\n      <td>0.032688</td>\n      <td>0.033122</td>\n      <td>...</td>\n      <td>-0.023344</td>\n      <td>-0.025393</td>\n      <td>-0.021207</td>\n      <td>-0.005979</td>\n      <td>-0.008093</td>\n      <td>-0.003541</td>\n      <td>-0.012659</td>\n      <td>-0.001205</td>\n      <td>-0.006641</td>\n      <td>-0.024339</td>\n    </tr>\n    <tr>\n      <th>AGE</th>\n      <td>0.018678</td>\n      <td>0.144713</td>\n      <td>-0.090874</td>\n      <td>0.175061</td>\n      <td>-0.414170</td>\n      <td>1.000000</td>\n      <td>-0.039447</td>\n      <td>-0.050148</td>\n      <td>-0.053048</td>\n      <td>-0.049722</td>\n      <td>...</td>\n      <td>0.051353</td>\n      <td>0.049345</td>\n      <td>0.047613</td>\n      <td>0.026147</td>\n      <td>0.021785</td>\n      <td>0.029247</td>\n      <td>0.021379</td>\n      <td>0.022850</td>\n      <td>0.019478</td>\n      <td>0.013890</td>\n    </tr>\n    <tr>\n      <th>PAY_sept</th>\n      <td>-0.030575</td>\n      <td>-0.271214</td>\n      <td>-0.057643</td>\n      <td>0.105364</td>\n      <td>0.019917</td>\n      <td>-0.039447</td>\n      <td>1.000000</td>\n      <td>0.672164</td>\n      <td>0.574245</td>\n      <td>0.538841</td>\n      <td>...</td>\n      <td>0.179125</td>\n      <td>0.180635</td>\n      <td>0.176980</td>\n      <td>-0.079269</td>\n      <td>-0.070101</td>\n      <td>-0.070561</td>\n      <td>-0.064005</td>\n      <td>-0.058190</td>\n      <td>-0.058673</td>\n      <td>0.324794</td>\n    </tr>\n    <tr>\n      <th>PAY_aug</th>\n      <td>-0.011215</td>\n      <td>-0.296382</td>\n      <td>-0.070771</td>\n      <td>0.121566</td>\n      <td>0.024199</td>\n      <td>-0.050148</td>\n      <td>0.672164</td>\n      <td>1.000000</td>\n      <td>0.766552</td>\n      <td>0.662067</td>\n      <td>...</td>\n      <td>0.222237</td>\n      <td>0.221348</td>\n      <td>0.219403</td>\n      <td>-0.080701</td>\n      <td>-0.058990</td>\n      <td>-0.055901</td>\n      <td>-0.046858</td>\n      <td>-0.037093</td>\n      <td>-0.036500</td>\n      <td>0.263551</td>\n    </tr>\n    <tr>\n      <th>PAY_july</th>\n      <td>-0.018494</td>\n      <td>-0.286123</td>\n      <td>-0.066096</td>\n      <td>0.114025</td>\n      <td>0.032688</td>\n      <td>-0.053048</td>\n      <td>0.574245</td>\n      <td>0.766552</td>\n      <td>1.000000</td>\n      <td>0.777359</td>\n      <td>...</td>\n      <td>0.227202</td>\n      <td>0.225145</td>\n      <td>0.222327</td>\n      <td>0.001295</td>\n      <td>-0.066793</td>\n      <td>-0.053311</td>\n      <td>-0.046067</td>\n      <td>-0.035863</td>\n      <td>-0.035861</td>\n      <td>0.235253</td>\n    </tr>\n    <tr>\n      <th>PAY_june</th>\n      <td>-0.002735</td>\n      <td>-0.267460</td>\n      <td>-0.060173</td>\n      <td>0.108793</td>\n      <td>0.033122</td>\n      <td>-0.049722</td>\n      <td>0.538841</td>\n      <td>0.662067</td>\n      <td>0.777359</td>\n      <td>1.000000</td>\n      <td>...</td>\n      <td>0.245917</td>\n      <td>0.242902</td>\n      <td>0.239154</td>\n      <td>-0.009362</td>\n      <td>-0.001944</td>\n      <td>-0.069235</td>\n      <td>-0.043461</td>\n      <td>-0.033590</td>\n      <td>-0.026565</td>\n      <td>0.216614</td>\n    </tr>\n    <tr>\n      <th>PAY_may</th>\n      <td>-0.022199</td>\n      <td>-0.249411</td>\n      <td>-0.055064</td>\n      <td>0.097520</td>\n      <td>0.035629</td>\n      <td>-0.053826</td>\n      <td>0.509426</td>\n      <td>0.622780</td>\n      <td>0.686775</td>\n      <td>0.819835</td>\n      <td>...</td>\n      <td>0.271915</td>\n      <td>0.269783</td>\n      <td>0.262509</td>\n      <td>-0.006089</td>\n      <td>-0.003191</td>\n      <td>0.009062</td>\n      <td>-0.058299</td>\n      <td>-0.033337</td>\n      <td>-0.023027</td>\n      <td>0.204149</td>\n    </tr>\n    <tr>\n      <th>PAY_apr</th>\n      <td>-0.020270</td>\n      <td>-0.235195</td>\n      <td>-0.044008</td>\n      <td>0.082316</td>\n      <td>0.034345</td>\n      <td>-0.048773</td>\n      <td>0.474553</td>\n      <td>0.575501</td>\n      <td>0.632684</td>\n      <td>0.716449</td>\n      <td>...</td>\n      <td>0.266356</td>\n      <td>0.290894</td>\n      <td>0.285091</td>\n      <td>-0.001496</td>\n      <td>-0.005223</td>\n      <td>0.005834</td>\n      <td>0.019018</td>\n      <td>-0.046434</td>\n      <td>-0.025299</td>\n      <td>0.186866</td>\n    </tr>\n    <tr>\n      <th>BILL_AMT_sept</th>\n      <td>0.019389</td>\n      <td>0.285430</td>\n      <td>-0.033642</td>\n      <td>0.023581</td>\n      <td>-0.023472</td>\n      <td>0.056239</td>\n      <td>0.187068</td>\n      <td>0.234887</td>\n      <td>0.208473</td>\n      <td>0.202812</td>\n      <td>...</td>\n      <td>0.860272</td>\n      <td>0.829779</td>\n      <td>0.802650</td>\n      <td>0.140277</td>\n      <td>0.099355</td>\n      <td>0.156887</td>\n      <td>0.158303</td>\n      <td>0.167026</td>\n      <td>0.179341</td>\n      <td>-0.019644</td>\n    </tr>\n    <tr>\n      <th>BILL_AMT_aug</th>\n      <td>0.017982</td>\n      <td>0.278314</td>\n      <td>-0.031183</td>\n      <td>0.018749</td>\n      <td>-0.021602</td>\n      <td>0.054283</td>\n      <td>0.189859</td>\n      <td>0.235257</td>\n      <td>0.237295</td>\n      <td>0.225816</td>\n      <td>...</td>\n      <td>0.892482</td>\n      <td>0.859778</td>\n      <td>0.831594</td>\n      <td>0.280365</td>\n      <td>0.100851</td>\n      <td>0.150718</td>\n      <td>0.147398</td>\n      <td>0.157957</td>\n      <td>0.174256</td>\n      <td>-0.014193</td>\n    </tr>\n    <tr>\n      <th>BILL_AMT_july</th>\n      <td>0.024354</td>\n      <td>0.283236</td>\n      <td>-0.024563</td>\n      <td>0.013002</td>\n      <td>-0.024909</td>\n      <td>0.053710</td>\n      <td>0.179785</td>\n      <td>0.224146</td>\n      <td>0.227494</td>\n      <td>0.244983</td>\n      <td>...</td>\n      <td>0.923969</td>\n      <td>0.883910</td>\n      <td>0.853320</td>\n      <td>0.244335</td>\n      <td>0.316936</td>\n      <td>0.130011</td>\n      <td>0.143405</td>\n      <td>0.179712</td>\n      <td>0.182326</td>\n      <td>-0.014076</td>\n    </tr>\n    <tr>\n      <th>BILL_AMT_june</th>\n      <td>0.040351</td>\n      <td>0.293988</td>\n      <td>-0.021880</td>\n      <td>-0.000451</td>\n      <td>-0.023344</td>\n      <td>0.051353</td>\n      <td>0.179125</td>\n      <td>0.222237</td>\n      <td>0.227202</td>\n      <td>0.245917</td>\n      <td>...</td>\n      <td>1.000000</td>\n      <td>0.940134</td>\n      <td>0.900941</td>\n      <td>0.233012</td>\n      <td>0.207564</td>\n      <td>0.300023</td>\n      <td>0.130191</td>\n      <td>0.160433</td>\n      <td>0.177637</td>\n      <td>-0.010156</td>\n    </tr>\n    <tr>\n      <th>BILL_AMT_may</th>\n      <td>0.016705</td>\n      <td>0.295562</td>\n      <td>-0.017005</td>\n      <td>-0.007567</td>\n      <td>-0.025393</td>\n      <td>0.049345</td>\n      <td>0.180635</td>\n      <td>0.221348</td>\n      <td>0.225145</td>\n      <td>0.242902</td>\n      <td>...</td>\n      <td>0.940134</td>\n      <td>1.000000</td>\n      <td>0.946197</td>\n      <td>0.217031</td>\n      <td>0.181246</td>\n      <td>0.252305</td>\n      <td>0.293118</td>\n      <td>0.141574</td>\n      <td>0.164184</td>\n      <td>-0.006760</td>\n    </tr>\n    <tr>\n      <th>BILL_AMT_apr</th>\n      <td>0.016730</td>\n      <td>0.290389</td>\n      <td>-0.016733</td>\n      <td>-0.009099</td>\n      <td>-0.021207</td>\n      <td>0.047613</td>\n      <td>0.176980</td>\n      <td>0.219403</td>\n      <td>0.222327</td>\n      <td>0.239154</td>\n      <td>...</td>\n      <td>0.900941</td>\n      <td>0.946197</td>\n      <td>1.000000</td>\n      <td>0.199965</td>\n      <td>0.172663</td>\n      <td>0.233770</td>\n      <td>0.250237</td>\n      <td>0.307729</td>\n      <td>0.115494</td>\n      <td>-0.005372</td>\n    </tr>\n    <tr>\n      <th>PAY_AMT_sept</th>\n      <td>0.009742</td>\n      <td>0.195236</td>\n      <td>-0.000242</td>\n      <td>-0.037456</td>\n      <td>-0.005979</td>\n      <td>0.026147</td>\n      <td>-0.079269</td>\n      <td>-0.080701</td>\n      <td>0.001295</td>\n      <td>-0.009362</td>\n      <td>...</td>\n      <td>0.233012</td>\n      <td>0.217031</td>\n      <td>0.199965</td>\n      <td>1.000000</td>\n      <td>0.285576</td>\n      <td>0.252191</td>\n      <td>0.199558</td>\n      <td>0.148459</td>\n      <td>0.185735</td>\n      <td>-0.072929</td>\n    </tr>\n    <tr>\n      <th>PAY_AMT_aug</th>\n      <td>0.008406</td>\n      <td>0.178408</td>\n      <td>-0.001391</td>\n      <td>-0.030038</td>\n      <td>-0.008093</td>\n      <td>0.021785</td>\n      <td>-0.070101</td>\n      <td>-0.058990</td>\n      <td>-0.066793</td>\n      <td>-0.001944</td>\n      <td>...</td>\n      <td>0.207564</td>\n      <td>0.181246</td>\n      <td>0.172663</td>\n      <td>0.285576</td>\n      <td>1.000000</td>\n      <td>0.244770</td>\n      <td>0.180107</td>\n      <td>0.180908</td>\n      <td>0.157634</td>\n      <td>-0.058579</td>\n    </tr>\n    <tr>\n      <th>PAY_AMT_july</th>\n      <td>0.039151</td>\n      <td>0.210167</td>\n      <td>-0.008597</td>\n      <td>-0.039943</td>\n      <td>-0.003541</td>\n      <td>0.029247</td>\n      <td>-0.070561</td>\n      <td>-0.055901</td>\n      <td>-0.053311</td>\n      <td>-0.069235</td>\n      <td>...</td>\n      <td>0.300023</td>\n      <td>0.252305</td>\n      <td>0.233770</td>\n      <td>0.252191</td>\n      <td>0.244770</td>\n      <td>1.000000</td>\n      <td>0.216325</td>\n      <td>0.159214</td>\n      <td>0.162740</td>\n      <td>-0.056250</td>\n    </tr>\n    <tr>\n      <th>PAY_AMT_june</th>\n      <td>0.007793</td>\n      <td>0.203242</td>\n      <td>-0.002229</td>\n      <td>-0.038218</td>\n      <td>-0.012659</td>\n      <td>0.021379</td>\n      <td>-0.064005</td>\n      <td>-0.046858</td>\n      <td>-0.046067</td>\n      <td>-0.043461</td>\n      <td>...</td>\n      <td>0.130191</td>\n      <td>0.293118</td>\n      <td>0.250237</td>\n      <td>0.199558</td>\n      <td>0.180107</td>\n      <td>0.216325</td>\n      <td>1.000000</td>\n      <td>0.151830</td>\n      <td>0.157834</td>\n      <td>-0.056827</td>\n    </tr>\n    <tr>\n      <th>PAY_AMT_may</th>\n      <td>0.000652</td>\n      <td>0.217202</td>\n      <td>-0.001667</td>\n      <td>-0.040358</td>\n      <td>-0.001205</td>\n      <td>0.022850</td>\n      <td>-0.058190</td>\n      <td>-0.037093</td>\n      <td>-0.035863</td>\n      <td>-0.033590</td>\n      <td>...</td>\n      <td>0.160433</td>\n      <td>0.141574</td>\n      <td>0.307729</td>\n      <td>0.148459</td>\n      <td>0.180908</td>\n      <td>0.159214</td>\n      <td>0.151830</td>\n      <td>1.000000</td>\n      <td>0.154896</td>\n      <td>-0.055124</td>\n    </tr>\n    <tr>\n      <th>PAY_apr</th>\n      <td>0.003000</td>\n      <td>0.219595</td>\n      <td>-0.002766</td>\n      <td>-0.037200</td>\n      <td>-0.006641</td>\n      <td>0.019478</td>\n      <td>-0.058673</td>\n      <td>-0.036500</td>\n      <td>-0.035861</td>\n      <td>-0.026565</td>\n      <td>...</td>\n      <td>0.177637</td>\n      <td>0.164184</td>\n      <td>0.115494</td>\n      <td>0.185735</td>\n      <td>0.157634</td>\n      <td>0.162740</td>\n      <td>0.157834</td>\n      <td>0.154896</td>\n      <td>1.000000</td>\n      <td>-0.053183</td>\n    </tr>\n    <tr>\n      <th>Defaulter</th>\n      <td>-0.013952</td>\n      <td>-0.153520</td>\n      <td>-0.039961</td>\n      <td>0.028006</td>\n      <td>-0.024339</td>\n      <td>0.013890</td>\n      <td>0.324794</td>\n      <td>0.263551</td>\n      <td>0.235253</td>\n      <td>0.216614</td>\n      <td>...</td>\n      <td>-0.010156</td>\n      <td>-0.006760</td>\n      <td>-0.005372</td>\n      <td>-0.072929</td>\n      <td>-0.058579</td>\n      <td>-0.056250</td>\n      <td>-0.056827</td>\n      <td>-0.055124</td>\n      <td>-0.053183</td>\n      <td>1.000000</td>\n    </tr>\n  </tbody>\n</table>\n<p>25 rows × 25 columns</p>\n</div>"
     },
     "metadata": {}
    }
   ]
  },
  {
   "cell_type": "markdown",
   "source": "## EDA",
   "metadata": {
    "formattedRanges": [],
    "cell_id": "9c18bffb4a9e44de9b36f18939d9322e",
    "tags": [],
    "is_collapsed": false,
    "deepnote_app_coordinates": {
     "x": 0,
     "y": 97,
     "w": 12,
     "h": 5
    },
    "deepnote_cell_type": "text-cell-h2"
   }
  },
  {
   "cell_type": "markdown",
   "source": "identify outlier",
   "metadata": {
    "formattedRanges": [],
    "cell_id": "817d2df8acd8498ab262e68ad78c8702",
    "tags": [],
    "is_collapsed": false,
    "deepnote_app_coordinates": {
     "x": 0,
     "y": 103,
     "w": 8,
     "h": 2
    },
    "deepnote_cell_type": "text-cell-p"
   }
  },
  {
   "cell_type": "code",
   "metadata": {
    "cell_id": "57d4796174a744cd93939a908a202b85",
    "tags": [],
    "deepnote_to_be_reexecuted": false,
    "source_hash": "712ce087",
    "execution_start": 1657627663164,
    "execution_millis": 275,
    "deepnote_app_coordinates": {
     "x": 0,
     "y": 106,
     "w": 12,
     "h": 5
    },
    "deepnote_cell_type": "code",
    "deepnote_cell_height": 434,
    "deepnote_output_heights": [
     265
    ]
   },
   "source": "# use histogram to view the distribution of credit limit\nplt.hist(data[\"LIMIT_BAL\"])\nplt.xlabel('Credit_Limit is NT$', fontweight = 'bold')\nplt.ylabel('# of customers', fontweight='bold')\nplt.show() ",
   "execution_count": null,
   "outputs": [
    {
     "data": {
      "text/plain": "<Figure size 432x288 with 1 Axes>",
      "image/png": "[encoded data removed]"
     },
     "metadata": {
      "needs_background": "light",
      "image/png": {
       "width": 401,
       "height": 263
      }
     },
     "output_type": "display_data"
    }
   ]
  },
  {
   "cell_type": "code",
   "metadata": {
    "cell_id": "59299e9ebd404977abd2abb007eb7898",
    "tags": [],
    "deepnote_to_be_reexecuted": false,
    "source_hash": "3238dd8b",
    "execution_start": 1657627663444,
    "execution_millis": 225,
    "deepnote_app_coordinates": {
     "x": 0,
     "y": 112,
     "w": 12,
     "h": 5
    },
    "deepnote_cell_type": "code",
    "deepnote_cell_height": 445,
    "deepnote_output_heights": [
     276
    ]
   },
   "source": "#use boxplot to identify any outlier in credit limit\ndata[\"LIMIT_BAL\"].plot(kind=\"box\")\nplt.xlabel('Credit limit in NT$',fontweight='bold')\nplt.ylabel('# of customers', fontweight='bold')\nplt.show()",
   "execution_count": null,
   "outputs": [
    {
     "data": {
      "text/plain": "<Figure size 432x288 with 1 Axes>",
      "image/png": "[encoded data removed]"
     },
     "metadata": {
      "needs_background": "light",
      "image/png": {
       "width": 386,
       "height": 274
      }
     },
     "output_type": "display_data"
    }
   ]
  },
  {
   "cell_type": "code",
   "metadata": {
    "cell_id": "2388b0cfab364c50a9d9cf36b9284c12",
    "tags": [],
    "deepnote_to_be_reexecuted": false,
    "source_hash": "e2d8e6d",
    "execution_start": 1657627663674,
    "execution_millis": 88,
    "deepnote_app_coordinates": {
     "x": 0,
     "y": 118,
     "w": 12,
     "h": 5
    },
    "deepnote_cell_type": "code",
    "deepnote_cell_height": 301.796875
   },
   "source": "# The observations from other columns indicate that this was just a customer who has an excellent payment history\n# Therefore it should be considered as a valid data\noutlier=data.loc[data['LIMIT_BAL']>800000]\noutlier",
   "execution_count": null,
   "outputs": [
    {
     "output_type": "execute_result",
     "execution_count": 16,
     "data": {
      "application/vnd.deepnote.dataframe.v3+json": {
       "column_count": 25,
       "row_count": 1,
       "columns": [
        {
         "name": "ID",
         "dtype": "int64",
         "stats": {
          "unique_count": 1,
          "nan_count": 0,
          "min": "2198",
          "max": "2198",
          "histogram": [
           {
            "bin_start": 2197.5,
            "bin_end": 2197.6,
            "count": 0
           },
           {
            "bin_start": 2197.6,
            "bin_end": 2197.7,
            "count": 0
           },
           {
            "bin_start": 2197.7,
            "bin_end": 2197.8,
            "count": 0
           },
           {
            "bin_start": 2197.8,
            "bin_end": 2197.9,
            "count": 0
           },
           {
            "bin_start": 2197.9,
            "bin_end": 2198,
            "count": 0
           },
           {
            "bin_start": 2198,
            "bin_end": 2198.1,
            "count": 1
           },
           {
            "bin_start": 2198.1,
            "bin_end": 2198.2,
            "count": 0
           },
           {
            "bin_start": 2198.2,
            "bin_end": 2198.3,
            "count": 0
           },
           {
            "bin_start": 2198.3,
            "bin_end": 2198.4,
            "count": 0
           },
           {
            "bin_start": 2198.4,
            "bin_end": 2198.5,
            "count": 0
           }
          ]
         }
        },
        {
         "name": "LIMIT_BAL",
         "dtype": "float64",
         "stats": {
          "unique_count": 1,
          "nan_count": 0,
          "min": "1000000.0",
          "max": "1000000.0",
          "histogram": [
           {
            "bin_start": 999999.5,
            "bin_end": 999999.6,
            "count": 0
           },
           {
            "bin_start": 999999.6,
            "bin_end": 999999.7,
            "count": 0
           },
           {
            "bin_start": 999999.7,
            "bin_end": 999999.8,
            "count": 0
           },
           {
            "bin_start": 999999.8,
            "bin_end": 999999.9,
            "count": 0
           },
           {
            "bin_start": 999999.9,
            "bin_end": 1000000,
            "count": 0
           },
           {
            "bin_start": 1000000,
            "bin_end": 1000000.1,
            "count": 1
           },
           {
            "bin_start": 1000000.1,
            "bin_end": 1000000.2,
            "count": 0
           },
           {
            "bin_start": 1000000.2,
            "bin_end": 1000000.3,
            "count": 0
           },
           {
            "bin_start": 1000000.3,
            "bin_end": 1000000.4,
            "count": 0
           },
           {
            "bin_start": 1000000.4,
            "bin_end": 1000000.5,
            "count": 0
           }
          ]
         }
        },
        {
         "name": "SEX",
         "dtype": "int64",
         "stats": {
          "unique_count": 1,
          "nan_count": 0,
          "min": "2",
          "max": "2",
          "histogram": [
           {
            "bin_start": 1.5,
            "bin_end": 1.6,
            "count": 0
           },
           {
            "bin_start": 1.6,
            "bin_end": 1.7,
            "count": 0
           },
           {
            "bin_start": 1.7,
            "bin_end": 1.8,
            "count": 0
           },
           {
            "bin_start": 1.8,
            "bin_end": 1.9,
            "count": 0
           },
           {
            "bin_start": 1.9,
            "bin_end": 2,
            "count": 0
           },
           {
            "bin_start": 2,
            "bin_end": 2.1,
            "count": 1
           },
           {
            "bin_start": 2.1,
            "bin_end": 2.2,
            "count": 0
           },
           {
            "bin_start": 2.2,
            "bin_end": 2.3,
            "count": 0
           },
           {
            "bin_start": 2.3,
            "bin_end": 2.4,
            "count": 0
           },
           {
            "bin_start": 2.4,
            "bin_end": 2.5,
            "count": 0
           }
          ]
         }
        },
        {
         "name": "EDUCATION",
         "dtype": "int64",
         "stats": {
          "unique_count": 1,
          "nan_count": 0,
          "min": "1",
          "max": "1",
          "histogram": [
           {
            "bin_start": 0.5,
            "bin_end": 0.6,
            "count": 0
           },
           {
            "bin_start": 0.6,
            "bin_end": 0.7,
            "count": 0
           },
           {
            "bin_start": 0.7,
            "bin_end": 0.8,
            "count": 0
           },
           {
            "bin_start": 0.8,
            "bin_end": 0.9,
            "count": 0
           },
           {
            "bin_start": 0.9,
            "bin_end": 1,
            "count": 0
           },
           {
            "bin_start": 1,
            "bin_end": 1.1,
            "count": 1
           },
           {
            "bin_start": 1.1,
            "bin_end": 1.2000000000000002,
            "count": 0
           },
           {
            "bin_start": 1.2000000000000002,
            "bin_end": 1.3,
            "count": 0
           },
           {
            "bin_start": 1.3,
            "bin_end": 1.4,
            "count": 0
           },
           {
            "bin_start": 1.4,
            "bin_end": 1.5,
            "count": 0
           }
          ]
         }
        },
        {
         "name": "MARRIAGE",
         "dtype": "int64",
         "stats": {
          "unique_count": 1,
          "nan_count": 0,
          "min": "1",
          "max": "1",
          "histogram": [
           {
            "bin_start": 0.5,
            "bin_end": 0.6,
            "count": 0
           },
           {
            "bin_start": 0.6,
            "bin_end": 0.7,
            "count": 0
           },
           {
            "bin_start": 0.7,
            "bin_end": 0.8,
            "count": 0
           },
           {
            "bin_start": 0.8,
            "bin_end": 0.9,
            "count": 0
           },
           {
            "bin_start": 0.9,
            "bin_end": 1,
            "count": 0
           },
           {
            "bin_start": 1,
            "bin_end": 1.1,
            "count": 1
           },
           {
            "bin_start": 1.1,
            "bin_end": 1.2000000000000002,
            "count": 0
           },
           {
            "bin_start": 1.2000000000000002,
            "bin_end": 1.3,
            "count": 0
           },
           {
            "bin_start": 1.3,
            "bin_end": 1.4,
            "count": 0
           },
           {
            "bin_start": 1.4,
            "bin_end": 1.5,
            "count": 0
           }
          ]
         }
        },
        {
         "name": "AGE",
         "dtype": "int64",
         "stats": {
          "unique_count": 1,
          "nan_count": 0,
          "min": "47",
          "max": "47",
          "histogram": [
           {
            "bin_start": 46.5,
            "bin_end": 46.6,
            "count": 0
           },
           {
            "bin_start": 46.6,
            "bin_end": 46.7,
            "count": 0
           },
           {
            "bin_start": 46.7,
            "bin_end": 46.8,
            "count": 0
           },
           {
            "bin_start": 46.8,
            "bin_end": 46.9,
            "count": 0
           },
           {
            "bin_start": 46.9,
            "bin_end": 47,
            "count": 0
           },
           {
            "bin_start": 47,
            "bin_end": 47.1,
            "count": 1
           },
           {
            "bin_start": 47.1,
            "bin_end": 47.2,
            "count": 0
           },
           {
            "bin_start": 47.2,
            "bin_end": 47.3,
            "count": 0
           },
           {
            "bin_start": 47.3,
            "bin_end": 47.4,
            "count": 0
           },
           {
            "bin_start": 47.4,
            "bin_end": 47.5,
            "count": 0
           }
          ]
         }
        },
        {
         "name": "PAY_sept",
         "dtype": "int64",
         "stats": {
          "unique_count": 1,
          "nan_count": 0,
          "min": "0",
          "max": "0",
          "histogram": [
           {
            "bin_start": -0.5,
            "bin_end": -0.4,
            "count": 0
           },
           {
            "bin_start": -0.4,
            "bin_end": -0.3,
            "count": 0
           },
           {
            "bin_start": -0.3,
            "bin_end": -0.19999999999999996,
            "count": 0
           },
           {
            "bin_start": -0.19999999999999996,
            "bin_end": -0.09999999999999998,
            "count": 0
           },
           {
            "bin_start": -0.09999999999999998,
            "bin_end": 0,
            "count": 0
           },
           {
            "bin_start": 0,
            "bin_end": 0.10000000000000009,
            "count": 1
           },
           {
            "bin_start": 0.10000000000000009,
            "bin_end": 0.20000000000000007,
            "count": 0
           },
           {
            "bin_start": 0.20000000000000007,
            "bin_end": 0.30000000000000004,
            "count": 0
           },
           {
            "bin_start": 0.30000000000000004,
            "bin_end": 0.4,
            "count": 0
           },
           {
            "bin_start": 0.4,
            "bin_end": 0.5,
            "count": 0
           }
          ]
         }
        },
        {
         "name": "PAY_aug",
         "dtype": "int64",
         "stats": {
          "unique_count": 1,
          "nan_count": 0,
          "min": "0",
          "max": "0",
          "histogram": [
           {
            "bin_start": -0.5,
            "bin_end": -0.4,
            "count": 0
           },
           {
            "bin_start": -0.4,
            "bin_end": -0.3,
            "count": 0
           },
           {
            "bin_start": -0.3,
            "bin_end": -0.19999999999999996,
            "count": 0
           },
           {
            "bin_start": -0.19999999999999996,
            "bin_end": -0.09999999999999998,
            "count": 0
           },
           {
            "bin_start": -0.09999999999999998,
            "bin_end": 0,
            "count": 0
           },
           {
            "bin_start": 0,
            "bin_end": 0.10000000000000009,
            "count": 1
           },
           {
            "bin_start": 0.10000000000000009,
            "bin_end": 0.20000000000000007,
            "count": 0
           },
           {
            "bin_start": 0.20000000000000007,
            "bin_end": 0.30000000000000004,
            "count": 0
           },
           {
            "bin_start": 0.30000000000000004,
            "bin_end": 0.4,
            "count": 0
           },
           {
            "bin_start": 0.4,
            "bin_end": 0.5,
            "count": 0
           }
          ]
         }
        },
        {
         "name": "PAY_july",
         "dtype": "int64",
         "stats": {
          "unique_count": 1,
          "nan_count": 0,
          "min": "0",
          "max": "0",
          "histogram": [
           {
            "bin_start": -0.5,
            "bin_end": -0.4,
            "count": 0
           },
           {
            "bin_start": -0.4,
            "bin_end": -0.3,
            "count": 0
           },
           {
            "bin_start": -0.3,
            "bin_end": -0.19999999999999996,
            "count": 0
           },
           {
            "bin_start": -0.19999999999999996,
            "bin_end": -0.09999999999999998,
            "count": 0
           },
           {
            "bin_start": -0.09999999999999998,
            "bin_end": 0,
            "count": 0
           },
           {
            "bin_start": 0,
            "bin_end": 0.10000000000000009,
            "count": 1
           },
           {
            "bin_start": 0.10000000000000009,
            "bin_end": 0.20000000000000007,
            "count": 0
           },
           {
            "bin_start": 0.20000000000000007,
            "bin_end": 0.30000000000000004,
            "count": 0
           },
           {
            "bin_start": 0.30000000000000004,
            "bin_end": 0.4,
            "count": 0
           },
           {
            "bin_start": 0.4,
            "bin_end": 0.5,
            "count": 0
           }
          ]
         }
        },
        {
         "name": "PAY_june",
         "dtype": "int64",
         "stats": {
          "unique_count": 1,
          "nan_count": 0,
          "min": "-1",
          "max": "-1",
          "histogram": [
           {
            "bin_start": -1.5,
            "bin_end": -1.4,
            "count": 0
           },
           {
            "bin_start": -1.4,
            "bin_end": -1.3,
            "count": 0
           },
           {
            "bin_start": -1.3,
            "bin_end": -1.2,
            "count": 0
           },
           {
            "bin_start": -1.2,
            "bin_end": -1.1,
            "count": 0
           },
           {
            "bin_start": -1.1,
            "bin_end": -1,
            "count": 0
           },
           {
            "bin_start": -1,
            "bin_end": -0.8999999999999999,
            "count": 1
           },
           {
            "bin_start": -0.8999999999999999,
            "bin_end": -0.7999999999999999,
            "count": 0
           },
           {
            "bin_start": -0.7999999999999999,
            "bin_end": -0.7,
            "count": 0
           },
           {
            "bin_start": -0.7,
            "bin_end": -0.6,
            "count": 0
           },
           {
            "bin_start": -0.6,
            "bin_end": -0.5,
            "count": 0
           }
          ]
         }
        },
        {
         "name": "PAY_may",
         "dtype": "int64",
         "stats": {
          "unique_count": 1,
          "nan_count": 0,
          "min": "0",
          "max": "0",
          "histogram": [
           {
            "bin_start": -0.5,
            "bin_end": -0.4,
            "count": 0
           },
           {
            "bin_start": -0.4,
            "bin_end": -0.3,
            "count": 0
           },
           {
            "bin_start": -0.3,
            "bin_end": -0.19999999999999996,
            "count": 0
           },
           {
            "bin_start": -0.19999999999999996,
            "bin_end": -0.09999999999999998,
            "count": 0
           },
           {
            "bin_start": -0.09999999999999998,
            "bin_end": 0,
            "count": 0
           },
           {
            "bin_start": 0,
            "bin_end": 0.10000000000000009,
            "count": 1
           },
           {
            "bin_start": 0.10000000000000009,
            "bin_end": 0.20000000000000007,
            "count": 0
           },
           {
            "bin_start": 0.20000000000000007,
            "bin_end": 0.30000000000000004,
            "count": 0
           },
           {
            "bin_start": 0.30000000000000004,
            "bin_end": 0.4,
            "count": 0
           },
           {
            "bin_start": 0.4,
            "bin_end": 0.5,
            "count": 0
           }
          ]
         }
        },
        {
         "name": "PAY_apr",
         "dtype": "int64",
         "stats": {
          "unique_count": 1,
          "nan_count": 0,
          "min": "0",
          "max": "0",
          "histogram": [
           {
            "bin_start": -0.5,
            "bin_end": -0.4,
            "count": 0
           },
           {
            "bin_start": -0.4,
            "bin_end": -0.3,
            "count": 0
           },
           {
            "bin_start": -0.3,
            "bin_end": -0.19999999999999996,
            "count": 0
           },
           {
            "bin_start": -0.19999999999999996,
            "bin_end": -0.09999999999999998,
            "count": 0
           },
           {
            "bin_start": -0.09999999999999998,
            "bin_end": 0,
            "count": 0
           },
           {
            "bin_start": 0,
            "bin_end": 0.10000000000000009,
            "count": 1
           },
           {
            "bin_start": 0.10000000000000009,
            "bin_end": 0.20000000000000007,
            "count": 0
           },
           {
            "bin_start": 0.20000000000000007,
            "bin_end": 0.30000000000000004,
            "count": 0
           },
           {
            "bin_start": 0.30000000000000004,
            "bin_end": 0.4,
            "count": 0
           },
           {
            "bin_start": 0.4,
            "bin_end": 0.5,
            "count": 0
           }
          ]
         }
        },
        {
         "name": "BILL_AMT_sept",
         "dtype": "float64",
         "stats": {
          "unique_count": 1,
          "nan_count": 0,
          "min": "964511.0",
          "max": "964511.0",
          "histogram": [
           {
            "bin_start": 964510.5,
            "bin_end": 964510.6,
            "count": 0
           },
           {
            "bin_start": 964510.6,
            "bin_end": 964510.7,
            "count": 0
           },
           {
            "bin_start": 964510.7,
            "bin_end": 964510.8,
            "count": 0
           },
           {
            "bin_start": 964510.8,
            "bin_end": 964510.9,
            "count": 0
           },
           {
            "bin_start": 964510.9,
            "bin_end": 964511,
            "count": 0
           },
           {
            "bin_start": 964511,
            "bin_end": 964511.1,
            "count": 1
           },
           {
            "bin_start": 964511.1,
            "bin_end": 964511.2,
            "count": 0
           },
           {
            "bin_start": 964511.2,
            "bin_end": 964511.3,
            "count": 0
           },
           {
            "bin_start": 964511.3,
            "bin_end": 964511.4,
            "count": 0
           },
           {
            "bin_start": 964511.4,
            "bin_end": 964511.5,
            "count": 0
           }
          ]
         }
        },
        {
         "name": "BILL_AMT_aug",
         "dtype": "float64",
         "stats": {
          "unique_count": 1,
          "nan_count": 0,
          "min": "983931.0",
          "max": "983931.0",
          "histogram": [
           {
            "bin_start": 983930.5,
            "bin_end": 983930.6,
            "count": 0
           },
           {
            "bin_start": 983930.6,
            "bin_end": 983930.7,
            "count": 0
           },
           {
            "bin_start": 983930.7,
            "bin_end": 983930.8,
            "count": 0
           },
           {
            "bin_start": 983930.8,
            "bin_end": 983930.9,
            "count": 0
           },
           {
            "bin_start": 983930.9,
            "bin_end": 983931,
            "count": 0
           },
           {
            "bin_start": 983931,
            "bin_end": 983931.1,
            "count": 1
           },
           {
            "bin_start": 983931.1,
            "bin_end": 983931.2,
            "count": 0
           },
           {
            "bin_start": 983931.2,
            "bin_end": 983931.3,
            "count": 0
           },
           {
            "bin_start": 983931.3,
            "bin_end": 983931.4,
            "count": 0
           },
           {
            "bin_start": 983931.4,
            "bin_end": 983931.5,
            "count": 0
           }
          ]
         }
        },
        {
         "name": "BILL_AMT_july",
         "dtype": "float64",
         "stats": {
          "unique_count": 1,
          "nan_count": 0,
          "min": "535020.0",
          "max": "535020.0",
          "histogram": [
           {
            "bin_start": 535019.5,
            "bin_end": 535019.6,
            "count": 0
           },
           {
            "bin_start": 535019.6,
            "bin_end": 535019.7,
            "count": 0
           },
           {
            "bin_start": 535019.7,
            "bin_end": 535019.8,
            "count": 0
           },
           {
            "bin_start": 535019.8,
            "bin_end": 535019.9,
            "count": 0
           },
           {
            "bin_start": 535019.9,
            "bin_end": 535020,
            "count": 0
           },
           {
            "bin_start": 535020,
            "bin_end": 535020.1,
            "count": 1
           },
           {
            "bin_start": 535020.1,
            "bin_end": 535020.2,
            "count": 0
           },
           {
            "bin_start": 535020.2,
            "bin_end": 535020.3,
            "count": 0
           },
           {
            "bin_start": 535020.3,
            "bin_end": 535020.4,
            "count": 0
           },
           {
            "bin_start": 535020.4,
            "bin_end": 535020.5,
            "count": 0
           }
          ]
         }
        },
        {
         "name": "BILL_AMT_june",
         "dtype": "float64",
         "stats": {
          "unique_count": 1,
          "nan_count": 0,
          "min": "891586.0",
          "max": "891586.0",
          "histogram": [
           {
            "bin_start": 891585.5,
            "bin_end": 891585.6,
            "count": 0
           },
           {
            "bin_start": 891585.6,
            "bin_end": 891585.7,
            "count": 0
           },
           {
            "bin_start": 891585.7,
            "bin_end": 891585.8,
            "count": 0
           },
           {
            "bin_start": 891585.8,
            "bin_end": 891585.9,
            "count": 0
           },
           {
            "bin_start": 891585.9,
            "bin_end": 891586,
            "count": 0
           },
           {
            "bin_start": 891586,
            "bin_end": 891586.1,
            "count": 1
           },
           {
            "bin_start": 891586.1,
            "bin_end": 891586.2,
            "count": 0
           },
           {
            "bin_start": 891586.2,
            "bin_end": 891586.3,
            "count": 0
           },
           {
            "bin_start": 891586.3,
            "bin_end": 891586.4,
            "count": 0
           },
           {
            "bin_start": 891586.4,
            "bin_end": 891586.5,
            "count": 0
           }
          ]
         }
        },
        {
         "name": "BILL_AMT_may",
         "dtype": "float64",
         "stats": {
          "unique_count": 1,
          "nan_count": 0,
          "min": "927171.0",
          "max": "927171.0",
          "histogram": [
           {
            "bin_start": 927170.5,
            "bin_end": 927170.6,
            "count": 0
           },
           {
            "bin_start": 927170.6,
            "bin_end": 927170.7,
            "count": 0
           },
           {
            "bin_start": 927170.7,
            "bin_end": 927170.8,
            "count": 0
           },
           {
            "bin_start": 927170.8,
            "bin_end": 927170.9,
            "count": 0
           },
           {
            "bin_start": 927170.9,
            "bin_end": 927171,
            "count": 0
           },
           {
            "bin_start": 927171,
            "bin_end": 927171.1,
            "count": 1
           },
           {
            "bin_start": 927171.1,
            "bin_end": 927171.2,
            "count": 0
           },
           {
            "bin_start": 927171.2,
            "bin_end": 927171.3,
            "count": 0
           },
           {
            "bin_start": 927171.3,
            "bin_end": 927171.4,
            "count": 0
           },
           {
            "bin_start": 927171.4,
            "bin_end": 927171.5,
            "count": 0
           }
          ]
         }
        },
        {
         "name": "BILL_AMT_apr",
         "dtype": "float64",
         "stats": {
          "unique_count": 1,
          "nan_count": 0,
          "min": "961664.0",
          "max": "961664.0",
          "histogram": [
           {
            "bin_start": 961663.5,
            "bin_end": 961663.6,
            "count": 0
           },
           {
            "bin_start": 961663.6,
            "bin_end": 961663.7,
            "count": 0
           },
           {
            "bin_start": 961663.7,
            "bin_end": 961663.8,
            "count": 0
           },
           {
            "bin_start": 961663.8,
            "bin_end": 961663.9,
            "count": 0
           },
           {
            "bin_start": 961663.9,
            "bin_end": 961664,
            "count": 0
           },
           {
            "bin_start": 961664,
            "bin_end": 961664.1,
            "count": 1
           },
           {
            "bin_start": 961664.1,
            "bin_end": 961664.2,
            "count": 0
           },
           {
            "bin_start": 961664.2,
            "bin_end": 961664.3,
            "count": 0
           },
           {
            "bin_start": 961664.3,
            "bin_end": 961664.4,
            "count": 0
           },
           {
            "bin_start": 961664.4,
            "bin_end": 961664.5,
            "count": 0
           }
          ]
         }
        },
        {
         "name": "PAY_AMT_sept",
         "dtype": "float64",
         "stats": {
          "unique_count": 1,
          "nan_count": 0,
          "min": "50784.0",
          "max": "50784.0",
          "histogram": [
           {
            "bin_start": 50783.5,
            "bin_end": 50783.6,
            "count": 0
           },
           {
            "bin_start": 50783.6,
            "bin_end": 50783.7,
            "count": 0
           },
           {
            "bin_start": 50783.7,
            "bin_end": 50783.8,
            "count": 0
           },
           {
            "bin_start": 50783.8,
            "bin_end": 50783.9,
            "count": 0
           },
           {
            "bin_start": 50783.9,
            "bin_end": 50784,
            "count": 0
           },
           {
            "bin_start": 50784,
            "bin_end": 50784.1,
            "count": 1
           },
           {
            "bin_start": 50784.1,
            "bin_end": 50784.2,
            "count": 0
           },
           {
            "bin_start": 50784.2,
            "bin_end": 50784.3,
            "count": 0
           },
           {
            "bin_start": 50784.3,
            "bin_end": 50784.4,
            "count": 0
           },
           {
            "bin_start": 50784.4,
            "bin_end": 50784.5,
            "count": 0
           }
          ]
         }
        },
        {
         "name": "PAY_AMT_aug",
         "dtype": "float64",
         "stats": {
          "unique_count": 1,
          "nan_count": 0,
          "min": "50723.0",
          "max": "50723.0",
          "histogram": [
           {
            "bin_start": 50722.5,
            "bin_end": 50722.6,
            "count": 0
           },
           {
            "bin_start": 50722.6,
            "bin_end": 50722.7,
            "count": 0
           },
           {
            "bin_start": 50722.7,
            "bin_end": 50722.8,
            "count": 0
           },
           {
            "bin_start": 50722.8,
            "bin_end": 50722.9,
            "count": 0
           },
           {
            "bin_start": 50722.9,
            "bin_end": 50723,
            "count": 0
           },
           {
            "bin_start": 50723,
            "bin_end": 50723.1,
            "count": 1
           },
           {
            "bin_start": 50723.1,
            "bin_end": 50723.2,
            "count": 0
           },
           {
            "bin_start": 50723.2,
            "bin_end": 50723.3,
            "count": 0
           },
           {
            "bin_start": 50723.3,
            "bin_end": 50723.4,
            "count": 0
           },
           {
            "bin_start": 50723.4,
            "bin_end": 50723.5,
            "count": 0
           }
          ]
         }
        },
        {
         "name": "PAY_AMT_july",
         "dtype": "float64",
         "stats": {
          "unique_count": 1,
          "nan_count": 0,
          "min": "896040.0",
          "max": "896040.0",
          "histogram": [
           {
            "bin_start": 896039.5,
            "bin_end": 896039.6,
            "count": 0
           },
           {
            "bin_start": 896039.6,
            "bin_end": 896039.7,
            "count": 0
           },
           {
            "bin_start": 896039.7,
            "bin_end": 896039.8,
            "count": 0
           },
           {
            "bin_start": 896039.8,
            "bin_end": 896039.9,
            "count": 0
           },
           {
            "bin_start": 896039.9,
            "bin_end": 896040,
            "count": 0
           },
           {
            "bin_start": 896040,
            "bin_end": 896040.1,
            "count": 1
           },
           {
            "bin_start": 896040.1,
            "bin_end": 896040.2,
            "count": 0
           },
           {
            "bin_start": 896040.2,
            "bin_end": 896040.3,
            "count": 0
           },
           {
            "bin_start": 896040.3,
            "bin_end": 896040.4,
            "count": 0
           },
           {
            "bin_start": 896040.4,
            "bin_end": 896040.5,
            "count": 0
           }
          ]
         }
        },
        {
         "name": "PAY_AMT_june",
         "dtype": "float64",
         "stats": {
          "unique_count": 1,
          "nan_count": 0,
          "min": "50000.0",
          "max": "50000.0",
          "histogram": [
           {
            "bin_start": 49999.5,
            "bin_end": 49999.6,
            "count": 0
           },
           {
            "bin_start": 49999.6,
            "bin_end": 49999.7,
            "count": 0
           },
           {
            "bin_start": 49999.7,
            "bin_end": 49999.8,
            "count": 0
           },
           {
            "bin_start": 49999.8,
            "bin_end": 49999.9,
            "count": 0
           },
           {
            "bin_start": 49999.9,
            "bin_end": 50000,
            "count": 0
           },
           {
            "bin_start": 50000,
            "bin_end": 50000.1,
            "count": 1
           },
           {
            "bin_start": 50000.1,
            "bin_end": 50000.2,
            "count": 0
           },
           {
            "bin_start": 50000.2,
            "bin_end": 50000.3,
            "count": 0
           },
           {
            "bin_start": 50000.3,
            "bin_end": 50000.4,
            "count": 0
           },
           {
            "bin_start": 50000.4,
            "bin_end": 50000.5,
            "count": 0
           }
          ]
         }
        },
        {
         "name": "PAY_AMT_may",
         "dtype": "float64",
         "stats": {
          "unique_count": 1,
          "nan_count": 0,
          "min": "50000.0",
          "max": "50000.0",
          "histogram": [
           {
            "bin_start": 49999.5,
            "bin_end": 49999.6,
            "count": 0
           },
           {
            "bin_start": 49999.6,
            "bin_end": 49999.7,
            "count": 0
           },
           {
            "bin_start": 49999.7,
            "bin_end": 49999.8,
            "count": 0
           },
           {
            "bin_start": 49999.8,
            "bin_end": 49999.9,
            "count": 0
           },
           {
            "bin_start": 49999.9,
            "bin_end": 50000,
            "count": 0
           },
           {
            "bin_start": 50000,
            "bin_end": 50000.1,
            "count": 1
           },
           {
            "bin_start": 50000.1,
            "bin_end": 50000.2,
            "count": 0
           },
           {
            "bin_start": 50000.2,
            "bin_end": 50000.3,
            "count": 0
           },
           {
            "bin_start": 50000.3,
            "bin_end": 50000.4,
            "count": 0
           },
           {
            "bin_start": 50000.4,
            "bin_end": 50000.5,
            "count": 0
           }
          ]
         }
        },
        {
         "name": "PAY_apr.1",
         "dtype": "float64",
         "stats": {
          "unique_count": 1,
          "nan_count": 0,
          "min": "50256.0",
          "max": "50256.0",
          "histogram": [
           {
            "bin_start": 50255.5,
            "bin_end": 50255.6,
            "count": 0
           },
           {
            "bin_start": 50255.6,
            "bin_end": 50255.7,
            "count": 0
           },
           {
            "bin_start": 50255.7,
            "bin_end": 50255.8,
            "count": 0
           },
           {
            "bin_start": 50255.8,
            "bin_end": 50255.9,
            "count": 0
           },
           {
            "bin_start": 50255.9,
            "bin_end": 50256,
            "count": 0
           },
           {
            "bin_start": 50256,
            "bin_end": 50256.1,
            "count": 1
           },
           {
            "bin_start": 50256.1,
            "bin_end": 50256.2,
            "count": 0
           },
           {
            "bin_start": 50256.2,
            "bin_end": 50256.3,
            "count": 0
           },
           {
            "bin_start": 50256.3,
            "bin_end": 50256.4,
            "count": 0
           },
           {
            "bin_start": 50256.4,
            "bin_end": 50256.5,
            "count": 0
           }
          ]
         }
        },
        {
         "name": "Defaulter",
         "dtype": "int64",
         "stats": {
          "unique_count": 1,
          "nan_count": 0,
          "min": "0",
          "max": "0",
          "histogram": [
           {
            "bin_start": -0.5,
            "bin_end": -0.4,
            "count": 0
           },
           {
            "bin_start": -0.4,
            "bin_end": -0.3,
            "count": 0
           },
           {
            "bin_start": -0.3,
            "bin_end": -0.19999999999999996,
            "count": 0
           },
           {
            "bin_start": -0.19999999999999996,
            "bin_end": -0.09999999999999998,
            "count": 0
           },
           {
            "bin_start": -0.09999999999999998,
            "bin_end": 0,
            "count": 0
           },
           {
            "bin_start": 0,
            "bin_end": 0.10000000000000009,
            "count": 1
           },
           {
            "bin_start": 0.10000000000000009,
            "bin_end": 0.20000000000000007,
            "count": 0
           },
           {
            "bin_start": 0.20000000000000007,
            "bin_end": 0.30000000000000004,
            "count": 0
           },
           {
            "bin_start": 0.30000000000000004,
            "bin_end": 0.4,
            "count": 0
           },
           {
            "bin_start": 0.4,
            "bin_end": 0.5,
            "count": 0
           }
          ]
         }
        },
        {
         "name": "_deepnote_index_column",
         "dtype": "int64"
        }
       ],
       "rows": [
        {
         "ID": 2198,
         "LIMIT_BAL": 1000000,
         "SEX": 2,
         "EDUCATION": 1,
         "MARRIAGE": 1,
         "AGE": 47,
         "PAY_sept": 0,
         "PAY_aug": 0,
         "PAY_july": 0,
         "PAY_june": -1,
         "PAY_may": 0,
         "PAY_apr": 0,
         "BILL_AMT_sept": 964511,
         "BILL_AMT_aug": 983931,
         "BILL_AMT_july": 535020,
         "BILL_AMT_june": 891586,
         "BILL_AMT_may": 927171,
         "BILL_AMT_apr": 961664,
         "PAY_AMT_sept": 50784,
         "PAY_AMT_aug": 50723,
         "PAY_AMT_july": 896040,
         "PAY_AMT_june": 50000,
         "PAY_AMT_may": 50000,
         "PAY_apr.1": 50256,
         "Defaulter": 0,
         "_deepnote_index_column": 2197
        }
       ]
      },
      "text/plain": "        ID  LIMIT_BAL  SEX  EDUCATION  MARRIAGE  AGE  PAY_sept  PAY_aug  \\\n2197  2198  1000000.0    2          1         1   47         0        0   \n\n      PAY_july  PAY_june  ...  BILL_AMT_june  BILL_AMT_may  BILL_AMT_apr  \\\n2197         0        -1  ...       891586.0      927171.0      961664.0   \n\n      PAY_AMT_sept  PAY_AMT_aug  PAY_AMT_july  PAY_AMT_june  PAY_AMT_may  \\\n2197       50784.0      50723.0      896040.0       50000.0      50000.0   \n\n      PAY_apr  Defaulter  \n2197  50256.0          0  \n\n[1 rows x 25 columns]",
      "text/html": "<div>\n<style scoped>\n    .dataframe tbody tr th:only-of-type {\n        vertical-align: middle;\n    }\n\n    .dataframe tbody tr th {\n        vertical-align: top;\n    }\n\n    .dataframe thead th {\n        text-align: right;\n    }\n</style>\n<table border=\"1\" class=\"dataframe\">\n  <thead>\n    <tr style=\"text-align: right;\">\n      <th></th>\n      <th>ID</th>\n      <th>LIMIT_BAL</th>\n      <th>SEX</th>\n      <th>EDUCATION</th>\n      <th>MARRIAGE</th>\n      <th>AGE</th>\n      <th>PAY_sept</th>\n      <th>PAY_aug</th>\n      <th>PAY_july</th>\n      <th>PAY_june</th>\n      <th>...</th>\n      <th>BILL_AMT_june</th>\n      <th>BILL_AMT_may</th>\n      <th>BILL_AMT_apr</th>\n      <th>PAY_AMT_sept</th>\n      <th>PAY_AMT_aug</th>\n      <th>PAY_AMT_july</th>\n      <th>PAY_AMT_june</th>\n      <th>PAY_AMT_may</th>\n      <th>PAY_apr</th>\n      <th>Defaulter</th>\n    </tr>\n  </thead>\n  <tbody>\n    <tr>\n      <th>2197</th>\n      <td>2198</td>\n      <td>1000000.0</td>\n      <td>2</td>\n      <td>1</td>\n      <td>1</td>\n      <td>47</td>\n      <td>0</td>\n      <td>0</td>\n      <td>0</td>\n      <td>-1</td>\n      <td>...</td>\n      <td>891586.0</td>\n      <td>927171.0</td>\n      <td>961664.0</td>\n      <td>50784.0</td>\n      <td>50723.0</td>\n      <td>896040.0</td>\n      <td>50000.0</td>\n      <td>50000.0</td>\n      <td>50256.0</td>\n      <td>0</td>\n    </tr>\n  </tbody>\n</table>\n<p>1 rows × 25 columns</p>\n</div>"
     },
     "metadata": {}
    }
   ]
  },
  {
   "cell_type": "code",
   "metadata": {
    "cell_id": "99daa265e46f4b4fa11c93b0a4532556",
    "tags": [],
    "deepnote_to_be_reexecuted": false,
    "source_hash": "7dff7c43",
    "execution_start": 1657627663763,
    "execution_millis": 10,
    "deepnote_app_coordinates": {
     "x": 0,
     "y": 124,
     "w": 12,
     "h": 5
    },
    "deepnote_cell_type": "code",
    "deepnote_cell_height": 99
   },
   "source": "# replacing 'Defaulter' value 1 or 0 by yes or no respectively\ndata.replace({'Defaulter': {1:'yes',0:'no'}},inplace=True)",
   "execution_count": null,
   "outputs": []
  },
  {
   "cell_type": "code",
   "metadata": {
    "cell_id": "9cd8f78a008b460abeea295b639e3d2f",
    "tags": [],
    "deepnote_to_be_reexecuted": false,
    "source_hash": "fa15abab",
    "execution_start": 1657627663782,
    "execution_millis": 195,
    "deepnote_app_coordinates": {
     "x": 0,
     "y": 130,
     "w": 12,
     "h": 5
    },
    "deepnote_cell_type": "code",
    "deepnote_cell_height": 431.1875,
    "deepnote_output_heights": [
     21.1875,
     264
    ]
   },
   "source": "plt.figure(figsize=(4,4))\nsns.countplot(x = 'Defaulter', data = data)",
   "execution_count": null,
   "outputs": [
    {
     "output_type": "execute_result",
     "execution_count": 18,
     "data": {
      "text/plain": "<AxesSubplot:xlabel='Defaulter', ylabel='count'>"
     },
     "metadata": {}
    },
    {
     "data": {
      "text/plain": "<Figure size 288x288 with 1 Axes>",
      "image/png": "[encoded data removed]"
     },
     "metadata": {
      "needs_background": "light",
      "image/png": {
       "width": 290,
       "height": 262
      }
     },
     "output_type": "display_data"
    }
   ]
  },
  {
   "cell_type": "markdown",
   "source": "### SEX",
   "metadata": {
    "formattedRanges": [],
    "cell_id": "148fdd2509c94f98b96f939bf04d4eb3",
    "tags": [],
    "is_collapsed": false,
    "deepnote_app_coordinates": {
     "x": 0,
     "y": 136,
     "w": 12,
     "h": 5
    },
    "deepnote_cell_type": "text-cell-h3"
   }
  },
  {
   "cell_type": "code",
   "metadata": {
    "cell_id": "39eabbcebaf54286b50aa3805c2ce0ff",
    "tags": [],
    "deepnote_to_be_reexecuted": false,
    "source_hash": "c91d1392",
    "execution_start": 1657627663984,
    "execution_millis": 9,
    "deepnote_app_coordinates": {
     "x": 0,
     "y": 142,
     "w": 12,
     "h": 5
    },
    "deepnote_cell_type": "code",
    "deepnote_cell_height": 192.578125,
    "deepnote_output_heights": [
     59.59375
    ]
   },
   "source": "# Get SEX column's distribution. 1: male; 2: female\n# No undocumented SEX code\ndata['SEX'].value_counts() ",
   "execution_count": null,
   "outputs": [
    {
     "output_type": "execute_result",
     "execution_count": 19,
     "data": {
      "text/plain": "2    18112\n1    11888\nName: SEX, dtype: int64"
     },
     "metadata": {}
    }
   ]
  },
  {
   "cell_type": "code",
   "metadata": {
    "cell_id": "27c835bec70d497a8075d213fdf7c2cd",
    "tags": [],
    "deepnote_to_be_reexecuted": false,
    "source_hash": "30730f5e",
    "execution_start": 1657627664041,
    "execution_millis": 0,
    "deepnote_app_coordinates": {
     "x": 0,
     "y": 148,
     "w": 12,
     "h": 5
    },
    "deepnote_cell_type": "code",
    "deepnote_cell_height": 81
   },
   "source": "data.replace({'SEX':{1:'M',2:'F'}},inplace=True)",
   "execution_count": null,
   "outputs": []
  },
  {
   "cell_type": "code",
   "metadata": {
    "cell_id": "330303d9190143cca6c632bd57aab52a",
    "tags": [],
    "deepnote_to_be_reexecuted": false,
    "source_hash": "773b26d1",
    "execution_start": 1657627664041,
    "execution_millis": 842,
    "deepnote_app_coordinates": {
     "x": 0,
     "y": 154,
     "w": 12,
     "h": 5
    },
    "deepnote_cell_type": "code",
    "deepnote_cell_height": 504.1875,
    "deepnote_output_heights": [
     21.1875,
     319
    ]
   },
   "source": "fig, axes = plt.subplots(ncols=2,figsize=(10,5))\nsns.countplot(x = 'SEX', ax = axes[0], data = data)\nsns.countplot(x = 'SEX', hue = 'Defaulter',ax = axes[1], data = data)",
   "execution_count": null,
   "outputs": [
    {
     "output_type": "execute_result",
     "execution_count": 21,
     "data": {
      "text/plain": "<AxesSubplot:xlabel='SEX', ylabel='count'>"
     },
     "metadata": {}
    },
    {
     "data": {
      "text/plain": "<Figure size 720x360 with 2 Axes>",
      "image/png": "[encoded data removed]"
     },
     "metadata": {
      "needs_background": "light",
      "image/png": {
       "width": 625,
       "height": 317
      }
     },
     "output_type": "display_data"
    }
   ]
  },
  {
   "cell_type": "markdown",
   "source": "### EDUCATION",
   "metadata": {
    "formattedRanges": [],
    "cell_id": "fcb4f91d45b64124a195d0ee958d401e",
    "tags": [],
    "is_collapsed": false,
    "deepnote_app_coordinates": {
     "x": 0,
     "y": 160,
     "w": 12,
     "h": 5
    },
    "deepnote_cell_type": "text-cell-h3"
   }
  },
  {
   "cell_type": "code",
   "metadata": {
    "cell_id": "34626a0682b143d2b16965ff65e94c8a",
    "tags": [],
    "deepnote_to_be_reexecuted": false,
    "source_hash": "fb1e5cfc",
    "execution_start": 1657627664425,
    "execution_millis": 462,
    "deepnote_app_coordinates": {
     "x": 0,
     "y": 166,
     "w": 12,
     "h": 5
    },
    "deepnote_cell_type": "code",
    "deepnote_cell_height": 136.1875,
    "deepnote_output_heights": [
     21.1875
    ]
   },
   "source": "# EDUCATION: (1=graduate school, 2=university, 3=high school, 4=others, 5=unknown, 6=unknown)\ndata[\"EDUCATION\"].unique()",
   "execution_count": null,
   "outputs": [
    {
     "output_type": "execute_result",
     "execution_count": 22,
     "data": {
      "text/plain": "array([2, 1, 3, 5, 4, 6, 0])"
     },
     "metadata": {}
    }
   ]
  },
  {
   "cell_type": "code",
   "metadata": {
    "cell_id": "26f9852bb8074d8299d89d78165f0694",
    "tags": [],
    "deepnote_to_be_reexecuted": false,
    "source_hash": "e84f6a44",
    "execution_start": 1657627664450,
    "execution_millis": 439,
    "deepnote_app_coordinates": {
     "x": 0,
     "y": 172,
     "w": 12,
     "h": 5
    },
    "deepnote_cell_type": "code",
    "deepnote_cell_height": 270.578125,
    "deepnote_output_heights": [
     155.59375
    ]
   },
   "source": "#get the total counts of each EDUCATION level\ndata[\"EDUCATION\"].value_counts()",
   "execution_count": null,
   "outputs": [
    {
     "output_type": "execute_result",
     "execution_count": 23,
     "data": {
      "text/plain": "2    14030\n1    10585\n3     4917\n5      280\n4      123\n6       51\n0       14\nName: EDUCATION, dtype: int64"
     },
     "metadata": {}
    }
   ]
  },
  {
   "cell_type": "code",
   "metadata": {
    "cell_id": "49ffa92ac18f4e1fafd2870efd472ac5",
    "tags": [],
    "deepnote_to_be_reexecuted": false,
    "source_hash": "2e9a4aa7",
    "execution_start": 1657627664470,
    "execution_millis": 420,
    "deepnote_app_coordinates": {
     "x": 0,
     "y": 178,
     "w": 12,
     "h": 5
    },
    "deepnote_cell_type": "code",
    "deepnote_cell_height": 249,
    "deepnote_output_heights": [
     98
    ]
   },
   "source": "# Change values 4, 5, 6 to 0 and define 0 as 'others'\n# 1=graduate school, 2=university, 3=high school, 0=others\ndata[\"EDUCATION\"] = data[\"EDUCATION\"].replace({4:0,5:0,6:0})\ndata[\"EDUCATION\"].value_counts()",
   "execution_count": null,
   "outputs": [
    {
     "output_type": "execute_result",
     "execution_count": 24,
     "data": {
      "text/plain": "2    14030\n1    10585\n3     4917\n0      468\nName: EDUCATION, dtype: int64"
     },
     "metadata": {}
    }
   ]
  },
  {
   "cell_type": "code",
   "metadata": {
    "cell_id": "ccb5f023ea5e44edb87370bf1f077901",
    "tags": [],
    "deepnote_to_be_reexecuted": false,
    "source_hash": "63e732a8",
    "execution_start": 1657627664518,
    "execution_millis": 385,
    "deepnote_app_coordinates": {
     "x": 0,
     "y": 184,
     "w": 12,
     "h": 5
    },
    "deepnote_cell_type": "code",
    "deepnote_cell_height": 504.1875,
    "deepnote_output_heights": [
     21.1875,
     319
    ]
   },
   "source": "fig, axes=plt.subplots(ncols=2,figsize=(10,5))\nsns.countplot(x='EDUCATION', ax=axes[0], data=data)\nsns.countplot(x='EDUCATION', hue='Defaulter', ax=axes[1], data=data)",
   "execution_count": null,
   "outputs": [
    {
     "output_type": "execute_result",
     "execution_count": 25,
     "data": {
      "text/plain": "<AxesSubplot:xlabel='EDUCATION', ylabel='count'>"
     },
     "metadata": {}
    },
    {
     "data": {
      "text/plain": "<Figure size 720x360 with 2 Axes>",
      "image/png": "[encoded data removed]"
     },
     "metadata": {
      "needs_background": "light",
      "image/png": {
       "width": 624,
       "height": 317
      }
     },
     "output_type": "display_data"
    }
   ]
  },
  {
   "cell_type": "markdown",
   "source": "### MARRIAGE",
   "metadata": {
    "formattedRanges": [],
    "cell_id": "2f78e8a3dbd84440b2b9014344a5dc23",
    "tags": [],
    "is_collapsed": false,
    "deepnote_app_coordinates": {
     "x": 0,
     "y": 190,
     "w": 12,
     "h": 5
    },
    "deepnote_cell_type": "text-cell-h3"
   }
  },
  {
   "cell_type": "code",
   "metadata": {
    "cell_id": "68988b901ca64f968c9a0ba0f2924b55",
    "tags": [],
    "deepnote_to_be_reexecuted": false,
    "source_hash": "1bc61bb0",
    "execution_start": 1657627664904,
    "execution_millis": 11,
    "deepnote_app_coordinates": {
     "x": 0,
     "y": 196,
     "w": 12,
     "h": 5
    },
    "deepnote_cell_type": "code",
    "deepnote_cell_height": 136.1875,
    "deepnote_output_heights": [
     21.1875
    ]
   },
   "source": "# From dataset description: MARRIAGE: Marital status (1=married, 2=single, 3=others), but there is also 0\ndata[\"MARRIAGE\"].unique()",
   "execution_count": null,
   "outputs": [
    {
     "output_type": "execute_result",
     "execution_count": 26,
     "data": {
      "text/plain": "array([1, 2, 3, 0])"
     },
     "metadata": {}
    }
   ]
  },
  {
   "cell_type": "code",
   "metadata": {
    "cell_id": "7183c165f0ec42029ddacb68bad6483f",
    "tags": [],
    "deepnote_to_be_reexecuted": false,
    "source_hash": "370378b9",
    "execution_start": 1657627664919,
    "execution_millis": 17,
    "deepnote_app_coordinates": {
     "x": 0,
     "y": 202,
     "w": 12,
     "h": 5
    },
    "deepnote_cell_type": "code",
    "deepnote_cell_height": 213,
    "deepnote_output_heights": [
     98
    ]
   },
   "source": "# How Many customers had \"MARRIAGE\" status as 0?\ndata[\"MARRIAGE\"].value_counts(normalize=True)",
   "execution_count": null,
   "outputs": [
    {
     "output_type": "execute_result",
     "execution_count": 27,
     "data": {
      "text/plain": "2    0.532133\n1    0.455300\n3    0.010767\n0    0.001800\nName: MARRIAGE, dtype: float64"
     },
     "metadata": {}
    }
   ]
  },
  {
   "cell_type": "code",
   "metadata": {
    "cell_id": "b61336ac97f34d66adce79add010efcf",
    "tags": [],
    "deepnote_to_be_reexecuted": false,
    "source_hash": "19d0e45e",
    "execution_start": 1657627664937,
    "execution_millis": 13,
    "deepnote_app_coordinates": {
     "x": 0,
     "y": 208,
     "w": 12,
     "h": 5
    },
    "deepnote_cell_type": "code",
    "deepnote_cell_height": 211.78125,
    "deepnote_output_heights": [
     78.796875
    ]
   },
   "source": "# Combine 0 and 3 by changing the value 0 into 3\ndata[\"MARRIAGE\"] = data[\"MARRIAGE\"].replace({0:3})\ndata[\"MARRIAGE\"].value_counts(normalize=True)",
   "execution_count": null,
   "outputs": [
    {
     "output_type": "execute_result",
     "execution_count": 28,
     "data": {
      "text/plain": "2    0.532133\n1    0.455300\n3    0.012567\nName: MARRIAGE, dtype: float64"
     },
     "metadata": {}
    }
   ]
  },
  {
   "cell_type": "code",
   "metadata": {
    "cell_id": "c4457f3a554f49a89d5f4cbeb8514ebc",
    "tags": [],
    "deepnote_to_be_reexecuted": false,
    "source_hash": "56aef193",
    "execution_start": 1657627664992,
    "execution_millis": 420,
    "deepnote_app_coordinates": {
     "x": 0,
     "y": 214,
     "w": 12,
     "h": 5
    },
    "deepnote_cell_type": "code",
    "deepnote_cell_height": 504.1875,
    "deepnote_output_heights": [
     21.1875,
     319
    ]
   },
   "source": "fig, axes = plt.subplots(ncols=2,figsize=(10,5))\nsns.countplot(x = 'MARRIAGE', ax=axes[0], data=data)\nsns.countplot(x = 'MARRIAGE', hue='Defaulter', ax=axes[1], data=data)",
   "execution_count": null,
   "outputs": [
    {
     "output_type": "execute_result",
     "execution_count": 29,
     "data": {
      "text/plain": "<AxesSubplot:xlabel='MARRIAGE', ylabel='count'>"
     },
     "metadata": {}
    },
    {
     "data": {
      "text/plain": "<Figure size 720x360 with 2 Axes>",
      "image/png": "[encoded data removed]"
     },
     "metadata": {
      "needs_background": "light",
      "image/png": {
       "width": 624,
       "height": 317
      }
     },
     "output_type": "display_data"
    }
   ]
  },
  {
   "cell_type": "markdown",
   "source": "### AGE",
   "metadata": {
    "formattedRanges": [],
    "cell_id": "e2eda852f14e4c01a1b70a21e88c501a",
    "tags": [],
    "is_collapsed": false,
    "deepnote_app_coordinates": {
     "x": 0,
     "y": 220,
     "w": 12,
     "h": 5
    },
    "deepnote_cell_type": "text-cell-h3"
   }
  },
  {
   "cell_type": "code",
   "metadata": {
    "cell_id": "a8a5c0b72747443688ae4b3db75eca76",
    "tags": [],
    "deepnote_to_be_reexecuted": false,
    "source_hash": "c12443e1",
    "execution_start": 1657627665421,
    "execution_millis": 1118,
    "deepnote_app_coordinates": {
     "x": 0,
     "y": 226,
     "w": 12,
     "h": 5
    },
    "deepnote_cell_type": "code",
    "deepnote_cell_height": 594.6875,
    "deepnote_output_heights": [
     21.1875,
     427.5
    ]
   },
   "source": "plt.figure(figsize=(20,10))\nsns.countplot(x='AGE',data=data)",
   "execution_count": null,
   "outputs": [
    {
     "output_type": "execute_result",
     "execution_count": 30,
     "data": {
      "text/plain": "<AxesSubplot:xlabel='AGE', ylabel='count'>"
     },
     "metadata": {}
    },
    {
     "data": {
      "text/plain": "<Figure size 1440x720 with 1 Axes>",
      "image/png": "[encoded data removed]"
     },
     "metadata": {
      "needs_background": "light",
      "image/png": {
       "width": 1176,
       "height": 589
      }
     },
     "output_type": "display_data"
    }
   ]
  },
  {
   "cell_type": "code",
   "metadata": {
    "cell_id": "0e111da51cfd486e91a4f6ae906569b8",
    "tags": [],
    "deepnote_to_be_reexecuted": false,
    "source_hash": "82176daa",
    "execution_start": 1657627666550,
    "execution_millis": 1592,
    "deepnote_app_coordinates": {
     "x": 0,
     "y": 232,
     "w": 12,
     "h": 5
    },
    "deepnote_cell_type": "code",
    "deepnote_cell_height": 603.09375,
    "deepnote_output_heights": [
     21.1875,
     435.921875
    ]
   },
   "source": "plt.figure(figsize=(20,10))\nsns.countplot(x='AGE', hue='Defaulter', data=data)",
   "execution_count": null,
   "outputs": [
    {
     "output_type": "execute_result",
     "execution_count": 31,
     "data": {
      "text/plain": "<AxesSubplot:xlabel='AGE', ylabel='count'>"
     },
     "metadata": {}
    },
    {
     "data": {
      "text/plain": "<Figure size 1440x720 with 1 Axes>",
      "image/png": "[encoded data removed]"
     },
     "metadata": {
      "needs_background": "light",
      "image/png": {
       "width": 1176,
       "height": 589
      }
     },
     "output_type": "display_data"
    }
   ]
  },
  {
   "cell_type": "markdown",
   "source": "### Label encoding and one hot encoding",
   "metadata": {
    "formattedRanges": [],
    "cell_id": "a88f1b1646ac4373b307ccbea2d8aa45",
    "tags": [],
    "is_collapsed": false,
    "deepnote_app_coordinates": {
     "x": 0,
     "y": 238,
     "w": 12,
     "h": 5
    },
    "deepnote_cell_type": "text-cell-h3"
   }
  },
  {
   "cell_type": "code",
   "metadata": {
    "cell_id": "ae4a96c9d1d1494398824e6d365141a1",
    "tags": [],
    "deepnote_to_be_reexecuted": false,
    "source_hash": "195cbd41",
    "execution_start": 1657627668147,
    "execution_millis": 326,
    "deepnote_app_coordinates": {
     "x": 0,
     "y": 244,
     "w": 12,
     "h": 5
    },
    "deepnote_cell_type": "code",
    "deepnote_cell_height": 465.796875
   },
   "source": "from sklearn import preprocessing\nencoders_nums = {\"SEX\":{\"F\":0,\"M\":1}, \"Defaulter\":{\"yes\":1, \"no\":0}}\ndata = data.replace(encoders_nums)\ndata.head()",
   "execution_count": null,
   "outputs": [
    {
     "output_type": "execute_result",
     "execution_count": 32,
     "data": {
      "application/vnd.deepnote.dataframe.v3+json": {
       "column_count": 25,
       "row_count": 5,
       "columns": [
        {
         "name": "ID",
         "dtype": "int64",
         "stats": {
          "unique_count": 5,
          "nan_count": 0,
          "min": "1",
          "max": "5",
          "histogram": [
           {
            "bin_start": 1,
            "bin_end": 1.4,
            "count": 1
           },
           {
            "bin_start": 1.4,
            "bin_end": 1.8,
            "count": 0
           },
           {
            "bin_start": 1.8,
            "bin_end": 2.2,
            "count": 1
           },
           {
            "bin_start": 2.2,
            "bin_end": 2.6,
            "count": 0
           },
           {
            "bin_start": 2.6,
            "bin_end": 3,
            "count": 0
           },
           {
            "bin_start": 3,
            "bin_end": 3.4000000000000004,
            "count": 1
           },
           {
            "bin_start": 3.4000000000000004,
            "bin_end": 3.8000000000000003,
            "count": 0
           },
           {
            "bin_start": 3.8000000000000003,
            "bin_end": 4.2,
            "count": 1
           },
           {
            "bin_start": 4.2,
            "bin_end": 4.6,
            "count": 0
           },
           {
            "bin_start": 4.6,
            "bin_end": 5,
            "count": 1
           }
          ]
         }
        },
        {
         "name": "LIMIT_BAL",
         "dtype": "float64",
         "stats": {
          "unique_count": 4,
          "nan_count": 0,
          "min": "20000.0",
          "max": "120000.0",
          "histogram": [
           {
            "bin_start": 20000,
            "bin_end": 30000,
            "count": 1
           },
           {
            "bin_start": 30000,
            "bin_end": 40000,
            "count": 0
           },
           {
            "bin_start": 40000,
            "bin_end": 50000,
            "count": 0
           },
           {
            "bin_start": 50000,
            "bin_end": 60000,
            "count": 2
           },
           {
            "bin_start": 60000,
            "bin_end": 70000,
            "count": 0
           },
           {
            "bin_start": 70000,
            "bin_end": 80000,
            "count": 0
           },
           {
            "bin_start": 80000,
            "bin_end": 90000,
            "count": 0
           },
           {
            "bin_start": 90000,
            "bin_end": 100000,
            "count": 1
           },
           {
            "bin_start": 100000,
            "bin_end": 110000,
            "count": 0
           },
           {
            "bin_start": 110000,
            "bin_end": 120000,
            "count": 1
           }
          ]
         }
        },
        {
         "name": "SEX",
         "dtype": "int64",
         "stats": {
          "unique_count": 2,
          "nan_count": 0,
          "min": "0",
          "max": "1",
          "histogram": [
           {
            "bin_start": 0,
            "bin_end": 0.1,
            "count": 4
           },
           {
            "bin_start": 0.1,
            "bin_end": 0.2,
            "count": 0
           },
           {
            "bin_start": 0.2,
            "bin_end": 0.30000000000000004,
            "count": 0
           },
           {
            "bin_start": 0.30000000000000004,
            "bin_end": 0.4,
            "count": 0
           },
           {
            "bin_start": 0.4,
            "bin_end": 0.5,
            "count": 0
           },
           {
            "bin_start": 0.5,
            "bin_end": 0.6000000000000001,
            "count": 0
           },
           {
            "bin_start": 0.6000000000000001,
            "bin_end": 0.7000000000000001,
            "count": 0
           },
           {
            "bin_start": 0.7000000000000001,
            "bin_end": 0.8,
            "count": 0
           },
           {
            "bin_start": 0.8,
            "bin_end": 0.9,
            "count": 0
           },
           {
            "bin_start": 0.9,
            "bin_end": 1,
            "count": 1
           }
          ]
         }
        },
        {
         "name": "EDUCATION",
         "dtype": "int64",
         "stats": {
          "unique_count": 1,
          "nan_count": 0,
          "min": "2",
          "max": "2",
          "histogram": [
           {
            "bin_start": 1.5,
            "bin_end": 1.6,
            "count": 0
           },
           {
            "bin_start": 1.6,
            "bin_end": 1.7,
            "count": 0
           },
           {
            "bin_start": 1.7,
            "bin_end": 1.8,
            "count": 0
           },
           {
            "bin_start": 1.8,
            "bin_end": 1.9,
            "count": 0
           },
           {
            "bin_start": 1.9,
            "bin_end": 2,
            "count": 0
           },
           {
            "bin_start": 2,
            "bin_end": 2.1,
            "count": 5
           },
           {
            "bin_start": 2.1,
            "bin_end": 2.2,
            "count": 0
           },
           {
            "bin_start": 2.2,
            "bin_end": 2.3,
            "count": 0
           },
           {
            "bin_start": 2.3,
            "bin_end": 2.4,
            "count": 0
           },
           {
            "bin_start": 2.4,
            "bin_end": 2.5,
            "count": 0
           }
          ]
         }
        },
        {
         "name": "MARRIAGE",
         "dtype": "int64",
         "stats": {
          "unique_count": 2,
          "nan_count": 0,
          "min": "1",
          "max": "2",
          "histogram": [
           {
            "bin_start": 1,
            "bin_end": 1.1,
            "count": 3
           },
           {
            "bin_start": 1.1,
            "bin_end": 1.2,
            "count": 0
           },
           {
            "bin_start": 1.2,
            "bin_end": 1.3,
            "count": 0
           },
           {
            "bin_start": 1.3,
            "bin_end": 1.4,
            "count": 0
           },
           {
            "bin_start": 1.4,
            "bin_end": 1.5,
            "count": 0
           },
           {
            "bin_start": 1.5,
            "bin_end": 1.6,
            "count": 0
           },
           {
            "bin_start": 1.6,
            "bin_end": 1.7000000000000002,
            "count": 0
           },
           {
            "bin_start": 1.7000000000000002,
            "bin_end": 1.8,
            "count": 0
           },
           {
            "bin_start": 1.8,
            "bin_end": 1.9,
            "count": 0
           },
           {
            "bin_start": 1.9,
            "bin_end": 2,
            "count": 2
           }
          ]
         }
        },
        {
         "name": "AGE",
         "dtype": "int64",
         "stats": {
          "unique_count": 5,
          "nan_count": 0,
          "min": "24",
          "max": "57",
          "histogram": [
           {
            "bin_start": 24,
            "bin_end": 27.3,
            "count": 2
           },
           {
            "bin_start": 27.3,
            "bin_end": 30.6,
            "count": 0
           },
           {
            "bin_start": 30.6,
            "bin_end": 33.9,
            "count": 0
           },
           {
            "bin_start": 33.9,
            "bin_end": 37.2,
            "count": 2
           },
           {
            "bin_start": 37.2,
            "bin_end": 40.5,
            "count": 0
           },
           {
            "bin_start": 40.5,
            "bin_end": 43.8,
            "count": 0
           },
           {
            "bin_start": 43.8,
            "bin_end": 47.099999999999994,
            "count": 0
           },
           {
            "bin_start": 47.099999999999994,
            "bin_end": 50.4,
            "count": 0
           },
           {
            "bin_start": 50.4,
            "bin_end": 53.7,
            "count": 0
           },
           {
            "bin_start": 53.7,
            "bin_end": 57,
            "count": 1
           }
          ]
         }
        },
        {
         "name": "PAY_sept",
         "dtype": "int64",
         "stats": {
          "unique_count": 3,
          "nan_count": 0,
          "min": "-1",
          "max": "2",
          "histogram": [
           {
            "bin_start": -1,
            "bin_end": -0.7,
            "count": 2
           },
           {
            "bin_start": -0.7,
            "bin_end": -0.4,
            "count": 0
           },
           {
            "bin_start": -0.4,
            "bin_end": -0.10000000000000009,
            "count": 0
           },
           {
            "bin_start": -0.10000000000000009,
            "bin_end": 0.19999999999999996,
            "count": 2
           },
           {
            "bin_start": 0.19999999999999996,
            "bin_end": 0.5,
            "count": 0
           },
           {
            "bin_start": 0.5,
            "bin_end": 0.7999999999999998,
            "count": 0
           },
           {
            "bin_start": 0.7999999999999998,
            "bin_end": 1.1,
            "count": 0
           },
           {
            "bin_start": 1.1,
            "bin_end": 1.4,
            "count": 0
           },
           {
            "bin_start": 1.4,
            "bin_end": 1.6999999999999997,
            "count": 0
           },
           {
            "bin_start": 1.6999999999999997,
            "bin_end": 2,
            "count": 1
           }
          ]
         }
        },
        {
         "name": "PAY_aug",
         "dtype": "int64",
         "stats": {
          "unique_count": 2,
          "nan_count": 0,
          "min": "0",
          "max": "2",
          "histogram": [
           {
            "bin_start": 0,
            "bin_end": 0.2,
            "count": 3
           },
           {
            "bin_start": 0.2,
            "bin_end": 0.4,
            "count": 0
           },
           {
            "bin_start": 0.4,
            "bin_end": 0.6000000000000001,
            "count": 0
           },
           {
            "bin_start": 0.6000000000000001,
            "bin_end": 0.8,
            "count": 0
           },
           {
            "bin_start": 0.8,
            "bin_end": 1,
            "count": 0
           },
           {
            "bin_start": 1,
            "bin_end": 1.2000000000000002,
            "count": 0
           },
           {
            "bin_start": 1.2000000000000002,
            "bin_end": 1.4000000000000001,
            "count": 0
           },
           {
            "bin_start": 1.4000000000000001,
            "bin_end": 1.6,
            "count": 0
           },
           {
            "bin_start": 1.6,
            "bin_end": 1.8,
            "count": 0
           },
           {
            "bin_start": 1.8,
            "bin_end": 2,
            "count": 2
           }
          ]
         }
        },
        {
         "name": "PAY_july",
         "dtype": "int64",
         "stats": {
          "unique_count": 2,
          "nan_count": 0,
          "min": "-1",
          "max": "0",
          "histogram": [
           {
            "bin_start": -1,
            "bin_end": -0.9,
            "count": 2
           },
           {
            "bin_start": -0.9,
            "bin_end": -0.8,
            "count": 0
           },
           {
            "bin_start": -0.8,
            "bin_end": -0.7,
            "count": 0
           },
           {
            "bin_start": -0.7,
            "bin_end": -0.6,
            "count": 0
           },
           {
            "bin_start": -0.6,
            "bin_end": -0.5,
            "count": 0
           },
           {
            "bin_start": -0.5,
            "bin_end": -0.3999999999999999,
            "count": 0
           },
           {
            "bin_start": -0.3999999999999999,
            "bin_end": -0.29999999999999993,
            "count": 0
           },
           {
            "bin_start": -0.29999999999999993,
            "bin_end": -0.19999999999999996,
            "count": 0
           },
           {
            "bin_start": -0.19999999999999996,
            "bin_end": -0.09999999999999998,
            "count": 0
           },
           {
            "bin_start": -0.09999999999999998,
            "bin_end": 0,
            "count": 3
           }
          ]
         }
        },
        {
         "name": "PAY_june",
         "dtype": "int64",
         "stats": {
          "unique_count": 2,
          "nan_count": 0,
          "min": "-1",
          "max": "0",
          "histogram": [
           {
            "bin_start": -1,
            "bin_end": -0.9,
            "count": 1
           },
           {
            "bin_start": -0.9,
            "bin_end": -0.8,
            "count": 0
           },
           {
            "bin_start": -0.8,
            "bin_end": -0.7,
            "count": 0
           },
           {
            "bin_start": -0.7,
            "bin_end": -0.6,
            "count": 0
           },
           {
            "bin_start": -0.6,
            "bin_end": -0.5,
            "count": 0
           },
           {
            "bin_start": -0.5,
            "bin_end": -0.3999999999999999,
            "count": 0
           },
           {
            "bin_start": -0.3999999999999999,
            "bin_end": -0.29999999999999993,
            "count": 0
           },
           {
            "bin_start": -0.29999999999999993,
            "bin_end": -0.19999999999999996,
            "count": 0
           },
           {
            "bin_start": -0.19999999999999996,
            "bin_end": -0.09999999999999998,
            "count": 0
           },
           {
            "bin_start": -0.09999999999999998,
            "bin_end": 0,
            "count": 4
           }
          ]
         }
        },
        {
         "name": "PAY_may",
         "dtype": "int64",
         "stats": {
          "unique_count": 2,
          "nan_count": 0,
          "min": "-2",
          "max": "0",
          "histogram": [
           {
            "bin_start": -2,
            "bin_end": -1.8,
            "count": 1
           },
           {
            "bin_start": -1.8,
            "bin_end": -1.6,
            "count": 0
           },
           {
            "bin_start": -1.6,
            "bin_end": -1.4,
            "count": 0
           },
           {
            "bin_start": -1.4,
            "bin_end": -1.2,
            "count": 0
           },
           {
            "bin_start": -1.2,
            "bin_end": -1,
            "count": 0
           },
           {
            "bin_start": -1,
            "bin_end": -0.7999999999999998,
            "count": 0
           },
           {
            "bin_start": -0.7999999999999998,
            "bin_end": -0.5999999999999999,
            "count": 0
           },
           {
            "bin_start": -0.5999999999999999,
            "bin_end": -0.3999999999999999,
            "count": 0
           },
           {
            "bin_start": -0.3999999999999999,
            "bin_end": -0.19999999999999996,
            "count": 0
           },
           {
            "bin_start": -0.19999999999999996,
            "bin_end": 0,
            "count": 4
           }
          ]
         }
        },
        {
         "name": "PAY_apr",
         "dtype": "int64",
         "stats": {
          "unique_count": 3,
          "nan_count": 0,
          "min": "-2",
          "max": "2",
          "histogram": [
           {
            "bin_start": -2,
            "bin_end": -1.6,
            "count": 1
           },
           {
            "bin_start": -1.6,
            "bin_end": -1.2,
            "count": 0
           },
           {
            "bin_start": -1.2,
            "bin_end": -0.7999999999999998,
            "count": 0
           },
           {
            "bin_start": -0.7999999999999998,
            "bin_end": -0.3999999999999999,
            "count": 0
           },
           {
            "bin_start": -0.3999999999999999,
            "bin_end": 0,
            "count": 0
           },
           {
            "bin_start": 0,
            "bin_end": 0.40000000000000036,
            "count": 3
           },
           {
            "bin_start": 0.40000000000000036,
            "bin_end": 0.8000000000000003,
            "count": 0
           },
           {
            "bin_start": 0.8000000000000003,
            "bin_end": 1.2000000000000002,
            "count": 0
           },
           {
            "bin_start": 1.2000000000000002,
            "bin_end": 1.6,
            "count": 0
           },
           {
            "bin_start": 1.6,
            "bin_end": 2,
            "count": 1
           }
          ]
         }
        },
        {
         "name": "BILL_AMT_sept",
         "dtype": "float64",
         "stats": {
          "unique_count": 5,
          "nan_count": 0,
          "min": "2682.0",
          "max": "46990.0",
          "histogram": [
           {
            "bin_start": 2682,
            "bin_end": 7112.8,
            "count": 2
           },
           {
            "bin_start": 7112.8,
            "bin_end": 11543.6,
            "count": 1
           },
           {
            "bin_start": 11543.6,
            "bin_end": 15974.400000000001,
            "count": 0
           },
           {
            "bin_start": 15974.400000000001,
            "bin_end": 20405.2,
            "count": 0
           },
           {
            "bin_start": 20405.2,
            "bin_end": 24836,
            "count": 0
           },
           {
            "bin_start": 24836,
            "bin_end": 29266.800000000003,
            "count": 1
           },
           {
            "bin_start": 29266.800000000003,
            "bin_end": 33697.600000000006,
            "count": 0
           },
           {
            "bin_start": 33697.600000000006,
            "bin_end": 38128.4,
            "count": 0
           },
           {
            "bin_start": 38128.4,
            "bin_end": 42559.200000000004,
            "count": 0
           },
           {
            "bin_start": 42559.200000000004,
            "bin_end": 46990,
            "count": 1
           }
          ]
         }
        },
        {
         "name": "BILL_AMT_aug",
         "dtype": "float64",
         "stats": {
          "unique_count": 5,
          "nan_count": 0,
          "min": "1725.0",
          "max": "48233.0",
          "histogram": [
           {
            "bin_start": 1725,
            "bin_end": 6375.8,
            "count": 3
           },
           {
            "bin_start": 6375.8,
            "bin_end": 11026.6,
            "count": 0
           },
           {
            "bin_start": 11026.6,
            "bin_end": 15677.400000000001,
            "count": 1
           },
           {
            "bin_start": 15677.400000000001,
            "bin_end": 20328.2,
            "count": 0
           },
           {
            "bin_start": 20328.2,
            "bin_end": 24979,
            "count": 0
           },
           {
            "bin_start": 24979,
            "bin_end": 29629.800000000003,
            "count": 0
           },
           {
            "bin_start": 29629.800000000003,
            "bin_end": 34280.600000000006,
            "count": 0
           },
           {
            "bin_start": 34280.600000000006,
            "bin_end": 38931.4,
            "count": 0
           },
           {
            "bin_start": 38931.4,
            "bin_end": 43582.200000000004,
            "count": 0
           },
           {
            "bin_start": 43582.200000000004,
            "bin_end": 48233,
            "count": 1
           }
          ]
         }
        },
        {
         "name": "BILL_AMT_july",
         "dtype": "float64",
         "stats": {
          "unique_count": 5,
          "nan_count": 0,
          "min": "689.0",
          "max": "49291.0",
          "histogram": [
           {
            "bin_start": 689,
            "bin_end": 5549.2,
            "count": 2
           },
           {
            "bin_start": 5549.2,
            "bin_end": 10409.4,
            "count": 0
           },
           {
            "bin_start": 10409.4,
            "bin_end": 15269.599999999999,
            "count": 1
           },
           {
            "bin_start": 15269.599999999999,
            "bin_end": 20129.8,
            "count": 0
           },
           {
            "bin_start": 20129.8,
            "bin_end": 24990,
            "count": 0
           },
           {
            "bin_start": 24990,
            "bin_end": 29850.199999999997,
            "count": 0
           },
           {
            "bin_start": 29850.199999999997,
            "bin_end": 34710.4,
            "count": 0
           },
           {
            "bin_start": 34710.4,
            "bin_end": 39570.6,
            "count": 1
           },
           {
            "bin_start": 39570.6,
            "bin_end": 44430.799999999996,
            "count": 0
           },
           {
            "bin_start": 44430.799999999996,
            "bin_end": 49291,
            "count": 1
           }
          ]
         }
        },
        {
         "name": "BILL_AMT_june",
         "dtype": "float64",
         "stats": {
          "unique_count": 5,
          "nan_count": 0,
          "min": "0.0",
          "max": "28314.0",
          "histogram": [
           {
            "bin_start": 0,
            "bin_end": 2831.4,
            "count": 1
           },
           {
            "bin_start": 2831.4,
            "bin_end": 5662.8,
            "count": 1
           },
           {
            "bin_start": 5662.8,
            "bin_end": 8494.2,
            "count": 0
           },
           {
            "bin_start": 8494.2,
            "bin_end": 11325.6,
            "count": 0
           },
           {
            "bin_start": 11325.6,
            "bin_end": 14157,
            "count": 0
           },
           {
            "bin_start": 14157,
            "bin_end": 16988.4,
            "count": 1
           },
           {
            "bin_start": 16988.4,
            "bin_end": 19819.8,
            "count": 0
           },
           {
            "bin_start": 19819.8,
            "bin_end": 22651.2,
            "count": 1
           },
           {
            "bin_start": 22651.2,
            "bin_end": 25482.600000000002,
            "count": 0
           },
           {
            "bin_start": 25482.600000000002,
            "bin_end": 28314,
            "count": 1
           }
          ]
         }
        },
        {
         "name": "BILL_AMT_may",
         "dtype": "float64",
         "stats": {
          "unique_count": 5,
          "nan_count": 0,
          "min": "0.0",
          "max": "28959.0",
          "histogram": [
           {
            "bin_start": 0,
            "bin_end": 2895.9,
            "count": 1
           },
           {
            "bin_start": 2895.9,
            "bin_end": 5791.8,
            "count": 1
           },
           {
            "bin_start": 5791.8,
            "bin_end": 8687.7,
            "count": 0
           },
           {
            "bin_start": 8687.7,
            "bin_end": 11583.6,
            "count": 0
           },
           {
            "bin_start": 11583.6,
            "bin_end": 14479.5,
            "count": 0
           },
           {
            "bin_start": 14479.5,
            "bin_end": 17375.4,
            "count": 1
           },
           {
            "bin_start": 17375.4,
            "bin_end": 20271.3,
            "count": 1
           },
           {
            "bin_start": 20271.3,
            "bin_end": 23167.2,
            "count": 0
           },
           {
            "bin_start": 23167.2,
            "bin_end": 26063.100000000002,
            "count": 0
           },
           {
            "bin_start": 26063.100000000002,
            "bin_end": 28959,
            "count": 1
           }
          ]
         }
        },
        {
         "name": "BILL_AMT_apr",
         "dtype": "float64",
         "stats": {
          "unique_count": 5,
          "nan_count": 0,
          "min": "0.0",
          "max": "29547.0",
          "histogram": [
           {
            "bin_start": 0,
            "bin_end": 2954.7,
            "count": 1
           },
           {
            "bin_start": 2954.7,
            "bin_end": 5909.4,
            "count": 1
           },
           {
            "bin_start": 5909.4,
            "bin_end": 8864.099999999999,
            "count": 0
           },
           {
            "bin_start": 8864.099999999999,
            "bin_end": 11818.8,
            "count": 0
           },
           {
            "bin_start": 11818.8,
            "bin_end": 14773.5,
            "count": 0
           },
           {
            "bin_start": 14773.5,
            "bin_end": 17728.199999999997,
            "count": 1
           },
           {
            "bin_start": 17728.199999999997,
            "bin_end": 20682.899999999998,
            "count": 1
           },
           {
            "bin_start": 20682.899999999998,
            "bin_end": 23637.6,
            "count": 0
           },
           {
            "bin_start": 23637.6,
            "bin_end": 26592.3,
            "count": 0
           },
           {
            "bin_start": 26592.3,
            "bin_end": 29547,
            "count": 1
           }
          ]
         }
        },
        {
         "name": "PAY_AMT_sept",
         "dtype": "float64",
         "stats": {
          "unique_count": 3,
          "nan_count": 0,
          "min": "0.0",
          "max": "2000.0",
          "histogram": [
           {
            "bin_start": 0,
            "bin_end": 200,
            "count": 2
           },
           {
            "bin_start": 200,
            "bin_end": 400,
            "count": 0
           },
           {
            "bin_start": 400,
            "bin_end": 600,
            "count": 0
           },
           {
            "bin_start": 600,
            "bin_end": 800,
            "count": 0
           },
           {
            "bin_start": 800,
            "bin_end": 1000,
            "count": 0
           },
           {
            "bin_start": 1000,
            "bin_end": 1200,
            "count": 0
           },
           {
            "bin_start": 1200,
            "bin_end": 1400,
            "count": 0
           },
           {
            "bin_start": 1400,
            "bin_end": 1600,
            "count": 1
           },
           {
            "bin_start": 1600,
            "bin_end": 1800,
            "count": 0
           },
           {
            "bin_start": 1800,
            "bin_end": 2000,
            "count": 2
           }
          ]
         }
        },
        {
         "name": "PAY_AMT_aug",
         "dtype": "float64",
         "stats": {
          "unique_count": 5,
          "nan_count": 0,
          "min": "689.0",
          "max": "36681.0",
          "histogram": [
           {
            "bin_start": 689,
            "bin_end": 4288.2,
            "count": 4
           },
           {
            "bin_start": 4288.2,
            "bin_end": 7887.4,
            "count": 0
           },
           {
            "bin_start": 7887.4,
            "bin_end": 11486.599999999999,
            "count": 0
           },
           {
            "bin_start": 11486.599999999999,
            "bin_end": 15085.8,
            "count": 0
           },
           {
            "bin_start": 15085.8,
            "bin_end": 18685,
            "count": 0
           },
           {
            "bin_start": 18685,
            "bin_end": 22284.199999999997,
            "count": 0
           },
           {
            "bin_start": 22284.199999999997,
            "bin_end": 25883.399999999998,
            "count": 0
           },
           {
            "bin_start": 25883.399999999998,
            "bin_end": 29482.6,
            "count": 0
           },
           {
            "bin_start": 29482.6,
            "bin_end": 33081.8,
            "count": 0
           },
           {
            "bin_start": 33081.8,
            "bin_end": 36681,
            "count": 1
           }
          ]
         }
        },
        {
         "name": "PAY_AMT_july",
         "dtype": "float64",
         "stats": {
          "unique_count": 4,
          "nan_count": 0,
          "min": "0.0",
          "max": "10000.0",
          "histogram": [
           {
            "bin_start": 0,
            "bin_end": 1000,
            "count": 1
           },
           {
            "bin_start": 1000,
            "bin_end": 2000,
            "count": 3
           },
           {
            "bin_start": 2000,
            "bin_end": 3000,
            "count": 0
           },
           {
            "bin_start": 3000,
            "bin_end": 4000,
            "count": 0
           },
           {
            "bin_start": 4000,
            "bin_end": 5000,
            "count": 0
           },
           {
            "bin_start": 5000,
            "bin_end": 6000,
            "count": 0
           },
           {
            "bin_start": 6000,
            "bin_end": 7000,
            "count": 0
           },
           {
            "bin_start": 7000,
            "bin_end": 8000,
            "count": 0
           },
           {
            "bin_start": 8000,
            "bin_end": 9000,
            "count": 0
           },
           {
            "bin_start": 9000,
            "bin_end": 10000,
            "count": 1
           }
          ]
         }
        },
        {
         "name": "PAY_AMT_june",
         "dtype": "float64",
         "stats": {
          "unique_count": 4,
          "nan_count": 0,
          "min": "0.0",
          "max": "9000.0",
          "histogram": [
           {
            "bin_start": 0,
            "bin_end": 900,
            "count": 1
           },
           {
            "bin_start": 900,
            "bin_end": 1800,
            "count": 3
           },
           {
            "bin_start": 1800,
            "bin_end": 2700,
            "count": 0
           },
           {
            "bin_start": 2700,
            "bin_end": 3600,
            "count": 0
           },
           {
            "bin_start": 3600,
            "bin_end": 4500,
            "count": 0
           },
           {
            "bin_start": 4500,
            "bin_end": 5400,
            "count": 0
           },
           {
            "bin_start": 5400,
            "bin_end": 6300,
            "count": 0
           },
           {
            "bin_start": 6300,
            "bin_end": 7200,
            "count": 0
           },
           {
            "bin_start": 7200,
            "bin_end": 8100,
            "count": 0
           },
           {
            "bin_start": 8100,
            "bin_end": 9000,
            "count": 1
           }
          ]
         }
        },
        {
         "name": "PAY_AMT_may",
         "dtype": "float64",
         "stats": {
          "unique_count": 4,
          "nan_count": 0,
          "min": "0.0",
          "max": "1069.0",
          "histogram": [
           {
            "bin_start": 0,
            "bin_end": 106.9,
            "count": 2
           },
           {
            "bin_start": 106.9,
            "bin_end": 213.8,
            "count": 0
           },
           {
            "bin_start": 213.8,
            "bin_end": 320.70000000000005,
            "count": 0
           },
           {
            "bin_start": 320.70000000000005,
            "bin_end": 427.6,
            "count": 0
           },
           {
            "bin_start": 427.6,
            "bin_end": 534.5,
            "count": 0
           },
           {
            "bin_start": 534.5,
            "bin_end": 641.4000000000001,
            "count": 0
           },
           {
            "bin_start": 641.4000000000001,
            "bin_end": 748.3000000000001,
            "count": 1
           },
           {
            "bin_start": 748.3000000000001,
            "bin_end": 855.2,
            "count": 0
           },
           {
            "bin_start": 855.2,
            "bin_end": 962.1,
            "count": 0
           },
           {
            "bin_start": 962.1,
            "bin_end": 1069,
            "count": 2
           }
          ]
         }
        },
        {
         "name": "PAY_apr.1",
         "dtype": "float64",
         "stats": {
          "unique_count": 5,
          "nan_count": 0,
          "min": "0.0",
          "max": "5000.0",
          "histogram": [
           {
            "bin_start": 0,
            "bin_end": 500,
            "count": 1
           },
           {
            "bin_start": 500,
            "bin_end": 1000,
            "count": 1
           },
           {
            "bin_start": 1000,
            "bin_end": 1500,
            "count": 1
           },
           {
            "bin_start": 1500,
            "bin_end": 2000,
            "count": 0
           },
           {
            "bin_start": 2000,
            "bin_end": 2500,
            "count": 1
           },
           {
            "bin_start": 2500,
            "bin_end": 3000,
            "count": 0
           },
           {
            "bin_start": 3000,
            "bin_end": 3500,
            "count": 0
           },
           {
            "bin_start": 3500,
            "bin_end": 4000,
            "count": 0
           },
           {
            "bin_start": 4000,
            "bin_end": 4500,
            "count": 0
           },
           {
            "bin_start": 4500,
            "bin_end": 5000,
            "count": 1
           }
          ]
         }
        },
        {
         "name": "Defaulter",
         "dtype": "int64",
         "stats": {
          "unique_count": 2,
          "nan_count": 0,
          "min": "0",
          "max": "1",
          "histogram": [
           {
            "bin_start": 0,
            "bin_end": 0.1,
            "count": 3
           },
           {
            "bin_start": 0.1,
            "bin_end": 0.2,
            "count": 0
           },
           {
            "bin_start": 0.2,
            "bin_end": 0.30000000000000004,
            "count": 0
           },
           {
            "bin_start": 0.30000000000000004,
            "bin_end": 0.4,
            "count": 0
           },
           {
            "bin_start": 0.4,
            "bin_end": 0.5,
            "count": 0
           },
           {
            "bin_start": 0.5,
            "bin_end": 0.6000000000000001,
            "count": 0
           },
           {
            "bin_start": 0.6000000000000001,
            "bin_end": 0.7000000000000001,
            "count": 0
           },
           {
            "bin_start": 0.7000000000000001,
            "bin_end": 0.8,
            "count": 0
           },
           {
            "bin_start": 0.8,
            "bin_end": 0.9,
            "count": 0
           },
           {
            "bin_start": 0.9,
            "bin_end": 1,
            "count": 2
           }
          ]
         }
        },
        {
         "name": "_deepnote_index_column",
         "dtype": "int64"
        }
       ],
       "rows": [
        {
         "ID": 1,
         "LIMIT_BAL": 20000,
         "SEX": 0,
         "EDUCATION": 2,
         "MARRIAGE": 1,
         "AGE": 24,
         "PAY_sept": 2,
         "PAY_aug": 2,
         "PAY_july": -1,
         "PAY_june": -1,
         "PAY_may": -2,
         "PAY_apr": -2,
         "BILL_AMT_sept": 3913,
         "BILL_AMT_aug": 3102,
         "BILL_AMT_july": 689,
         "BILL_AMT_june": 0,
         "BILL_AMT_may": 0,
         "BILL_AMT_apr": 0,
         "PAY_AMT_sept": 0,
         "PAY_AMT_aug": 689,
         "PAY_AMT_july": 0,
         "PAY_AMT_june": 0,
         "PAY_AMT_may": 0,
         "PAY_apr.1": 0,
         "Defaulter": 1,
         "_deepnote_index_column": 0
        },
        {
         "ID": 2,
         "LIMIT_BAL": 120000,
         "SEX": 0,
         "EDUCATION": 2,
         "MARRIAGE": 2,
         "AGE": 26,
         "PAY_sept": -1,
         "PAY_aug": 2,
         "PAY_july": 0,
         "PAY_june": 0,
         "PAY_may": 0,
         "PAY_apr": 2,
         "BILL_AMT_sept": 2682,
         "BILL_AMT_aug": 1725,
         "BILL_AMT_july": 2682,
         "BILL_AMT_june": 3272,
         "BILL_AMT_may": 3455,
         "BILL_AMT_apr": 3261,
         "PAY_AMT_sept": 0,
         "PAY_AMT_aug": 1000,
         "PAY_AMT_july": 1000,
         "PAY_AMT_june": 1000,
         "PAY_AMT_may": 0,
         "PAY_apr.1": 2000,
         "Defaulter": 1,
         "_deepnote_index_column": 1
        },
        {
         "ID": 3,
         "LIMIT_BAL": 90000,
         "SEX": 0,
         "EDUCATION": 2,
         "MARRIAGE": 2,
         "AGE": 34,
         "PAY_sept": 0,
         "PAY_aug": 0,
         "PAY_july": 0,
         "PAY_june": 0,
         "PAY_may": 0,
         "PAY_apr": 0,
         "BILL_AMT_sept": 29239,
         "BILL_AMT_aug": 14027,
         "BILL_AMT_july": 13559,
         "BILL_AMT_june": 14331,
         "BILL_AMT_may": 14948,
         "BILL_AMT_apr": 15549,
         "PAY_AMT_sept": 1518,
         "PAY_AMT_aug": 1500,
         "PAY_AMT_july": 1000,
         "PAY_AMT_june": 1000,
         "PAY_AMT_may": 1000,
         "PAY_apr.1": 5000,
         "Defaulter": 0,
         "_deepnote_index_column": 2
        },
        {
         "ID": 4,
         "LIMIT_BAL": 50000,
         "SEX": 0,
         "EDUCATION": 2,
         "MARRIAGE": 1,
         "AGE": 37,
         "PAY_sept": 0,
         "PAY_aug": 0,
         "PAY_july": 0,
         "PAY_june": 0,
         "PAY_may": 0,
         "PAY_apr": 0,
         "BILL_AMT_sept": 46990,
         "BILL_AMT_aug": 48233,
         "BILL_AMT_july": 49291,
         "BILL_AMT_june": 28314,
         "BILL_AMT_may": 28959,
         "BILL_AMT_apr": 29547,
         "PAY_AMT_sept": 2000,
         "PAY_AMT_aug": 2019,
         "PAY_AMT_july": 1200,
         "PAY_AMT_june": 1100,
         "PAY_AMT_may": 1069,
         "PAY_apr.1": 1000,
         "Defaulter": 0,
         "_deepnote_index_column": 3
        },
        {
         "ID": 5,
         "LIMIT_BAL": 50000,
         "SEX": 1,
         "EDUCATION": 2,
         "MARRIAGE": 1,
         "AGE": 57,
         "PAY_sept": -1,
         "PAY_aug": 0,
         "PAY_july": -1,
         "PAY_june": 0,
         "PAY_may": 0,
         "PAY_apr": 0,
         "BILL_AMT_sept": 8617,
         "BILL_AMT_aug": 5670,
         "BILL_AMT_july": 35835,
         "BILL_AMT_june": 20940,
         "BILL_AMT_may": 19146,
         "BILL_AMT_apr": 19131,
         "PAY_AMT_sept": 2000,
         "PAY_AMT_aug": 36681,
         "PAY_AMT_july": 10000,
         "PAY_AMT_june": 9000,
         "PAY_AMT_may": 689,
         "PAY_apr.1": 679,
         "Defaulter": 0,
         "_deepnote_index_column": 4
        }
       ]
      },
      "text/plain": "   ID  LIMIT_BAL  SEX  EDUCATION  MARRIAGE  AGE  PAY_sept  PAY_aug  PAY_july  \\\n0   1    20000.0    0          2         1   24         2        2        -1   \n1   2   120000.0    0          2         2   26        -1        2         0   \n2   3    90000.0    0          2         2   34         0        0         0   \n3   4    50000.0    0          2         1   37         0        0         0   \n4   5    50000.0    1          2         1   57        -1        0        -1   \n\n   PAY_june  ...  BILL_AMT_june  BILL_AMT_may  BILL_AMT_apr  PAY_AMT_sept  \\\n0        -1  ...            0.0           0.0           0.0           0.0   \n1         0  ...         3272.0        3455.0        3261.0           0.0   \n2         0  ...        14331.0       14948.0       15549.0        1518.0   \n3         0  ...        28314.0       28959.0       29547.0        2000.0   \n4         0  ...        20940.0       19146.0       19131.0        2000.0   \n\n   PAY_AMT_aug  PAY_AMT_july  PAY_AMT_june  PAY_AMT_may  PAY_apr  Defaulter  \n0        689.0           0.0           0.0          0.0      0.0          1  \n1       1000.0        1000.0        1000.0          0.0   2000.0          1  \n2       1500.0        1000.0        1000.0       1000.0   5000.0          0  \n3       2019.0        1200.0        1100.0       1069.0   1000.0          0  \n4      36681.0       10000.0        9000.0        689.0    679.0          0  \n\n[5 rows x 25 columns]",
      "text/html": "<div>\n<style scoped>\n    .dataframe tbody tr th:only-of-type {\n        vertical-align: middle;\n    }\n\n    .dataframe tbody tr th {\n        vertical-align: top;\n    }\n\n    .dataframe thead th {\n        text-align: right;\n    }\n</style>\n<table border=\"1\" class=\"dataframe\">\n  <thead>\n    <tr style=\"text-align: right;\">\n      <th></th>\n      <th>ID</th>\n      <th>LIMIT_BAL</th>\n      <th>SEX</th>\n      <th>EDUCATION</th>\n      <th>MARRIAGE</th>\n      <th>AGE</th>\n      <th>PAY_sept</th>\n      <th>PAY_aug</th>\n      <th>PAY_july</th>\n      <th>PAY_june</th>\n      <th>...</th>\n      <th>BILL_AMT_june</th>\n      <th>BILL_AMT_may</th>\n      <th>BILL_AMT_apr</th>\n      <th>PAY_AMT_sept</th>\n      <th>PAY_AMT_aug</th>\n      <th>PAY_AMT_july</th>\n      <th>PAY_AMT_june</th>\n      <th>PAY_AMT_may</th>\n      <th>PAY_apr</th>\n      <th>Defaulter</th>\n    </tr>\n  </thead>\n  <tbody>\n    <tr>\n      <th>0</th>\n      <td>1</td>\n      <td>20000.0</td>\n      <td>0</td>\n      <td>2</td>\n      <td>1</td>\n      <td>24</td>\n      <td>2</td>\n      <td>2</td>\n      <td>-1</td>\n      <td>-1</td>\n      <td>...</td>\n      <td>0.0</td>\n      <td>0.0</td>\n      <td>0.0</td>\n      <td>0.0</td>\n      <td>689.0</td>\n      <td>0.0</td>\n      <td>0.0</td>\n      <td>0.0</td>\n      <td>0.0</td>\n      <td>1</td>\n    </tr>\n    <tr>\n      <th>1</th>\n      <td>2</td>\n      <td>120000.0</td>\n      <td>0</td>\n      <td>2</td>\n      <td>2</td>\n      <td>26</td>\n      <td>-1</td>\n      <td>2</td>\n      <td>0</td>\n      <td>0</td>\n      <td>...</td>\n      <td>3272.0</td>\n      <td>3455.0</td>\n      <td>3261.0</td>\n      <td>0.0</td>\n      <td>1000.0</td>\n      <td>1000.0</td>\n      <td>1000.0</td>\n      <td>0.0</td>\n      <td>2000.0</td>\n      <td>1</td>\n    </tr>\n    <tr>\n      <th>2</th>\n      <td>3</td>\n      <td>90000.0</td>\n      <td>0</td>\n      <td>2</td>\n      <td>2</td>\n      <td>34</td>\n      <td>0</td>\n      <td>0</td>\n      <td>0</td>\n      <td>0</td>\n      <td>...</td>\n      <td>14331.0</td>\n      <td>14948.0</td>\n      <td>15549.0</td>\n      <td>1518.0</td>\n      <td>1500.0</td>\n      <td>1000.0</td>\n      <td>1000.0</td>\n      <td>1000.0</td>\n      <td>5000.0</td>\n      <td>0</td>\n    </tr>\n    <tr>\n      <th>3</th>\n      <td>4</td>\n      <td>50000.0</td>\n      <td>0</td>\n      <td>2</td>\n      <td>1</td>\n      <td>37</td>\n      <td>0</td>\n      <td>0</td>\n      <td>0</td>\n      <td>0</td>\n      <td>...</td>\n      <td>28314.0</td>\n      <td>28959.0</td>\n      <td>29547.0</td>\n      <td>2000.0</td>\n      <td>2019.0</td>\n      <td>1200.0</td>\n      <td>1100.0</td>\n      <td>1069.0</td>\n      <td>1000.0</td>\n      <td>0</td>\n    </tr>\n    <tr>\n      <th>4</th>\n      <td>5</td>\n      <td>50000.0</td>\n      <td>1</td>\n      <td>2</td>\n      <td>1</td>\n      <td>57</td>\n      <td>-1</td>\n      <td>0</td>\n      <td>-1</td>\n      <td>0</td>\n      <td>...</td>\n      <td>20940.0</td>\n      <td>19146.0</td>\n      <td>19131.0</td>\n      <td>2000.0</td>\n      <td>36681.0</td>\n      <td>10000.0</td>\n      <td>9000.0</td>\n      <td>689.0</td>\n      <td>679.0</td>\n      <td>0</td>\n    </tr>\n  </tbody>\n</table>\n<p>5 rows × 25 columns</p>\n</div>"
     },
     "metadata": {}
    }
   ]
  },
  {
   "cell_type": "code",
   "metadata": {
    "cell_id": "1f2cd71c96d844c1bb5d163f8448b5d3",
    "tags": [],
    "deepnote_to_be_reexecuted": false,
    "source_hash": "29afbe36",
    "execution_start": 1657627668479,
    "execution_millis": 52,
    "deepnote_app_coordinates": {
     "x": 0,
     "y": 250,
     "w": 12,
     "h": 5
    },
    "deepnote_cell_type": "code",
    "deepnote_cell_height": 136.1875,
    "deepnote_output_heights": [
     21.1875
    ]
   },
   "source": "data = pd.get_dummies(data, columns=['EDUCATION','MARRIAGE'])\ndata.shape",
   "execution_count": null,
   "outputs": [
    {
     "output_type": "execute_result",
     "execution_count": 33,
     "data": {
      "text/plain": "(30000, 30)"
     },
     "metadata": {}
    }
   ]
  },
  {
   "cell_type": "code",
   "metadata": {
    "cell_id": "551a2987baff407eb749aed44e0a42f0",
    "tags": [],
    "deepnote_to_be_reexecuted": false,
    "source_hash": "cfc51858",
    "execution_start": 1657627668535,
    "execution_millis": 619992,
    "deepnote_app_coordinates": {
     "x": 0,
     "y": 256,
     "w": 12,
     "h": 5
    },
    "deepnote_cell_type": "code",
    "deepnote_cell_height": 136.1875,
    "deepnote_output_heights": [
     21.1875
    ]
   },
   "source": "data.drop(['EDUCATION_0','MARRIAGE_3'],axis=1,inplace=True)\ndata.shape",
   "execution_count": null,
   "outputs": [
    {
     "output_type": "execute_result",
     "execution_count": 34,
     "data": {
      "text/plain": "(30000, 28)"
     },
     "metadata": {}
    }
   ]
  },
  {
   "cell_type": "code",
   "metadata": {
    "cell_id": "417bc5ba1c1d4e4894d3649e4f69dfd7",
    "tags": [],
    "deepnote_to_be_reexecuted": false,
    "source_hash": "41313cfa",
    "execution_start": 1657627668544,
    "execution_millis": 142,
    "deepnote_app_coordinates": {
     "x": 0,
     "y": 262,
     "w": 12,
     "h": 5
    },
    "deepnote_cell_type": "code",
    "deepnote_cell_height": 411.796875
   },
   "source": "data.head()",
   "execution_count": null,
   "outputs": [
    {
     "output_type": "execute_result",
     "execution_count": 35,
     "data": {
      "application/vnd.deepnote.dataframe.v3+json": {
       "column_count": 28,
       "row_count": 5,
       "columns": [
        {
         "name": "ID",
         "dtype": "int64",
         "stats": {
          "unique_count": 5,
          "nan_count": 0,
          "min": "1",
          "max": "5",
          "histogram": [
           {
            "bin_start": 1,
            "bin_end": 1.4,
            "count": 1
           },
           {
            "bin_start": 1.4,
            "bin_end": 1.8,
            "count": 0
           },
           {
            "bin_start": 1.8,
            "bin_end": 2.2,
            "count": 1
           },
           {
            "bin_start": 2.2,
            "bin_end": 2.6,
            "count": 0
           },
           {
            "bin_start": 2.6,
            "bin_end": 3,
            "count": 0
           },
           {
            "bin_start": 3,
            "bin_end": 3.4000000000000004,
            "count": 1
           },
           {
            "bin_start": 3.4000000000000004,
            "bin_end": 3.8000000000000003,
            "count": 0
           },
           {
            "bin_start": 3.8000000000000003,
            "bin_end": 4.2,
            "count": 1
           },
           {
            "bin_start": 4.2,
            "bin_end": 4.6,
            "count": 0
           },
           {
            "bin_start": 4.6,
            "bin_end": 5,
            "count": 1
           }
          ]
         }
        },
        {
         "name": "LIMIT_BAL",
         "dtype": "float64",
         "stats": {
          "unique_count": 4,
          "nan_count": 0,
          "min": "20000.0",
          "max": "120000.0",
          "histogram": [
           {
            "bin_start": 20000,
            "bin_end": 30000,
            "count": 1
           },
           {
            "bin_start": 30000,
            "bin_end": 40000,
            "count": 0
           },
           {
            "bin_start": 40000,
            "bin_end": 50000,
            "count": 0
           },
           {
            "bin_start": 50000,
            "bin_end": 60000,
            "count": 2
           },
           {
            "bin_start": 60000,
            "bin_end": 70000,
            "count": 0
           },
           {
            "bin_start": 70000,
            "bin_end": 80000,
            "count": 0
           },
           {
            "bin_start": 80000,
            "bin_end": 90000,
            "count": 0
           },
           {
            "bin_start": 90000,
            "bin_end": 100000,
            "count": 1
           },
           {
            "bin_start": 100000,
            "bin_end": 110000,
            "count": 0
           },
           {
            "bin_start": 110000,
            "bin_end": 120000,
            "count": 1
           }
          ]
         }
        },
        {
         "name": "SEX",
         "dtype": "int64",
         "stats": {
          "unique_count": 2,
          "nan_count": 0,
          "min": "0",
          "max": "1",
          "histogram": [
           {
            "bin_start": 0,
            "bin_end": 0.1,
            "count": 4
           },
           {
            "bin_start": 0.1,
            "bin_end": 0.2,
            "count": 0
           },
           {
            "bin_start": 0.2,
            "bin_end": 0.30000000000000004,
            "count": 0
           },
           {
            "bin_start": 0.30000000000000004,
            "bin_end": 0.4,
            "count": 0
           },
           {
            "bin_start": 0.4,
            "bin_end": 0.5,
            "count": 0
           },
           {
            "bin_start": 0.5,
            "bin_end": 0.6000000000000001,
            "count": 0
           },
           {
            "bin_start": 0.6000000000000001,
            "bin_end": 0.7000000000000001,
            "count": 0
           },
           {
            "bin_start": 0.7000000000000001,
            "bin_end": 0.8,
            "count": 0
           },
           {
            "bin_start": 0.8,
            "bin_end": 0.9,
            "count": 0
           },
           {
            "bin_start": 0.9,
            "bin_end": 1,
            "count": 1
           }
          ]
         }
        },
        {
         "name": "AGE",
         "dtype": "int64",
         "stats": {
          "unique_count": 5,
          "nan_count": 0,
          "min": "24",
          "max": "57",
          "histogram": [
           {
            "bin_start": 24,
            "bin_end": 27.3,
            "count": 2
           },
           {
            "bin_start": 27.3,
            "bin_end": 30.6,
            "count": 0
           },
           {
            "bin_start": 30.6,
            "bin_end": 33.9,
            "count": 0
           },
           {
            "bin_start": 33.9,
            "bin_end": 37.2,
            "count": 2
           },
           {
            "bin_start": 37.2,
            "bin_end": 40.5,
            "count": 0
           },
           {
            "bin_start": 40.5,
            "bin_end": 43.8,
            "count": 0
           },
           {
            "bin_start": 43.8,
            "bin_end": 47.099999999999994,
            "count": 0
           },
           {
            "bin_start": 47.099999999999994,
            "bin_end": 50.4,
            "count": 0
           },
           {
            "bin_start": 50.4,
            "bin_end": 53.7,
            "count": 0
           },
           {
            "bin_start": 53.7,
            "bin_end": 57,
            "count": 1
           }
          ]
         }
        },
        {
         "name": "PAY_sept",
         "dtype": "int64",
         "stats": {
          "unique_count": 3,
          "nan_count": 0,
          "min": "-1",
          "max": "2",
          "histogram": [
           {
            "bin_start": -1,
            "bin_end": -0.7,
            "count": 2
           },
           {
            "bin_start": -0.7,
            "bin_end": -0.4,
            "count": 0
           },
           {
            "bin_start": -0.4,
            "bin_end": -0.10000000000000009,
            "count": 0
           },
           {
            "bin_start": -0.10000000000000009,
            "bin_end": 0.19999999999999996,
            "count": 2
           },
           {
            "bin_start": 0.19999999999999996,
            "bin_end": 0.5,
            "count": 0
           },
           {
            "bin_start": 0.5,
            "bin_end": 0.7999999999999998,
            "count": 0
           },
           {
            "bin_start": 0.7999999999999998,
            "bin_end": 1.1,
            "count": 0
           },
           {
            "bin_start": 1.1,
            "bin_end": 1.4,
            "count": 0
           },
           {
            "bin_start": 1.4,
            "bin_end": 1.6999999999999997,
            "count": 0
           },
           {
            "bin_start": 1.6999999999999997,
            "bin_end": 2,
            "count": 1
           }
          ]
         }
        },
        {
         "name": "PAY_aug",
         "dtype": "int64",
         "stats": {
          "unique_count": 2,
          "nan_count": 0,
          "min": "0",
          "max": "2",
          "histogram": [
           {
            "bin_start": 0,
            "bin_end": 0.2,
            "count": 3
           },
           {
            "bin_start": 0.2,
            "bin_end": 0.4,
            "count": 0
           },
           {
            "bin_start": 0.4,
            "bin_end": 0.6000000000000001,
            "count": 0
           },
           {
            "bin_start": 0.6000000000000001,
            "bin_end": 0.8,
            "count": 0
           },
           {
            "bin_start": 0.8,
            "bin_end": 1,
            "count": 0
           },
           {
            "bin_start": 1,
            "bin_end": 1.2000000000000002,
            "count": 0
           },
           {
            "bin_start": 1.2000000000000002,
            "bin_end": 1.4000000000000001,
            "count": 0
           },
           {
            "bin_start": 1.4000000000000001,
            "bin_end": 1.6,
            "count": 0
           },
           {
            "bin_start": 1.6,
            "bin_end": 1.8,
            "count": 0
           },
           {
            "bin_start": 1.8,
            "bin_end": 2,
            "count": 2
           }
          ]
         }
        },
        {
         "name": "PAY_july",
         "dtype": "int64",
         "stats": {
          "unique_count": 2,
          "nan_count": 0,
          "min": "-1",
          "max": "0",
          "histogram": [
           {
            "bin_start": -1,
            "bin_end": -0.9,
            "count": 2
           },
           {
            "bin_start": -0.9,
            "bin_end": -0.8,
            "count": 0
           },
           {
            "bin_start": -0.8,
            "bin_end": -0.7,
            "count": 0
           },
           {
            "bin_start": -0.7,
            "bin_end": -0.6,
            "count": 0
           },
           {
            "bin_start": -0.6,
            "bin_end": -0.5,
            "count": 0
           },
           {
            "bin_start": -0.5,
            "bin_end": -0.3999999999999999,
            "count": 0
           },
           {
            "bin_start": -0.3999999999999999,
            "bin_end": -0.29999999999999993,
            "count": 0
           },
           {
            "bin_start": -0.29999999999999993,
            "bin_end": -0.19999999999999996,
            "count": 0
           },
           {
            "bin_start": -0.19999999999999996,
            "bin_end": -0.09999999999999998,
            "count": 0
           },
           {
            "bin_start": -0.09999999999999998,
            "bin_end": 0,
            "count": 3
           }
          ]
         }
        },
        {
         "name": "PAY_june",
         "dtype": "int64",
         "stats": {
          "unique_count": 2,
          "nan_count": 0,
          "min": "-1",
          "max": "0",
          "histogram": [
           {
            "bin_start": -1,
            "bin_end": -0.9,
            "count": 1
           },
           {
            "bin_start": -0.9,
            "bin_end": -0.8,
            "count": 0
           },
           {
            "bin_start": -0.8,
            "bin_end": -0.7,
            "count": 0
           },
           {
            "bin_start": -0.7,
            "bin_end": -0.6,
            "count": 0
           },
           {
            "bin_start": -0.6,
            "bin_end": -0.5,
            "count": 0
           },
           {
            "bin_start": -0.5,
            "bin_end": -0.3999999999999999,
            "count": 0
           },
           {
            "bin_start": -0.3999999999999999,
            "bin_end": -0.29999999999999993,
            "count": 0
           },
           {
            "bin_start": -0.29999999999999993,
            "bin_end": -0.19999999999999996,
            "count": 0
           },
           {
            "bin_start": -0.19999999999999996,
            "bin_end": -0.09999999999999998,
            "count": 0
           },
           {
            "bin_start": -0.09999999999999998,
            "bin_end": 0,
            "count": 4
           }
          ]
         }
        },
        {
         "name": "PAY_may",
         "dtype": "int64",
         "stats": {
          "unique_count": 2,
          "nan_count": 0,
          "min": "-2",
          "max": "0",
          "histogram": [
           {
            "bin_start": -2,
            "bin_end": -1.8,
            "count": 1
           },
           {
            "bin_start": -1.8,
            "bin_end": -1.6,
            "count": 0
           },
           {
            "bin_start": -1.6,
            "bin_end": -1.4,
            "count": 0
           },
           {
            "bin_start": -1.4,
            "bin_end": -1.2,
            "count": 0
           },
           {
            "bin_start": -1.2,
            "bin_end": -1,
            "count": 0
           },
           {
            "bin_start": -1,
            "bin_end": -0.7999999999999998,
            "count": 0
           },
           {
            "bin_start": -0.7999999999999998,
            "bin_end": -0.5999999999999999,
            "count": 0
           },
           {
            "bin_start": -0.5999999999999999,
            "bin_end": -0.3999999999999999,
            "count": 0
           },
           {
            "bin_start": -0.3999999999999999,
            "bin_end": -0.19999999999999996,
            "count": 0
           },
           {
            "bin_start": -0.19999999999999996,
            "bin_end": 0,
            "count": 4
           }
          ]
         }
        },
        {
         "name": "PAY_apr",
         "dtype": "int64",
         "stats": {
          "unique_count": 3,
          "nan_count": 0,
          "min": "-2",
          "max": "2",
          "histogram": [
           {
            "bin_start": -2,
            "bin_end": -1.6,
            "count": 1
           },
           {
            "bin_start": -1.6,
            "bin_end": -1.2,
            "count": 0
           },
           {
            "bin_start": -1.2,
            "bin_end": -0.7999999999999998,
            "count": 0
           },
           {
            "bin_start": -0.7999999999999998,
            "bin_end": -0.3999999999999999,
            "count": 0
           },
           {
            "bin_start": -0.3999999999999999,
            "bin_end": 0,
            "count": 0
           },
           {
            "bin_start": 0,
            "bin_end": 0.40000000000000036,
            "count": 3
           },
           {
            "bin_start": 0.40000000000000036,
            "bin_end": 0.8000000000000003,
            "count": 0
           },
           {
            "bin_start": 0.8000000000000003,
            "bin_end": 1.2000000000000002,
            "count": 0
           },
           {
            "bin_start": 1.2000000000000002,
            "bin_end": 1.6,
            "count": 0
           },
           {
            "bin_start": 1.6,
            "bin_end": 2,
            "count": 1
           }
          ]
         }
        },
        {
         "name": "BILL_AMT_sept",
         "dtype": "float64",
         "stats": {
          "unique_count": 5,
          "nan_count": 0,
          "min": "2682.0",
          "max": "46990.0",
          "histogram": [
           {
            "bin_start": 2682,
            "bin_end": 7112.8,
            "count": 2
           },
           {
            "bin_start": 7112.8,
            "bin_end": 11543.6,
            "count": 1
           },
           {
            "bin_start": 11543.6,
            "bin_end": 15974.400000000001,
            "count": 0
           },
           {
            "bin_start": 15974.400000000001,
            "bin_end": 20405.2,
            "count": 0
           },
           {
            "bin_start": 20405.2,
            "bin_end": 24836,
            "count": 0
           },
           {
            "bin_start": 24836,
            "bin_end": 29266.800000000003,
            "count": 1
           },
           {
            "bin_start": 29266.800000000003,
            "bin_end": 33697.600000000006,
            "count": 0
           },
           {
            "bin_start": 33697.600000000006,
            "bin_end": 38128.4,
            "count": 0
           },
           {
            "bin_start": 38128.4,
            "bin_end": 42559.200000000004,
            "count": 0
           },
           {
            "bin_start": 42559.200000000004,
            "bin_end": 46990,
            "count": 1
           }
          ]
         }
        },
        {
         "name": "BILL_AMT_aug",
         "dtype": "float64",
         "stats": {
          "unique_count": 5,
          "nan_count": 0,
          "min": "1725.0",
          "max": "48233.0",
          "histogram": [
           {
            "bin_start": 1725,
            "bin_end": 6375.8,
            "count": 3
           },
           {
            "bin_start": 6375.8,
            "bin_end": 11026.6,
            "count": 0
           },
           {
            "bin_start": 11026.6,
            "bin_end": 15677.400000000001,
            "count": 1
           },
           {
            "bin_start": 15677.400000000001,
            "bin_end": 20328.2,
            "count": 0
           },
           {
            "bin_start": 20328.2,
            "bin_end": 24979,
            "count": 0
           },
           {
            "bin_start": 24979,
            "bin_end": 29629.800000000003,
            "count": 0
           },
           {
            "bin_start": 29629.800000000003,
            "bin_end": 34280.600000000006,
            "count": 0
           },
           {
            "bin_start": 34280.600000000006,
            "bin_end": 38931.4,
            "count": 0
           },
           {
            "bin_start": 38931.4,
            "bin_end": 43582.200000000004,
            "count": 0
           },
           {
            "bin_start": 43582.200000000004,
            "bin_end": 48233,
            "count": 1
           }
          ]
         }
        },
        {
         "name": "BILL_AMT_july",
         "dtype": "float64",
         "stats": {
          "unique_count": 5,
          "nan_count": 0,
          "min": "689.0",
          "max": "49291.0",
          "histogram": [
           {
            "bin_start": 689,
            "bin_end": 5549.2,
            "count": 2
           },
           {
            "bin_start": 5549.2,
            "bin_end": 10409.4,
            "count": 0
           },
           {
            "bin_start": 10409.4,
            "bin_end": 15269.599999999999,
            "count": 1
           },
           {
            "bin_start": 15269.599999999999,
            "bin_end": 20129.8,
            "count": 0
           },
           {
            "bin_start": 20129.8,
            "bin_end": 24990,
            "count": 0
           },
           {
            "bin_start": 24990,
            "bin_end": 29850.199999999997,
            "count": 0
           },
           {
            "bin_start": 29850.199999999997,
            "bin_end": 34710.4,
            "count": 0
           },
           {
            "bin_start": 34710.4,
            "bin_end": 39570.6,
            "count": 1
           },
           {
            "bin_start": 39570.6,
            "bin_end": 44430.799999999996,
            "count": 0
           },
           {
            "bin_start": 44430.799999999996,
            "bin_end": 49291,
            "count": 1
           }
          ]
         }
        },
        {
         "name": "BILL_AMT_june",
         "dtype": "float64",
         "stats": {
          "unique_count": 5,
          "nan_count": 0,
          "min": "0.0",
          "max": "28314.0",
          "histogram": [
           {
            "bin_start": 0,
            "bin_end": 2831.4,
            "count": 1
           },
           {
            "bin_start": 2831.4,
            "bin_end": 5662.8,
            "count": 1
           },
           {
            "bin_start": 5662.8,
            "bin_end": 8494.2,
            "count": 0
           },
           {
            "bin_start": 8494.2,
            "bin_end": 11325.6,
            "count": 0
           },
           {
            "bin_start": 11325.6,
            "bin_end": 14157,
            "count": 0
           },
           {
            "bin_start": 14157,
            "bin_end": 16988.4,
            "count": 1
           },
           {
            "bin_start": 16988.4,
            "bin_end": 19819.8,
            "count": 0
           },
           {
            "bin_start": 19819.8,
            "bin_end": 22651.2,
            "count": 1
           },
           {
            "bin_start": 22651.2,
            "bin_end": 25482.600000000002,
            "count": 0
           },
           {
            "bin_start": 25482.600000000002,
            "bin_end": 28314,
            "count": 1
           }
          ]
         }
        },
        {
         "name": "BILL_AMT_may",
         "dtype": "float64",
         "stats": {
          "unique_count": 5,
          "nan_count": 0,
          "min": "0.0",
          "max": "28959.0",
          "histogram": [
           {
            "bin_start": 0,
            "bin_end": 2895.9,
            "count": 1
           },
           {
            "bin_start": 2895.9,
            "bin_end": 5791.8,
            "count": 1
           },
           {
            "bin_start": 5791.8,
            "bin_end": 8687.7,
            "count": 0
           },
           {
            "bin_start": 8687.7,
            "bin_end": 11583.6,
            "count": 0
           },
           {
            "bin_start": 11583.6,
            "bin_end": 14479.5,
            "count": 0
           },
           {
            "bin_start": 14479.5,
            "bin_end": 17375.4,
            "count": 1
           },
           {
            "bin_start": 17375.4,
            "bin_end": 20271.3,
            "count": 1
           },
           {
            "bin_start": 20271.3,
            "bin_end": 23167.2,
            "count": 0
           },
           {
            "bin_start": 23167.2,
            "bin_end": 26063.100000000002,
            "count": 0
           },
           {
            "bin_start": 26063.100000000002,
            "bin_end": 28959,
            "count": 1
           }
          ]
         }
        },
        {
         "name": "BILL_AMT_apr",
         "dtype": "float64",
         "stats": {
          "unique_count": 5,
          "nan_count": 0,
          "min": "0.0",
          "max": "29547.0",
          "histogram": [
           {
            "bin_start": 0,
            "bin_end": 2954.7,
            "count": 1
           },
           {
            "bin_start": 2954.7,
            "bin_end": 5909.4,
            "count": 1
           },
           {
            "bin_start": 5909.4,
            "bin_end": 8864.099999999999,
            "count": 0
           },
           {
            "bin_start": 8864.099999999999,
            "bin_end": 11818.8,
            "count": 0
           },
           {
            "bin_start": 11818.8,
            "bin_end": 14773.5,
            "count": 0
           },
           {
            "bin_start": 14773.5,
            "bin_end": 17728.199999999997,
            "count": 1
           },
           {
            "bin_start": 17728.199999999997,
            "bin_end": 20682.899999999998,
            "count": 1
           },
           {
            "bin_start": 20682.899999999998,
            "bin_end": 23637.6,
            "count": 0
           },
           {
            "bin_start": 23637.6,
            "bin_end": 26592.3,
            "count": 0
           },
           {
            "bin_start": 26592.3,
            "bin_end": 29547,
            "count": 1
           }
          ]
         }
        },
        {
         "name": "PAY_AMT_sept",
         "dtype": "float64",
         "stats": {
          "unique_count": 3,
          "nan_count": 0,
          "min": "0.0",
          "max": "2000.0",
          "histogram": [
           {
            "bin_start": 0,
            "bin_end": 200,
            "count": 2
           },
           {
            "bin_start": 200,
            "bin_end": 400,
            "count": 0
           },
           {
            "bin_start": 400,
            "bin_end": 600,
            "count": 0
           },
           {
            "bin_start": 600,
            "bin_end": 800,
            "count": 0
           },
           {
            "bin_start": 800,
            "bin_end": 1000,
            "count": 0
           },
           {
            "bin_start": 1000,
            "bin_end": 1200,
            "count": 0
           },
           {
            "bin_start": 1200,
            "bin_end": 1400,
            "count": 0
           },
           {
            "bin_start": 1400,
            "bin_end": 1600,
            "count": 1
           },
           {
            "bin_start": 1600,
            "bin_end": 1800,
            "count": 0
           },
           {
            "bin_start": 1800,
            "bin_end": 2000,
            "count": 2
           }
          ]
         }
        },
        {
         "name": "PAY_AMT_aug",
         "dtype": "float64",
         "stats": {
          "unique_count": 5,
          "nan_count": 0,
          "min": "689.0",
          "max": "36681.0",
          "histogram": [
           {
            "bin_start": 689,
            "bin_end": 4288.2,
            "count": 4
           },
           {
            "bin_start": 4288.2,
            "bin_end": 7887.4,
            "count": 0
           },
           {
            "bin_start": 7887.4,
            "bin_end": 11486.599999999999,
            "count": 0
           },
           {
            "bin_start": 11486.599999999999,
            "bin_end": 15085.8,
            "count": 0
           },
           {
            "bin_start": 15085.8,
            "bin_end": 18685,
            "count": 0
           },
           {
            "bin_start": 18685,
            "bin_end": 22284.199999999997,
            "count": 0
           },
           {
            "bin_start": 22284.199999999997,
            "bin_end": 25883.399999999998,
            "count": 0
           },
           {
            "bin_start": 25883.399999999998,
            "bin_end": 29482.6,
            "count": 0
           },
           {
            "bin_start": 29482.6,
            "bin_end": 33081.8,
            "count": 0
           },
           {
            "bin_start": 33081.8,
            "bin_end": 36681,
            "count": 1
           }
          ]
         }
        },
        {
         "name": "PAY_AMT_july",
         "dtype": "float64",
         "stats": {
          "unique_count": 4,
          "nan_count": 0,
          "min": "0.0",
          "max": "10000.0",
          "histogram": [
           {
            "bin_start": 0,
            "bin_end": 1000,
            "count": 1
           },
           {
            "bin_start": 1000,
            "bin_end": 2000,
            "count": 3
           },
           {
            "bin_start": 2000,
            "bin_end": 3000,
            "count": 0
           },
           {
            "bin_start": 3000,
            "bin_end": 4000,
            "count": 0
           },
           {
            "bin_start": 4000,
            "bin_end": 5000,
            "count": 0
           },
           {
            "bin_start": 5000,
            "bin_end": 6000,
            "count": 0
           },
           {
            "bin_start": 6000,
            "bin_end": 7000,
            "count": 0
           },
           {
            "bin_start": 7000,
            "bin_end": 8000,
            "count": 0
           },
           {
            "bin_start": 8000,
            "bin_end": 9000,
            "count": 0
           },
           {
            "bin_start": 9000,
            "bin_end": 10000,
            "count": 1
           }
          ]
         }
        },
        {
         "name": "PAY_AMT_june",
         "dtype": "float64",
         "stats": {
          "unique_count": 4,
          "nan_count": 0,
          "min": "0.0",
          "max": "9000.0",
          "histogram": [
           {
            "bin_start": 0,
            "bin_end": 900,
            "count": 1
           },
           {
            "bin_start": 900,
            "bin_end": 1800,
            "count": 3
           },
           {
            "bin_start": 1800,
            "bin_end": 2700,
            "count": 0
           },
           {
            "bin_start": 2700,
            "bin_end": 3600,
            "count": 0
           },
           {
            "bin_start": 3600,
            "bin_end": 4500,
            "count": 0
           },
           {
            "bin_start": 4500,
            "bin_end": 5400,
            "count": 0
           },
           {
            "bin_start": 5400,
            "bin_end": 6300,
            "count": 0
           },
           {
            "bin_start": 6300,
            "bin_end": 7200,
            "count": 0
           },
           {
            "bin_start": 7200,
            "bin_end": 8100,
            "count": 0
           },
           {
            "bin_start": 8100,
            "bin_end": 9000,
            "count": 1
           }
          ]
         }
        },
        {
         "name": "PAY_AMT_may",
         "dtype": "float64",
         "stats": {
          "unique_count": 4,
          "nan_count": 0,
          "min": "0.0",
          "max": "1069.0",
          "histogram": [
           {
            "bin_start": 0,
            "bin_end": 106.9,
            "count": 2
           },
           {
            "bin_start": 106.9,
            "bin_end": 213.8,
            "count": 0
           },
           {
            "bin_start": 213.8,
            "bin_end": 320.70000000000005,
            "count": 0
           },
           {
            "bin_start": 320.70000000000005,
            "bin_end": 427.6,
            "count": 0
           },
           {
            "bin_start": 427.6,
            "bin_end": 534.5,
            "count": 0
           },
           {
            "bin_start": 534.5,
            "bin_end": 641.4000000000001,
            "count": 0
           },
           {
            "bin_start": 641.4000000000001,
            "bin_end": 748.3000000000001,
            "count": 1
           },
           {
            "bin_start": 748.3000000000001,
            "bin_end": 855.2,
            "count": 0
           },
           {
            "bin_start": 855.2,
            "bin_end": 962.1,
            "count": 0
           },
           {
            "bin_start": 962.1,
            "bin_end": 1069,
            "count": 2
           }
          ]
         }
        },
        {
         "name": "PAY_apr.1",
         "dtype": "float64",
         "stats": {
          "unique_count": 5,
          "nan_count": 0,
          "min": "0.0",
          "max": "5000.0",
          "histogram": [
           {
            "bin_start": 0,
            "bin_end": 500,
            "count": 1
           },
           {
            "bin_start": 500,
            "bin_end": 1000,
            "count": 1
           },
           {
            "bin_start": 1000,
            "bin_end": 1500,
            "count": 1
           },
           {
            "bin_start": 1500,
            "bin_end": 2000,
            "count": 0
           },
           {
            "bin_start": 2000,
            "bin_end": 2500,
            "count": 1
           },
           {
            "bin_start": 2500,
            "bin_end": 3000,
            "count": 0
           },
           {
            "bin_start": 3000,
            "bin_end": 3500,
            "count": 0
           },
           {
            "bin_start": 3500,
            "bin_end": 4000,
            "count": 0
           },
           {
            "bin_start": 4000,
            "bin_end": 4500,
            "count": 0
           },
           {
            "bin_start": 4500,
            "bin_end": 5000,
            "count": 1
           }
          ]
         }
        },
        {
         "name": "Defaulter",
         "dtype": "int64",
         "stats": {
          "unique_count": 2,
          "nan_count": 0,
          "min": "0",
          "max": "1",
          "histogram": [
           {
            "bin_start": 0,
            "bin_end": 0.1,
            "count": 3
           },
           {
            "bin_start": 0.1,
            "bin_end": 0.2,
            "count": 0
           },
           {
            "bin_start": 0.2,
            "bin_end": 0.30000000000000004,
            "count": 0
           },
           {
            "bin_start": 0.30000000000000004,
            "bin_end": 0.4,
            "count": 0
           },
           {
            "bin_start": 0.4,
            "bin_end": 0.5,
            "count": 0
           },
           {
            "bin_start": 0.5,
            "bin_end": 0.6000000000000001,
            "count": 0
           },
           {
            "bin_start": 0.6000000000000001,
            "bin_end": 0.7000000000000001,
            "count": 0
           },
           {
            "bin_start": 0.7000000000000001,
            "bin_end": 0.8,
            "count": 0
           },
           {
            "bin_start": 0.8,
            "bin_end": 0.9,
            "count": 0
           },
           {
            "bin_start": 0.9,
            "bin_end": 1,
            "count": 2
           }
          ]
         }
        },
        {
         "name": "EDUCATION_1",
         "dtype": "uint8",
         "stats": {
          "unique_count": 1,
          "nan_count": 0,
          "min": "0",
          "max": "0",
          "histogram": [
           {
            "bin_start": -0.5,
            "bin_end": -0.4,
            "count": 0
           },
           {
            "bin_start": -0.4,
            "bin_end": -0.3,
            "count": 0
           },
           {
            "bin_start": -0.3,
            "bin_end": -0.19999999999999996,
            "count": 0
           },
           {
            "bin_start": -0.19999999999999996,
            "bin_end": -0.09999999999999998,
            "count": 0
           },
           {
            "bin_start": -0.09999999999999998,
            "bin_end": 0,
            "count": 0
           },
           {
            "bin_start": 0,
            "bin_end": 0.10000000000000009,
            "count": 5
           },
           {
            "bin_start": 0.10000000000000009,
            "bin_end": 0.20000000000000007,
            "count": 0
           },
           {
            "bin_start": 0.20000000000000007,
            "bin_end": 0.30000000000000004,
            "count": 0
           },
           {
            "bin_start": 0.30000000000000004,
            "bin_end": 0.4,
            "count": 0
           },
           {
            "bin_start": 0.4,
            "bin_end": 0.5,
            "count": 0
           }
          ]
         }
        },
        {
         "name": "EDUCATION_2",
         "dtype": "uint8",
         "stats": {
          "unique_count": 1,
          "nan_count": 0,
          "min": "1",
          "max": "1",
          "histogram": [
           {
            "bin_start": 0.5,
            "bin_end": 0.6,
            "count": 0
           },
           {
            "bin_start": 0.6,
            "bin_end": 0.7,
            "count": 0
           },
           {
            "bin_start": 0.7,
            "bin_end": 0.8,
            "count": 0
           },
           {
            "bin_start": 0.8,
            "bin_end": 0.9,
            "count": 0
           },
           {
            "bin_start": 0.9,
            "bin_end": 1,
            "count": 0
           },
           {
            "bin_start": 1,
            "bin_end": 1.1,
            "count": 5
           },
           {
            "bin_start": 1.1,
            "bin_end": 1.2000000000000002,
            "count": 0
           },
           {
            "bin_start": 1.2000000000000002,
            "bin_end": 1.3,
            "count": 0
           },
           {
            "bin_start": 1.3,
            "bin_end": 1.4,
            "count": 0
           },
           {
            "bin_start": 1.4,
            "bin_end": 1.5,
            "count": 0
           }
          ]
         }
        },
        {
         "name": "EDUCATION_3",
         "dtype": "uint8",
         "stats": {
          "unique_count": 1,
          "nan_count": 0,
          "min": "0",
          "max": "0",
          "histogram": [
           {
            "bin_start": -0.5,
            "bin_end": -0.4,
            "count": 0
           },
           {
            "bin_start": -0.4,
            "bin_end": -0.3,
            "count": 0
           },
           {
            "bin_start": -0.3,
            "bin_end": -0.19999999999999996,
            "count": 0
           },
           {
            "bin_start": -0.19999999999999996,
            "bin_end": -0.09999999999999998,
            "count": 0
           },
           {
            "bin_start": -0.09999999999999998,
            "bin_end": 0,
            "count": 0
           },
           {
            "bin_start": 0,
            "bin_end": 0.10000000000000009,
            "count": 5
           },
           {
            "bin_start": 0.10000000000000009,
            "bin_end": 0.20000000000000007,
            "count": 0
           },
           {
            "bin_start": 0.20000000000000007,
            "bin_end": 0.30000000000000004,
            "count": 0
           },
           {
            "bin_start": 0.30000000000000004,
            "bin_end": 0.4,
            "count": 0
           },
           {
            "bin_start": 0.4,
            "bin_end": 0.5,
            "count": 0
           }
          ]
         }
        },
        {
         "name": "MARRIAGE_1",
         "dtype": "uint8",
         "stats": {
          "unique_count": 2,
          "nan_count": 0,
          "min": "0",
          "max": "1",
          "histogram": [
           {
            "bin_start": 0,
            "bin_end": 0.1,
            "count": 2
           },
           {
            "bin_start": 0.1,
            "bin_end": 0.2,
            "count": 0
           },
           {
            "bin_start": 0.2,
            "bin_end": 0.30000000000000004,
            "count": 0
           },
           {
            "bin_start": 0.30000000000000004,
            "bin_end": 0.4,
            "count": 0
           },
           {
            "bin_start": 0.4,
            "bin_end": 0.5,
            "count": 0
           },
           {
            "bin_start": 0.5,
            "bin_end": 0.6000000000000001,
            "count": 0
           },
           {
            "bin_start": 0.6000000000000001,
            "bin_end": 0.7000000000000001,
            "count": 0
           },
           {
            "bin_start": 0.7000000000000001,
            "bin_end": 0.8,
            "count": 0
           },
           {
            "bin_start": 0.8,
            "bin_end": 0.9,
            "count": 0
           },
           {
            "bin_start": 0.9,
            "bin_end": 1,
            "count": 3
           }
          ]
         }
        },
        {
         "name": "MARRIAGE_2",
         "dtype": "uint8",
         "stats": {
          "unique_count": 2,
          "nan_count": 0,
          "min": "0",
          "max": "1",
          "histogram": [
           {
            "bin_start": 0,
            "bin_end": 0.1,
            "count": 3
           },
           {
            "bin_start": 0.1,
            "bin_end": 0.2,
            "count": 0
           },
           {
            "bin_start": 0.2,
            "bin_end": 0.30000000000000004,
            "count": 0
           },
           {
            "bin_start": 0.30000000000000004,
            "bin_end": 0.4,
            "count": 0
           },
           {
            "bin_start": 0.4,
            "bin_end": 0.5,
            "count": 0
           },
           {
            "bin_start": 0.5,
            "bin_end": 0.6000000000000001,
            "count": 0
           },
           {
            "bin_start": 0.6000000000000001,
            "bin_end": 0.7000000000000001,
            "count": 0
           },
           {
            "bin_start": 0.7000000000000001,
            "bin_end": 0.8,
            "count": 0
           },
           {
            "bin_start": 0.8,
            "bin_end": 0.9,
            "count": 0
           },
           {
            "bin_start": 0.9,
            "bin_end": 1,
            "count": 2
           }
          ]
         }
        },
        {
         "name": "_deepnote_index_column",
         "dtype": "int64"
        }
       ],
       "rows": [
        {
         "ID": 1,
         "LIMIT_BAL": 20000,
         "SEX": 0,
         "AGE": 24,
         "PAY_sept": 2,
         "PAY_aug": 2,
         "PAY_july": -1,
         "PAY_june": -1,
         "PAY_may": -2,
         "PAY_apr": -2,
         "BILL_AMT_sept": 3913,
         "BILL_AMT_aug": 3102,
         "BILL_AMT_july": 689,
         "BILL_AMT_june": 0,
         "BILL_AMT_may": 0,
         "BILL_AMT_apr": 0,
         "PAY_AMT_sept": 0,
         "PAY_AMT_aug": 689,
         "PAY_AMT_july": 0,
         "PAY_AMT_june": 0,
         "PAY_AMT_may": 0,
         "PAY_apr.1": 0,
         "Defaulter": 1,
         "EDUCATION_1": 0,
         "EDUCATION_2": 1,
         "EDUCATION_3": 0,
         "MARRIAGE_1": 1,
         "MARRIAGE_2": 0,
         "_deepnote_index_column": 0
        },
        {
         "ID": 2,
         "LIMIT_BAL": 120000,
         "SEX": 0,
         "AGE": 26,
         "PAY_sept": -1,
         "PAY_aug": 2,
         "PAY_july": 0,
         "PAY_june": 0,
         "PAY_may": 0,
         "PAY_apr": 2,
         "BILL_AMT_sept": 2682,
         "BILL_AMT_aug": 1725,
         "BILL_AMT_july": 2682,
         "BILL_AMT_june": 3272,
         "BILL_AMT_may": 3455,
         "BILL_AMT_apr": 3261,
         "PAY_AMT_sept": 0,
         "PAY_AMT_aug": 1000,
         "PAY_AMT_july": 1000,
         "PAY_AMT_june": 1000,
         "PAY_AMT_may": 0,
         "PAY_apr.1": 2000,
         "Defaulter": 1,
         "EDUCATION_1": 0,
         "EDUCATION_2": 1,
         "EDUCATION_3": 0,
         "MARRIAGE_1": 0,
         "MARRIAGE_2": 1,
         "_deepnote_index_column": 1
        },
        {
         "ID": 3,
         "LIMIT_BAL": 90000,
         "SEX": 0,
         "AGE": 34,
         "PAY_sept": 0,
         "PAY_aug": 0,
         "PAY_july": 0,
         "PAY_june": 0,
         "PAY_may": 0,
         "PAY_apr": 0,
         "BILL_AMT_sept": 29239,
         "BILL_AMT_aug": 14027,
         "BILL_AMT_july": 13559,
         "BILL_AMT_june": 14331,
         "BILL_AMT_may": 14948,
         "BILL_AMT_apr": 15549,
         "PAY_AMT_sept": 1518,
         "PAY_AMT_aug": 1500,
         "PAY_AMT_july": 1000,
         "PAY_AMT_june": 1000,
         "PAY_AMT_may": 1000,
         "PAY_apr.1": 5000,
         "Defaulter": 0,
         "EDUCATION_1": 0,
         "EDUCATION_2": 1,
         "EDUCATION_3": 0,
         "MARRIAGE_1": 0,
         "MARRIAGE_2": 1,
         "_deepnote_index_column": 2
        },
        {
         "ID": 4,
         "LIMIT_BAL": 50000,
         "SEX": 0,
         "AGE": 37,
         "PAY_sept": 0,
         "PAY_aug": 0,
         "PAY_july": 0,
         "PAY_june": 0,
         "PAY_may": 0,
         "PAY_apr": 0,
         "BILL_AMT_sept": 46990,
         "BILL_AMT_aug": 48233,
         "BILL_AMT_july": 49291,
         "BILL_AMT_june": 28314,
         "BILL_AMT_may": 28959,
         "BILL_AMT_apr": 29547,
         "PAY_AMT_sept": 2000,
         "PAY_AMT_aug": 2019,
         "PAY_AMT_july": 1200,
         "PAY_AMT_june": 1100,
         "PAY_AMT_may": 1069,
         "PAY_apr.1": 1000,
         "Defaulter": 0,
         "EDUCATION_1": 0,
         "EDUCATION_2": 1,
         "EDUCATION_3": 0,
         "MARRIAGE_1": 1,
         "MARRIAGE_2": 0,
         "_deepnote_index_column": 3
        },
        {
         "ID": 5,
         "LIMIT_BAL": 50000,
         "SEX": 1,
         "AGE": 57,
         "PAY_sept": -1,
         "PAY_aug": 0,
         "PAY_july": -1,
         "PAY_june": 0,
         "PAY_may": 0,
         "PAY_apr": 0,
         "BILL_AMT_sept": 8617,
         "BILL_AMT_aug": 5670,
         "BILL_AMT_july": 35835,
         "BILL_AMT_june": 20940,
         "BILL_AMT_may": 19146,
         "BILL_AMT_apr": 19131,
         "PAY_AMT_sept": 2000,
         "PAY_AMT_aug": 36681,
         "PAY_AMT_july": 10000,
         "PAY_AMT_june": 9000,
         "PAY_AMT_may": 689,
         "PAY_apr.1": 679,
         "Defaulter": 0,
         "EDUCATION_1": 0,
         "EDUCATION_2": 1,
         "EDUCATION_3": 0,
         "MARRIAGE_1": 1,
         "MARRIAGE_2": 0,
         "_deepnote_index_column": 4
        }
       ]
      },
      "text/plain": "   ID  LIMIT_BAL  SEX  AGE  PAY_sept  PAY_aug  PAY_july  PAY_june  PAY_may  \\\n0   1    20000.0    0   24         2        2        -1        -1       -2   \n1   2   120000.0    0   26        -1        2         0         0        0   \n2   3    90000.0    0   34         0        0         0         0        0   \n3   4    50000.0    0   37         0        0         0         0        0   \n4   5    50000.0    1   57        -1        0        -1         0        0   \n\n   PAY_apr  ...  PAY_AMT_july  PAY_AMT_june  PAY_AMT_may  PAY_apr  Defaulter  \\\n0       -2  ...           0.0           0.0          0.0      0.0          1   \n1        2  ...        1000.0        1000.0          0.0   2000.0          1   \n2        0  ...        1000.0        1000.0       1000.0   5000.0          0   \n3        0  ...        1200.0        1100.0       1069.0   1000.0          0   \n4        0  ...       10000.0        9000.0        689.0    679.0          0   \n\n   EDUCATION_1  EDUCATION_2  EDUCATION_3  MARRIAGE_1  MARRIAGE_2  \n0            0            1            0           1           0  \n1            0            1            0           0           1  \n2            0            1            0           0           1  \n3            0            1            0           1           0  \n4            0            1            0           1           0  \n\n[5 rows x 28 columns]",
      "text/html": "<div>\n<style scoped>\n    .dataframe tbody tr th:only-of-type {\n        vertical-align: middle;\n    }\n\n    .dataframe tbody tr th {\n        vertical-align: top;\n    }\n\n    .dataframe thead th {\n        text-align: right;\n    }\n</style>\n<table border=\"1\" class=\"dataframe\">\n  <thead>\n    <tr style=\"text-align: right;\">\n      <th></th>\n      <th>ID</th>\n      <th>LIMIT_BAL</th>\n      <th>SEX</th>\n      <th>AGE</th>\n      <th>PAY_sept</th>\n      <th>PAY_aug</th>\n      <th>PAY_july</th>\n      <th>PAY_june</th>\n      <th>PAY_may</th>\n      <th>PAY_apr</th>\n      <th>...</th>\n      <th>PAY_AMT_july</th>\n      <th>PAY_AMT_june</th>\n      <th>PAY_AMT_may</th>\n      <th>PAY_apr</th>\n      <th>Defaulter</th>\n      <th>EDUCATION_1</th>\n      <th>EDUCATION_2</th>\n      <th>EDUCATION_3</th>\n      <th>MARRIAGE_1</th>\n      <th>MARRIAGE_2</th>\n    </tr>\n  </thead>\n  <tbody>\n    <tr>\n      <th>0</th>\n      <td>1</td>\n      <td>20000.0</td>\n      <td>0</td>\n      <td>24</td>\n      <td>2</td>\n      <td>2</td>\n      <td>-1</td>\n      <td>-1</td>\n      <td>-2</td>\n      <td>-2</td>\n      <td>...</td>\n      <td>0.0</td>\n      <td>0.0</td>\n      <td>0.0</td>\n      <td>0.0</td>\n      <td>1</td>\n      <td>0</td>\n      <td>1</td>\n      <td>0</td>\n      <td>1</td>\n      <td>0</td>\n    </tr>\n    <tr>\n      <th>1</th>\n      <td>2</td>\n      <td>120000.0</td>\n      <td>0</td>\n      <td>26</td>\n      <td>-1</td>\n      <td>2</td>\n      <td>0</td>\n      <td>0</td>\n      <td>0</td>\n      <td>2</td>\n      <td>...</td>\n      <td>1000.0</td>\n      <td>1000.0</td>\n      <td>0.0</td>\n      <td>2000.0</td>\n      <td>1</td>\n      <td>0</td>\n      <td>1</td>\n      <td>0</td>\n      <td>0</td>\n      <td>1</td>\n    </tr>\n    <tr>\n      <th>2</th>\n      <td>3</td>\n      <td>90000.0</td>\n      <td>0</td>\n      <td>34</td>\n      <td>0</td>\n      <td>0</td>\n      <td>0</td>\n      <td>0</td>\n      <td>0</td>\n      <td>0</td>\n      <td>...</td>\n      <td>1000.0</td>\n      <td>1000.0</td>\n      <td>1000.0</td>\n      <td>5000.0</td>\n      <td>0</td>\n      <td>0</td>\n      <td>1</td>\n      <td>0</td>\n      <td>0</td>\n      <td>1</td>\n    </tr>\n    <tr>\n      <th>3</th>\n      <td>4</td>\n      <td>50000.0</td>\n      <td>0</td>\n      <td>37</td>\n      <td>0</td>\n      <td>0</td>\n      <td>0</td>\n      <td>0</td>\n      <td>0</td>\n      <td>0</td>\n      <td>...</td>\n      <td>1200.0</td>\n      <td>1100.0</td>\n      <td>1069.0</td>\n      <td>1000.0</td>\n      <td>0</td>\n      <td>0</td>\n      <td>1</td>\n      <td>0</td>\n      <td>1</td>\n      <td>0</td>\n    </tr>\n    <tr>\n      <th>4</th>\n      <td>5</td>\n      <td>50000.0</td>\n      <td>1</td>\n      <td>57</td>\n      <td>-1</td>\n      <td>0</td>\n      <td>-1</td>\n      <td>0</td>\n      <td>0</td>\n      <td>0</td>\n      <td>...</td>\n      <td>10000.0</td>\n      <td>9000.0</td>\n      <td>689.0</td>\n      <td>679.0</td>\n      <td>0</td>\n      <td>0</td>\n      <td>1</td>\n      <td>0</td>\n      <td>1</td>\n      <td>0</td>\n    </tr>\n  </tbody>\n</table>\n<p>5 rows × 28 columns</p>\n</div>"
     },
     "metadata": {}
    }
   ]
  },
  {
   "cell_type": "code",
   "metadata": {
    "cell_id": "ed5b578568b14f1fa5eae450e0ebcb1b",
    "tags": [],
    "deepnote_to_be_reexecuted": false,
    "source_hash": "2007f58",
    "execution_start": 1657627668690,
    "execution_millis": 22,
    "deepnote_app_coordinates": {
     "x": 0,
     "y": 268,
     "w": 12,
     "h": 5
    },
    "deepnote_cell_type": "code",
    "deepnote_cell_height": 118.1875,
    "deepnote_output_heights": [
     21.1875
    ]
   },
   "source": "data.shape",
   "execution_count": null,
   "outputs": [
    {
     "output_type": "execute_result",
     "execution_count": 36,
     "data": {
      "text/plain": "(30000, 28)"
     },
     "metadata": {}
    }
   ]
  },
  {
   "cell_type": "markdown",
   "source": "# TRAINING AND TESTING MODEL",
   "metadata": {
    "formattedRanges": [],
    "cell_id": "8ee2e93ef6ad4428a2a457ea02cf8b0d",
    "tags": [],
    "is_collapsed": false,
    "deepnote_app_coordinates": {
     "x": 0,
     "y": 274,
     "w": 12,
     "h": 5
    },
    "deepnote_cell_type": "text-cell-h1"
   }
  },
  {
   "cell_type": "code",
   "metadata": {
    "cell_id": "689bb339d36e4a7793caa918eda8efb1",
    "tags": [],
    "deepnote_to_be_reexecuted": false,
    "source_hash": "450ed3e7",
    "execution_start": 1657627668701,
    "execution_millis": 8,
    "deepnote_app_coordinates": {
     "x": 0,
     "y": 280,
     "w": 12,
     "h": 5
    },
    "deepnote_cell_type": "code",
    "deepnote_cell_height": 99
   },
   "source": "x = data.drop(columns = ['Defaulter'])\ny = data['Defaulter']",
   "execution_count": null,
   "outputs": []
  },
  {
   "cell_type": "code",
   "metadata": {
    "cell_id": "5695a9b04a6f4afe9e4c1a6a3143d373",
    "tags": [],
    "deepnote_to_be_reexecuted": false,
    "source_hash": "eda3be93",
    "execution_start": 1657627668710,
    "execution_millis": 97,
    "deepnote_app_coordinates": {
     "x": 0,
     "y": 286,
     "w": 12,
     "h": 5
    },
    "deepnote_cell_type": "code",
    "deepnote_cell_height": 99
   },
   "source": "from sklearn.model_selection import train_test_split\nx_train,x_test,y_train,y_test = train_test_split(x,y,test_size=0.2,random_state=0)",
   "execution_count": null,
   "outputs": []
  },
  {
   "cell_type": "code",
   "metadata": {
    "cell_id": "88ffee2be9fb45829632e7f5c47c79fe",
    "tags": [],
    "deepnote_to_be_reexecuted": false,
    "source_hash": "6b4d6ed5",
    "execution_start": 1657627668812,
    "execution_millis": 14,
    "deepnote_app_coordinates": {
     "x": 0,
     "y": 292,
     "w": 12,
     "h": 5
    },
    "deepnote_cell_type": "code",
    "deepnote_cell_height": 118.1875,
    "deepnote_output_heights": [
     21.1875
    ]
   },
   "source": "x_train.shape",
   "execution_count": null,
   "outputs": [
    {
     "output_type": "execute_result",
     "execution_count": 39,
     "data": {
      "text/plain": "(24000, 27)"
     },
     "metadata": {}
    }
   ]
  },
  {
   "cell_type": "code",
   "metadata": {
    "cell_id": "d72dc38b927e49d4a9844ae1b02f4d2c",
    "tags": [],
    "deepnote_to_be_reexecuted": false,
    "source_hash": "692ae804",
    "execution_start": 1657627668880,
    "execution_millis": 4,
    "deepnote_app_coordinates": {
     "x": 0,
     "y": 298,
     "w": 12,
     "h": 5
    },
    "deepnote_cell_type": "code",
    "deepnote_cell_height": 118.1875,
    "deepnote_output_heights": [
     21.1875
    ]
   },
   "source": "x_test.shape",
   "execution_count": null,
   "outputs": [
    {
     "output_type": "execute_result",
     "execution_count": 40,
     "data": {
      "text/plain": "(6000, 27)"
     },
     "metadata": {}
    }
   ]
  },
  {
   "cell_type": "markdown",
   "source": "### LOGISTIC REGRESSION",
   "metadata": {
    "formattedRanges": [],
    "cell_id": "16788cca0be74e7e991ff1a8605a3d79",
    "tags": [],
    "is_collapsed": false,
    "deepnote_app_coordinates": {
     "x": 0,
     "y": 304,
     "w": 12,
     "h": 5
    },
    "deepnote_cell_type": "text-cell-h3"
   }
  },
  {
   "cell_type": "code",
   "metadata": {
    "cell_id": "c2f822c41c994245ae1f3630cb6be554",
    "tags": [],
    "deepnote_to_be_reexecuted": false,
    "source_hash": "f2c6aa0",
    "execution_start": 1657627668882,
    "execution_millis": 629,
    "deepnote_app_coordinates": {
     "x": 0,
     "y": 310,
     "w": 12,
     "h": 5
    },
    "deepnote_cell_type": "code",
    "deepnote_cell_height": 153
   },
   "source": "from sklearn.linear_model import LogisticRegression\nfrom sklearn.metrics import accuracy_score, recall_score, precision_score, f1_score, roc_auc_score, confusion_matrix, roc_curve, auc\nle = LogisticRegression()\nle.fit(x_train,y_train)\ny_predict_log=le.predict(x_test)",
   "execution_count": null,
   "outputs": []
  },
  {
   "cell_type": "code",
   "metadata": {
    "cell_id": "2b750fde61e7417b9efb96060c8d7097",
    "tags": [],
    "deepnote_to_be_reexecuted": false,
    "source_hash": "5ef56219",
    "execution_start": 1657627669517,
    "execution_millis": 42,
    "deepnote_app_coordinates": {
     "x": 0,
     "y": 316,
     "w": 12,
     "h": 5
    },
    "deepnote_cell_type": "code",
    "deepnote_cell_height": 171
   },
   "source": "from sklearn.preprocessing import StandardScaler\nfrom sklearn.preprocessing import MinMaxScaler\nscaler = StandardScaler()\nscaler.fit(x_train)\nx_train_scaler=scaler.transform(x_train)\nx_test_scaler=scaler.transform(x_test)",
   "execution_count": null,
   "outputs": []
  },
  {
   "cell_type": "code",
   "metadata": {
    "cell_id": "cb9f42faa4784b8a8660076f1ab7a2aa",
    "tags": [],
    "deepnote_to_be_reexecuted": false,
    "source_hash": "de4b5f71",
    "execution_start": 1657627669572,
    "execution_millis": 315,
    "deepnote_app_coordinates": {
     "x": 0,
     "y": 322,
     "w": 12,
     "h": 5
    },
    "deepnote_cell_type": "code",
    "deepnote_cell_height": 172.1875,
    "deepnote_output_heights": [
     21.1875
    ]
   },
   "source": "log_scled=LogisticRegression()\nlog_scled.fit(x_train_scaler,y_train)\ny_predict_scaled_log=log_scled.predict(x_test_scaler)\naccuracy_score(y_test,y_predict_scaled_log)",
   "execution_count": null,
   "outputs": [
    {
     "output_type": "execute_result",
     "execution_count": 43,
     "data": {
      "text/plain": "0.8198333333333333"
     },
     "metadata": {}
    }
   ]
  },
  {
   "cell_type": "code",
   "metadata": {
    "cell_id": "130a2fed0d0f44e78cd4745e3c4f0c2d",
    "tags": [],
    "deepnote_to_be_reexecuted": false,
    "source_hash": "96eb9fda",
    "execution_start": 1657627669882,
    "execution_millis": 541,
    "deepnote_app_coordinates": {
     "x": 0,
     "y": 328,
     "w": 12,
     "h": 5
    },
    "deepnote_cell_type": "code",
    "deepnote_cell_height": 137.375,
    "deepnote_output_heights": [
     40.390625
    ]
   },
   "source": "confusion_matrix(y_test,y_predict_scaled_log)",
   "execution_count": null,
   "outputs": [
    {
     "output_type": "execute_result",
     "execution_count": 44,
     "data": {
      "text/plain": "array([[4607,   96],\n       [ 985,  312]])"
     },
     "metadata": {}
    }
   ]
  },
  {
   "cell_type": "code",
   "metadata": {
    "cell_id": "358348674f5d445e986445153a59e932",
    "tags": [],
    "deepnote_to_be_reexecuted": false,
    "source_hash": "cf18f406",
    "execution_start": 1657627669903,
    "execution_millis": 711,
    "deepnote_app_coordinates": {
     "x": 0,
     "y": 334,
     "w": 12,
     "h": 5
    },
    "deepnote_cell_type": "code",
    "deepnote_cell_height": 354
   },
   "source": "accuracy_log = round(accuracy_score(y_test,y_predict_scaled_log),2)\nprint(\"Accuracy on train data : \", accuracy_log)\nprecision_log = round(precision_score(y_test,y_predict_scaled_log),2)\nprint(\"Precision score of test data : \",precision_log)\nrecall_log = round(recall_score(y_test,y_predict_scaled_log),2)\nprint(\"Recall score of test data : \", recall_log)\nf1_log = round(f1_score(y_test,y_predict_scaled_log),2)\nprint(\"F1 score of test data : \", f1_log)\nroc_log = round(roc_auc_score(y_test,y_predict_scaled_log),2)\nprint(\"Roc score of test data : \", roc_log)",
   "execution_count": null,
   "outputs": [
    {
     "name": "stdout",
     "text": "Accuracy on train data :  0.82\nPrecision score of test data :  0.76\nRecall score of test data :  0.24\nF1 score of test data :  0.37\nRoc score of test data :  0.61\n",
     "output_type": "stream"
    }
   ]
  },
  {
   "cell_type": "code",
   "metadata": {
    "cell_id": "70d127b77e4d4f36bb185391cff34902",
    "tags": [],
    "deepnote_to_be_reexecuted": false,
    "source_hash": "c72e9084",
    "execution_start": 1657627669941,
    "execution_millis": 0,
    "deepnote_app_coordinates": {
     "x": 0,
     "y": 340,
     "w": 12,
     "h": 5
    },
    "deepnote_cell_type": "code",
    "deepnote_cell_height": 81
   },
   "source": "from sklearn.metrics import classification_report",
   "execution_count": null,
   "outputs": []
  },
  {
   "cell_type": "code",
   "metadata": {
    "cell_id": "dd77df2fe31b4d3bb9e13c33a456037a",
    "tags": [],
    "deepnote_to_be_reexecuted": false,
    "source_hash": "a8f989f7",
    "execution_start": 1657627669992,
    "execution_millis": 648,
    "deepnote_app_coordinates": {
     "x": 0,
     "y": 346,
     "w": 12,
     "h": 5
    },
    "deepnote_cell_type": "code",
    "deepnote_cell_height": 272
   },
   "source": "print(classification_report(y_test,y_predict_scaled_log))",
   "execution_count": null,
   "outputs": [
    {
     "name": "stdout",
     "text": "              precision    recall  f1-score   support\n\n           0       0.82      0.98      0.89      4703\n           1       0.76      0.24      0.37      1297\n\n    accuracy                           0.82      6000\n   macro avg       0.79      0.61      0.63      6000\nweighted avg       0.81      0.82      0.78      6000\n\n",
     "output_type": "stream"
    }
   ]
  },
  {
   "cell_type": "code",
   "metadata": {
    "cell_id": "2d57006aa38e4e0491d2b029b9971eac",
    "tags": [],
    "deepnote_to_be_reexecuted": false,
    "source_hash": "a8645199",
    "execution_start": 1657627670036,
    "execution_millis": 610,
    "deepnote_app_coordinates": {
     "x": 0,
     "y": 352,
     "w": 12,
     "h": 5
    },
    "deepnote_cell_type": "code",
    "deepnote_cell_height": 413.1875,
    "deepnote_output_heights": [
     21.1875,
     264
    ]
   },
   "source": "sns.distplot(y_test-y_predict_scaled_log)",
   "execution_count": null,
   "outputs": [
    {
     "output_type": "execute_result",
     "execution_count": 48,
     "data": {
      "text/plain": "<AxesSubplot:xlabel='Defaulter', ylabel='Density'>"
     },
     "metadata": {}
    },
    {
     "data": {
      "text/plain": "<Figure size 432x288 with 1 Axes>",
      "image/png": "[encoded data removed]"
     },
     "metadata": {
      "needs_background": "light",
      "image/png": {
       "width": 392,
       "height": 262
      }
     },
     "output_type": "display_data"
    }
   ]
  },
  {
   "cell_type": "code",
   "metadata": {
    "cell_id": "7847c93e29774ce490e6a17fa1b7c8f1",
    "tags": [],
    "deepnote_to_be_reexecuted": false,
    "source_hash": "80e81fc9",
    "execution_start": 1657627670377,
    "execution_millis": 269,
    "deepnote_app_coordinates": {
     "x": 0,
     "y": 358,
     "w": 12,
     "h": 5
    },
    "deepnote_cell_type": "code",
    "deepnote_cell_height": 168
   },
   "source": "labels = ['Not Defaulter', 'Defaulter']\ncm_le = confusion_matrix(y_test,y_predict_scaled_log)\nprint(cm_le)",
   "execution_count": null,
   "outputs": [
    {
     "name": "stdout",
     "text": "[[4607   96]\n [ 985  312]]\n",
     "output_type": "stream"
    }
   ]
  },
  {
   "cell_type": "code",
   "metadata": {
    "cell_id": "b5f62ba839a34cc183b72b2662c6fe9d",
    "tags": [],
    "deepnote_to_be_reexecuted": false,
    "source_hash": "dff8c88e",
    "execution_start": 1657627670400,
    "execution_millis": 354,
    "deepnote_app_coordinates": {
     "x": 0,
     "y": 364,
     "w": 12,
     "h": 5
    },
    "deepnote_cell_type": "code",
    "deepnote_cell_height": 555.1875,
    "deepnote_output_heights": [
     21.1875,
     280
    ]
   },
   "source": "#plot confusion matrix\nax=plt.subplot()\nsns.heatmap(cm_le, annot=True , ax=ax)\nax.set_xlabel('Predicted labels')\nax.set_ylabel('True labels')\nax.set_title('Confusion Matrix - Logistic Regression')\nax.xaxis.set_ticklabels(labels)\nax.yaxis.set_ticklabels(labels)",
   "execution_count": null,
   "outputs": [
    {
     "output_type": "execute_result",
     "execution_count": 50,
     "data": {
      "text/plain": "[Text(0, 0.5, 'Not Defaulter'), Text(0, 1.5, 'Defaulter')]"
     },
     "metadata": {}
    },
    {
     "data": {
      "text/plain": "<Figure size 432x288 with 2 Axes>",
      "image/png": "[encoded data removed]"
     },
     "metadata": {
      "needs_background": "light",
      "image/png": {
       "width": 372,
       "height": 278
      }
     },
     "output_type": "display_data"
    }
   ]
  },
  {
   "cell_type": "markdown",
   "source": "### DECISION TREE CLASSIFICATION",
   "metadata": {
    "formattedRanges": [],
    "cell_id": "1c558026095a40d5bd559a0b70fe603c",
    "tags": [],
    "is_collapsed": false,
    "deepnote_app_coordinates": {
     "x": 0,
     "y": 370,
     "w": 12,
     "h": 5
    },
    "deepnote_cell_type": "text-cell-h3"
   }
  },
  {
   "cell_type": "code",
   "metadata": {
    "cell_id": "3309614e5b334e1cb17924f0fd76d608",
    "tags": [],
    "deepnote_to_be_reexecuted": false,
    "source_hash": "9064bbb7",
    "execution_start": 1657627670757,
    "execution_millis": 920,
    "deepnote_app_coordinates": {
     "x": 0,
     "y": 376,
     "w": 12,
     "h": 5
    },
    "deepnote_cell_type": "code",
    "deepnote_cell_height": 135
   },
   "source": "from sklearn.tree import DecisionTreeClassifier\ntree = DecisionTreeClassifier()\ntree.fit(x_train,y_train)\ny_predict_tree = tree.predict(x_test)",
   "execution_count": null,
   "outputs": []
  },
  {
   "cell_type": "code",
   "metadata": {
    "cell_id": "ba6b583bbc9c4d959227acf0f708f868",
    "tags": [],
    "deepnote_to_be_reexecuted": false,
    "source_hash": "ede0e96c",
    "execution_start": 1657627671687,
    "execution_millis": 27,
    "deepnote_app_coordinates": {
     "x": 0,
     "y": 382,
     "w": 12,
     "h": 5
    },
    "deepnote_cell_type": "code",
    "deepnote_cell_height": 354
   },
   "source": "accuracy_tree = round(accuracy_score(y_test,y_predict_tree),2)\nprint(\"Accuracy on train data : \", accuracy_tree)\nprecision_tree = round(precision_score(y_test,y_predict_tree),2)\nprint(\"Precision score of test data : \",precision_tree)\nrecall_tree = round(recall_score(y_test,y_predict_tree),2)\nprint(\"Recall score of test data : \", recall_tree)\nf1_tree = round(f1_score(y_test,y_predict_tree),2)\nprint(\"F1 score of test data : \", f1_tree)\nroc_tree = round(roc_auc_score(y_test,y_predict_tree),2)\nprint(\"Roc score of test data : \", roc_tree)",
   "execution_count": null,
   "outputs": [
    {
     "name": "stdout",
     "text": "Accuracy on train data :  0.74\nPrecision score of test data :  0.4\nRecall score of test data :  0.42\nF1 score of test data :  0.41\nRoc score of test data :  0.62\n",
     "output_type": "stream"
    }
   ]
  },
  {
   "cell_type": "code",
   "metadata": {
    "cell_id": "b3d51ea611784dc6bb338f638ac2e35a",
    "tags": [],
    "deepnote_to_be_reexecuted": false,
    "source_hash": "42e4289b",
    "execution_start": 1657627671719,
    "execution_millis": 8,
    "deepnote_app_coordinates": {
     "x": 0,
     "y": 388,
     "w": 12,
     "h": 5
    },
    "deepnote_cell_type": "code",
    "deepnote_cell_height": 150
   },
   "source": "cm_tree = confusion_matrix(y_test,y_predict_tree)\nprint(cm_tree)",
   "execution_count": null,
   "outputs": [
    {
     "name": "stdout",
     "text": "[[3894  809]\n [ 750  547]]\n",
     "output_type": "stream"
    }
   ]
  },
  {
   "cell_type": "code",
   "metadata": {
    "cell_id": "fdcdccd61825473aa77ea7c54f2d5708",
    "tags": [],
    "deepnote_to_be_reexecuted": false,
    "source_hash": "9e8c308a",
    "execution_start": 1657627671733,
    "execution_millis": 24,
    "deepnote_app_coordinates": {
     "x": 0,
     "y": 394,
     "w": 12,
     "h": 5
    },
    "deepnote_cell_type": "code",
    "deepnote_cell_height": 272
   },
   "source": "print(classification_report(y_test,y_predict_tree))",
   "execution_count": null,
   "outputs": [
    {
     "name": "stdout",
     "text": "              precision    recall  f1-score   support\n\n           0       0.84      0.83      0.83      4703\n           1       0.40      0.42      0.41      1297\n\n    accuracy                           0.74      6000\n   macro avg       0.62      0.62      0.62      6000\nweighted avg       0.74      0.74      0.74      6000\n\n",
     "output_type": "stream"
    }
   ]
  },
  {
   "cell_type": "code",
   "metadata": {
    "cell_id": "0b45f9447c934d4c8bf560cb8fc928cc",
    "tags": [],
    "deepnote_to_be_reexecuted": false,
    "source_hash": "98a5ae11",
    "execution_start": 1657627671773,
    "execution_millis": 285,
    "deepnote_app_coordinates": {
     "x": 0,
     "y": 400,
     "w": 12,
     "h": 5
    },
    "deepnote_cell_type": "code",
    "deepnote_cell_height": 555.1875,
    "deepnote_output_heights": [
     21.1875,
     280
    ]
   },
   "source": "#plot confusion matrix\nax=plt.subplot()\nsns.heatmap(cm_tree,annot=True,ax=ax)\nax.set_xlabel('Prediction label')\nax.set_ylabel('True labels')\nax.set_title('Confusion matrix - Decision tree classifier')\nax.xaxis.set_ticklabels(labels)\nax.yaxis.set_ticklabels(labels)",
   "execution_count": null,
   "outputs": [
    {
     "output_type": "execute_result",
     "execution_count": 55,
     "data": {
      "text/plain": "[Text(0, 0.5, 'Not Defaulter'), Text(0, 1.5, 'Defaulter')]"
     },
     "metadata": {}
    },
    {
     "data": {
      "text/plain": "<Figure size 432x288 with 2 Axes>",
      "image/png": "[encoded data removed]"
     },
     "metadata": {
      "needs_background": "light",
      "image/png": {
       "width": 373,
       "height": 278
      }
     },
     "output_type": "display_data"
    }
   ]
  },
  {
   "cell_type": "markdown",
   "source": "### RANDOM FOREST CLASSIFICATION",
   "metadata": {
    "formattedRanges": [],
    "cell_id": "2e3e0b4a3f34447185bb7e335608d3d2",
    "tags": [],
    "is_collapsed": false,
    "deepnote_app_coordinates": {
     "x": 0,
     "y": 406,
     "w": 12,
     "h": 5
    },
    "deepnote_cell_type": "text-cell-h3"
   }
  },
  {
   "cell_type": "code",
   "metadata": {
    "cell_id": "f7b444ab05ac4996917731c36901b392",
    "tags": [],
    "deepnote_to_be_reexecuted": false,
    "source_hash": "54abddff",
    "execution_start": 1657627672070,
    "execution_millis": 9573,
    "deepnote_app_coordinates": {
     "x": 0,
     "y": 412,
     "w": 12,
     "h": 5
    },
    "deepnote_cell_type": "code",
    "deepnote_cell_height": 135
   },
   "source": "from sklearn.ensemble import RandomForestClassifier\nrand = RandomForestClassifier()\nrand.fit(x_train,y_train)\ny_predict_rand = rand.predict(x_test)",
   "execution_count": null,
   "outputs": []
  },
  {
   "cell_type": "code",
   "metadata": {
    "cell_id": "8e04a153a02a44eebc4a1d2faa4dc95a",
    "tags": [],
    "deepnote_to_be_reexecuted": false,
    "source_hash": "b4dab576",
    "execution_start": 1657627681647,
    "execution_millis": 129,
    "deepnote_app_coordinates": {
     "x": 0,
     "y": 418,
     "w": 12,
     "h": 5
    },
    "deepnote_cell_type": "code",
    "deepnote_cell_height": 354
   },
   "source": "accuracy_rand = round(accuracy_score(y_test,y_predict_rand),2)\nprint(\"Accuracy on train data : \", accuracy_rand)\nprecision_rand = round(precision_score(y_test,y_predict_rand),2)\nprint(\"Precision score of test data : \",precision_rand)\nrecall_rand = round(recall_score(y_test,y_predict_rand),2)\nprint(\"Recall score of test data : \", recall_rand)\nf1_rand = round(f1_score(y_test,y_predict_rand),2)\nprint(\"F1 score of test data : \", f1_rand)\nroc_rand = round(roc_auc_score(y_test,y_predict_rand),2)\nprint(\"Roc score of test data : \", roc_rand)",
   "execution_count": null,
   "outputs": [
    {
     "name": "stdout",
     "text": "Accuracy on train data :  0.82\nPrecision score of test data :  0.67\nRecall score of test data :  0.37\nF1 score of test data :  0.48\nRoc score of test data :  0.66\n",
     "output_type": "stream"
    }
   ]
  },
  {
   "cell_type": "code",
   "metadata": {
    "cell_id": "238b5232841b485981c39f90950249f1",
    "tags": [],
    "deepnote_to_be_reexecuted": false,
    "source_hash": "93f430e3",
    "execution_start": 1657627681675,
    "execution_millis": 102,
    "deepnote_app_coordinates": {
     "x": 0,
     "y": 424,
     "w": 12,
     "h": 5
    },
    "deepnote_cell_type": "code",
    "deepnote_cell_height": 150
   },
   "source": "cm_rand = confusion_matrix(y_test,y_predict_rand)\nprint(cm_rand)",
   "execution_count": null,
   "outputs": [
    {
     "name": "stdout",
     "text": "[[4463  240]\n [ 815  482]]\n",
     "output_type": "stream"
    }
   ]
  },
  {
   "cell_type": "code",
   "metadata": {
    "cell_id": "68e918a4ffd746768224900127a3d907",
    "tags": [],
    "deepnote_to_be_reexecuted": false,
    "source_hash": "34cb2fa6",
    "execution_start": 1657627681687,
    "execution_millis": 92,
    "deepnote_app_coordinates": {
     "x": 0,
     "y": 430,
     "w": 12,
     "h": 5
    },
    "deepnote_cell_type": "code",
    "deepnote_cell_height": 272
   },
   "source": "print(classification_report(y_test,y_predict_rand))",
   "execution_count": null,
   "outputs": [
    {
     "name": "stdout",
     "text": "              precision    recall  f1-score   support\n\n           0       0.85      0.95      0.89      4703\n           1       0.67      0.37      0.48      1297\n\n    accuracy                           0.82      6000\n   macro avg       0.76      0.66      0.69      6000\nweighted avg       0.81      0.82      0.80      6000\n\n",
     "output_type": "stream"
    }
   ]
  },
  {
   "cell_type": "code",
   "metadata": {
    "cell_id": "1bef1635f202432aabe374c902bca31b",
    "tags": [],
    "deepnote_to_be_reexecuted": false,
    "source_hash": "cda9b351",
    "execution_start": 1657627681718,
    "execution_millis": 343,
    "deepnote_app_coordinates": {
     "x": 0,
     "y": 436,
     "w": 12,
     "h": 5
    },
    "deepnote_cell_type": "code",
    "deepnote_cell_height": 537.1875,
    "deepnote_output_heights": [
     21.1875,
     280
    ]
   },
   "source": "ax = plt.subplot()\nsns.heatmap(cm_rand,annot=True,ax=ax)\nax.set_xlabel('Prediction labels')\nax.set_ylabel('True labels')\nax.set_title('Confusion matrix - Random Forest Classifier')\nax.xaxis.set_ticklabels(labels)\nax.yaxis.set_ticklabels(labels)",
   "execution_count": null,
   "outputs": [
    {
     "output_type": "execute_result",
     "execution_count": 60,
     "data": {
      "text/plain": "[Text(0, 0.5, 'Not Defaulter'), Text(0, 1.5, 'Defaulter')]"
     },
     "metadata": {}
    },
    {
     "data": {
      "text/plain": "<Figure size 432x288 with 2 Axes>",
      "image/png": "[encoded data removed]"
     },
     "metadata": {
      "needs_background": "light",
      "image/png": {
       "width": 373,
       "height": 278
      }
     },
     "output_type": "display_data"
    }
   ]
  },
  {
   "cell_type": "markdown",
   "source": "### SUPPORT VECTOR MACHINE",
   "metadata": {
    "formattedRanges": [],
    "cell_id": "0afc9e0bccc74575ad8d28acad8425fa",
    "tags": [],
    "is_collapsed": false,
    "deepnote_app_coordinates": {
     "x": 0,
     "y": 442,
     "w": 12,
     "h": 5
    },
    "deepnote_cell_type": "text-cell-h3"
   }
  },
  {
   "cell_type": "code",
   "metadata": {
    "cell_id": "7ab2070702394547b0495cdfbfb6e49f",
    "tags": [],
    "deepnote_to_be_reexecuted": false,
    "source_hash": "26ce1848",
    "execution_start": 1657627682076,
    "execution_millis": 220065,
    "deepnote_app_coordinates": {
     "x": 0,
     "y": 448,
     "w": 12,
     "h": 5
    },
    "deepnote_cell_type": "code",
    "deepnote_cell_height": 135
   },
   "source": "from sklearn.svm import SVC\nsvm = SVC(probability=True)\nsvm.fit(x_train,y_train)\ny_predict_svm = svm.predict(x_test)",
   "execution_count": null,
   "outputs": []
  },
  {
   "cell_type": "code",
   "metadata": {
    "cell_id": "8be5ded2d29f4d3894a7a210e3e352de",
    "tags": [],
    "deepnote_to_be_reexecuted": false,
    "source_hash": "3f17e546",
    "execution_start": 1657627902184,
    "execution_millis": 20,
    "deepnote_app_coordinates": {
     "x": 0,
     "y": 454,
     "w": 12,
     "h": 5
    },
    "deepnote_cell_type": "code",
    "deepnote_cell_height": 354
   },
   "source": "accuracy_svm = round(accuracy_score(y_test,y_predict_svm),2)\nprint(\"Accuracy on train data : \", accuracy_svm)\nprecision_svm = round(precision_score(y_test,y_predict_svm),2)\nprint(\"Precision score of test data : \",precision_svm)\nrecall_svm = round(recall_score(y_test,y_predict_svm),2)\nprint(\"Recall score of test data : \", recall_svm)\nf1_svm = round(f1_score(y_test,y_predict_svm),2)\nprint(\"F1 score of test data : \", f1_svm)\nroc_svm = round(roc_auc_score(y_test,y_predict_svm),2)\nprint(\"Roc score of test data : \", roc_svm)",
   "execution_count": null,
   "outputs": [
    {
     "name": "stdout",
     "text": "Accuracy on train data :  0.78\nPrecision score of test data :  0.0\nRecall score of test data :  0.0\nF1 score of test data :  0.0\nRoc score of test data :  0.5\n",
     "output_type": "stream"
    }
   ]
  },
  {
   "cell_type": "code",
   "metadata": {
    "cell_id": "c0504c8518294ed9865e97b6dde6387c",
    "tags": [],
    "deepnote_to_be_reexecuted": false,
    "source_hash": "de90e0f3",
    "execution_start": 1657627902208,
    "execution_millis": 22,
    "deepnote_app_coordinates": {
     "x": 0,
     "y": 460,
     "w": 12,
     "h": 5
    },
    "deepnote_cell_type": "code",
    "deepnote_cell_height": 150
   },
   "source": "cm_svm = confusion_matrix(y_test,y_predict_svm)\nprint(cm_svm)",
   "execution_count": null,
   "outputs": [
    {
     "name": "stdout",
     "text": "[[4703    0]\n [1297    0]]\n",
     "output_type": "stream"
    }
   ]
  },
  {
   "cell_type": "code",
   "metadata": {
    "cell_id": "ae64f14ce0ae4b8fae3430ac163c78d0",
    "tags": [],
    "deepnote_to_be_reexecuted": false,
    "source_hash": "8f8a22ea",
    "execution_start": 1657627902232,
    "execution_millis": 439,
    "deepnote_app_coordinates": {
     "x": 0,
     "y": 466,
     "w": 12,
     "h": 5
    },
    "deepnote_cell_type": "code",
    "deepnote_cell_height": 537.1875,
    "deepnote_output_heights": [
     21.1875,
     280
    ]
   },
   "source": "ax=plt.subplot()\nsns.heatmap(cm_svm,annot=True,ax=ax)\nax.set_xlabel('Prediction labels')\nax.set_ylabel('True labels')\nax.set_title('Confusion matrix - Support vector machine')\nax.xaxis.set_ticklabels(labels)\nax.yaxis.set_ticklabels(labels)",
   "execution_count": null,
   "outputs": [
    {
     "output_type": "execute_result",
     "execution_count": 64,
     "data": {
      "text/plain": "[Text(0, 0.5, 'Not Defaulter'), Text(0, 1.5, 'Defaulter')]"
     },
     "metadata": {}
    },
    {
     "data": {
      "text/plain": "<Figure size 432x288 with 2 Axes>",
      "image/png": "[encoded data removed]"
     },
     "metadata": {
      "needs_background": "light",
      "image/png": {
       "width": 372,
       "height": 278
      }
     },
     "output_type": "display_data"
    }
   ]
  },
  {
   "cell_type": "code",
   "metadata": {
    "cell_id": "3f2ba03754894ae4a3953ac34e6379b3",
    "tags": [],
    "deepnote_to_be_reexecuted": false,
    "source_hash": "b623e53d",
    "execution_start": 1657627902672,
    "execution_millis": 5,
    "deepnote_app_coordinates": {
     "x": 0,
     "y": 472,
     "w": 12,
     "h": 5
    },
    "deepnote_cell_type": "code",
    "deepnote_cell_height": 81
   },
   "source": "",
   "execution_count": null,
   "outputs": []
  },
  {
   "cell_type": "markdown",
   "source": "### GRADIENT BOOSTING",
   "metadata": {
    "formattedRanges": [],
    "cell_id": "79af518b2c764d6b9f3878fe76e612aa",
    "tags": [],
    "is_collapsed": false,
    "deepnote_app_coordinates": {
     "x": 0,
     "y": 478,
     "w": 12,
     "h": 5
    },
    "deepnote_cell_type": "text-cell-h3"
   }
  },
  {
   "cell_type": "code",
   "metadata": {
    "cell_id": "06c83e72c2a54b89ad3e728ad4c267ef",
    "tags": [],
    "deepnote_to_be_reexecuted": false,
    "source_hash": "1a01a3d3",
    "execution_start": 1657627902699,
    "execution_millis": 12733,
    "deepnote_app_coordinates": {
     "x": 0,
     "y": 484,
     "w": 12,
     "h": 5
    },
    "deepnote_cell_type": "code",
    "deepnote_cell_height": 135
   },
   "source": "from sklearn.ensemble import GradientBoostingClassifier\ngrad = GradientBoostingClassifier()\ngrad.fit(x_train,y_train)\ny_predict_grad = grad.predict(x_test)",
   "execution_count": null,
   "outputs": []
  },
  {
   "cell_type": "code",
   "metadata": {
    "cell_id": "9cdc5e9bde0f4309bebbb64e20043430",
    "tags": [],
    "deepnote_to_be_reexecuted": false,
    "source_hash": "642bd508",
    "execution_start": 1657627915445,
    "execution_millis": 18,
    "deepnote_app_coordinates": {
     "x": 0,
     "y": 490,
     "w": 12,
     "h": 5
    },
    "deepnote_cell_type": "code",
    "deepnote_cell_height": 354
   },
   "source": "accuracy_grad = round(accuracy_score(y_test,y_predict_grad),2)\nprint(\"Accuracy on train data : \", accuracy_grad)\nprecision_grad = round(precision_score(y_test,y_predict_grad),2)\nprint(\"Precision score of test data : \",precision_grad)\nrecall_grad = round(recall_score(y_test,y_predict_grad),2)\nprint(\"Recall score of test data : \", recall_grad)\nf1_grad = round(f1_score(y_test,y_predict_grad),2)\nprint(\"F1 score of test data : \", f1_grad)\nroc_grad = round(roc_auc_score(y_test,y_predict_grad),2)\nprint(\"Roc score of test data : \", roc_grad)",
   "execution_count": null,
   "outputs": [
    {
     "name": "stdout",
     "text": "Accuracy on train data :  0.83\nPrecision score of test data :  0.69\nRecall score of test data :  0.37\nF1 score of test data :  0.48\nRoc score of test data :  0.66\n",
     "output_type": "stream"
    }
   ]
  },
  {
   "cell_type": "code",
   "metadata": {
    "cell_id": "84d58f4ad72546bfb672dbc9fc6e2079",
    "tags": [],
    "deepnote_to_be_reexecuted": false,
    "source_hash": "39292800",
    "execution_start": 1657627915470,
    "execution_millis": 5,
    "deepnote_app_coordinates": {
     "x": 0,
     "y": 496,
     "w": 12,
     "h": 5
    },
    "deepnote_cell_type": "code",
    "deepnote_cell_height": 150
   },
   "source": "cm_grad = confusion_matrix(y_test,y_predict_grad)\nprint(cm_grad)",
   "execution_count": null,
   "outputs": [
    {
     "name": "stdout",
     "text": "[[4482  221]\n [ 812  485]]\n",
     "output_type": "stream"
    }
   ]
  },
  {
   "cell_type": "code",
   "metadata": {
    "cell_id": "a7a70d7102404c5bb37322d73790506a",
    "tags": [],
    "deepnote_to_be_reexecuted": false,
    "source_hash": "b45c4949",
    "execution_start": 1657627915487,
    "execution_millis": 331,
    "deepnote_app_coordinates": {
     "x": 0,
     "y": 502,
     "w": 12,
     "h": 5
    },
    "deepnote_cell_type": "code",
    "deepnote_cell_height": 537.1875,
    "deepnote_output_heights": [
     21.1875,
     280
    ]
   },
   "source": "ax=plt.subplot()\nsns.heatmap(cm_grad,annot=True,ax=ax)\nax.set_xlabel('Prediction labels')\nax.set_ylabel('True labels')\nax.set_title('Confusion matrix - Gradient boosting')\nax.xaxis.set_ticklabels(labels)\nax.yaxis.set_ticklabels(labels)",
   "execution_count": null,
   "outputs": [
    {
     "output_type": "execute_result",
     "execution_count": 68,
     "data": {
      "text/plain": "[Text(0, 0.5, 'Not Defaulter'), Text(0, 1.5, 'Defaulter')]"
     },
     "metadata": {}
    },
    {
     "data": {
      "text/plain": "<Figure size 432x288 with 2 Axes>",
      "image/png": "[encoded data removed]"
     },
     "metadata": {
      "needs_background": "light",
      "image/png": {
       "width": 373,
       "height": 278
      }
     },
     "output_type": "display_data"
    }
   ]
  },
  {
   "cell_type": "markdown",
   "source": "### Baseline model comparisons",
   "metadata": {
    "formattedRanges": [],
    "cell_id": "f4333fa8035c4b86a9d23af86bcea6e4",
    "tags": [],
    "is_collapsed": false,
    "deepnote_app_coordinates": {
     "x": 0,
     "y": 508,
     "w": 12,
     "h": 5
    },
    "deepnote_cell_type": "text-cell-h3"
   }
  },
  {
   "cell_type": "code",
   "metadata": {
    "cell_id": "ead47f88e0d9407b9bc63acc90c8fd7c",
    "tags": [],
    "deepnote_to_be_reexecuted": false,
    "source_hash": "fb62451b",
    "execution_start": 1657627915823,
    "execution_millis": 10,
    "deepnote_app_coordinates": {
     "x": 0,
     "y": 514,
     "w": 12,
     "h": 5
    },
    "deepnote_cell_type": "code",
    "deepnote_cell_height": 171
   },
   "source": "all_classifiers = ['Logistic Regression','Decision Tree','Random Forest','SVM','Gradient Boosting']\nall_train_accuracy=[accuracy_log,accuracy_tree,accuracy_rand,accuracy_svm,accuracy_grad]\nall_precision_score =[precision_log,precision_tree,precision_rand,precision_svm,precision_grad]\nall_recall_score = [recall_log,recall_tree,recall_rand,recall_svm,recall_grad]\nall_f1_score = [f1_log,f1_tree,f1_rand,f1_svm,f1_grad]\nall_auc_score = [roc_log,roc_tree,roc_rand,roc_svm,roc_grad]",
   "execution_count": null,
   "outputs": []
  },
  {
   "cell_type": "code",
   "metadata": {
    "cell_id": "a12dc41d42574a6aa073aa7388ca9a9c",
    "tags": [],
    "deepnote_to_be_reexecuted": false,
    "source_hash": "e0d4692e",
    "execution_start": 1657627915835,
    "execution_millis": 38,
    "deepnote_app_coordinates": {
     "x": 0,
     "y": 520,
     "w": 12,
     "h": 5
    },
    "deepnote_cell_type": "code",
    "deepnote_cell_height": 413
   },
   "source": "compare_data = pd.DataFrame({'Classifiers':all_classifiers,\"Train Accuracy\":all_train_accuracy,\"Precision\":all_precision_score,\"Recall\":all_recall_score,\"F1 Score\":all_f1_score,\"AUC\":all_auc_score},) \ncompare_data",
   "execution_count": null,
   "outputs": [
    {
     "output_type": "execute_result",
     "execution_count": 70,
     "data": {
      "application/vnd.deepnote.dataframe.v3+json": {
       "column_count": 6,
       "row_count": 5,
       "columns": [
        {
         "name": "Classifiers",
         "dtype": "object",
         "stats": {
          "unique_count": 5,
          "nan_count": 0,
          "categories": [
           {
            "name": "Logistic Regression",
            "count": 1
           },
           {
            "name": "Decision Tree",
            "count": 1
           },
           {
            "name": "3 others",
            "count": 3
           }
          ]
         }
        },
        {
         "name": "Train Accuracy",
         "dtype": "float64",
         "stats": {
          "unique_count": 4,
          "nan_count": 0,
          "min": "0.74",
          "max": "0.83",
          "histogram": [
           {
            "bin_start": 0.74,
            "bin_end": 0.749,
            "count": 1
           },
           {
            "bin_start": 0.749,
            "bin_end": 0.758,
            "count": 0
           },
           {
            "bin_start": 0.758,
            "bin_end": 0.767,
            "count": 0
           },
           {
            "bin_start": 0.767,
            "bin_end": 0.776,
            "count": 0
           },
           {
            "bin_start": 0.776,
            "bin_end": 0.7849999999999999,
            "count": 1
           },
           {
            "bin_start": 0.7849999999999999,
            "bin_end": 0.7939999999999999,
            "count": 0
           },
           {
            "bin_start": 0.7939999999999999,
            "bin_end": 0.8029999999999999,
            "count": 0
           },
           {
            "bin_start": 0.8029999999999999,
            "bin_end": 0.8119999999999999,
            "count": 0
           },
           {
            "bin_start": 0.8119999999999999,
            "bin_end": 0.821,
            "count": 2
           },
           {
            "bin_start": 0.821,
            "bin_end": 0.83,
            "count": 1
           }
          ]
         }
        },
        {
         "name": "Precision",
         "dtype": "float64",
         "stats": {
          "unique_count": 5,
          "nan_count": 0,
          "min": "0.0",
          "max": "0.76",
          "histogram": [
           {
            "bin_start": 0,
            "bin_end": 0.076,
            "count": 1
           },
           {
            "bin_start": 0.076,
            "bin_end": 0.152,
            "count": 0
           },
           {
            "bin_start": 0.152,
            "bin_end": 0.22799999999999998,
            "count": 0
           },
           {
            "bin_start": 0.22799999999999998,
            "bin_end": 0.304,
            "count": 0
           },
           {
            "bin_start": 0.304,
            "bin_end": 0.38,
            "count": 0
           },
           {
            "bin_start": 0.38,
            "bin_end": 0.45599999999999996,
            "count": 1
           },
           {
            "bin_start": 0.45599999999999996,
            "bin_end": 0.532,
            "count": 0
           },
           {
            "bin_start": 0.532,
            "bin_end": 0.608,
            "count": 0
           },
           {
            "bin_start": 0.608,
            "bin_end": 0.6839999999999999,
            "count": 1
           },
           {
            "bin_start": 0.6839999999999999,
            "bin_end": 0.76,
            "count": 2
           }
          ]
         }
        },
        {
         "name": "Recall",
         "dtype": "float64",
         "stats": {
          "unique_count": 4,
          "nan_count": 0,
          "min": "0.0",
          "max": "0.42",
          "histogram": [
           {
            "bin_start": 0,
            "bin_end": 0.041999999999999996,
            "count": 1
           },
           {
            "bin_start": 0.041999999999999996,
            "bin_end": 0.08399999999999999,
            "count": 0
           },
           {
            "bin_start": 0.08399999999999999,
            "bin_end": 0.126,
            "count": 0
           },
           {
            "bin_start": 0.126,
            "bin_end": 0.16799999999999998,
            "count": 0
           },
           {
            "bin_start": 0.16799999999999998,
            "bin_end": 0.20999999999999996,
            "count": 0
           },
           {
            "bin_start": 0.20999999999999996,
            "bin_end": 0.252,
            "count": 1
           },
           {
            "bin_start": 0.252,
            "bin_end": 0.294,
            "count": 0
           },
           {
            "bin_start": 0.294,
            "bin_end": 0.33599999999999997,
            "count": 0
           },
           {
            "bin_start": 0.33599999999999997,
            "bin_end": 0.37799999999999995,
            "count": 2
           },
           {
            "bin_start": 0.37799999999999995,
            "bin_end": 0.42,
            "count": 1
           }
          ]
         }
        },
        {
         "name": "F1 Score",
         "dtype": "float64",
         "stats": {
          "unique_count": 4,
          "nan_count": 0,
          "min": "0.0",
          "max": "0.48",
          "histogram": [
           {
            "bin_start": 0,
            "bin_end": 0.048,
            "count": 1
           },
           {
            "bin_start": 0.048,
            "bin_end": 0.096,
            "count": 0
           },
           {
            "bin_start": 0.096,
            "bin_end": 0.14400000000000002,
            "count": 0
           },
           {
            "bin_start": 0.14400000000000002,
            "bin_end": 0.192,
            "count": 0
           },
           {
            "bin_start": 0.192,
            "bin_end": 0.24,
            "count": 0
           },
           {
            "bin_start": 0.24,
            "bin_end": 0.28800000000000003,
            "count": 0
           },
           {
            "bin_start": 0.28800000000000003,
            "bin_end": 0.336,
            "count": 0
           },
           {
            "bin_start": 0.336,
            "bin_end": 0.384,
            "count": 1
           },
           {
            "bin_start": 0.384,
            "bin_end": 0.432,
            "count": 1
           },
           {
            "bin_start": 0.432,
            "bin_end": 0.48,
            "count": 2
           }
          ]
         }
        },
        {
         "name": "AUC",
         "dtype": "float64",
         "stats": {
          "unique_count": 4,
          "nan_count": 0,
          "min": "0.5",
          "max": "0.66",
          "histogram": [
           {
            "bin_start": 0.5,
            "bin_end": 0.516,
            "count": 1
           },
           {
            "bin_start": 0.516,
            "bin_end": 0.532,
            "count": 0
           },
           {
            "bin_start": 0.532,
            "bin_end": 0.548,
            "count": 0
           },
           {
            "bin_start": 0.548,
            "bin_end": 0.5640000000000001,
            "count": 0
           },
           {
            "bin_start": 0.5640000000000001,
            "bin_end": 0.5800000000000001,
            "count": 0
           },
           {
            "bin_start": 0.5800000000000001,
            "bin_end": 0.5960000000000001,
            "count": 0
           },
           {
            "bin_start": 0.5960000000000001,
            "bin_end": 0.612,
            "count": 1
           },
           {
            "bin_start": 0.612,
            "bin_end": 0.628,
            "count": 1
           },
           {
            "bin_start": 0.628,
            "bin_end": 0.644,
            "count": 0
           },
           {
            "bin_start": 0.644,
            "bin_end": 0.66,
            "count": 2
           }
          ]
         }
        },
        {
         "name": "_deepnote_index_column",
         "dtype": "int64"
        }
       ],
       "rows": [
        {
         "Classifiers": "Logistic Regression",
         "Train Accuracy": 0.82,
         "Precision": 0.76,
         "Recall": 0.24,
         "F1 Score": 0.37,
         "AUC": 0.61,
         "_deepnote_index_column": 0
        },
        {
         "Classifiers": "Decision Tree",
         "Train Accuracy": 0.74,
         "Precision": 0.4,
         "Recall": 0.42,
         "F1 Score": 0.41,
         "AUC": 0.62,
         "_deepnote_index_column": 1
        },
        {
         "Classifiers": "Random Forest",
         "Train Accuracy": 0.82,
         "Precision": 0.67,
         "Recall": 0.37,
         "F1 Score": 0.48,
         "AUC": 0.66,
         "_deepnote_index_column": 2
        },
        {
         "Classifiers": "SVM",
         "Train Accuracy": 0.78,
         "Precision": 0,
         "Recall": 0,
         "F1 Score": 0,
         "AUC": 0.5,
         "_deepnote_index_column": 3
        },
        {
         "Classifiers": "Gradient Boosting",
         "Train Accuracy": 0.83,
         "Precision": 0.69,
         "Recall": 0.37,
         "F1 Score": 0.48,
         "AUC": 0.66,
         "_deepnote_index_column": 4
        }
       ]
      },
      "text/plain": "           Classifiers  Train Accuracy  Precision  Recall  F1 Score   AUC\n0  Logistic Regression            0.82       0.76    0.24      0.37  0.61\n1        Decision Tree            0.74       0.40    0.42      0.41  0.62\n2        Random Forest            0.82       0.67    0.37      0.48  0.66\n3                  SVM            0.78       0.00    0.00      0.00  0.50\n4    Gradient Boosting            0.83       0.69    0.37      0.48  0.66",
      "text/html": "<div>\n<style scoped>\n    .dataframe tbody tr th:only-of-type {\n        vertical-align: middle;\n    }\n\n    .dataframe tbody tr th {\n        vertical-align: top;\n    }\n\n    .dataframe thead th {\n        text-align: right;\n    }\n</style>\n<table border=\"1\" class=\"dataframe\">\n  <thead>\n    <tr style=\"text-align: right;\">\n      <th></th>\n      <th>Classifiers</th>\n      <th>Train Accuracy</th>\n      <th>Precision</th>\n      <th>Recall</th>\n      <th>F1 Score</th>\n      <th>AUC</th>\n    </tr>\n  </thead>\n  <tbody>\n    <tr>\n      <th>0</th>\n      <td>Logistic Regression</td>\n      <td>0.82</td>\n      <td>0.76</td>\n      <td>0.24</td>\n      <td>0.37</td>\n      <td>0.61</td>\n    </tr>\n    <tr>\n      <th>1</th>\n      <td>Decision Tree</td>\n      <td>0.74</td>\n      <td>0.40</td>\n      <td>0.42</td>\n      <td>0.41</td>\n      <td>0.62</td>\n    </tr>\n    <tr>\n      <th>2</th>\n      <td>Random Forest</td>\n      <td>0.82</td>\n      <td>0.67</td>\n      <td>0.37</td>\n      <td>0.48</td>\n      <td>0.66</td>\n    </tr>\n    <tr>\n      <th>3</th>\n      <td>SVM</td>\n      <td>0.78</td>\n      <td>0.00</td>\n      <td>0.00</td>\n      <td>0.00</td>\n      <td>0.50</td>\n    </tr>\n    <tr>\n      <th>4</th>\n      <td>Gradient Boosting</td>\n      <td>0.83</td>\n      <td>0.69</td>\n      <td>0.37</td>\n      <td>0.48</td>\n      <td>0.66</td>\n    </tr>\n  </tbody>\n</table>\n</div>"
     },
     "metadata": {}
    }
   ]
  },
  {
   "cell_type": "code",
   "metadata": {
    "cell_id": "7e5e7a47d3ff4b9a880961a8faf1f105",
    "tags": [],
    "deepnote_to_be_reexecuted": false,
    "source_hash": "2752f173",
    "execution_start": 1657627915875,
    "execution_millis": 52,
    "deepnote_table_state": {
     "pageSize": 10,
     "pageIndex": 0,
     "filters": [],
     "sortBy": []
    },
    "deepnote_table_loading": false,
    "deepnote_app_coordinates": {
     "x": 0,
     "y": 526,
     "w": 12,
     "h": 5
    },
    "deepnote_cell_type": "code",
    "deepnote_cell_height": 395
   },
   "source": "compare_data.sort_values(by=['Train Accuracy'], ascending=False )",
   "execution_count": null,
   "outputs": [
    {
     "output_type": "execute_result",
     "execution_count": 71,
     "data": {
      "application/vnd.deepnote.dataframe.v3+json": {
       "column_count": 6,
       "row_count": 5,
       "columns": [
        {
         "name": "Classifiers",
         "dtype": "object",
         "stats": {
          "unique_count": 5,
          "nan_count": 0,
          "categories": [
           {
            "name": "Gradient Boosting",
            "count": 1
           },
           {
            "name": "Logistic Regression",
            "count": 1
           },
           {
            "name": "3 others",
            "count": 3
           }
          ]
         }
        },
        {
         "name": "Train Accuracy",
         "dtype": "float64",
         "stats": {
          "unique_count": 4,
          "nan_count": 0,
          "min": "0.74",
          "max": "0.83",
          "histogram": [
           {
            "bin_start": 0.74,
            "bin_end": 0.749,
            "count": 1
           },
           {
            "bin_start": 0.749,
            "bin_end": 0.758,
            "count": 0
           },
           {
            "bin_start": 0.758,
            "bin_end": 0.767,
            "count": 0
           },
           {
            "bin_start": 0.767,
            "bin_end": 0.776,
            "count": 0
           },
           {
            "bin_start": 0.776,
            "bin_end": 0.7849999999999999,
            "count": 1
           },
           {
            "bin_start": 0.7849999999999999,
            "bin_end": 0.7939999999999999,
            "count": 0
           },
           {
            "bin_start": 0.7939999999999999,
            "bin_end": 0.8029999999999999,
            "count": 0
           },
           {
            "bin_start": 0.8029999999999999,
            "bin_end": 0.8119999999999999,
            "count": 0
           },
           {
            "bin_start": 0.8119999999999999,
            "bin_end": 0.821,
            "count": 2
           },
           {
            "bin_start": 0.821,
            "bin_end": 0.83,
            "count": 1
           }
          ]
         }
        },
        {
         "name": "Precision",
         "dtype": "float64",
         "stats": {
          "unique_count": 5,
          "nan_count": 0,
          "min": "0.0",
          "max": "0.76",
          "histogram": [
           {
            "bin_start": 0,
            "bin_end": 0.076,
            "count": 1
           },
           {
            "bin_start": 0.076,
            "bin_end": 0.152,
            "count": 0
           },
           {
            "bin_start": 0.152,
            "bin_end": 0.22799999999999998,
            "count": 0
           },
           {
            "bin_start": 0.22799999999999998,
            "bin_end": 0.304,
            "count": 0
           },
           {
            "bin_start": 0.304,
            "bin_end": 0.38,
            "count": 0
           },
           {
            "bin_start": 0.38,
            "bin_end": 0.45599999999999996,
            "count": 1
           },
           {
            "bin_start": 0.45599999999999996,
            "bin_end": 0.532,
            "count": 0
           },
           {
            "bin_start": 0.532,
            "bin_end": 0.608,
            "count": 0
           },
           {
            "bin_start": 0.608,
            "bin_end": 0.6839999999999999,
            "count": 1
           },
           {
            "bin_start": 0.6839999999999999,
            "bin_end": 0.76,
            "count": 2
           }
          ]
         }
        },
        {
         "name": "Recall",
         "dtype": "float64",
         "stats": {
          "unique_count": 4,
          "nan_count": 0,
          "min": "0.0",
          "max": "0.42",
          "histogram": [
           {
            "bin_start": 0,
            "bin_end": 0.041999999999999996,
            "count": 1
           },
           {
            "bin_start": 0.041999999999999996,
            "bin_end": 0.08399999999999999,
            "count": 0
           },
           {
            "bin_start": 0.08399999999999999,
            "bin_end": 0.126,
            "count": 0
           },
           {
            "bin_start": 0.126,
            "bin_end": 0.16799999999999998,
            "count": 0
           },
           {
            "bin_start": 0.16799999999999998,
            "bin_end": 0.20999999999999996,
            "count": 0
           },
           {
            "bin_start": 0.20999999999999996,
            "bin_end": 0.252,
            "count": 1
           },
           {
            "bin_start": 0.252,
            "bin_end": 0.294,
            "count": 0
           },
           {
            "bin_start": 0.294,
            "bin_end": 0.33599999999999997,
            "count": 0
           },
           {
            "bin_start": 0.33599999999999997,
            "bin_end": 0.37799999999999995,
            "count": 2
           },
           {
            "bin_start": 0.37799999999999995,
            "bin_end": 0.42,
            "count": 1
           }
          ]
         }
        },
        {
         "name": "F1 Score",
         "dtype": "float64",
         "stats": {
          "unique_count": 4,
          "nan_count": 0,
          "min": "0.0",
          "max": "0.48",
          "histogram": [
           {
            "bin_start": 0,
            "bin_end": 0.048,
            "count": 1
           },
           {
            "bin_start": 0.048,
            "bin_end": 0.096,
            "count": 0
           },
           {
            "bin_start": 0.096,
            "bin_end": 0.14400000000000002,
            "count": 0
           },
           {
            "bin_start": 0.14400000000000002,
            "bin_end": 0.192,
            "count": 0
           },
           {
            "bin_start": 0.192,
            "bin_end": 0.24,
            "count": 0
           },
           {
            "bin_start": 0.24,
            "bin_end": 0.28800000000000003,
            "count": 0
           },
           {
            "bin_start": 0.28800000000000003,
            "bin_end": 0.336,
            "count": 0
           },
           {
            "bin_start": 0.336,
            "bin_end": 0.384,
            "count": 1
           },
           {
            "bin_start": 0.384,
            "bin_end": 0.432,
            "count": 1
           },
           {
            "bin_start": 0.432,
            "bin_end": 0.48,
            "count": 2
           }
          ]
         }
        },
        {
         "name": "AUC",
         "dtype": "float64",
         "stats": {
          "unique_count": 4,
          "nan_count": 0,
          "min": "0.5",
          "max": "0.66",
          "histogram": [
           {
            "bin_start": 0.5,
            "bin_end": 0.516,
            "count": 1
           },
           {
            "bin_start": 0.516,
            "bin_end": 0.532,
            "count": 0
           },
           {
            "bin_start": 0.532,
            "bin_end": 0.548,
            "count": 0
           },
           {
            "bin_start": 0.548,
            "bin_end": 0.5640000000000001,
            "count": 0
           },
           {
            "bin_start": 0.5640000000000001,
            "bin_end": 0.5800000000000001,
            "count": 0
           },
           {
            "bin_start": 0.5800000000000001,
            "bin_end": 0.5960000000000001,
            "count": 0
           },
           {
            "bin_start": 0.5960000000000001,
            "bin_end": 0.612,
            "count": 1
           },
           {
            "bin_start": 0.612,
            "bin_end": 0.628,
            "count": 1
           },
           {
            "bin_start": 0.628,
            "bin_end": 0.644,
            "count": 0
           },
           {
            "bin_start": 0.644,
            "bin_end": 0.66,
            "count": 2
           }
          ]
         }
        },
        {
         "name": "_deepnote_index_column",
         "dtype": "int64"
        }
       ],
       "rows": [
        {
         "Classifiers": "Gradient Boosting",
         "Train Accuracy": 0.83,
         "Precision": 0.69,
         "Recall": 0.37,
         "F1 Score": 0.48,
         "AUC": 0.66,
         "_deepnote_index_column": 4
        },
        {
         "Classifiers": "Logistic Regression",
         "Train Accuracy": 0.82,
         "Precision": 0.76,
         "Recall": 0.24,
         "F1 Score": 0.37,
         "AUC": 0.61,
         "_deepnote_index_column": 0
        },
        {
         "Classifiers": "Random Forest",
         "Train Accuracy": 0.82,
         "Precision": 0.67,
         "Recall": 0.37,
         "F1 Score": 0.48,
         "AUC": 0.66,
         "_deepnote_index_column": 2
        },
        {
         "Classifiers": "SVM",
         "Train Accuracy": 0.78,
         "Precision": 0,
         "Recall": 0,
         "F1 Score": 0,
         "AUC": 0.5,
         "_deepnote_index_column": 3
        },
        {
         "Classifiers": "Decision Tree",
         "Train Accuracy": 0.74,
         "Precision": 0.4,
         "Recall": 0.42,
         "F1 Score": 0.41,
         "AUC": 0.62,
         "_deepnote_index_column": 1
        }
       ]
      },
      "text/plain": "           Classifiers  Train Accuracy  Precision  Recall  F1 Score   AUC\n4    Gradient Boosting            0.83       0.69    0.37      0.48  0.66\n0  Logistic Regression            0.82       0.76    0.24      0.37  0.61\n2        Random Forest            0.82       0.67    0.37      0.48  0.66\n3                  SVM            0.78       0.00    0.00      0.00  0.50\n1        Decision Tree            0.74       0.40    0.42      0.41  0.62",
      "text/html": "<div>\n<style scoped>\n    .dataframe tbody tr th:only-of-type {\n        vertical-align: middle;\n    }\n\n    .dataframe tbody tr th {\n        vertical-align: top;\n    }\n\n    .dataframe thead th {\n        text-align: right;\n    }\n</style>\n<table border=\"1\" class=\"dataframe\">\n  <thead>\n    <tr style=\"text-align: right;\">\n      <th></th>\n      <th>Classifiers</th>\n      <th>Train Accuracy</th>\n      <th>Precision</th>\n      <th>Recall</th>\n      <th>F1 Score</th>\n      <th>AUC</th>\n    </tr>\n  </thead>\n  <tbody>\n    <tr>\n      <th>4</th>\n      <td>Gradient Boosting</td>\n      <td>0.83</td>\n      <td>0.69</td>\n      <td>0.37</td>\n      <td>0.48</td>\n      <td>0.66</td>\n    </tr>\n    <tr>\n      <th>0</th>\n      <td>Logistic Regression</td>\n      <td>0.82</td>\n      <td>0.76</td>\n      <td>0.24</td>\n      <td>0.37</td>\n      <td>0.61</td>\n    </tr>\n    <tr>\n      <th>2</th>\n      <td>Random Forest</td>\n      <td>0.82</td>\n      <td>0.67</td>\n      <td>0.37</td>\n      <td>0.48</td>\n      <td>0.66</td>\n    </tr>\n    <tr>\n      <th>3</th>\n      <td>SVM</td>\n      <td>0.78</td>\n      <td>0.00</td>\n      <td>0.00</td>\n      <td>0.00</td>\n      <td>0.50</td>\n    </tr>\n    <tr>\n      <th>1</th>\n      <td>Decision Tree</td>\n      <td>0.74</td>\n      <td>0.40</td>\n      <td>0.42</td>\n      <td>0.41</td>\n      <td>0.62</td>\n    </tr>\n  </tbody>\n</table>\n</div>"
     },
     "metadata": {}
    }
   ]
  },
  {
   "cell_type": "code",
   "metadata": {
    "cell_id": "0313146b71ea4eaf84bf0f72e8a00bda",
    "tags": [],
    "deepnote_to_be_reexecuted": false,
    "source_hash": "1698b251",
    "execution_start": 1657627915933,
    "execution_millis": 24,
    "deepnote_app_coordinates": {
     "x": 0,
     "y": 532,
     "w": 12,
     "h": 5
    },
    "deepnote_cell_type": "code",
    "deepnote_cell_height": 395
   },
   "source": "compare_data.sort_values(by = ['Recall'],ascending = True)",
   "execution_count": null,
   "outputs": [
    {
     "output_type": "execute_result",
     "execution_count": 72,
     "data": {
      "application/vnd.deepnote.dataframe.v3+json": {
       "column_count": 6,
       "row_count": 5,
       "columns": [
        {
         "name": "Classifiers",
         "dtype": "object",
         "stats": {
          "unique_count": 5,
          "nan_count": 0,
          "categories": [
           {
            "name": "SVM",
            "count": 1
           },
           {
            "name": "Logistic Regression",
            "count": 1
           },
           {
            "name": "3 others",
            "count": 3
           }
          ]
         }
        },
        {
         "name": "Train Accuracy",
         "dtype": "float64",
         "stats": {
          "unique_count": 4,
          "nan_count": 0,
          "min": "0.74",
          "max": "0.83",
          "histogram": [
           {
            "bin_start": 0.74,
            "bin_end": 0.749,
            "count": 1
           },
           {
            "bin_start": 0.749,
            "bin_end": 0.758,
            "count": 0
           },
           {
            "bin_start": 0.758,
            "bin_end": 0.767,
            "count": 0
           },
           {
            "bin_start": 0.767,
            "bin_end": 0.776,
            "count": 0
           },
           {
            "bin_start": 0.776,
            "bin_end": 0.7849999999999999,
            "count": 1
           },
           {
            "bin_start": 0.7849999999999999,
            "bin_end": 0.7939999999999999,
            "count": 0
           },
           {
            "bin_start": 0.7939999999999999,
            "bin_end": 0.8029999999999999,
            "count": 0
           },
           {
            "bin_start": 0.8029999999999999,
            "bin_end": 0.8119999999999999,
            "count": 0
           },
           {
            "bin_start": 0.8119999999999999,
            "bin_end": 0.821,
            "count": 2
           },
           {
            "bin_start": 0.821,
            "bin_end": 0.83,
            "count": 1
           }
          ]
         }
        },
        {
         "name": "Precision",
         "dtype": "float64",
         "stats": {
          "unique_count": 5,
          "nan_count": 0,
          "min": "0.0",
          "max": "0.76",
          "histogram": [
           {
            "bin_start": 0,
            "bin_end": 0.076,
            "count": 1
           },
           {
            "bin_start": 0.076,
            "bin_end": 0.152,
            "count": 0
           },
           {
            "bin_start": 0.152,
            "bin_end": 0.22799999999999998,
            "count": 0
           },
           {
            "bin_start": 0.22799999999999998,
            "bin_end": 0.304,
            "count": 0
           },
           {
            "bin_start": 0.304,
            "bin_end": 0.38,
            "count": 0
           },
           {
            "bin_start": 0.38,
            "bin_end": 0.45599999999999996,
            "count": 1
           },
           {
            "bin_start": 0.45599999999999996,
            "bin_end": 0.532,
            "count": 0
           },
           {
            "bin_start": 0.532,
            "bin_end": 0.608,
            "count": 0
           },
           {
            "bin_start": 0.608,
            "bin_end": 0.6839999999999999,
            "count": 1
           },
           {
            "bin_start": 0.6839999999999999,
            "bin_end": 0.76,
            "count": 2
           }
          ]
         }
        },
        {
         "name": "Recall",
         "dtype": "float64",
         "stats": {
          "unique_count": 4,
          "nan_count": 0,
          "min": "0.0",
          "max": "0.42",
          "histogram": [
           {
            "bin_start": 0,
            "bin_end": 0.041999999999999996,
            "count": 1
           },
           {
            "bin_start": 0.041999999999999996,
            "bin_end": 0.08399999999999999,
            "count": 0
           },
           {
            "bin_start": 0.08399999999999999,
            "bin_end": 0.126,
            "count": 0
           },
           {
            "bin_start": 0.126,
            "bin_end": 0.16799999999999998,
            "count": 0
           },
           {
            "bin_start": 0.16799999999999998,
            "bin_end": 0.20999999999999996,
            "count": 0
           },
           {
            "bin_start": 0.20999999999999996,
            "bin_end": 0.252,
            "count": 1
           },
           {
            "bin_start": 0.252,
            "bin_end": 0.294,
            "count": 0
           },
           {
            "bin_start": 0.294,
            "bin_end": 0.33599999999999997,
            "count": 0
           },
           {
            "bin_start": 0.33599999999999997,
            "bin_end": 0.37799999999999995,
            "count": 2
           },
           {
            "bin_start": 0.37799999999999995,
            "bin_end": 0.42,
            "count": 1
           }
          ]
         }
        },
        {
         "name": "F1 Score",
         "dtype": "float64",
         "stats": {
          "unique_count": 4,
          "nan_count": 0,
          "min": "0.0",
          "max": "0.48",
          "histogram": [
           {
            "bin_start": 0,
            "bin_end": 0.048,
            "count": 1
           },
           {
            "bin_start": 0.048,
            "bin_end": 0.096,
            "count": 0
           },
           {
            "bin_start": 0.096,
            "bin_end": 0.14400000000000002,
            "count": 0
           },
           {
            "bin_start": 0.14400000000000002,
            "bin_end": 0.192,
            "count": 0
           },
           {
            "bin_start": 0.192,
            "bin_end": 0.24,
            "count": 0
           },
           {
            "bin_start": 0.24,
            "bin_end": 0.28800000000000003,
            "count": 0
           },
           {
            "bin_start": 0.28800000000000003,
            "bin_end": 0.336,
            "count": 0
           },
           {
            "bin_start": 0.336,
            "bin_end": 0.384,
            "count": 1
           },
           {
            "bin_start": 0.384,
            "bin_end": 0.432,
            "count": 1
           },
           {
            "bin_start": 0.432,
            "bin_end": 0.48,
            "count": 2
           }
          ]
         }
        },
        {
         "name": "AUC",
         "dtype": "float64",
         "stats": {
          "unique_count": 4,
          "nan_count": 0,
          "min": "0.5",
          "max": "0.66",
          "histogram": [
           {
            "bin_start": 0.5,
            "bin_end": 0.516,
            "count": 1
           },
           {
            "bin_start": 0.516,
            "bin_end": 0.532,
            "count": 0
           },
           {
            "bin_start": 0.532,
            "bin_end": 0.548,
            "count": 0
           },
           {
            "bin_start": 0.548,
            "bin_end": 0.5640000000000001,
            "count": 0
           },
           {
            "bin_start": 0.5640000000000001,
            "bin_end": 0.5800000000000001,
            "count": 0
           },
           {
            "bin_start": 0.5800000000000001,
            "bin_end": 0.5960000000000001,
            "count": 0
           },
           {
            "bin_start": 0.5960000000000001,
            "bin_end": 0.612,
            "count": 1
           },
           {
            "bin_start": 0.612,
            "bin_end": 0.628,
            "count": 1
           },
           {
            "bin_start": 0.628,
            "bin_end": 0.644,
            "count": 0
           },
           {
            "bin_start": 0.644,
            "bin_end": 0.66,
            "count": 2
           }
          ]
         }
        },
        {
         "name": "_deepnote_index_column",
         "dtype": "int64"
        }
       ],
       "rows": [
        {
         "Classifiers": "SVM",
         "Train Accuracy": 0.78,
         "Precision": 0,
         "Recall": 0,
         "F1 Score": 0,
         "AUC": 0.5,
         "_deepnote_index_column": 3
        },
        {
         "Classifiers": "Logistic Regression",
         "Train Accuracy": 0.82,
         "Precision": 0.76,
         "Recall": 0.24,
         "F1 Score": 0.37,
         "AUC": 0.61,
         "_deepnote_index_column": 0
        },
        {
         "Classifiers": "Random Forest",
         "Train Accuracy": 0.82,
         "Precision": 0.67,
         "Recall": 0.37,
         "F1 Score": 0.48,
         "AUC": 0.66,
         "_deepnote_index_column": 2
        },
        {
         "Classifiers": "Gradient Boosting",
         "Train Accuracy": 0.83,
         "Precision": 0.69,
         "Recall": 0.37,
         "F1 Score": 0.48,
         "AUC": 0.66,
         "_deepnote_index_column": 4
        },
        {
         "Classifiers": "Decision Tree",
         "Train Accuracy": 0.74,
         "Precision": 0.4,
         "Recall": 0.42,
         "F1 Score": 0.41,
         "AUC": 0.62,
         "_deepnote_index_column": 1
        }
       ]
      },
      "text/plain": "           Classifiers  Train Accuracy  Precision  Recall  F1 Score   AUC\n3                  SVM            0.78       0.00    0.00      0.00  0.50\n0  Logistic Regression            0.82       0.76    0.24      0.37  0.61\n2        Random Forest            0.82       0.67    0.37      0.48  0.66\n4    Gradient Boosting            0.83       0.69    0.37      0.48  0.66\n1        Decision Tree            0.74       0.40    0.42      0.41  0.62",
      "text/html": "<div>\n<style scoped>\n    .dataframe tbody tr th:only-of-type {\n        vertical-align: middle;\n    }\n\n    .dataframe tbody tr th {\n        vertical-align: top;\n    }\n\n    .dataframe thead th {\n        text-align: right;\n    }\n</style>\n<table border=\"1\" class=\"dataframe\">\n  <thead>\n    <tr style=\"text-align: right;\">\n      <th></th>\n      <th>Classifiers</th>\n      <th>Train Accuracy</th>\n      <th>Precision</th>\n      <th>Recall</th>\n      <th>F1 Score</th>\n      <th>AUC</th>\n    </tr>\n  </thead>\n  <tbody>\n    <tr>\n      <th>3</th>\n      <td>SVM</td>\n      <td>0.78</td>\n      <td>0.00</td>\n      <td>0.00</td>\n      <td>0.00</td>\n      <td>0.50</td>\n    </tr>\n    <tr>\n      <th>0</th>\n      <td>Logistic Regression</td>\n      <td>0.82</td>\n      <td>0.76</td>\n      <td>0.24</td>\n      <td>0.37</td>\n      <td>0.61</td>\n    </tr>\n    <tr>\n      <th>2</th>\n      <td>Random Forest</td>\n      <td>0.82</td>\n      <td>0.67</td>\n      <td>0.37</td>\n      <td>0.48</td>\n      <td>0.66</td>\n    </tr>\n    <tr>\n      <th>4</th>\n      <td>Gradient Boosting</td>\n      <td>0.83</td>\n      <td>0.69</td>\n      <td>0.37</td>\n      <td>0.48</td>\n      <td>0.66</td>\n    </tr>\n    <tr>\n      <th>1</th>\n      <td>Decision Tree</td>\n      <td>0.74</td>\n      <td>0.40</td>\n      <td>0.42</td>\n      <td>0.41</td>\n      <td>0.62</td>\n    </tr>\n  </tbody>\n</table>\n</div>"
     },
     "metadata": {}
    }
   ]
  },
  {
   "cell_type": "markdown",
   "source": "## Combined ROC curve for all the models",
   "metadata": {
    "formattedRanges": [],
    "cell_id": "f4926265a5854debb4d14eef55265aa3",
    "tags": [],
    "is_collapsed": false,
    "deepnote_app_coordinates": {
     "x": 0,
     "y": 538,
     "w": 12,
     "h": 5
    },
    "deepnote_cell_type": "text-cell-h2"
   }
  },
  {
   "cell_type": "code",
   "metadata": {
    "cell_id": "8253fa90efd2413994eb8201469c8be6",
    "tags": [],
    "deepnote_to_be_reexecuted": false,
    "source_hash": "272d971a",
    "execution_start": 1657627915958,
    "execution_millis": 9,
    "deepnote_app_coordinates": {
     "x": 0,
     "y": 544,
     "w": 12,
     "h": 5
    },
    "deepnote_cell_type": "code",
    "deepnote_cell_height": 81
   },
   "source": "#from sklearn.metrics import roc_curve",
   "execution_count": null,
   "outputs": []
  },
  {
   "cell_type": "code",
   "metadata": {
    "cell_id": "af7f8251766240a496bce33b19112a98",
    "tags": [],
    "deepnote_to_be_reexecuted": false,
    "source_hash": "6f73ab7e",
    "execution_start": 1657627915972,
    "execution_millis": 2,
    "deepnote_app_coordinates": {
     "x": 0,
     "y": 550,
     "w": 12,
     "h": 5
    },
    "owner_user_id": "92b72ed3-5096-48c5-95be-0f00953ada3d",
    "deepnote_cell_type": "code",
    "deepnote_cell_height": 694.1875,
    "deepnote_output_heights": [
     21.1875
    ]
   },
   "source": "#probabilty prediction of y for all model\n\n\"\"\"\ny_pred_log_scled = log_scled.predict(x_test)[:1]\ny_pred_tree = tree.predict(x_test)[:1]\ny_pred_rand = rand.predict(x_test)[:1]\n#y_pred_recall = recall.predict(x_test)[:1]\ny_pred_svm = svm.predict(x_test)[:1]\ny_pred_grad = grad.predict(x_test)[:1]\nfig = plt.figure(figsize=(10,8))\n\nfpr_log_scled, tpr_log_scled, _log_scled = roc_curve(y_test, y_predict_log)\nfpr_tree, tpr_tree, _tree = roc_curve(y_test, y_pred_tree)\nfpr_rand, tpr_rand, _rand = roc_curve(y_test, y_pred_rand)\n#fpr_recall, tpr_recall, _recall = roc_curve(y_test, y_pred_recall)\nfpr_svm, tpr_svm, _svm = roc_curve(y_test, y_pred_svm)\nfpr_grad, tpr_grad, _grad = roc_curve(y_test, y_pred_grad)\n\nplt.plot(fpr_log,tpr_log)\nplt.plot(fpr_tree,tpr_tree)\nplt.plot(fpr_rand,tpr_rand)\n#plt.plot(fpr_recall,tpr_recall)\nplt.plot(fpr_svm,tpr_svm)\nplt.plot(fpr_grad,tpr_grad)\n\nplt.plot([0,1],[0,1],color = 'black',linestyle='--')\n\nplt.xlabel(\"Flase Positive Rate\", Fontsize=14)\nplt.ylabel(\"True Positive Rate\",Fontsize=14)\nplt.title('Combined ROC Curve',Fontsize = 18)\n\nplt.legend(['Logistic Regression','Decision Tree','Random Forest','SVM','Gradient Boosting'],prop ={'size':13},loc= 'lower right')\n\"\"\"",
   "execution_count": null,
   "outputs": [
    {
     "output_type": "execute_result",
     "execution_count": 74,
     "data": {
      "text/plain": "'\\ny_pred_log_scled = log_scled.predict(x_test)[:1]\\ny_pred_tree = tree.predict(x_test)[:1]\\ny_pred_rand = rand.predict(x_test)[:1]\\n#y_pred_recall = recall.predict(x_test)[:1]\\ny_pred_svm = svm.predict(x_test)[:1]\\ny_pred_grad = grad.predict(x_test)[:1]\\nfig = plt.figure(figsize=(10,8))\\n\\nfpr_log_scled, tpr_log_scled, _log_scled = roc_curve(y_test, y_predict_log)\\nfpr_tree, tpr_tree, _tree = roc_curve(y_test, y_pred_tree)\\nfpr_rand, tpr_rand, _rand = roc_curve(y_test, y_pred_rand)\\n#fpr_recall, tpr_recall, _recall = roc_curve(y_test, y_pred_recall)\\nfpr_svm, tpr_svm, _svm = roc_curve(y_test, y_pred_svm)\\nfpr_grad, tpr_grad, _grad = roc_curve(y_test, y_pred_grad)\\n\\nplt.plot(fpr_log,tpr_log)\\nplt.plot(fpr_tree,tpr_tree)\\nplt.plot(fpr_rand,tpr_rand)\\n#plt.plot(fpr_recall,tpr_recall)\\nplt.plot(fpr_svm,tpr_svm)\\nplt.plot(fpr_grad,tpr_grad)\\n\\nplt.plot([0,1],[0,1],color = \\'black\\',linestyle=\\'--\\')\\n\\nplt.xlabel(\"Flase Positive Rate\", Fontsize=14)\\nplt.ylabel(\"True Positive Rate\",Fontsize=14)\\nplt.title(\\'Combined ROC Curve\\',Fontsize = 18)\\n\\nplt.legend([\\'Logistic Regression\\',\\'Decision Tree\\',\\'Random Forest\\',\\'SVM\\',\\'Gradient Boosting\\'],prop ={\\'size\\':13},loc= \\'lower right\\')\\n'"
     },
     "metadata": {}
    }
   ]
  },
  {
   "cell_type": "markdown",
   "source": "<a style='text-decoration:none;line-height:16px;display:flex;color:#5B5B62;padding:10px;justify-content:end;' href='https://deepnote.com?utm_source=created-in-deepnote-cell&projectId=3fc265f2-511a-4a39-9660-62aa900d9eec' target=\"_blank\">\n<img alt='Created in deepnote.com' style='display:inline;max-height:16px;margin:0px;margin-right:7.5px;' src='data:image/svg+xml;base64,PD94bWwgdmVyc2lvbj0iMS4wIiBlbmNvZGluZz0iVVRGLTgiPz4KPHN2ZyB3aWR0aD0iODBweCIgaGVpZ2h0PSI4MHB4IiB2aWV3Qm94PSIwIDAgODAgODAiIHZlcnNpb249IjEuMSIgeG1sbnM9Imh0dHA6Ly93d3cudzMub3JnLzIwMDAvc3ZnIiB4bWxuczp4bGluaz0iaHR0cDovL3d3dy53My5vcmcvMTk5OS94bGluayI+CiAgICA8IS0tIEdlbmVyYXRvcjogU2tldGNoIDU0LjEgKDc2NDkwKSAtIGh0dHBzOi8vc2tldGNoYXBwLmNvbSAtLT4KICAgIDx0aXRsZT5Hcm91cCAzPC90aXRsZT4KICAgIDxkZXNjPkNyZWF0ZWQgd2l0aCBTa2V0Y2guPC9kZXNjPgogICAgPGcgaWQ9IkxhbmRpbmciIHN0cm9rZT0ibm9uZSIgc3Ryb2tlLXdpZHRoPSIxIiBmaWxsPSJub25lIiBmaWxsLXJ1bGU9ImV2ZW5vZGQiPgogICAgICAgIDxnIGlkPSJBcnRib2FyZCIgdHJhbnNmb3JtPSJ0cmFuc2xhdGUoLTEyMzUuMDAwMDAwLCAtNzkuMDAwMDAwKSI+CiAgICAgICAgICAgIDxnIGlkPSJHcm91cC0zIiB0cmFuc2Zvcm09InRyYW5zbGF0ZSgxMjM1LjAwMDAwMCwgNzkuMDAwMDAwKSI+CiAgICAgICAgICAgICAgICA8cG9seWdvbiBpZD0iUGF0aC0yMCIgZmlsbD0iIzAyNjVCNCIgcG9pbnRzPSIyLjM3NjIzNzYyIDgwIDM4LjA0NzY2NjcgODAgNTcuODIxNzgyMiA3My44MDU3NTkyIDU3LjgyMTc4MjIgMzIuNzU5MjczOSAzOS4xNDAyMjc4IDMxLjY4MzE2ODMiPjwvcG9seWdvbj4KICAgICAgICAgICAgICAgIDxwYXRoIGQ9Ik0zNS4wMDc3MTgsODAgQzQyLjkwNjIwMDcsNzYuNDU0OTM1OCA0Ny41NjQ5MTY3LDcxLjU0MjI2NzEgNDguOTgzODY2LDY1LjI2MTk5MzkgQzUxLjExMjI4OTksNTUuODQxNTg0MiA0MS42NzcxNzk1LDQ5LjIxMjIyODQgMjUuNjIzOTg0Niw0OS4yMTIyMjg0IEMyNS40ODQ5Mjg5LDQ5LjEyNjg0NDggMjkuODI2MTI5Niw0My4yODM4MjQ4IDM4LjY0NzU4NjksMzEuNjgzMTY4MyBMNzIuODcxMjg3MSwzMi41NTQ0MjUgTDY1LjI4MDk3Myw2Ny42NzYzNDIxIEw1MS4xMTIyODk5LDc3LjM3NjE0NCBMMzUuMDA3NzE4LDgwIFoiIGlkPSJQYXRoLTIyIiBmaWxsPSIjMDAyODY4Ij48L3BhdGg+CiAgICAgICAgICAgICAgICA8cGF0aCBkPSJNMCwzNy43MzA0NDA1IEwyNy4xMTQ1MzcsMC4yNTcxMTE0MzYgQzYyLjM3MTUxMjMsLTEuOTkwNzE3MDEgODAsMTAuNTAwMzkyNyA4MCwzNy43MzA0NDA1IEM4MCw2NC45NjA0ODgyIDY0Ljc3NjUwMzgsNzkuMDUwMzQxNCAzNC4zMjk1MTEzLDgwIEM0Ny4wNTUzNDg5LDc3LjU2NzA4MDggNTMuNDE4MjY3Nyw3MC4zMTM2MTAzIDUzLjQxODI2NzcsNTguMjM5NTg4NSBDNTMuNDE4MjY3Nyw0MC4xMjg1NTU3IDM2LjMwMzk1NDQsMzcuNzMwNDQwNSAyNS4yMjc0MTcsMzcuNzMwNDQwNSBDMTcuODQzMDU4NiwzNy43MzA0NDA1IDkuNDMzOTE5NjYsMzcuNzMwNDQwNSAwLDM3LjczMDQ0MDUgWiIgaWQ9IlBhdGgtMTkiIGZpbGw9IiMzNzkzRUYiPjwvcGF0aD4KICAgICAgICAgICAgPC9nPgogICAgICAgIDwvZz4KICAgIDwvZz4KPC9zdmc+' > </img>\nCreated in <span style='font-weight:600;margin-left:4px;'>Deepnote</span></a>",
   "metadata": {
    "tags": [],
    "created_in_deepnote_cell": true,
    "deepnote_cell_type": "markdown"
   }
  }
 ],
 "nbformat": 4,
 "nbformat_minor": 0,
 "metadata": {
  "colab": {
   "name": "credit_card_default_prediction.ipynb",
   "provenance": [],
   "collapsed_sections": []
  },
  "kernelspec": {
   "name": "python3",
   "display_name": "Python 3"
  },
  "language_info": {
   "name": "python"
  },
  "deepnote_notebook_id": "dc72c894-75a3-4c42-866c-d676c79a855c",
  "deepnote": {},
  "deepnote_execution_queue": [],
  "deepnote_app_layout": "article"
 }
}